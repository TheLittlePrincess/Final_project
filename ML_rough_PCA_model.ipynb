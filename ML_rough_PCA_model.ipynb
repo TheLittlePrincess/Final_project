{
 "metadata": {
  "language_info": {
   "codemirror_mode": {
    "name": "ipython",
    "version": 3
   },
   "file_extension": ".py",
   "mimetype": "text/x-python",
   "name": "python",
   "nbconvert_exporter": "python",
   "pygments_lexer": "ipython3",
   "version": "3.7.9"
  },
  "orig_nbformat": 2,
  "kernelspec": {
   "name": "python379jvsc74a57bd055eec88e7763de8670a205c9d88144eea2397edc63dc208f06c9583843878ae5",
   "display_name": "Python 3.7.9 64-bit ('PythonData': conda)"
  }
 },
 "nbformat": 4,
 "nbformat_minor": 2,
 "cells": [
  {
   "cell_type": "code",
   "execution_count": 7,
   "metadata": {},
   "outputs": [],
   "source": [
    "import pandas as pd\n",
    "from pathlib import Path\n",
    "import matplotlib.pyplot as plt\n",
    "from sklearn.linear_model import LinearRegression\n",
    "from scipy import stats\n",
    "import numpy as np\n",
    "from sklearn.ensemble import RandomForestClassifier\n",
    "from sklearn.preprocessing import StandardScaler\n",
    "from sklearn.model_selection import train_test_split\n",
    "from sklearn.metrics import confusion_matrix, accuracy_score, classification_report\n",
    "from sklearn.decomposition import PCA"
   ]
  },
  {
   "cell_type": "code",
   "execution_count": 2,
   "metadata": {},
   "outputs": [],
   "source": [
    "joined_zips_grb_df = pd.read_csv(\"zips_load_demographics.csv\")"
   ]
  },
  {
   "cell_type": "code",
   "execution_count": 3,
   "metadata": {},
   "outputs": [
    {
     "output_type": "execute_result",
     "data": {
      "text/plain": [
       "     ZIP  load_weight  TOTAL_POPULATION  TOTAL_HOUSEHOLDS  \\\n",
       "0  78617    1325600.0           27900.0            6520.0   \n",
       "1  78652     908280.0               NaN               NaN   \n",
       "2  78653     825420.0           20822.0            6332.0   \n",
       "3  78701     458460.0            7875.0            4855.0   \n",
       "4  78702    3741320.0           22876.0            8937.0   \n",
       "\n",
       "   MEDIAN_HOUSEHOLD_INCOME  MEAN_HOUSEHOLD_INCOME  TOTAL_HOUSING_UNITS  \n",
       "0                  52819.0                69936.0               7244.0  \n",
       "1                      NaN                    NaN                  NaN  \n",
       "2                  66752.0                75678.0               6891.0  \n",
       "3                 112201.0               173289.0               6576.0  \n",
       "4                  54053.0                73919.0               9839.0  "
      ],
      "text/html": "<div>\n<style scoped>\n    .dataframe tbody tr th:only-of-type {\n        vertical-align: middle;\n    }\n\n    .dataframe tbody tr th {\n        vertical-align: top;\n    }\n\n    .dataframe thead th {\n        text-align: right;\n    }\n</style>\n<table border=\"1\" class=\"dataframe\">\n  <thead>\n    <tr style=\"text-align: right;\">\n      <th></th>\n      <th>ZIP</th>\n      <th>load_weight</th>\n      <th>TOTAL_POPULATION</th>\n      <th>TOTAL_HOUSEHOLDS</th>\n      <th>MEDIAN_HOUSEHOLD_INCOME</th>\n      <th>MEAN_HOUSEHOLD_INCOME</th>\n      <th>TOTAL_HOUSING_UNITS</th>\n    </tr>\n  </thead>\n  <tbody>\n    <tr>\n      <th>0</th>\n      <td>78617</td>\n      <td>1325600.0</td>\n      <td>27900.0</td>\n      <td>6520.0</td>\n      <td>52819.0</td>\n      <td>69936.0</td>\n      <td>7244.0</td>\n    </tr>\n    <tr>\n      <th>1</th>\n      <td>78652</td>\n      <td>908280.0</td>\n      <td>NaN</td>\n      <td>NaN</td>\n      <td>NaN</td>\n      <td>NaN</td>\n      <td>NaN</td>\n    </tr>\n    <tr>\n      <th>2</th>\n      <td>78653</td>\n      <td>825420.0</td>\n      <td>20822.0</td>\n      <td>6332.0</td>\n      <td>66752.0</td>\n      <td>75678.0</td>\n      <td>6891.0</td>\n    </tr>\n    <tr>\n      <th>3</th>\n      <td>78701</td>\n      <td>458460.0</td>\n      <td>7875.0</td>\n      <td>4855.0</td>\n      <td>112201.0</td>\n      <td>173289.0</td>\n      <td>6576.0</td>\n    </tr>\n    <tr>\n      <th>4</th>\n      <td>78702</td>\n      <td>3741320.0</td>\n      <td>22876.0</td>\n      <td>8937.0</td>\n      <td>54053.0</td>\n      <td>73919.0</td>\n      <td>9839.0</td>\n    </tr>\n  </tbody>\n</table>\n</div>"
     },
     "metadata": {},
     "execution_count": 3
    }
   ],
   "source": [
    "joined_zips_grb_df.head()"
   ]
  },
  {
   "cell_type": "code",
   "execution_count": 4,
   "metadata": {},
   "outputs": [
    {
     "output_type": "execute_result",
     "data": {
      "text/plain": [
       "     ZIP  load_weight  TOTAL_POPULATION  TOTAL_HOUSEHOLDS  \\\n",
       "0  78617    1325600.0           27900.0            6520.0   \n",
       "2  78653     825420.0           20822.0            6332.0   \n",
       "3  78701     458460.0            7875.0            4855.0   \n",
       "4  78702    3741320.0           22876.0            8937.0   \n",
       "5  78703    3671428.0           20788.0            9723.0   \n",
       "\n",
       "   MEDIAN_HOUSEHOLD_INCOME  MEAN_HOUSEHOLD_INCOME  TOTAL_HOUSING_UNITS  \n",
       "0                  52819.0                69936.0               7244.0  \n",
       "2                  66752.0                75678.0               6891.0  \n",
       "3                 112201.0               173289.0               6576.0  \n",
       "4                  54053.0                73919.0               9839.0  \n",
       "5                  98553.0               166396.0              11047.0  "
      ],
      "text/html": "<div>\n<style scoped>\n    .dataframe tbody tr th:only-of-type {\n        vertical-align: middle;\n    }\n\n    .dataframe tbody tr th {\n        vertical-align: top;\n    }\n\n    .dataframe thead th {\n        text-align: right;\n    }\n</style>\n<table border=\"1\" class=\"dataframe\">\n  <thead>\n    <tr style=\"text-align: right;\">\n      <th></th>\n      <th>ZIP</th>\n      <th>load_weight</th>\n      <th>TOTAL_POPULATION</th>\n      <th>TOTAL_HOUSEHOLDS</th>\n      <th>MEDIAN_HOUSEHOLD_INCOME</th>\n      <th>MEAN_HOUSEHOLD_INCOME</th>\n      <th>TOTAL_HOUSING_UNITS</th>\n    </tr>\n  </thead>\n  <tbody>\n    <tr>\n      <th>0</th>\n      <td>78617</td>\n      <td>1325600.0</td>\n      <td>27900.0</td>\n      <td>6520.0</td>\n      <td>52819.0</td>\n      <td>69936.0</td>\n      <td>7244.0</td>\n    </tr>\n    <tr>\n      <th>2</th>\n      <td>78653</td>\n      <td>825420.0</td>\n      <td>20822.0</td>\n      <td>6332.0</td>\n      <td>66752.0</td>\n      <td>75678.0</td>\n      <td>6891.0</td>\n    </tr>\n    <tr>\n      <th>3</th>\n      <td>78701</td>\n      <td>458460.0</td>\n      <td>7875.0</td>\n      <td>4855.0</td>\n      <td>112201.0</td>\n      <td>173289.0</td>\n      <td>6576.0</td>\n    </tr>\n    <tr>\n      <th>4</th>\n      <td>78702</td>\n      <td>3741320.0</td>\n      <td>22876.0</td>\n      <td>8937.0</td>\n      <td>54053.0</td>\n      <td>73919.0</td>\n      <td>9839.0</td>\n    </tr>\n    <tr>\n      <th>5</th>\n      <td>78703</td>\n      <td>3671428.0</td>\n      <td>20788.0</td>\n      <td>9723.0</td>\n      <td>98553.0</td>\n      <td>166396.0</td>\n      <td>11047.0</td>\n    </tr>\n  </tbody>\n</table>\n</div>"
     },
     "metadata": {},
     "execution_count": 4
    }
   ],
   "source": [
    "joined_zips_grb_df = joined_zips_grb_df.dropna()\n",
    "joined_zips_grb_df.head()\n"
   ]
  },
  {
   "cell_type": "code",
   "execution_count": 5,
   "metadata": {},
   "outputs": [
    {
     "output_type": "execute_result",
     "data": {
      "text/plain": [
       "     ZIP  load_weight  TOTAL_POPULATION  TOTAL_HOUSEHOLDS  \\\n",
       "0  78617    1325600.0           27900.0            6520.0   \n",
       "2  78653     825420.0           20822.0            6332.0   \n",
       "3  78701     458460.0            7875.0            4855.0   \n",
       "4  78702    3741320.0           22876.0            8937.0   \n",
       "5  78703    3671428.0           20788.0            9723.0   \n",
       "\n",
       "   MEDIAN_HOUSEHOLD_INCOME  MEAN_HOUSEHOLD_INCOME  TOTAL_HOUSING_UNITS  \\\n",
       "0                  52819.0                69936.0               7244.0   \n",
       "2                  66752.0                75678.0               6891.0   \n",
       "3                 112201.0               173289.0               6576.0   \n",
       "4                  54053.0                73919.0               9839.0   \n",
       "5                  98553.0               166396.0              11047.0   \n",
       "\n",
       "   POPULATION_PER_UNIT  \n",
       "0             3.851463  \n",
       "2             3.021622  \n",
       "3             1.197536  \n",
       "4             2.325033  \n",
       "5             1.881778  "
      ],
      "text/html": "<div>\n<style scoped>\n    .dataframe tbody tr th:only-of-type {\n        vertical-align: middle;\n    }\n\n    .dataframe tbody tr th {\n        vertical-align: top;\n    }\n\n    .dataframe thead th {\n        text-align: right;\n    }\n</style>\n<table border=\"1\" class=\"dataframe\">\n  <thead>\n    <tr style=\"text-align: right;\">\n      <th></th>\n      <th>ZIP</th>\n      <th>load_weight</th>\n      <th>TOTAL_POPULATION</th>\n      <th>TOTAL_HOUSEHOLDS</th>\n      <th>MEDIAN_HOUSEHOLD_INCOME</th>\n      <th>MEAN_HOUSEHOLD_INCOME</th>\n      <th>TOTAL_HOUSING_UNITS</th>\n      <th>POPULATION_PER_UNIT</th>\n    </tr>\n  </thead>\n  <tbody>\n    <tr>\n      <th>0</th>\n      <td>78617</td>\n      <td>1325600.0</td>\n      <td>27900.0</td>\n      <td>6520.0</td>\n      <td>52819.0</td>\n      <td>69936.0</td>\n      <td>7244.0</td>\n      <td>3.851463</td>\n    </tr>\n    <tr>\n      <th>2</th>\n      <td>78653</td>\n      <td>825420.0</td>\n      <td>20822.0</td>\n      <td>6332.0</td>\n      <td>66752.0</td>\n      <td>75678.0</td>\n      <td>6891.0</td>\n      <td>3.021622</td>\n    </tr>\n    <tr>\n      <th>3</th>\n      <td>78701</td>\n      <td>458460.0</td>\n      <td>7875.0</td>\n      <td>4855.0</td>\n      <td>112201.0</td>\n      <td>173289.0</td>\n      <td>6576.0</td>\n      <td>1.197536</td>\n    </tr>\n    <tr>\n      <th>4</th>\n      <td>78702</td>\n      <td>3741320.0</td>\n      <td>22876.0</td>\n      <td>8937.0</td>\n      <td>54053.0</td>\n      <td>73919.0</td>\n      <td>9839.0</td>\n      <td>2.325033</td>\n    </tr>\n    <tr>\n      <th>5</th>\n      <td>78703</td>\n      <td>3671428.0</td>\n      <td>20788.0</td>\n      <td>9723.0</td>\n      <td>98553.0</td>\n      <td>166396.0</td>\n      <td>11047.0</td>\n      <td>1.881778</td>\n    </tr>\n  </tbody>\n</table>\n</div>"
     },
     "metadata": {},
     "execution_count": 5
    }
   ],
   "source": [
    "joined_zips_grb_df[\"POPULATION_PER_UNIT\"] = joined_zips_grb_df.TOTAL_POPULATION/joined_zips_grb_df.TOTAL_HOUSING_UNITS\n",
    "joined_zips_grb_df.head()"
   ]
  },
  {
   "cell_type": "code",
   "execution_count": 6,
   "metadata": {},
   "outputs": [
    {
     "output_type": "execute_result",
     "data": {
      "text/plain": [
       "     ZIP  load_weight  TOTAL_POPULATION  TOTAL_HOUSEHOLDS  \\\n",
       "0  78617    1325600.0           27900.0            6520.0   \n",
       "2  78653     825420.0           20822.0            6332.0   \n",
       "3  78701     458460.0            7875.0            4855.0   \n",
       "4  78702    3741320.0           22876.0            8937.0   \n",
       "5  78703    3671428.0           20788.0            9723.0   \n",
       "\n",
       "   MEDIAN_HOUSEHOLD_INCOME  MEAN_HOUSEHOLD_INCOME  TOTAL_HOUSING_UNITS  \\\n",
       "0                  52819.0                69936.0               7244.0   \n",
       "2                  66752.0                75678.0               6891.0   \n",
       "3                 112201.0               173289.0               6576.0   \n",
       "4                  54053.0                73919.0               9839.0   \n",
       "5                  98553.0               166396.0              11047.0   \n",
       "\n",
       "   POPULATION_PER_UNIT  LOAD_PER_CAPITA  \n",
       "0             3.851463        47.512545  \n",
       "2             3.021622        39.641725  \n",
       "3             1.197536        58.217143  \n",
       "4             2.325033       163.547823  \n",
       "5             1.881778       176.612854  "
      ],
      "text/html": "<div>\n<style scoped>\n    .dataframe tbody tr th:only-of-type {\n        vertical-align: middle;\n    }\n\n    .dataframe tbody tr th {\n        vertical-align: top;\n    }\n\n    .dataframe thead th {\n        text-align: right;\n    }\n</style>\n<table border=\"1\" class=\"dataframe\">\n  <thead>\n    <tr style=\"text-align: right;\">\n      <th></th>\n      <th>ZIP</th>\n      <th>load_weight</th>\n      <th>TOTAL_POPULATION</th>\n      <th>TOTAL_HOUSEHOLDS</th>\n      <th>MEDIAN_HOUSEHOLD_INCOME</th>\n      <th>MEAN_HOUSEHOLD_INCOME</th>\n      <th>TOTAL_HOUSING_UNITS</th>\n      <th>POPULATION_PER_UNIT</th>\n      <th>LOAD_PER_CAPITA</th>\n    </tr>\n  </thead>\n  <tbody>\n    <tr>\n      <th>0</th>\n      <td>78617</td>\n      <td>1325600.0</td>\n      <td>27900.0</td>\n      <td>6520.0</td>\n      <td>52819.0</td>\n      <td>69936.0</td>\n      <td>7244.0</td>\n      <td>3.851463</td>\n      <td>47.512545</td>\n    </tr>\n    <tr>\n      <th>2</th>\n      <td>78653</td>\n      <td>825420.0</td>\n      <td>20822.0</td>\n      <td>6332.0</td>\n      <td>66752.0</td>\n      <td>75678.0</td>\n      <td>6891.0</td>\n      <td>3.021622</td>\n      <td>39.641725</td>\n    </tr>\n    <tr>\n      <th>3</th>\n      <td>78701</td>\n      <td>458460.0</td>\n      <td>7875.0</td>\n      <td>4855.0</td>\n      <td>112201.0</td>\n      <td>173289.0</td>\n      <td>6576.0</td>\n      <td>1.197536</td>\n      <td>58.217143</td>\n    </tr>\n    <tr>\n      <th>4</th>\n      <td>78702</td>\n      <td>3741320.0</td>\n      <td>22876.0</td>\n      <td>8937.0</td>\n      <td>54053.0</td>\n      <td>73919.0</td>\n      <td>9839.0</td>\n      <td>2.325033</td>\n      <td>163.547823</td>\n    </tr>\n    <tr>\n      <th>5</th>\n      <td>78703</td>\n      <td>3671428.0</td>\n      <td>20788.0</td>\n      <td>9723.0</td>\n      <td>98553.0</td>\n      <td>166396.0</td>\n      <td>11047.0</td>\n      <td>1.881778</td>\n      <td>176.612854</td>\n    </tr>\n  </tbody>\n</table>\n</div>"
     },
     "metadata": {},
     "execution_count": 6
    }
   ],
   "source": [
    "joined_zips_grb_df[\"LOAD_PER_CAPITA\"] = joined_zips_grb_df.load_weight/joined_zips_grb_df.TOTAL_POPULATION\n",
    "joined_zips_grb_df.head()"
   ]
  },
  {
   "cell_type": "code",
   "execution_count": 23,
   "metadata": {},
   "outputs": [],
   "source": [
    "features = ['TOTAL_POPULATION', 'TOTAL_HOUSEHOLDS', 'MEDIAN_HOUSEHOLD_INCOME', 'TOTAL_HOUSING_UNITS', 'POPULATION_PER_UNIT', 'LOAD_PER_CAPITA']\n",
    "# Separating out the features\n",
    "x = joined_zips_grb_df.loc[:, features].values\n",
    "# Separating out the target\n",
    "y = joined_zips_grb_df.loc[:,['load_weight']].values\n",
    "# Standardizing the features\n",
    "x = StandardScaler().fit_transform(x)"
   ]
  },
  {
   "cell_type": "code",
   "execution_count": 36,
   "metadata": {},
   "outputs": [],
   "source": [
    "# Apply principal component analysis\n",
    "pca = PCA(n_components=2)\n",
    "principalComponents = pca.fit_transform(x)\n",
    "PCA_df = pd.DataFrame(data = principalComponents, columns = ['PRINCIPAL_COMPONENT_1', 'PRINCIPAL_COMPONENT_2'])"
   ]
  },
  {
   "cell_type": "code",
   "execution_count": 37,
   "metadata": {},
   "outputs": [
    {
     "output_type": "execute_result",
     "data": {
      "text/plain": [
       "    PRINCIPAL_COMPONENT_1  PRINCIPAL_COMPONENT_2\n",
       "0               -0.623444               2.775769\n",
       "1               -0.950439               1.401673\n",
       "2               -1.793886              -2.065083\n",
       "3               -0.346635               0.201691\n",
       "4               -0.579728              -1.488358\n",
       "5                3.275519              -1.083476\n",
       "6                0.384423               2.708113\n",
       "7               -1.497646               1.330415\n",
       "8               -2.172150              -0.351539\n",
       "9                0.715907               0.223049\n",
       "10              -0.711589               2.731381\n",
       "11              -2.502091               0.203802\n",
       "12              -1.527287              -0.103115\n",
       "13               0.569108              -0.442806\n",
       "14              -0.061486               0.200193\n",
       "15               0.528923              -0.258674\n",
       "16              -2.189956              -0.659298\n",
       "17               0.235900              -1.048551\n",
       "18              -1.159993              -0.829230\n",
       "19              -2.366480              -0.304441\n",
       "20              -2.011980              -1.379421\n",
       "21               3.280345               0.435946\n",
       "22               1.539646               1.343245\n",
       "23               4.133158              -0.664781\n",
       "24              -0.356529              -1.318868\n",
       "25              -1.278121               0.638325\n",
       "26               2.186137              -0.393219\n",
       "27               0.922715              -0.947868\n",
       "28               0.269981              -0.073868\n",
       "29              -0.773209              -0.388140\n",
       "30              -0.478521               0.694449\n",
       "31               3.107412               0.905196\n",
       "32              -0.672794               0.600198\n",
       "33              -1.865075              -0.728465\n",
       "34              -0.080156              -0.467863\n",
       "35               2.553292              -0.121503\n",
       "36               2.296727              -1.274878"
      ],
      "text/html": "<div>\n<style scoped>\n    .dataframe tbody tr th:only-of-type {\n        vertical-align: middle;\n    }\n\n    .dataframe tbody tr th {\n        vertical-align: top;\n    }\n\n    .dataframe thead th {\n        text-align: right;\n    }\n</style>\n<table border=\"1\" class=\"dataframe\">\n  <thead>\n    <tr style=\"text-align: right;\">\n      <th></th>\n      <th>PRINCIPAL_COMPONENT_1</th>\n      <th>PRINCIPAL_COMPONENT_2</th>\n    </tr>\n  </thead>\n  <tbody>\n    <tr>\n      <th>0</th>\n      <td>-0.623444</td>\n      <td>2.775769</td>\n    </tr>\n    <tr>\n      <th>1</th>\n      <td>-0.950439</td>\n      <td>1.401673</td>\n    </tr>\n    <tr>\n      <th>2</th>\n      <td>-1.793886</td>\n      <td>-2.065083</td>\n    </tr>\n    <tr>\n      <th>3</th>\n      <td>-0.346635</td>\n      <td>0.201691</td>\n    </tr>\n    <tr>\n      <th>4</th>\n      <td>-0.579728</td>\n      <td>-1.488358</td>\n    </tr>\n    <tr>\n      <th>5</th>\n      <td>3.275519</td>\n      <td>-1.083476</td>\n    </tr>\n    <tr>\n      <th>6</th>\n      <td>0.384423</td>\n      <td>2.708113</td>\n    </tr>\n    <tr>\n      <th>7</th>\n      <td>-1.497646</td>\n      <td>1.330415</td>\n    </tr>\n    <tr>\n      <th>8</th>\n      <td>-2.172150</td>\n      <td>-0.351539</td>\n    </tr>\n    <tr>\n      <th>9</th>\n      <td>0.715907</td>\n      <td>0.223049</td>\n    </tr>\n    <tr>\n      <th>10</th>\n      <td>-0.711589</td>\n      <td>2.731381</td>\n    </tr>\n    <tr>\n      <th>11</th>\n      <td>-2.502091</td>\n      <td>0.203802</td>\n    </tr>\n    <tr>\n      <th>12</th>\n      <td>-1.527287</td>\n      <td>-0.103115</td>\n    </tr>\n    <tr>\n      <th>13</th>\n      <td>0.569108</td>\n      <td>-0.442806</td>\n    </tr>\n    <tr>\n      <th>14</th>\n      <td>-0.061486</td>\n      <td>0.200193</td>\n    </tr>\n    <tr>\n      <th>15</th>\n      <td>0.528923</td>\n      <td>-0.258674</td>\n    </tr>\n    <tr>\n      <th>16</th>\n      <td>-2.189956</td>\n      <td>-0.659298</td>\n    </tr>\n    <tr>\n      <th>17</th>\n      <td>0.235900</td>\n      <td>-1.048551</td>\n    </tr>\n    <tr>\n      <th>18</th>\n      <td>-1.159993</td>\n      <td>-0.829230</td>\n    </tr>\n    <tr>\n      <th>19</th>\n      <td>-2.366480</td>\n      <td>-0.304441</td>\n    </tr>\n    <tr>\n      <th>20</th>\n      <td>-2.011980</td>\n      <td>-1.379421</td>\n    </tr>\n    <tr>\n      <th>21</th>\n      <td>3.280345</td>\n      <td>0.435946</td>\n    </tr>\n    <tr>\n      <th>22</th>\n      <td>1.539646</td>\n      <td>1.343245</td>\n    </tr>\n    <tr>\n      <th>23</th>\n      <td>4.133158</td>\n      <td>-0.664781</td>\n    </tr>\n    <tr>\n      <th>24</th>\n      <td>-0.356529</td>\n      <td>-1.318868</td>\n    </tr>\n    <tr>\n      <th>25</th>\n      <td>-1.278121</td>\n      <td>0.638325</td>\n    </tr>\n    <tr>\n      <th>26</th>\n      <td>2.186137</td>\n      <td>-0.393219</td>\n    </tr>\n    <tr>\n      <th>27</th>\n      <td>0.922715</td>\n      <td>-0.947868</td>\n    </tr>\n    <tr>\n      <th>28</th>\n      <td>0.269981</td>\n      <td>-0.073868</td>\n    </tr>\n    <tr>\n      <th>29</th>\n      <td>-0.773209</td>\n      <td>-0.388140</td>\n    </tr>\n    <tr>\n      <th>30</th>\n      <td>-0.478521</td>\n      <td>0.694449</td>\n    </tr>\n    <tr>\n      <th>31</th>\n      <td>3.107412</td>\n      <td>0.905196</td>\n    </tr>\n    <tr>\n      <th>32</th>\n      <td>-0.672794</td>\n      <td>0.600198</td>\n    </tr>\n    <tr>\n      <th>33</th>\n      <td>-1.865075</td>\n      <td>-0.728465</td>\n    </tr>\n    <tr>\n      <th>34</th>\n      <td>-0.080156</td>\n      <td>-0.467863</td>\n    </tr>\n    <tr>\n      <th>35</th>\n      <td>2.553292</td>\n      <td>-0.121503</td>\n    </tr>\n    <tr>\n      <th>36</th>\n      <td>2.296727</td>\n      <td>-1.274878</td>\n    </tr>\n  </tbody>\n</table>\n</div>"
     },
     "metadata": {},
     "execution_count": 37
    }
   ],
   "source": [
    "PCA_df"
   ]
  },
  {
   "cell_type": "code",
   "execution_count": 38,
   "metadata": {},
   "outputs": [],
   "source": [
    "final_df = pd.concat([PCA_df, joined_zips_grb_df[['load_weight']]], axis = 1)"
   ]
  },
  {
   "cell_type": "code",
   "execution_count": 39,
   "metadata": {},
   "outputs": [
    {
     "output_type": "execute_result",
     "data": {
      "text/plain": [
       "    PRINCIPAL_COMPONENT_1  PRINCIPAL_COMPONENT_2  load_weight\n",
       "0               -0.623444               2.775769    1325600.0\n",
       "1               -0.950439               1.401673          NaN\n",
       "2               -1.793886              -2.065083     825420.0\n",
       "3               -0.346635               0.201691     458460.0\n",
       "4               -0.579728              -1.488358    3741320.0\n",
       "5                3.275519              -1.083476    3671428.0\n",
       "6                0.384423               2.708113    5156220.0\n",
       "7               -1.497646               1.330415    1606560.0\n",
       "8               -2.172150              -0.351539          NaN\n",
       "9                0.715907               0.223049          NaN\n",
       "10              -0.711589               2.731381    1374760.0\n",
       "11              -2.502091               0.203802    1471280.0\n",
       "12              -1.527287              -0.103115    5984646.0\n",
       "13               0.569108              -0.442806    1139940.0\n",
       "14              -0.061486               0.200193    2732580.0\n",
       "15               0.528923              -0.258674    1595480.0\n",
       "16              -2.189956              -0.659298    2422020.0\n",
       "17               0.235900              -1.048551     711120.0\n",
       "18              -1.159993              -0.829230    2337494.0\n",
       "19              -2.366480              -0.304441     693680.0\n",
       "20              -2.011980              -1.379421    4038480.0\n",
       "21               3.280345               0.435946    2042200.0\n",
       "22               1.539646               1.343245     702800.0\n",
       "23               4.133158              -0.664781    6391660.0\n",
       "24              -0.356529              -1.318868    2626560.0\n",
       "25              -1.278121               0.638325    7868620.0\n",
       "26               2.186137              -0.393219   11083500.0\n",
       "27               0.922715              -0.947868    2022960.0\n",
       "28               0.269981              -0.073868    4296600.0\n",
       "29              -0.773209              -0.388140    8731680.0\n",
       "30              -0.478521               0.694449    7500640.0\n",
       "31               3.107412               0.905196    3092740.0\n",
       "32              -0.672794               0.600198    1865020.0\n",
       "33              -1.865075              -0.728465    2448520.0\n",
       "34              -0.080156              -0.467863    5082710.0\n",
       "35               2.553292              -0.121503    4322388.0\n",
       "36               2.296727              -1.274878    1311900.0\n",
       "37                    NaN                    NaN    4196720.0\n",
       "38                    NaN                    NaN    6322950.0\n",
       "39                    NaN                    NaN    6804600.0"
      ],
      "text/html": "<div>\n<style scoped>\n    .dataframe tbody tr th:only-of-type {\n        vertical-align: middle;\n    }\n\n    .dataframe tbody tr th {\n        vertical-align: top;\n    }\n\n    .dataframe thead th {\n        text-align: right;\n    }\n</style>\n<table border=\"1\" class=\"dataframe\">\n  <thead>\n    <tr style=\"text-align: right;\">\n      <th></th>\n      <th>PRINCIPAL_COMPONENT_1</th>\n      <th>PRINCIPAL_COMPONENT_2</th>\n      <th>load_weight</th>\n    </tr>\n  </thead>\n  <tbody>\n    <tr>\n      <th>0</th>\n      <td>-0.623444</td>\n      <td>2.775769</td>\n      <td>1325600.0</td>\n    </tr>\n    <tr>\n      <th>1</th>\n      <td>-0.950439</td>\n      <td>1.401673</td>\n      <td>NaN</td>\n    </tr>\n    <tr>\n      <th>2</th>\n      <td>-1.793886</td>\n      <td>-2.065083</td>\n      <td>825420.0</td>\n    </tr>\n    <tr>\n      <th>3</th>\n      <td>-0.346635</td>\n      <td>0.201691</td>\n      <td>458460.0</td>\n    </tr>\n    <tr>\n      <th>4</th>\n      <td>-0.579728</td>\n      <td>-1.488358</td>\n      <td>3741320.0</td>\n    </tr>\n    <tr>\n      <th>5</th>\n      <td>3.275519</td>\n      <td>-1.083476</td>\n      <td>3671428.0</td>\n    </tr>\n    <tr>\n      <th>6</th>\n      <td>0.384423</td>\n      <td>2.708113</td>\n      <td>5156220.0</td>\n    </tr>\n    <tr>\n      <th>7</th>\n      <td>-1.497646</td>\n      <td>1.330415</td>\n      <td>1606560.0</td>\n    </tr>\n    <tr>\n      <th>8</th>\n      <td>-2.172150</td>\n      <td>-0.351539</td>\n      <td>NaN</td>\n    </tr>\n    <tr>\n      <th>9</th>\n      <td>0.715907</td>\n      <td>0.223049</td>\n      <td>NaN</td>\n    </tr>\n    <tr>\n      <th>10</th>\n      <td>-0.711589</td>\n      <td>2.731381</td>\n      <td>1374760.0</td>\n    </tr>\n    <tr>\n      <th>11</th>\n      <td>-2.502091</td>\n      <td>0.203802</td>\n      <td>1471280.0</td>\n    </tr>\n    <tr>\n      <th>12</th>\n      <td>-1.527287</td>\n      <td>-0.103115</td>\n      <td>5984646.0</td>\n    </tr>\n    <tr>\n      <th>13</th>\n      <td>0.569108</td>\n      <td>-0.442806</td>\n      <td>1139940.0</td>\n    </tr>\n    <tr>\n      <th>14</th>\n      <td>-0.061486</td>\n      <td>0.200193</td>\n      <td>2732580.0</td>\n    </tr>\n    <tr>\n      <th>15</th>\n      <td>0.528923</td>\n      <td>-0.258674</td>\n      <td>1595480.0</td>\n    </tr>\n    <tr>\n      <th>16</th>\n      <td>-2.189956</td>\n      <td>-0.659298</td>\n      <td>2422020.0</td>\n    </tr>\n    <tr>\n      <th>17</th>\n      <td>0.235900</td>\n      <td>-1.048551</td>\n      <td>711120.0</td>\n    </tr>\n    <tr>\n      <th>18</th>\n      <td>-1.159993</td>\n      <td>-0.829230</td>\n      <td>2337494.0</td>\n    </tr>\n    <tr>\n      <th>19</th>\n      <td>-2.366480</td>\n      <td>-0.304441</td>\n      <td>693680.0</td>\n    </tr>\n    <tr>\n      <th>20</th>\n      <td>-2.011980</td>\n      <td>-1.379421</td>\n      <td>4038480.0</td>\n    </tr>\n    <tr>\n      <th>21</th>\n      <td>3.280345</td>\n      <td>0.435946</td>\n      <td>2042200.0</td>\n    </tr>\n    <tr>\n      <th>22</th>\n      <td>1.539646</td>\n      <td>1.343245</td>\n      <td>702800.0</td>\n    </tr>\n    <tr>\n      <th>23</th>\n      <td>4.133158</td>\n      <td>-0.664781</td>\n      <td>6391660.0</td>\n    </tr>\n    <tr>\n      <th>24</th>\n      <td>-0.356529</td>\n      <td>-1.318868</td>\n      <td>2626560.0</td>\n    </tr>\n    <tr>\n      <th>25</th>\n      <td>-1.278121</td>\n      <td>0.638325</td>\n      <td>7868620.0</td>\n    </tr>\n    <tr>\n      <th>26</th>\n      <td>2.186137</td>\n      <td>-0.393219</td>\n      <td>11083500.0</td>\n    </tr>\n    <tr>\n      <th>27</th>\n      <td>0.922715</td>\n      <td>-0.947868</td>\n      <td>2022960.0</td>\n    </tr>\n    <tr>\n      <th>28</th>\n      <td>0.269981</td>\n      <td>-0.073868</td>\n      <td>4296600.0</td>\n    </tr>\n    <tr>\n      <th>29</th>\n      <td>-0.773209</td>\n      <td>-0.388140</td>\n      <td>8731680.0</td>\n    </tr>\n    <tr>\n      <th>30</th>\n      <td>-0.478521</td>\n      <td>0.694449</td>\n      <td>7500640.0</td>\n    </tr>\n    <tr>\n      <th>31</th>\n      <td>3.107412</td>\n      <td>0.905196</td>\n      <td>3092740.0</td>\n    </tr>\n    <tr>\n      <th>32</th>\n      <td>-0.672794</td>\n      <td>0.600198</td>\n      <td>1865020.0</td>\n    </tr>\n    <tr>\n      <th>33</th>\n      <td>-1.865075</td>\n      <td>-0.728465</td>\n      <td>2448520.0</td>\n    </tr>\n    <tr>\n      <th>34</th>\n      <td>-0.080156</td>\n      <td>-0.467863</td>\n      <td>5082710.0</td>\n    </tr>\n    <tr>\n      <th>35</th>\n      <td>2.553292</td>\n      <td>-0.121503</td>\n      <td>4322388.0</td>\n    </tr>\n    <tr>\n      <th>36</th>\n      <td>2.296727</td>\n      <td>-1.274878</td>\n      <td>1311900.0</td>\n    </tr>\n    <tr>\n      <th>37</th>\n      <td>NaN</td>\n      <td>NaN</td>\n      <td>4196720.0</td>\n    </tr>\n    <tr>\n      <th>38</th>\n      <td>NaN</td>\n      <td>NaN</td>\n      <td>6322950.0</td>\n    </tr>\n    <tr>\n      <th>39</th>\n      <td>NaN</td>\n      <td>NaN</td>\n      <td>6804600.0</td>\n    </tr>\n  </tbody>\n</table>\n</div>"
     },
     "metadata": {},
     "execution_count": 39
    }
   ],
   "source": [
    "final_df"
   ]
  },
  {
   "cell_type": "code",
   "execution_count": 48,
   "metadata": {},
   "outputs": [
    {
     "output_type": "display_data",
     "data": {
      "text/plain": "<Figure size 432x288 with 1 Axes>",
      "image/svg+xml": "<?xml version=\"1.0\" encoding=\"utf-8\" standalone=\"no\"?>\n<!DOCTYPE svg PUBLIC \"-//W3C//DTD SVG 1.1//EN\"\n  \"http://www.w3.org/Graphics/SVG/1.1/DTD/svg11.dtd\">\n<!-- Created with matplotlib (https://matplotlib.org/) -->\n<svg height=\"265.268156pt\" version=\"1.1\" viewBox=\"0 0 384.620313 265.268156\" width=\"384.620313pt\" xmlns=\"http://www.w3.org/2000/svg\" xmlns:xlink=\"http://www.w3.org/1999/xlink\">\n <metadata>\n  <rdf:RDF xmlns:cc=\"http://creativecommons.org/ns#\" xmlns:dc=\"http://purl.org/dc/elements/1.1/\" xmlns:rdf=\"http://www.w3.org/1999/02/22-rdf-syntax-ns#\">\n   <cc:Work>\n    <dc:type rdf:resource=\"http://purl.org/dc/dcmitype/StillImage\"/>\n    <dc:date>2021-06-05T19:27:47.642614</dc:date>\n    <dc:format>image/svg+xml</dc:format>\n    <dc:creator>\n     <cc:Agent>\n      <dc:title>Matplotlib v3.3.2, https://matplotlib.org/</dc:title>\n     </cc:Agent>\n    </dc:creator>\n   </cc:Work>\n  </rdf:RDF>\n </metadata>\n <defs>\n  <style type=\"text/css\">*{stroke-linecap:butt;stroke-linejoin:round;}</style>\n </defs>\n <g id=\"figure_1\">\n  <g id=\"patch_1\">\n   <path d=\"M 0 265.268156 \nL 384.620313 265.268156 \nL 384.620313 0 \nL 0 0 \nz\n\" style=\"fill:none;\"/>\n  </g>\n  <g id=\"axes_1\">\n   <g id=\"patch_2\">\n    <path d=\"M 42.620313 227.711906 \nL 377.420313 227.711906 \nL 377.420313 10.271906 \nL 42.620313 10.271906 \nz\n\" style=\"fill:#ffffff;\"/>\n   </g>\n   <g id=\"PathCollection_1\">\n    <defs>\n     <path d=\"M 0 3 \nC 0.795609 3 1.55874 2.683901 2.12132 2.12132 \nC 2.683901 1.55874 3 0.795609 3 -0 \nC 3 -0.795609 2.683901 -1.55874 2.12132 -2.12132 \nC 1.55874 -2.683901 0.795609 -3 0 -3 \nC -0.795609 -3 -1.55874 -2.683901 -2.12132 -2.12132 \nC -2.683901 -1.55874 -3 -0.795609 -3 0 \nC -3 0.795609 -2.683901 1.55874 -2.12132 2.12132 \nC -1.55874 2.683901 -0.795609 3 0 3 \nz\n\" id=\"C0_0_bee02f64fc\"/>\n    </defs>\n    <g clip-path=\"url(#p4a78e3be8c)\">\n     <use style=\"fill:#481d6f;stroke:#481d6f;\" x=\"144.013403\" xlink:href=\"#C0_0_bee02f64fc\" y=\"20.155543\"/>\n    </g>\n    <g clip-path=\"url(#p4a78e3be8c)\">\n     <use style=\"fill:#470d60;stroke:#470d60;\" x=\"90.324401\" xlink:href=\"#C0_0_bee02f64fc\" y=\"217.82827\"/>\n    </g>\n    <g clip-path=\"url(#p4a78e3be8c)\">\n     <use style=\"fill:#440154;stroke:#440154;\" x=\"156.710835\" xlink:href=\"#C0_0_bee02f64fc\" y=\"125.266164\"/>\n    </g>\n    <g clip-path=\"url(#p4a78e3be8c)\">\n     <use style=\"fill:#33628d;stroke:#33628d;\" x=\"146.018657\" xlink:href=\"#C0_0_bee02f64fc\" y=\"194.278102\"/>\n    </g>\n    <g clip-path=\"url(#p4a78e3be8c)\">\n     <use style=\"fill:#34608d;stroke:#34608d;\" x=\"322.861626\" xlink:href=\"#C0_0_bee02f64fc\" y=\"177.745038\"/>\n    </g>\n    <g clip-path=\"url(#p4a78e3be8c)\">\n     <use style=\"fill:#26828e;stroke:#26828e;\" x=\"190.24496\" xlink:href=\"#C0_0_bee02f64fc\" y=\"22.918204\"/>\n    </g>\n    <g clip-path=\"url(#p4a78e3be8c)\">\n     <use style=\"fill:#482677;stroke:#482677;\" x=\"103.913136\" xlink:href=\"#C0_0_bee02f64fc\" y=\"79.175538\"/>\n    </g>\n    <g clip-path=\"url(#p4a78e3be8c)\">\n     <use style=\"fill:#482071;stroke:#482071;\" x=\"139.97014\" xlink:href=\"#C0_0_bee02f64fc\" y=\"21.968085\"/>\n    </g>\n    <g clip-path=\"url(#p4a78e3be8c)\">\n     <use style=\"fill:#482374;stroke:#482374;\" x=\"57.838494\" xlink:href=\"#C0_0_bee02f64fc\" y=\"125.179947\"/>\n    </g>\n    <g clip-path=\"url(#p4a78e3be8c)\">\n     <use style=\"fill:#1f958b;stroke:#1f958b;\" x=\"102.55345\" xlink:href=\"#C0_0_bee02f64fc\" y=\"137.71269\"/>\n    </g>\n    <g clip-path=\"url(#p4a78e3be8c)\">\n     <use style=\"fill:#48186a;stroke:#48186a;\" x=\"198.716623\" xlink:href=\"#C0_0_bee02f64fc\" y=\"151.583736\"/>\n    </g>\n    <g clip-path=\"url(#p4a78e3be8c)\">\n     <use style=\"fill:#3f4788;stroke:#3f4788;\" x=\"169.790818\" xlink:href=\"#C0_0_bee02f64fc\" y=\"125.327318\"/>\n    </g>\n    <g clip-path=\"url(#p4a78e3be8c)\">\n     <use style=\"fill:#482677;stroke:#482677;\" x=\"196.873278\" xlink:href=\"#C0_0_bee02f64fc\" y=\"144.064851\"/>\n    </g>\n    <g clip-path=\"url(#p4a78e3be8c)\">\n     <use style=\"fill:#423f85;stroke:#423f85;\" x=\"72.156368\" xlink:href=\"#C0_0_bee02f64fc\" y=\"160.424038\"/>\n    </g>\n    <g clip-path=\"url(#p4a78e3be8c)\">\n     <use style=\"fill:#460a5d;stroke:#460a5d;\" x=\"183.4321\" xlink:href=\"#C0_0_bee02f64fc\" y=\"176.318912\"/>\n    </g>\n    <g clip-path=\"url(#p4a78e3be8c)\">\n     <use style=\"fill:#433d84;stroke:#433d84;\" x=\"119.401522\" xlink:href=\"#C0_0_bee02f64fc\" y=\"167.363078\"/>\n    </g>\n    <g clip-path=\"url(#p4a78e3be8c)\">\n     <use style=\"fill:#46085c;stroke:#46085c;\" x=\"64.059095\" xlink:href=\"#C0_0_bee02f64fc\" y=\"145.9337\"/>\n    </g>\n    <g clip-path=\"url(#p4a78e3be8c)\">\n     <use style=\"fill:#30698e;stroke:#30698e;\" x=\"80.320268\" xlink:href=\"#C0_0_bee02f64fc\" y=\"189.829728\"/>\n    </g>\n    <g clip-path=\"url(#p4a78e3be8c)\">\n     <use style=\"fill:#463480;stroke:#463480;\" x=\"323.082997\" xlink:href=\"#C0_0_bee02f64fc\" y=\"115.700539\"/>\n    </g>\n    <g clip-path=\"url(#p4a78e3be8c)\">\n     <use style=\"fill:#46085c;stroke:#46085c;\" x=\"243.235904\" xlink:href=\"#C0_0_bee02f64fc\" y=\"78.651608\"/>\n    </g>\n    <g clip-path=\"url(#p4a78e3be8c)\">\n     <use style=\"fill:#1f9e89;stroke:#1f9e89;\" x=\"362.202131\" xlink:href=\"#C0_0_bee02f64fc\" y=\"160.647927\"/>\n    </g>\n    <g clip-path=\"url(#p4a78e3be8c)\">\n     <use style=\"fill:#404588;stroke:#404588;\" x=\"156.256961\" xlink:href=\"#C0_0_bee02f64fc\" y=\"187.357101\"/>\n    </g>\n    <g clip-path=\"url(#p4a78e3be8c)\">\n     <use style=\"fill:#42be71;stroke:#42be71;\" x=\"113.982912\" xlink:href=\"#C0_0_bee02f64fc\" y=\"107.436536\"/>\n    </g>\n    <g clip-path=\"url(#p4a78e3be8c)\">\n     <use style=\"fill:#fde725;stroke:#fde725;\" x=\"272.890869\" xlink:href=\"#C0_0_bee02f64fc\" y=\"149.558899\"/>\n    </g>\n    <g clip-path=\"url(#p4a78e3be8c)\">\n     <use style=\"fill:#46337f;stroke:#46337f;\" x=\"214.936793\" xlink:href=\"#C0_0_bee02f64fc\" y=\"172.207563\"/>\n    </g>\n    <g clip-path=\"url(#p4a78e3be8c)\">\n     <use style=\"fill:#2e6f8e;stroke:#2e6f8e;\" x=\"184.995435\" xlink:href=\"#C0_0_bee02f64fc\" y=\"136.518432\"/>\n    </g>\n    <g clip-path=\"url(#p4a78e3be8c)\">\n     <use style=\"fill:#6ece58;stroke:#6ece58;\" x=\"137.143555\" xlink:href=\"#C0_0_bee02f64fc\" y=\"149.351481\"/>\n    </g>\n    <g clip-path=\"url(#p4a78e3be8c)\">\n     <use style=\"fill:#34b679;stroke:#34b679;\" x=\"150.661137\" xlink:href=\"#C0_0_bee02f64fc\" y=\"105.144757\"/>\n    </g>\n    <g clip-path=\"url(#p4a78e3be8c)\">\n     <use style=\"fill:#3b518b;stroke:#3b518b;\" x=\"315.150442\" xlink:href=\"#C0_0_bee02f64fc\" y=\"96.539042\"/>\n    </g>\n    <g clip-path=\"url(#p4a78e3be8c)\">\n     <use style=\"fill:#472e7c;stroke:#472e7c;\" x=\"141.749678\" xlink:href=\"#C0_0_bee02f64fc\" y=\"108.993406\"/>\n    </g>\n    <g clip-path=\"url(#p4a78e3be8c)\">\n     <use style=\"fill:#423f85;stroke:#423f85;\" x=\"87.058912\" xlink:href=\"#C0_0_bee02f64fc\" y=\"163.24842\"/>\n    </g>\n    <g clip-path=\"url(#p4a78e3be8c)\">\n     <use style=\"fill:#26818e;stroke:#26818e;\" x=\"168.93441\" xlink:href=\"#C0_0_bee02f64fc\" y=\"152.606902\"/>\n    </g>\n    <g clip-path=\"url(#p4a78e3be8c)\">\n     <use style=\"fill:#2d708e;stroke:#2d708e;\" x=\"289.732537\" xlink:href=\"#C0_0_bee02f64fc\" y=\"138.46358\"/>\n    </g>\n    <g clip-path=\"url(#p4a78e3be8c)\">\n     <use style=\"fill:#481d6f;stroke:#481d6f;\" x=\"277.963728\" xlink:href=\"#C0_0_bee02f64fc\" y=\"185.560793\"/>\n    </g>\n   </g>\n   <g id=\"matplotlib.axis_1\">\n    <g id=\"xtick_1\">\n     <g id=\"line2d_1\">\n      <defs>\n       <path d=\"M 0 0 \nL 0 3.5 \n\" id=\"mdc797bffdc\" style=\"stroke:#000000;stroke-width:0.8;\"/>\n      </defs>\n      <g>\n       <use style=\"stroke:#000000;stroke-width:0.8;\" x=\"80.869784\" xlink:href=\"#mdc797bffdc\" y=\"227.711906\"/>\n      </g>\n     </g>\n     <g id=\"text_1\">\n      <!-- −2 -->\n      <g transform=\"translate(73.49869 242.310344)scale(0.1 -0.1)\">\n       <defs>\n        <path d=\"M 10.59375 35.5 \nL 73.1875 35.5 \nL 73.1875 27.203125 \nL 10.59375 27.203125 \nz\n\" id=\"DejaVuSans-8722\"/>\n        <path d=\"M 19.1875 8.296875 \nL 53.609375 8.296875 \nL 53.609375 0 \nL 7.328125 0 \nL 7.328125 8.296875 \nQ 12.9375 14.109375 22.625 23.890625 \nQ 32.328125 33.6875 34.8125 36.53125 \nQ 39.546875 41.84375 41.421875 45.53125 \nQ 43.3125 49.21875 43.3125 52.78125 \nQ 43.3125 58.59375 39.234375 62.25 \nQ 35.15625 65.921875 28.609375 65.921875 \nQ 23.96875 65.921875 18.8125 64.3125 \nQ 13.671875 62.703125 7.8125 59.421875 \nL 7.8125 69.390625 \nQ 13.765625 71.78125 18.9375 73 \nQ 24.125 74.21875 28.421875 74.21875 \nQ 39.75 74.21875 46.484375 68.546875 \nQ 53.21875 62.890625 53.21875 53.421875 \nQ 53.21875 48.921875 51.53125 44.890625 \nQ 49.859375 40.875 45.40625 35.40625 \nQ 44.1875 33.984375 37.640625 27.21875 \nQ 31.109375 20.453125 19.1875 8.296875 \nz\n\" id=\"DejaVuSans-50\"/>\n       </defs>\n       <use xlink:href=\"#DejaVuSans-8722\"/>\n       <use x=\"83.789062\" xlink:href=\"#DejaVuSans-50\"/>\n      </g>\n     </g>\n    </g>\n    <g id=\"xtick_2\">\n     <g id=\"line2d_2\">\n      <g>\n       <use style=\"stroke:#000000;stroke-width:0.8;\" x=\"126.740501\" xlink:href=\"#mdc797bffdc\" y=\"227.711906\"/>\n      </g>\n     </g>\n     <g id=\"text_2\">\n      <!-- −1 -->\n      <g transform=\"translate(119.369407 242.310344)scale(0.1 -0.1)\">\n       <defs>\n        <path d=\"M 12.40625 8.296875 \nL 28.515625 8.296875 \nL 28.515625 63.921875 \nL 10.984375 60.40625 \nL 10.984375 69.390625 \nL 28.421875 72.90625 \nL 38.28125 72.90625 \nL 38.28125 8.296875 \nL 54.390625 8.296875 \nL 54.390625 0 \nL 12.40625 0 \nz\n\" id=\"DejaVuSans-49\"/>\n       </defs>\n       <use xlink:href=\"#DejaVuSans-8722\"/>\n       <use x=\"83.789062\" xlink:href=\"#DejaVuSans-49\"/>\n      </g>\n     </g>\n    </g>\n    <g id=\"xtick_3\">\n     <g id=\"line2d_3\">\n      <g>\n       <use style=\"stroke:#000000;stroke-width:0.8;\" x=\"172.611217\" xlink:href=\"#mdc797bffdc\" y=\"227.711906\"/>\n      </g>\n     </g>\n     <g id=\"text_3\">\n      <!-- 0 -->\n      <g transform=\"translate(169.429967 242.310344)scale(0.1 -0.1)\">\n       <defs>\n        <path d=\"M 31.78125 66.40625 \nQ 24.171875 66.40625 20.328125 58.90625 \nQ 16.5 51.421875 16.5 36.375 \nQ 16.5 21.390625 20.328125 13.890625 \nQ 24.171875 6.390625 31.78125 6.390625 \nQ 39.453125 6.390625 43.28125 13.890625 \nQ 47.125 21.390625 47.125 36.375 \nQ 47.125 51.421875 43.28125 58.90625 \nQ 39.453125 66.40625 31.78125 66.40625 \nz\nM 31.78125 74.21875 \nQ 44.046875 74.21875 50.515625 64.515625 \nQ 56.984375 54.828125 56.984375 36.375 \nQ 56.984375 17.96875 50.515625 8.265625 \nQ 44.046875 -1.421875 31.78125 -1.421875 \nQ 19.53125 -1.421875 13.0625 8.265625 \nQ 6.59375 17.96875 6.59375 36.375 \nQ 6.59375 54.828125 13.0625 64.515625 \nQ 19.53125 74.21875 31.78125 74.21875 \nz\n\" id=\"DejaVuSans-48\"/>\n       </defs>\n       <use xlink:href=\"#DejaVuSans-48\"/>\n      </g>\n     </g>\n    </g>\n    <g id=\"xtick_4\">\n     <g id=\"line2d_4\">\n      <g>\n       <use style=\"stroke:#000000;stroke-width:0.8;\" x=\"218.481934\" xlink:href=\"#mdc797bffdc\" y=\"227.711906\"/>\n      </g>\n     </g>\n     <g id=\"text_4\">\n      <!-- 1 -->\n      <g transform=\"translate(215.300684 242.310344)scale(0.1 -0.1)\">\n       <use xlink:href=\"#DejaVuSans-49\"/>\n      </g>\n     </g>\n    </g>\n    <g id=\"xtick_5\">\n     <g id=\"line2d_5\">\n      <g>\n       <use style=\"stroke:#000000;stroke-width:0.8;\" x=\"264.35265\" xlink:href=\"#mdc797bffdc\" y=\"227.711906\"/>\n      </g>\n     </g>\n     <g id=\"text_5\">\n      <!-- 2 -->\n      <g transform=\"translate(261.1714 242.310344)scale(0.1 -0.1)\">\n       <use xlink:href=\"#DejaVuSans-50\"/>\n      </g>\n     </g>\n    </g>\n    <g id=\"xtick_6\">\n     <g id=\"line2d_6\">\n      <g>\n       <use style=\"stroke:#000000;stroke-width:0.8;\" x=\"310.223367\" xlink:href=\"#mdc797bffdc\" y=\"227.711906\"/>\n      </g>\n     </g>\n     <g id=\"text_6\">\n      <!-- 3 -->\n      <g transform=\"translate(307.042117 242.310344)scale(0.1 -0.1)\">\n       <defs>\n        <path d=\"M 40.578125 39.3125 \nQ 47.65625 37.796875 51.625 33 \nQ 55.609375 28.21875 55.609375 21.1875 \nQ 55.609375 10.40625 48.1875 4.484375 \nQ 40.765625 -1.421875 27.09375 -1.421875 \nQ 22.515625 -1.421875 17.65625 -0.515625 \nQ 12.796875 0.390625 7.625 2.203125 \nL 7.625 11.71875 \nQ 11.71875 9.328125 16.59375 8.109375 \nQ 21.484375 6.890625 26.8125 6.890625 \nQ 36.078125 6.890625 40.9375 10.546875 \nQ 45.796875 14.203125 45.796875 21.1875 \nQ 45.796875 27.640625 41.28125 31.265625 \nQ 36.765625 34.90625 28.71875 34.90625 \nL 20.21875 34.90625 \nL 20.21875 43.015625 \nL 29.109375 43.015625 \nQ 36.375 43.015625 40.234375 45.921875 \nQ 44.09375 48.828125 44.09375 54.296875 \nQ 44.09375 59.90625 40.109375 62.90625 \nQ 36.140625 65.921875 28.71875 65.921875 \nQ 24.65625 65.921875 20.015625 65.03125 \nQ 15.375 64.15625 9.8125 62.3125 \nL 9.8125 71.09375 \nQ 15.4375 72.65625 20.34375 73.4375 \nQ 25.25 74.21875 29.59375 74.21875 \nQ 40.828125 74.21875 47.359375 69.109375 \nQ 53.90625 64.015625 53.90625 55.328125 \nQ 53.90625 49.265625 50.4375 45.09375 \nQ 46.96875 40.921875 40.578125 39.3125 \nz\n\" id=\"DejaVuSans-51\"/>\n       </defs>\n       <use xlink:href=\"#DejaVuSans-51\"/>\n      </g>\n     </g>\n    </g>\n    <g id=\"xtick_7\">\n     <g id=\"line2d_7\">\n      <g>\n       <use style=\"stroke:#000000;stroke-width:0.8;\" x=\"356.094084\" xlink:href=\"#mdc797bffdc\" y=\"227.711906\"/>\n      </g>\n     </g>\n     <g id=\"text_7\">\n      <!-- 4 -->\n      <g transform=\"translate(352.912834 242.310344)scale(0.1 -0.1)\">\n       <defs>\n        <path d=\"M 37.796875 64.3125 \nL 12.890625 25.390625 \nL 37.796875 25.390625 \nz\nM 35.203125 72.90625 \nL 47.609375 72.90625 \nL 47.609375 25.390625 \nL 58.015625 25.390625 \nL 58.015625 17.1875 \nL 47.609375 17.1875 \nL 47.609375 0 \nL 37.796875 0 \nL 37.796875 17.1875 \nL 4.890625 17.1875 \nL 4.890625 26.703125 \nz\n\" id=\"DejaVuSans-52\"/>\n       </defs>\n       <use xlink:href=\"#DejaVuSans-52\"/>\n      </g>\n     </g>\n    </g>\n    <g id=\"text_8\">\n     <!-- Principal Component 1 -->\n     <g transform=\"translate(153.325781 255.988469)scale(0.1 -0.1)\">\n      <defs>\n       <path d=\"M 19.671875 64.796875 \nL 19.671875 37.40625 \nL 32.078125 37.40625 \nQ 38.96875 37.40625 42.71875 40.96875 \nQ 46.484375 44.53125 46.484375 51.125 \nQ 46.484375 57.671875 42.71875 61.234375 \nQ 38.96875 64.796875 32.078125 64.796875 \nz\nM 9.8125 72.90625 \nL 32.078125 72.90625 \nQ 44.34375 72.90625 50.609375 67.359375 \nQ 56.890625 61.8125 56.890625 51.125 \nQ 56.890625 40.328125 50.609375 34.8125 \nQ 44.34375 29.296875 32.078125 29.296875 \nL 19.671875 29.296875 \nL 19.671875 0 \nL 9.8125 0 \nz\n\" id=\"DejaVuSans-80\"/>\n       <path d=\"M 41.109375 46.296875 \nQ 39.59375 47.171875 37.8125 47.578125 \nQ 36.03125 48 33.890625 48 \nQ 26.265625 48 22.1875 43.046875 \nQ 18.109375 38.09375 18.109375 28.8125 \nL 18.109375 0 \nL 9.078125 0 \nL 9.078125 54.6875 \nL 18.109375 54.6875 \nL 18.109375 46.1875 \nQ 20.953125 51.171875 25.484375 53.578125 \nQ 30.03125 56 36.53125 56 \nQ 37.453125 56 38.578125 55.875 \nQ 39.703125 55.765625 41.0625 55.515625 \nz\n\" id=\"DejaVuSans-114\"/>\n       <path d=\"M 9.421875 54.6875 \nL 18.40625 54.6875 \nL 18.40625 0 \nL 9.421875 0 \nz\nM 9.421875 75.984375 \nL 18.40625 75.984375 \nL 18.40625 64.59375 \nL 9.421875 64.59375 \nz\n\" id=\"DejaVuSans-105\"/>\n       <path d=\"M 54.890625 33.015625 \nL 54.890625 0 \nL 45.90625 0 \nL 45.90625 32.71875 \nQ 45.90625 40.484375 42.875 44.328125 \nQ 39.84375 48.1875 33.796875 48.1875 \nQ 26.515625 48.1875 22.3125 43.546875 \nQ 18.109375 38.921875 18.109375 30.90625 \nL 18.109375 0 \nL 9.078125 0 \nL 9.078125 54.6875 \nL 18.109375 54.6875 \nL 18.109375 46.1875 \nQ 21.34375 51.125 25.703125 53.5625 \nQ 30.078125 56 35.796875 56 \nQ 45.21875 56 50.046875 50.171875 \nQ 54.890625 44.34375 54.890625 33.015625 \nz\n\" id=\"DejaVuSans-110\"/>\n       <path d=\"M 48.78125 52.59375 \nL 48.78125 44.1875 \nQ 44.96875 46.296875 41.140625 47.34375 \nQ 37.3125 48.390625 33.40625 48.390625 \nQ 24.65625 48.390625 19.8125 42.84375 \nQ 14.984375 37.3125 14.984375 27.296875 \nQ 14.984375 17.28125 19.8125 11.734375 \nQ 24.65625 6.203125 33.40625 6.203125 \nQ 37.3125 6.203125 41.140625 7.25 \nQ 44.96875 8.296875 48.78125 10.40625 \nL 48.78125 2.09375 \nQ 45.015625 0.34375 40.984375 -0.53125 \nQ 36.96875 -1.421875 32.421875 -1.421875 \nQ 20.0625 -1.421875 12.78125 6.34375 \nQ 5.515625 14.109375 5.515625 27.296875 \nQ 5.515625 40.671875 12.859375 48.328125 \nQ 20.21875 56 33.015625 56 \nQ 37.15625 56 41.109375 55.140625 \nQ 45.0625 54.296875 48.78125 52.59375 \nz\n\" id=\"DejaVuSans-99\"/>\n       <path d=\"M 18.109375 8.203125 \nL 18.109375 -20.796875 \nL 9.078125 -20.796875 \nL 9.078125 54.6875 \nL 18.109375 54.6875 \nL 18.109375 46.390625 \nQ 20.953125 51.265625 25.265625 53.625 \nQ 29.59375 56 35.59375 56 \nQ 45.5625 56 51.78125 48.09375 \nQ 58.015625 40.1875 58.015625 27.296875 \nQ 58.015625 14.40625 51.78125 6.484375 \nQ 45.5625 -1.421875 35.59375 -1.421875 \nQ 29.59375 -1.421875 25.265625 0.953125 \nQ 20.953125 3.328125 18.109375 8.203125 \nz\nM 48.6875 27.296875 \nQ 48.6875 37.203125 44.609375 42.84375 \nQ 40.53125 48.484375 33.40625 48.484375 \nQ 26.265625 48.484375 22.1875 42.84375 \nQ 18.109375 37.203125 18.109375 27.296875 \nQ 18.109375 17.390625 22.1875 11.75 \nQ 26.265625 6.109375 33.40625 6.109375 \nQ 40.53125 6.109375 44.609375 11.75 \nQ 48.6875 17.390625 48.6875 27.296875 \nz\n\" id=\"DejaVuSans-112\"/>\n       <path d=\"M 34.28125 27.484375 \nQ 23.390625 27.484375 19.1875 25 \nQ 14.984375 22.515625 14.984375 16.5 \nQ 14.984375 11.71875 18.140625 8.90625 \nQ 21.296875 6.109375 26.703125 6.109375 \nQ 34.1875 6.109375 38.703125 11.40625 \nQ 43.21875 16.703125 43.21875 25.484375 \nL 43.21875 27.484375 \nz\nM 52.203125 31.203125 \nL 52.203125 0 \nL 43.21875 0 \nL 43.21875 8.296875 \nQ 40.140625 3.328125 35.546875 0.953125 \nQ 30.953125 -1.421875 24.3125 -1.421875 \nQ 15.921875 -1.421875 10.953125 3.296875 \nQ 6 8.015625 6 15.921875 \nQ 6 25.140625 12.171875 29.828125 \nQ 18.359375 34.515625 30.609375 34.515625 \nL 43.21875 34.515625 \nL 43.21875 35.40625 \nQ 43.21875 41.609375 39.140625 45 \nQ 35.0625 48.390625 27.6875 48.390625 \nQ 23 48.390625 18.546875 47.265625 \nQ 14.109375 46.140625 10.015625 43.890625 \nL 10.015625 52.203125 \nQ 14.9375 54.109375 19.578125 55.046875 \nQ 24.21875 56 28.609375 56 \nQ 40.484375 56 46.34375 49.84375 \nQ 52.203125 43.703125 52.203125 31.203125 \nz\n\" id=\"DejaVuSans-97\"/>\n       <path d=\"M 9.421875 75.984375 \nL 18.40625 75.984375 \nL 18.40625 0 \nL 9.421875 0 \nz\n\" id=\"DejaVuSans-108\"/>\n       <path id=\"DejaVuSans-32\"/>\n       <path d=\"M 64.40625 67.28125 \nL 64.40625 56.890625 \nQ 59.421875 61.53125 53.78125 63.8125 \nQ 48.140625 66.109375 41.796875 66.109375 \nQ 29.296875 66.109375 22.65625 58.46875 \nQ 16.015625 50.828125 16.015625 36.375 \nQ 16.015625 21.96875 22.65625 14.328125 \nQ 29.296875 6.6875 41.796875 6.6875 \nQ 48.140625 6.6875 53.78125 8.984375 \nQ 59.421875 11.28125 64.40625 15.921875 \nL 64.40625 5.609375 \nQ 59.234375 2.09375 53.4375 0.328125 \nQ 47.65625 -1.421875 41.21875 -1.421875 \nQ 24.65625 -1.421875 15.125 8.703125 \nQ 5.609375 18.84375 5.609375 36.375 \nQ 5.609375 53.953125 15.125 64.078125 \nQ 24.65625 74.21875 41.21875 74.21875 \nQ 47.75 74.21875 53.53125 72.484375 \nQ 59.328125 70.75 64.40625 67.28125 \nz\n\" id=\"DejaVuSans-67\"/>\n       <path d=\"M 30.609375 48.390625 \nQ 23.390625 48.390625 19.1875 42.75 \nQ 14.984375 37.109375 14.984375 27.296875 \nQ 14.984375 17.484375 19.15625 11.84375 \nQ 23.34375 6.203125 30.609375 6.203125 \nQ 37.796875 6.203125 41.984375 11.859375 \nQ 46.1875 17.53125 46.1875 27.296875 \nQ 46.1875 37.015625 41.984375 42.703125 \nQ 37.796875 48.390625 30.609375 48.390625 \nz\nM 30.609375 56 \nQ 42.328125 56 49.015625 48.375 \nQ 55.71875 40.765625 55.71875 27.296875 \nQ 55.71875 13.875 49.015625 6.21875 \nQ 42.328125 -1.421875 30.609375 -1.421875 \nQ 18.84375 -1.421875 12.171875 6.21875 \nQ 5.515625 13.875 5.515625 27.296875 \nQ 5.515625 40.765625 12.171875 48.375 \nQ 18.84375 56 30.609375 56 \nz\n\" id=\"DejaVuSans-111\"/>\n       <path d=\"M 52 44.1875 \nQ 55.375 50.25 60.0625 53.125 \nQ 64.75 56 71.09375 56 \nQ 79.640625 56 84.28125 50.015625 \nQ 88.921875 44.046875 88.921875 33.015625 \nL 88.921875 0 \nL 79.890625 0 \nL 79.890625 32.71875 \nQ 79.890625 40.578125 77.09375 44.375 \nQ 74.3125 48.1875 68.609375 48.1875 \nQ 61.625 48.1875 57.5625 43.546875 \nQ 53.515625 38.921875 53.515625 30.90625 \nL 53.515625 0 \nL 44.484375 0 \nL 44.484375 32.71875 \nQ 44.484375 40.625 41.703125 44.40625 \nQ 38.921875 48.1875 33.109375 48.1875 \nQ 26.21875 48.1875 22.15625 43.53125 \nQ 18.109375 38.875 18.109375 30.90625 \nL 18.109375 0 \nL 9.078125 0 \nL 9.078125 54.6875 \nL 18.109375 54.6875 \nL 18.109375 46.1875 \nQ 21.1875 51.21875 25.484375 53.609375 \nQ 29.78125 56 35.6875 56 \nQ 41.65625 56 45.828125 52.96875 \nQ 50 49.953125 52 44.1875 \nz\n\" id=\"DejaVuSans-109\"/>\n       <path d=\"M 56.203125 29.59375 \nL 56.203125 25.203125 \nL 14.890625 25.203125 \nQ 15.484375 15.921875 20.484375 11.0625 \nQ 25.484375 6.203125 34.421875 6.203125 \nQ 39.59375 6.203125 44.453125 7.46875 \nQ 49.3125 8.734375 54.109375 11.28125 \nL 54.109375 2.78125 \nQ 49.265625 0.734375 44.1875 -0.34375 \nQ 39.109375 -1.421875 33.890625 -1.421875 \nQ 20.796875 -1.421875 13.15625 6.1875 \nQ 5.515625 13.8125 5.515625 26.8125 \nQ 5.515625 40.234375 12.765625 48.109375 \nQ 20.015625 56 32.328125 56 \nQ 43.359375 56 49.78125 48.890625 \nQ 56.203125 41.796875 56.203125 29.59375 \nz\nM 47.21875 32.234375 \nQ 47.125 39.59375 43.09375 43.984375 \nQ 39.0625 48.390625 32.421875 48.390625 \nQ 24.90625 48.390625 20.390625 44.140625 \nQ 15.875 39.890625 15.1875 32.171875 \nz\n\" id=\"DejaVuSans-101\"/>\n       <path d=\"M 18.3125 70.21875 \nL 18.3125 54.6875 \nL 36.8125 54.6875 \nL 36.8125 47.703125 \nL 18.3125 47.703125 \nL 18.3125 18.015625 \nQ 18.3125 11.328125 20.140625 9.421875 \nQ 21.96875 7.515625 27.59375 7.515625 \nL 36.8125 7.515625 \nL 36.8125 0 \nL 27.59375 0 \nQ 17.1875 0 13.234375 3.875 \nQ 9.28125 7.765625 9.28125 18.015625 \nL 9.28125 47.703125 \nL 2.6875 47.703125 \nL 2.6875 54.6875 \nL 9.28125 54.6875 \nL 9.28125 70.21875 \nz\n\" id=\"DejaVuSans-116\"/>\n      </defs>\n      <use xlink:href=\"#DejaVuSans-80\"/>\n      <use x=\"58.552734\" xlink:href=\"#DejaVuSans-114\"/>\n      <use x=\"99.666016\" xlink:href=\"#DejaVuSans-105\"/>\n      <use x=\"127.449219\" xlink:href=\"#DejaVuSans-110\"/>\n      <use x=\"190.828125\" xlink:href=\"#DejaVuSans-99\"/>\n      <use x=\"245.808594\" xlink:href=\"#DejaVuSans-105\"/>\n      <use x=\"273.591797\" xlink:href=\"#DejaVuSans-112\"/>\n      <use x=\"337.068359\" xlink:href=\"#DejaVuSans-97\"/>\n      <use x=\"398.347656\" xlink:href=\"#DejaVuSans-108\"/>\n      <use x=\"426.130859\" xlink:href=\"#DejaVuSans-32\"/>\n      <use x=\"457.917969\" xlink:href=\"#DejaVuSans-67\"/>\n      <use x=\"527.742188\" xlink:href=\"#DejaVuSans-111\"/>\n      <use x=\"588.923828\" xlink:href=\"#DejaVuSans-109\"/>\n      <use x=\"686.335938\" xlink:href=\"#DejaVuSans-112\"/>\n      <use x=\"749.8125\" xlink:href=\"#DejaVuSans-111\"/>\n      <use x=\"810.994141\" xlink:href=\"#DejaVuSans-110\"/>\n      <use x=\"874.373047\" xlink:href=\"#DejaVuSans-101\"/>\n      <use x=\"935.896484\" xlink:href=\"#DejaVuSans-110\"/>\n      <use x=\"999.275391\" xlink:href=\"#DejaVuSans-116\"/>\n      <use x=\"1038.484375\" xlink:href=\"#DejaVuSans-32\"/>\n      <use x=\"1070.271484\" xlink:href=\"#DejaVuSans-49\"/>\n     </g>\n    </g>\n   </g>\n   <g id=\"matplotlib.axis_2\">\n    <g id=\"ytick_1\">\n     <g id=\"line2d_8\">\n      <defs>\n       <path d=\"M 0 0 \nL -3.5 0 \n\" id=\"m70f87d4587\" style=\"stroke:#000000;stroke-width:0.8;\"/>\n      </defs>\n      <g>\n       <use style=\"stroke:#000000;stroke-width:0.8;\" x=\"42.620313\" xlink:href=\"#m70f87d4587\" y=\"215.17064\"/>\n      </g>\n     </g>\n     <g id=\"text_9\">\n      <!-- −2 -->\n      <g transform=\"translate(20.878125 218.969859)scale(0.1 -0.1)\">\n       <use xlink:href=\"#DejaVuSans-8722\"/>\n       <use x=\"83.789062\" xlink:href=\"#DejaVuSans-50\"/>\n      </g>\n     </g>\n    </g>\n    <g id=\"ytick_2\">\n     <g id=\"line2d_9\">\n      <g>\n       <use style=\"stroke:#000000;stroke-width:0.8;\" x=\"42.620313\" xlink:href=\"#m70f87d4587\" y=\"174.336356\"/>\n      </g>\n     </g>\n     <g id=\"text_10\">\n      <!-- −1 -->\n      <g transform=\"translate(20.878125 178.135575)scale(0.1 -0.1)\">\n       <use xlink:href=\"#DejaVuSans-8722\"/>\n       <use x=\"83.789062\" xlink:href=\"#DejaVuSans-49\"/>\n      </g>\n     </g>\n    </g>\n    <g id=\"ytick_3\">\n     <g id=\"line2d_10\">\n      <g>\n       <use style=\"stroke:#000000;stroke-width:0.8;\" x=\"42.620313\" xlink:href=\"#m70f87d4587\" y=\"133.502072\"/>\n      </g>\n     </g>\n     <g id=\"text_11\">\n      <!-- 0 -->\n      <g transform=\"translate(29.257813 137.30129)scale(0.1 -0.1)\">\n       <use xlink:href=\"#DejaVuSans-48\"/>\n      </g>\n     </g>\n    </g>\n    <g id=\"ytick_4\">\n     <g id=\"line2d_11\">\n      <g>\n       <use style=\"stroke:#000000;stroke-width:0.8;\" x=\"42.620313\" xlink:href=\"#m70f87d4587\" y=\"92.667787\"/>\n      </g>\n     </g>\n     <g id=\"text_12\">\n      <!-- 1 -->\n      <g transform=\"translate(29.257813 96.467006)scale(0.1 -0.1)\">\n       <use xlink:href=\"#DejaVuSans-49\"/>\n      </g>\n     </g>\n    </g>\n    <g id=\"ytick_5\">\n     <g id=\"line2d_12\">\n      <g>\n       <use style=\"stroke:#000000;stroke-width:0.8;\" x=\"42.620313\" xlink:href=\"#m70f87d4587\" y=\"51.833503\"/>\n      </g>\n     </g>\n     <g id=\"text_13\">\n      <!-- 2 -->\n      <g transform=\"translate(29.257813 55.632722)scale(0.1 -0.1)\">\n       <use xlink:href=\"#DejaVuSans-50\"/>\n      </g>\n     </g>\n    </g>\n    <g id=\"ytick_6\">\n     <g id=\"line2d_13\">\n      <g>\n       <use style=\"stroke:#000000;stroke-width:0.8;\" x=\"42.620313\" xlink:href=\"#m70f87d4587\" y=\"10.999219\"/>\n      </g>\n     </g>\n     <g id=\"text_14\">\n      <!-- 3 -->\n      <g transform=\"translate(29.257813 14.798438)scale(0.1 -0.1)\">\n       <use xlink:href=\"#DejaVuSans-51\"/>\n      </g>\n     </g>\n    </g>\n    <g id=\"text_15\">\n     <!-- Principal Component 2 -->\n     <g transform=\"translate(14.798438 175.686437)rotate(-90)scale(0.1 -0.1)\">\n      <use xlink:href=\"#DejaVuSans-80\"/>\n      <use x=\"58.552734\" xlink:href=\"#DejaVuSans-114\"/>\n      <use x=\"99.666016\" xlink:href=\"#DejaVuSans-105\"/>\n      <use x=\"127.449219\" xlink:href=\"#DejaVuSans-110\"/>\n      <use x=\"190.828125\" xlink:href=\"#DejaVuSans-99\"/>\n      <use x=\"245.808594\" xlink:href=\"#DejaVuSans-105\"/>\n      <use x=\"273.591797\" xlink:href=\"#DejaVuSans-112\"/>\n      <use x=\"337.068359\" xlink:href=\"#DejaVuSans-97\"/>\n      <use x=\"398.347656\" xlink:href=\"#DejaVuSans-108\"/>\n      <use x=\"426.130859\" xlink:href=\"#DejaVuSans-32\"/>\n      <use x=\"457.917969\" xlink:href=\"#DejaVuSans-67\"/>\n      <use x=\"527.742188\" xlink:href=\"#DejaVuSans-111\"/>\n      <use x=\"588.923828\" xlink:href=\"#DejaVuSans-109\"/>\n      <use x=\"686.335938\" xlink:href=\"#DejaVuSans-112\"/>\n      <use x=\"749.8125\" xlink:href=\"#DejaVuSans-111\"/>\n      <use x=\"810.994141\" xlink:href=\"#DejaVuSans-110\"/>\n      <use x=\"874.373047\" xlink:href=\"#DejaVuSans-101\"/>\n      <use x=\"935.896484\" xlink:href=\"#DejaVuSans-110\"/>\n      <use x=\"999.275391\" xlink:href=\"#DejaVuSans-116\"/>\n      <use x=\"1038.484375\" xlink:href=\"#DejaVuSans-32\"/>\n      <use x=\"1070.271484\" xlink:href=\"#DejaVuSans-50\"/>\n     </g>\n    </g>\n   </g>\n   <g id=\"patch_3\">\n    <path d=\"M 42.620313 227.711906 \nL 42.620313 10.271906 \n\" style=\"fill:none;stroke:#000000;stroke-linecap:square;stroke-linejoin:miter;stroke-width:0.8;\"/>\n   </g>\n   <g id=\"patch_4\">\n    <path d=\"M 377.420313 227.711906 \nL 377.420313 10.271906 \n\" style=\"fill:none;stroke:#000000;stroke-linecap:square;stroke-linejoin:miter;stroke-width:0.8;\"/>\n   </g>\n   <g id=\"patch_5\">\n    <path d=\"M 42.620313 227.711906 \nL 377.420313 227.711906 \n\" style=\"fill:none;stroke:#000000;stroke-linecap:square;stroke-linejoin:miter;stroke-width:0.8;\"/>\n   </g>\n   <g id=\"patch_6\">\n    <path d=\"M 42.620313 10.271906 \nL 377.420313 10.271906 \n\" style=\"fill:none;stroke:#000000;stroke-linecap:square;stroke-linejoin:miter;stroke-width:0.8;\"/>\n   </g>\n  </g>\n </g>\n <defs>\n  <clipPath id=\"p4a78e3be8c\">\n   <rect height=\"217.44\" width=\"334.8\" x=\"42.620313\" y=\"10.271906\"/>\n  </clipPath>\n </defs>\n</svg>\n",
      "image/png": "[encoded data removed]"
     },
     "metadata": {
      "needs_background": "light"
     }
    }
   ],
   "source": [
    "# Plot two-dimensional data from PCA analysis\n",
    "plt.scatter(final_df.PRINCIPAL_COMPONENT_1, final_df.PRINCIPAL_COMPONENT_2, c=final_df.load_weight)\n",
    "plt.xlabel('Principal Component 1')\n",
    "plt.ylabel('Principal Component 2')\n",
    "plt.show()"
   ]
  },
  {
   "cell_type": "code",
   "execution_count": 49,
   "metadata": {},
   "outputs": [],
   "source": [
    "# # Define the features set.\n",
    "# X = joined_zips_grb_df[['MEDIAN_HOUSEHOLD_INCOME', 'TOTAL_POPULATION', 'TOTAL_HOUSEHOLDS']]\n",
    "# y = joined_zips_grb_df['load_weight']\n",
    "\n",
    "# # Splitting into Train and Test sets.\n",
    "# X_train, X_test, y_train, y_test = train_test_split(X, y, random_state=42)\n",
    "\n",
    "# # Creating a StandardScaler instance.\n",
    "# scaler = StandardScaler()\n",
    "# # Fitting the Standard Scaler with the training data.\n",
    "# X_scaler = scaler.fit(X_train)\n",
    "\n",
    "# # Scaling the data.\n",
    "# X_train_scaled = X_scaler.transform(X_train)\n",
    "# X_test_scaled = X_scaler.transform(X_test)\n",
    "\n",
    "# regr = LinearRegression()\n",
    "# regr.fit(X_train, y_train)\n",
    "# y_pred = regr.predict(X_test)\n",
    "# print(y_pred.shape)\n",
    "\n",
    "# # Calculating the accuracy score.\n",
    "# #acc_score = accuracy_score(y_test, prediction)\n",
    "\n",
    "# print(regr.coef_)"
   ]
  },
  {
   "cell_type": "code",
   "execution_count": null,
   "metadata": {},
   "outputs": [],
   "source": []
  }
 ]
}