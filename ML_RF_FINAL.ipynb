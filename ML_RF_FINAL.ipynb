{
 "metadata": {
  "language_info": {
   "codemirror_mode": {
    "name": "ipython",
    "version": 3
   },
   "file_extension": ".py",
   "mimetype": "text/x-python",
   "name": "python",
   "nbconvert_exporter": "python",
   "pygments_lexer": "ipython3",
   "version": "3.7.9"
  },
  "orig_nbformat": 2,
  "kernelspec": {
   "name": "python3",
   "display_name": "Python 3.7.9 64-bit ('mlenv': conda)"
  },
  "interpreter": {
   "hash": "d6c1bac03f46cc906662aef63d06b195459a1fb9852d4ca132151a002be936c0"
  }
 },
 "nbformat": 4,
 "nbformat_minor": 2,
 "cells": [
  {
   "cell_type": "code",
   "execution_count": 1,
   "metadata": {},
   "outputs": [
    {
     "output_type": "stream",
     "name": "stdout",
     "text": [
      "Requirement already satisfied: m2cgen in /Users/PaolaRomero/opt/anaconda3/envs/mlenv/lib/python3.7/site-packages (0.9.0)\n",
      "Requirement already satisfied: numpy in /Users/PaolaRomero/opt/anaconda3/envs/mlenv/lib/python3.7/site-packages (from m2cgen) (1.19.2)\n",
      "Note: you may need to restart the kernel to use updated packages.\n"
     ]
    }
   ],
   "source": [
    "pip install m2cgen"
   ]
  },
  {
   "cell_type": "code",
   "execution_count": 2,
   "metadata": {},
   "outputs": [],
   "source": [
    "import pandas as pd\n",
    "from pathlib import Path\n",
    "import matplotlib.pyplot as plt\n",
    "from sklearn.linear_model import LinearRegression\n",
    "from scipy import stats\n",
    "import numpy as np\n",
    "from sklearn.ensemble import RandomForestClassifier\n",
    "from sklearn.preprocessing import StandardScaler\n",
    "from sklearn.model_selection import train_test_split\n",
    "from sklearn.metrics import confusion_matrix, accuracy_score, classification_report, mean_squared_error, mean_absolute_error\n",
    "from sklearn.decomposition import PCA\n",
    "from sklearn.neighbors import KNeighborsRegressor\n",
    "import m2cgen as m2c \n",
    "import warnings                        # To ignore any warnings\n",
    "warnings.filterwarnings(\"ignore\")"
   ]
  },
  {
   "cell_type": "code",
   "execution_count": 3,
   "metadata": {},
   "outputs": [],
   "source": [
    "joined_zips_grb_df = pd.read_csv(\"app_development/zips_load_demographics.csv\")"
   ]
  },
  {
   "cell_type": "code",
   "execution_count": 4,
   "metadata": {},
   "outputs": [
    {
     "output_type": "execute_result",
     "data": {
      "text/plain": [
       "     ZIP  load_weight  TOTAL_POPULATION  TOTAL_HOUSEHOLDS  \\\n",
       "0  78617    1325600.0           27900.0            6520.0   \n",
       "1  78653     825420.0           20822.0            6332.0   \n",
       "2  78701     458460.0            7875.0            4855.0   \n",
       "3  78702    3741320.0           22876.0            8937.0   \n",
       "4  78703    3671428.0           20788.0            9723.0   \n",
       "\n",
       "   MEDIAN_HOUSEHOLD_INCOME  MEAN_HOUSEHOLD_INCOME  TOTAL_HOUSING_UNITS  \n",
       "0                  52819.0                69936.0               7244.0  \n",
       "1                  66752.0                75678.0               6891.0  \n",
       "2                 112201.0               173289.0               6576.0  \n",
       "3                  54053.0                73919.0               9839.0  \n",
       "4                  98553.0               166396.0              11047.0  "
      ],
      "text/html": "<div>\n<style scoped>\n    .dataframe tbody tr th:only-of-type {\n        vertical-align: middle;\n    }\n\n    .dataframe tbody tr th {\n        vertical-align: top;\n    }\n\n    .dataframe thead th {\n        text-align: right;\n    }\n</style>\n<table border=\"1\" class=\"dataframe\">\n  <thead>\n    <tr style=\"text-align: right;\">\n      <th></th>\n      <th>ZIP</th>\n      <th>load_weight</th>\n      <th>TOTAL_POPULATION</th>\n      <th>TOTAL_HOUSEHOLDS</th>\n      <th>MEDIAN_HOUSEHOLD_INCOME</th>\n      <th>MEAN_HOUSEHOLD_INCOME</th>\n      <th>TOTAL_HOUSING_UNITS</th>\n    </tr>\n  </thead>\n  <tbody>\n    <tr>\n      <th>0</th>\n      <td>78617</td>\n      <td>1325600.0</td>\n      <td>27900.0</td>\n      <td>6520.0</td>\n      <td>52819.0</td>\n      <td>69936.0</td>\n      <td>7244.0</td>\n    </tr>\n    <tr>\n      <th>1</th>\n      <td>78653</td>\n      <td>825420.0</td>\n      <td>20822.0</td>\n      <td>6332.0</td>\n      <td>66752.0</td>\n      <td>75678.0</td>\n      <td>6891.0</td>\n    </tr>\n    <tr>\n      <th>2</th>\n      <td>78701</td>\n      <td>458460.0</td>\n      <td>7875.0</td>\n      <td>4855.0</td>\n      <td>112201.0</td>\n      <td>173289.0</td>\n      <td>6576.0</td>\n    </tr>\n    <tr>\n      <th>3</th>\n      <td>78702</td>\n      <td>3741320.0</td>\n      <td>22876.0</td>\n      <td>8937.0</td>\n      <td>54053.0</td>\n      <td>73919.0</td>\n      <td>9839.0</td>\n    </tr>\n    <tr>\n      <th>4</th>\n      <td>78703</td>\n      <td>3671428.0</td>\n      <td>20788.0</td>\n      <td>9723.0</td>\n      <td>98553.0</td>\n      <td>166396.0</td>\n      <td>11047.0</td>\n    </tr>\n  </tbody>\n</table>\n</div>"
     },
     "metadata": {},
     "execution_count": 4
    }
   ],
   "source": [
    "joined_zips_grb_df = joined_zips_grb_df.dropna()\n",
    "joined_zips_grb_df.head()\n"
   ]
  },
  {
   "cell_type": "code",
   "execution_count": 5,
   "metadata": {},
   "outputs": [
    {
     "output_type": "execute_result",
     "data": {
      "text/plain": [
       "37"
      ]
     },
     "metadata": {},
     "execution_count": 5
    }
   ],
   "source": [
    "len(joined_zips_grb_df)"
   ]
  },
  {
   "cell_type": "code",
   "execution_count": 6,
   "metadata": {},
   "outputs": [
    {
     "output_type": "execute_result",
     "data": {
      "text/plain": [
       "     ZIP  load_weight  TOTAL_POPULATION  TOTAL_HOUSEHOLDS  \\\n",
       "0  78617    1325600.0           27900.0            6520.0   \n",
       "1  78653     825420.0           20822.0            6332.0   \n",
       "2  78701     458460.0            7875.0            4855.0   \n",
       "3  78702    3741320.0           22876.0            8937.0   \n",
       "4  78703    3671428.0           20788.0            9723.0   \n",
       "\n",
       "   MEDIAN_HOUSEHOLD_INCOME  MEAN_HOUSEHOLD_INCOME  TOTAL_HOUSING_UNITS  \\\n",
       "0                  52819.0                69936.0               7244.0   \n",
       "1                  66752.0                75678.0               6891.0   \n",
       "2                 112201.0               173289.0               6576.0   \n",
       "3                  54053.0                73919.0               9839.0   \n",
       "4                  98553.0               166396.0              11047.0   \n",
       "\n",
       "   POPULATION_PER_UNIT  \n",
       "0             3.851463  \n",
       "1             3.021622  \n",
       "2             1.197536  \n",
       "3             2.325033  \n",
       "4             1.881778  "
      ],
      "text/html": "<div>\n<style scoped>\n    .dataframe tbody tr th:only-of-type {\n        vertical-align: middle;\n    }\n\n    .dataframe tbody tr th {\n        vertical-align: top;\n    }\n\n    .dataframe thead th {\n        text-align: right;\n    }\n</style>\n<table border=\"1\" class=\"dataframe\">\n  <thead>\n    <tr style=\"text-align: right;\">\n      <th></th>\n      <th>ZIP</th>\n      <th>load_weight</th>\n      <th>TOTAL_POPULATION</th>\n      <th>TOTAL_HOUSEHOLDS</th>\n      <th>MEDIAN_HOUSEHOLD_INCOME</th>\n      <th>MEAN_HOUSEHOLD_INCOME</th>\n      <th>TOTAL_HOUSING_UNITS</th>\n      <th>POPULATION_PER_UNIT</th>\n    </tr>\n  </thead>\n  <tbody>\n    <tr>\n      <th>0</th>\n      <td>78617</td>\n      <td>1325600.0</td>\n      <td>27900.0</td>\n      <td>6520.0</td>\n      <td>52819.0</td>\n      <td>69936.0</td>\n      <td>7244.0</td>\n      <td>3.851463</td>\n    </tr>\n    <tr>\n      <th>1</th>\n      <td>78653</td>\n      <td>825420.0</td>\n      <td>20822.0</td>\n      <td>6332.0</td>\n      <td>66752.0</td>\n      <td>75678.0</td>\n      <td>6891.0</td>\n      <td>3.021622</td>\n    </tr>\n    <tr>\n      <th>2</th>\n      <td>78701</td>\n      <td>458460.0</td>\n      <td>7875.0</td>\n      <td>4855.0</td>\n      <td>112201.0</td>\n      <td>173289.0</td>\n      <td>6576.0</td>\n      <td>1.197536</td>\n    </tr>\n    <tr>\n      <th>3</th>\n      <td>78702</td>\n      <td>3741320.0</td>\n      <td>22876.0</td>\n      <td>8937.0</td>\n      <td>54053.0</td>\n      <td>73919.0</td>\n      <td>9839.0</td>\n      <td>2.325033</td>\n    </tr>\n    <tr>\n      <th>4</th>\n      <td>78703</td>\n      <td>3671428.0</td>\n      <td>20788.0</td>\n      <td>9723.0</td>\n      <td>98553.0</td>\n      <td>166396.0</td>\n      <td>11047.0</td>\n      <td>1.881778</td>\n    </tr>\n  </tbody>\n</table>\n</div>"
     },
     "metadata": {},
     "execution_count": 6
    }
   ],
   "source": [
    "joined_zips_grb_df[\"POPULATION_PER_UNIT\"] = joined_zips_grb_df.TOTAL_POPULATION/joined_zips_grb_df.TOTAL_HOUSING_UNITS\n",
    "joined_zips_grb_df.head()"
   ]
  },
  {
   "cell_type": "code",
   "execution_count": 7,
   "metadata": {},
   "outputs": [
    {
     "output_type": "execute_result",
     "data": {
      "text/plain": [
       "      ZIP  load_weight  TOTAL_POPULATION  TOTAL_HOUSEHOLDS  \\\n",
       "0   78617    1325600.0           27900.0            6520.0   \n",
       "1   78653     825420.0           20822.0            6332.0   \n",
       "2   78701     458460.0            7875.0            4855.0   \n",
       "3   78702    3741320.0           22876.0            8937.0   \n",
       "4   78703    3671428.0           20788.0            9723.0   \n",
       "5   78704    5156220.0           47158.0           23213.0   \n",
       "6   78705    1606560.0           33075.0            8370.0   \n",
       "7   78721    1374760.0           12447.0            4197.0   \n",
       "8   78722    1471280.0            7254.0            3111.0   \n",
       "9   78723    5984646.0           33170.0           12518.0   \n",
       "10  78724    1139940.0           24833.0            6360.0   \n",
       "11  78725    2732580.0            7517.0            2544.0   \n",
       "12  78726    1595480.0           14610.0            5554.0   \n",
       "13  78727    2422020.0           28999.0           12937.0   \n",
       "14  78728     711120.0           21245.0           10029.0   \n",
       "15  78729    2337494.0           29434.0           12622.0   \n",
       "16  78730     693680.0            8933.0            3678.0   \n",
       "17  78731    4038480.0           27447.0           12556.0   \n",
       "18  78735    2042200.0           17919.0            7193.0   \n",
       "19  78736     702800.0            8199.0            3023.0   \n",
       "20  78739    6391660.0           20191.0            6367.0   \n",
       "21  78741    2626560.0           52307.0           20758.0   \n",
       "22  78744    7868620.0           48432.0           14345.0   \n",
       "23  78745   11083500.0           62220.0           25857.0   \n",
       "24  78746    2022960.0           28268.0           10848.0   \n",
       "25  78747    4296600.0           20954.0            6364.0   \n",
       "26  78748    8731680.0           49142.0           18820.0   \n",
       "27  78749    7500640.0           37453.0           15215.0   \n",
       "28  78750    3092740.0           30758.0           11713.0   \n",
       "29  78751    1865020.0           14949.0            7463.0   \n",
       "30  78752    2448520.0           20302.0            7932.0   \n",
       "31  78753    5082710.0           58693.0           19947.0   \n",
       "32  78754    4322388.0           23858.0            8009.0   \n",
       "33  78756    1311900.0            8377.0            4246.0   \n",
       "34  78757    4196720.0           24059.0           10746.0   \n",
       "35  78758    6322950.0           46618.0           19397.0   \n",
       "36  78759    6804600.0           41847.0           20240.0   \n",
       "\n",
       "    MEDIAN_HOUSEHOLD_INCOME  MEAN_HOUSEHOLD_INCOME  TOTAL_HOUSING_UNITS  \\\n",
       "0                   52819.0                69936.0               7244.0   \n",
       "1                   66752.0                75678.0               6891.0   \n",
       "2                  112201.0               173289.0               6576.0   \n",
       "3                   54053.0                73919.0               9839.0   \n",
       "4                   98553.0               166396.0              11047.0   \n",
       "5                   66262.0                91223.0              25815.0   \n",
       "6                   15309.0                41357.0              10336.0   \n",
       "7                   41611.0                52873.0               4632.0   \n",
       "8                   69267.0                95443.0               3415.0   \n",
       "9                   49606.0                71897.0              13777.0   \n",
       "10                  45158.0                55252.0               6754.0   \n",
       "11                  62172.0                66225.0               2598.0   \n",
       "12                  88322.0               122559.0               5998.0   \n",
       "13                  74458.0                88800.0              14029.0   \n",
       "14                  55603.0                71409.0              10626.0   \n",
       "15                  73047.0                86587.0              13636.0   \n",
       "16                 108750.0               183174.0               4019.0   \n",
       "17                  89099.0               140009.0              13476.0   \n",
       "18                 102551.0               155092.0               8176.0   \n",
       "19                 107467.0               134565.0               3306.0   \n",
       "20                 147736.0               175189.0               6460.0   \n",
       "21                  39049.0                49856.0              23380.0   \n",
       "22                  47073.0                56407.0              15236.0   \n",
       "23                  60567.0                72944.0              27367.0   \n",
       "24                 136138.0               217305.0              11922.0   \n",
       "25                  79500.0                84070.0               6654.0   \n",
       "26                  74176.0                86175.0              19577.0   \n",
       "27                  92313.0               107483.0              15727.0   \n",
       "28                  81061.0               119690.0              12472.0   \n",
       "29                  54129.0                79620.0               8632.0   \n",
       "30                  41486.0                58935.0               8720.0   \n",
       "31                  45983.0                61853.0              21287.0   \n",
       "32                  64114.0                84433.0               8451.0   \n",
       "33                  73578.0               107864.0               4642.0   \n",
       "34                  65709.0                93055.0              11454.0   \n",
       "35                  50018.0                62838.0              21064.0   \n",
       "36                  76749.0               104404.0              21798.0   \n",
       "\n",
       "    POPULATION_PER_UNIT  LOAD_PER_CAPITA  \n",
       "0              3.851463        47.512545  \n",
       "1              3.021622        39.641725  \n",
       "2              1.197536        58.217143  \n",
       "3              2.325033       163.547823  \n",
       "4              1.881778       176.612854  \n",
       "5              1.826767       109.339243  \n",
       "6              3.199981        48.573243  \n",
       "7              2.687176       110.449104  \n",
       "8              2.124158       202.823270  \n",
       "9              2.407636       180.423455  \n",
       "10             3.676784        45.904240  \n",
       "11             2.893380       363.520021  \n",
       "12             2.435812       109.204654  \n",
       "13             2.067075        83.520811  \n",
       "14             1.999341        33.472346  \n",
       "15             2.158551        79.414758  \n",
       "16             2.222692        77.653644  \n",
       "17             2.036732       147.137392  \n",
       "18             2.191659       113.968413  \n",
       "19             2.480036        85.717770  \n",
       "20             3.125542       316.559853  \n",
       "21             2.237254        50.214312  \n",
       "22             3.178787       162.467377  \n",
       "23             2.273541       178.134041  \n",
       "24             2.371079        71.563605  \n",
       "25             3.149083       205.049155  \n",
       "26             2.510191       177.682634  \n",
       "27             2.381446       200.268069  \n",
       "28             2.466164       100.550751  \n",
       "29             1.731812       124.758847  \n",
       "30             2.328211       120.604867  \n",
       "31             2.757223        86.598231  \n",
       "32             2.823098       181.171431  \n",
       "33             1.804610       156.607377  \n",
       "34             2.100489       174.434515  \n",
       "35             2.213160       135.633232  \n",
       "36             1.919763       162.606638  "
      ],
      "text/html": "<div>\n<style scoped>\n    .dataframe tbody tr th:only-of-type {\n        vertical-align: middle;\n    }\n\n    .dataframe tbody tr th {\n        vertical-align: top;\n    }\n\n    .dataframe thead th {\n        text-align: right;\n    }\n</style>\n<table border=\"1\" class=\"dataframe\">\n  <thead>\n    <tr style=\"text-align: right;\">\n      <th></th>\n      <th>ZIP</th>\n      <th>load_weight</th>\n      <th>TOTAL_POPULATION</th>\n      <th>TOTAL_HOUSEHOLDS</th>\n      <th>MEDIAN_HOUSEHOLD_INCOME</th>\n      <th>MEAN_HOUSEHOLD_INCOME</th>\n      <th>TOTAL_HOUSING_UNITS</th>\n      <th>POPULATION_PER_UNIT</th>\n      <th>LOAD_PER_CAPITA</th>\n    </tr>\n  </thead>\n  <tbody>\n    <tr>\n      <th>0</th>\n      <td>78617</td>\n      <td>1325600.0</td>\n      <td>27900.0</td>\n      <td>6520.0</td>\n      <td>52819.0</td>\n      <td>69936.0</td>\n      <td>7244.0</td>\n      <td>3.851463</td>\n      <td>47.512545</td>\n    </tr>\n    <tr>\n      <th>1</th>\n      <td>78653</td>\n      <td>825420.0</td>\n      <td>20822.0</td>\n      <td>6332.0</td>\n      <td>66752.0</td>\n      <td>75678.0</td>\n      <td>6891.0</td>\n      <td>3.021622</td>\n      <td>39.641725</td>\n    </tr>\n    <tr>\n      <th>2</th>\n      <td>78701</td>\n      <td>458460.0</td>\n      <td>7875.0</td>\n      <td>4855.0</td>\n      <td>112201.0</td>\n      <td>173289.0</td>\n      <td>6576.0</td>\n      <td>1.197536</td>\n      <td>58.217143</td>\n    </tr>\n    <tr>\n      <th>3</th>\n      <td>78702</td>\n      <td>3741320.0</td>\n      <td>22876.0</td>\n      <td>8937.0</td>\n      <td>54053.0</td>\n      <td>73919.0</td>\n      <td>9839.0</td>\n      <td>2.325033</td>\n      <td>163.547823</td>\n    </tr>\n    <tr>\n      <th>4</th>\n      <td>78703</td>\n      <td>3671428.0</td>\n      <td>20788.0</td>\n      <td>9723.0</td>\n      <td>98553.0</td>\n      <td>166396.0</td>\n      <td>11047.0</td>\n      <td>1.881778</td>\n      <td>176.612854</td>\n    </tr>\n    <tr>\n      <th>5</th>\n      <td>78704</td>\n      <td>5156220.0</td>\n      <td>47158.0</td>\n      <td>23213.0</td>\n      <td>66262.0</td>\n      <td>91223.0</td>\n      <td>25815.0</td>\n      <td>1.826767</td>\n      <td>109.339243</td>\n    </tr>\n    <tr>\n      <th>6</th>\n      <td>78705</td>\n      <td>1606560.0</td>\n      <td>33075.0</td>\n      <td>8370.0</td>\n      <td>15309.0</td>\n      <td>41357.0</td>\n      <td>10336.0</td>\n      <td>3.199981</td>\n      <td>48.573243</td>\n    </tr>\n    <tr>\n      <th>7</th>\n      <td>78721</td>\n      <td>1374760.0</td>\n      <td>12447.0</td>\n      <td>4197.0</td>\n      <td>41611.0</td>\n      <td>52873.0</td>\n      <td>4632.0</td>\n      <td>2.687176</td>\n      <td>110.449104</td>\n    </tr>\n    <tr>\n      <th>8</th>\n      <td>78722</td>\n      <td>1471280.0</td>\n      <td>7254.0</td>\n      <td>3111.0</td>\n      <td>69267.0</td>\n      <td>95443.0</td>\n      <td>3415.0</td>\n      <td>2.124158</td>\n      <td>202.823270</td>\n    </tr>\n    <tr>\n      <th>9</th>\n      <td>78723</td>\n      <td>5984646.0</td>\n      <td>33170.0</td>\n      <td>12518.0</td>\n      <td>49606.0</td>\n      <td>71897.0</td>\n      <td>13777.0</td>\n      <td>2.407636</td>\n      <td>180.423455</td>\n    </tr>\n    <tr>\n      <th>10</th>\n      <td>78724</td>\n      <td>1139940.0</td>\n      <td>24833.0</td>\n      <td>6360.0</td>\n      <td>45158.0</td>\n      <td>55252.0</td>\n      <td>6754.0</td>\n      <td>3.676784</td>\n      <td>45.904240</td>\n    </tr>\n    <tr>\n      <th>11</th>\n      <td>78725</td>\n      <td>2732580.0</td>\n      <td>7517.0</td>\n      <td>2544.0</td>\n      <td>62172.0</td>\n      <td>66225.0</td>\n      <td>2598.0</td>\n      <td>2.893380</td>\n      <td>363.520021</td>\n    </tr>\n    <tr>\n      <th>12</th>\n      <td>78726</td>\n      <td>1595480.0</td>\n      <td>14610.0</td>\n      <td>5554.0</td>\n      <td>88322.0</td>\n      <td>122559.0</td>\n      <td>5998.0</td>\n      <td>2.435812</td>\n      <td>109.204654</td>\n    </tr>\n    <tr>\n      <th>13</th>\n      <td>78727</td>\n      <td>2422020.0</td>\n      <td>28999.0</td>\n      <td>12937.0</td>\n      <td>74458.0</td>\n      <td>88800.0</td>\n      <td>14029.0</td>\n      <td>2.067075</td>\n      <td>83.520811</td>\n    </tr>\n    <tr>\n      <th>14</th>\n      <td>78728</td>\n      <td>711120.0</td>\n      <td>21245.0</td>\n      <td>10029.0</td>\n      <td>55603.0</td>\n      <td>71409.0</td>\n      <td>10626.0</td>\n      <td>1.999341</td>\n      <td>33.472346</td>\n    </tr>\n    <tr>\n      <th>15</th>\n      <td>78729</td>\n      <td>2337494.0</td>\n      <td>29434.0</td>\n      <td>12622.0</td>\n      <td>73047.0</td>\n      <td>86587.0</td>\n      <td>13636.0</td>\n      <td>2.158551</td>\n      <td>79.414758</td>\n    </tr>\n    <tr>\n      <th>16</th>\n      <td>78730</td>\n      <td>693680.0</td>\n      <td>8933.0</td>\n      <td>3678.0</td>\n      <td>108750.0</td>\n      <td>183174.0</td>\n      <td>4019.0</td>\n      <td>2.222692</td>\n      <td>77.653644</td>\n    </tr>\n    <tr>\n      <th>17</th>\n      <td>78731</td>\n      <td>4038480.0</td>\n      <td>27447.0</td>\n      <td>12556.0</td>\n      <td>89099.0</td>\n      <td>140009.0</td>\n      <td>13476.0</td>\n      <td>2.036732</td>\n      <td>147.137392</td>\n    </tr>\n    <tr>\n      <th>18</th>\n      <td>78735</td>\n      <td>2042200.0</td>\n      <td>17919.0</td>\n      <td>7193.0</td>\n      <td>102551.0</td>\n      <td>155092.0</td>\n      <td>8176.0</td>\n      <td>2.191659</td>\n      <td>113.968413</td>\n    </tr>\n    <tr>\n      <th>19</th>\n      <td>78736</td>\n      <td>702800.0</td>\n      <td>8199.0</td>\n      <td>3023.0</td>\n      <td>107467.0</td>\n      <td>134565.0</td>\n      <td>3306.0</td>\n      <td>2.480036</td>\n      <td>85.717770</td>\n    </tr>\n    <tr>\n      <th>20</th>\n      <td>78739</td>\n      <td>6391660.0</td>\n      <td>20191.0</td>\n      <td>6367.0</td>\n      <td>147736.0</td>\n      <td>175189.0</td>\n      <td>6460.0</td>\n      <td>3.125542</td>\n      <td>316.559853</td>\n    </tr>\n    <tr>\n      <th>21</th>\n      <td>78741</td>\n      <td>2626560.0</td>\n      <td>52307.0</td>\n      <td>20758.0</td>\n      <td>39049.0</td>\n      <td>49856.0</td>\n      <td>23380.0</td>\n      <td>2.237254</td>\n      <td>50.214312</td>\n    </tr>\n    <tr>\n      <th>22</th>\n      <td>78744</td>\n      <td>7868620.0</td>\n      <td>48432.0</td>\n      <td>14345.0</td>\n      <td>47073.0</td>\n      <td>56407.0</td>\n      <td>15236.0</td>\n      <td>3.178787</td>\n      <td>162.467377</td>\n    </tr>\n    <tr>\n      <th>23</th>\n      <td>78745</td>\n      <td>11083500.0</td>\n      <td>62220.0</td>\n      <td>25857.0</td>\n      <td>60567.0</td>\n      <td>72944.0</td>\n      <td>27367.0</td>\n      <td>2.273541</td>\n      <td>178.134041</td>\n    </tr>\n    <tr>\n      <th>24</th>\n      <td>78746</td>\n      <td>2022960.0</td>\n      <td>28268.0</td>\n      <td>10848.0</td>\n      <td>136138.0</td>\n      <td>217305.0</td>\n      <td>11922.0</td>\n      <td>2.371079</td>\n      <td>71.563605</td>\n    </tr>\n    <tr>\n      <th>25</th>\n      <td>78747</td>\n      <td>4296600.0</td>\n      <td>20954.0</td>\n      <td>6364.0</td>\n      <td>79500.0</td>\n      <td>84070.0</td>\n      <td>6654.0</td>\n      <td>3.149083</td>\n      <td>205.049155</td>\n    </tr>\n    <tr>\n      <th>26</th>\n      <td>78748</td>\n      <td>8731680.0</td>\n      <td>49142.0</td>\n      <td>18820.0</td>\n      <td>74176.0</td>\n      <td>86175.0</td>\n      <td>19577.0</td>\n      <td>2.510191</td>\n      <td>177.682634</td>\n    </tr>\n    <tr>\n      <th>27</th>\n      <td>78749</td>\n      <td>7500640.0</td>\n      <td>37453.0</td>\n      <td>15215.0</td>\n      <td>92313.0</td>\n      <td>107483.0</td>\n      <td>15727.0</td>\n      <td>2.381446</td>\n      <td>200.268069</td>\n    </tr>\n    <tr>\n      <th>28</th>\n      <td>78750</td>\n      <td>3092740.0</td>\n      <td>30758.0</td>\n      <td>11713.0</td>\n      <td>81061.0</td>\n      <td>119690.0</td>\n      <td>12472.0</td>\n      <td>2.466164</td>\n      <td>100.550751</td>\n    </tr>\n    <tr>\n      <th>29</th>\n      <td>78751</td>\n      <td>1865020.0</td>\n      <td>14949.0</td>\n      <td>7463.0</td>\n      <td>54129.0</td>\n      <td>79620.0</td>\n      <td>8632.0</td>\n      <td>1.731812</td>\n      <td>124.758847</td>\n    </tr>\n    <tr>\n      <th>30</th>\n      <td>78752</td>\n      <td>2448520.0</td>\n      <td>20302.0</td>\n      <td>7932.0</td>\n      <td>41486.0</td>\n      <td>58935.0</td>\n      <td>8720.0</td>\n      <td>2.328211</td>\n      <td>120.604867</td>\n    </tr>\n    <tr>\n      <th>31</th>\n      <td>78753</td>\n      <td>5082710.0</td>\n      <td>58693.0</td>\n      <td>19947.0</td>\n      <td>45983.0</td>\n      <td>61853.0</td>\n      <td>21287.0</td>\n      <td>2.757223</td>\n      <td>86.598231</td>\n    </tr>\n    <tr>\n      <th>32</th>\n      <td>78754</td>\n      <td>4322388.0</td>\n      <td>23858.0</td>\n      <td>8009.0</td>\n      <td>64114.0</td>\n      <td>84433.0</td>\n      <td>8451.0</td>\n      <td>2.823098</td>\n      <td>181.171431</td>\n    </tr>\n    <tr>\n      <th>33</th>\n      <td>78756</td>\n      <td>1311900.0</td>\n      <td>8377.0</td>\n      <td>4246.0</td>\n      <td>73578.0</td>\n      <td>107864.0</td>\n      <td>4642.0</td>\n      <td>1.804610</td>\n      <td>156.607377</td>\n    </tr>\n    <tr>\n      <th>34</th>\n      <td>78757</td>\n      <td>4196720.0</td>\n      <td>24059.0</td>\n      <td>10746.0</td>\n      <td>65709.0</td>\n      <td>93055.0</td>\n      <td>11454.0</td>\n      <td>2.100489</td>\n      <td>174.434515</td>\n    </tr>\n    <tr>\n      <th>35</th>\n      <td>78758</td>\n      <td>6322950.0</td>\n      <td>46618.0</td>\n      <td>19397.0</td>\n      <td>50018.0</td>\n      <td>62838.0</td>\n      <td>21064.0</td>\n      <td>2.213160</td>\n      <td>135.633232</td>\n    </tr>\n    <tr>\n      <th>36</th>\n      <td>78759</td>\n      <td>6804600.0</td>\n      <td>41847.0</td>\n      <td>20240.0</td>\n      <td>76749.0</td>\n      <td>104404.0</td>\n      <td>21798.0</td>\n      <td>1.919763</td>\n      <td>162.606638</td>\n    </tr>\n  </tbody>\n</table>\n</div>"
     },
     "metadata": {},
     "execution_count": 7
    }
   ],
   "source": [
    "joined_zips_grb_df[\"LOAD_PER_CAPITA\"] = joined_zips_grb_df.load_weight/joined_zips_grb_df.TOTAL_POPULATION\n",
    "joined_zips_grb_df"
   ]
  },
  {
   "cell_type": "code",
   "execution_count": 8,
   "metadata": {},
   "outputs": [
    {
     "output_type": "execute_result",
     "data": {
      "text/plain": [
       "      ZIP  load_weight  TOTAL_POPULATION  TOTAL_HOUSEHOLDS  \\\n",
       "0   78617    1325600.0           27900.0            6520.0   \n",
       "1   78653     825420.0           20822.0            6332.0   \n",
       "2   78701     458460.0            7875.0            4855.0   \n",
       "3   78702    3741320.0           22876.0            8937.0   \n",
       "4   78703    3671428.0           20788.0            9723.0   \n",
       "5   78704    5156220.0           47158.0           23213.0   \n",
       "6   78705    1606560.0           33075.0            8370.0   \n",
       "7   78721    1374760.0           12447.0            4197.0   \n",
       "8   78722    1471280.0            7254.0            3111.0   \n",
       "9   78723    5984646.0           33170.0           12518.0   \n",
       "10  78724    1139940.0           24833.0            6360.0   \n",
       "11  78725    2732580.0            7517.0            2544.0   \n",
       "12  78726    1595480.0           14610.0            5554.0   \n",
       "13  78727    2422020.0           28999.0           12937.0   \n",
       "14  78728     711120.0           21245.0           10029.0   \n",
       "15  78729    2337494.0           29434.0           12622.0   \n",
       "16  78730     693680.0            8933.0            3678.0   \n",
       "17  78731    4038480.0           27447.0           12556.0   \n",
       "18  78735    2042200.0           17919.0            7193.0   \n",
       "19  78736     702800.0            8199.0            3023.0   \n",
       "20  78739    6391660.0           20191.0            6367.0   \n",
       "21  78741    2626560.0           52307.0           20758.0   \n",
       "22  78744    7868620.0           48432.0           14345.0   \n",
       "23  78745   11083500.0           62220.0           25857.0   \n",
       "24  78746    2022960.0           28268.0           10848.0   \n",
       "25  78747    4296600.0           20954.0            6364.0   \n",
       "26  78748    8731680.0           49142.0           18820.0   \n",
       "27  78749    7500640.0           37453.0           15215.0   \n",
       "28  78750    3092740.0           30758.0           11713.0   \n",
       "29  78751    1865020.0           14949.0            7463.0   \n",
       "30  78752    2448520.0           20302.0            7932.0   \n",
       "31  78753    5082710.0           58693.0           19947.0   \n",
       "32  78754    4322388.0           23858.0            8009.0   \n",
       "33  78756    1311900.0            8377.0            4246.0   \n",
       "34  78757    4196720.0           24059.0           10746.0   \n",
       "35  78758    6322950.0           46618.0           19397.0   \n",
       "36  78759    6804600.0           41847.0           20240.0   \n",
       "\n",
       "    MEDIAN_HOUSEHOLD_INCOME  MEAN_HOUSEHOLD_INCOME  TOTAL_HOUSING_UNITS  \\\n",
       "0                   52819.0                69936.0               7244.0   \n",
       "1                   66752.0                75678.0               6891.0   \n",
       "2                  112201.0               173289.0               6576.0   \n",
       "3                   54053.0                73919.0               9839.0   \n",
       "4                   98553.0               166396.0              11047.0   \n",
       "5                   66262.0                91223.0              25815.0   \n",
       "6                   15309.0                41357.0              10336.0   \n",
       "7                   41611.0                52873.0               4632.0   \n",
       "8                   69267.0                95443.0               3415.0   \n",
       "9                   49606.0                71897.0              13777.0   \n",
       "10                  45158.0                55252.0               6754.0   \n",
       "11                  62172.0                66225.0               2598.0   \n",
       "12                  88322.0               122559.0               5998.0   \n",
       "13                  74458.0                88800.0              14029.0   \n",
       "14                  55603.0                71409.0              10626.0   \n",
       "15                  73047.0                86587.0              13636.0   \n",
       "16                 108750.0               183174.0               4019.0   \n",
       "17                  89099.0               140009.0              13476.0   \n",
       "18                 102551.0               155092.0               8176.0   \n",
       "19                 107467.0               134565.0               3306.0   \n",
       "20                 147736.0               175189.0               6460.0   \n",
       "21                  39049.0                49856.0              23380.0   \n",
       "22                  47073.0                56407.0              15236.0   \n",
       "23                  60567.0                72944.0              27367.0   \n",
       "24                 136138.0               217305.0              11922.0   \n",
       "25                  79500.0                84070.0               6654.0   \n",
       "26                  74176.0                86175.0              19577.0   \n",
       "27                  92313.0               107483.0              15727.0   \n",
       "28                  81061.0               119690.0              12472.0   \n",
       "29                  54129.0                79620.0               8632.0   \n",
       "30                  41486.0                58935.0               8720.0   \n",
       "31                  45983.0                61853.0              21287.0   \n",
       "32                  64114.0                84433.0               8451.0   \n",
       "33                  73578.0               107864.0               4642.0   \n",
       "34                  65709.0                93055.0              11454.0   \n",
       "35                  50018.0                62838.0              21064.0   \n",
       "36                  76749.0               104404.0              21798.0   \n",
       "\n",
       "    POPULATION_PER_UNIT  LOAD_PER_CAPITA  \n",
       "0              3.851463        47.512545  \n",
       "1              3.021622        39.641725  \n",
       "2              1.197536        58.217143  \n",
       "3              2.325033       163.547823  \n",
       "4              1.881778       176.612854  \n",
       "5              1.826767       109.339243  \n",
       "6              3.199981        48.573243  \n",
       "7              2.687176       110.449104  \n",
       "8              2.124158       202.823270  \n",
       "9              2.407636       180.423455  \n",
       "10             3.676784        45.904240  \n",
       "11             2.893380       363.520021  \n",
       "12             2.435812       109.204654  \n",
       "13             2.067075        83.520811  \n",
       "14             1.999341        33.472346  \n",
       "15             2.158551        79.414758  \n",
       "16             2.222692        77.653644  \n",
       "17             2.036732       147.137392  \n",
       "18             2.191659       113.968413  \n",
       "19             2.480036        85.717770  \n",
       "20             3.125542       316.559853  \n",
       "21             2.237254        50.214312  \n",
       "22             3.178787       162.467377  \n",
       "23             2.273541       178.134041  \n",
       "24             2.371079        71.563605  \n",
       "25             3.149083       205.049155  \n",
       "26             2.510191       177.682634  \n",
       "27             2.381446       200.268069  \n",
       "28             2.466164       100.550751  \n",
       "29             1.731812       124.758847  \n",
       "30             2.328211       120.604867  \n",
       "31             2.757223        86.598231  \n",
       "32             2.823098       181.171431  \n",
       "33             1.804610       156.607377  \n",
       "34             2.100489       174.434515  \n",
       "35             2.213160       135.633232  \n",
       "36             1.919763       162.606638  "
      ],
      "text/html": "<div>\n<style scoped>\n    .dataframe tbody tr th:only-of-type {\n        vertical-align: middle;\n    }\n\n    .dataframe tbody tr th {\n        vertical-align: top;\n    }\n\n    .dataframe thead th {\n        text-align: right;\n    }\n</style>\n<table border=\"1\" class=\"dataframe\">\n  <thead>\n    <tr style=\"text-align: right;\">\n      <th></th>\n      <th>ZIP</th>\n      <th>load_weight</th>\n      <th>TOTAL_POPULATION</th>\n      <th>TOTAL_HOUSEHOLDS</th>\n      <th>MEDIAN_HOUSEHOLD_INCOME</th>\n      <th>MEAN_HOUSEHOLD_INCOME</th>\n      <th>TOTAL_HOUSING_UNITS</th>\n      <th>POPULATION_PER_UNIT</th>\n      <th>LOAD_PER_CAPITA</th>\n    </tr>\n  </thead>\n  <tbody>\n    <tr>\n      <th>0</th>\n      <td>78617</td>\n      <td>1325600.0</td>\n      <td>27900.0</td>\n      <td>6520.0</td>\n      <td>52819.0</td>\n      <td>69936.0</td>\n      <td>7244.0</td>\n      <td>3.851463</td>\n      <td>47.512545</td>\n    </tr>\n    <tr>\n      <th>1</th>\n      <td>78653</td>\n      <td>825420.0</td>\n      <td>20822.0</td>\n      <td>6332.0</td>\n      <td>66752.0</td>\n      <td>75678.0</td>\n      <td>6891.0</td>\n      <td>3.021622</td>\n      <td>39.641725</td>\n    </tr>\n    <tr>\n      <th>2</th>\n      <td>78701</td>\n      <td>458460.0</td>\n      <td>7875.0</td>\n      <td>4855.0</td>\n      <td>112201.0</td>\n      <td>173289.0</td>\n      <td>6576.0</td>\n      <td>1.197536</td>\n      <td>58.217143</td>\n    </tr>\n    <tr>\n      <th>3</th>\n      <td>78702</td>\n      <td>3741320.0</td>\n      <td>22876.0</td>\n      <td>8937.0</td>\n      <td>54053.0</td>\n      <td>73919.0</td>\n      <td>9839.0</td>\n      <td>2.325033</td>\n      <td>163.547823</td>\n    </tr>\n    <tr>\n      <th>4</th>\n      <td>78703</td>\n      <td>3671428.0</td>\n      <td>20788.0</td>\n      <td>9723.0</td>\n      <td>98553.0</td>\n      <td>166396.0</td>\n      <td>11047.0</td>\n      <td>1.881778</td>\n      <td>176.612854</td>\n    </tr>\n    <tr>\n      <th>5</th>\n      <td>78704</td>\n      <td>5156220.0</td>\n      <td>47158.0</td>\n      <td>23213.0</td>\n      <td>66262.0</td>\n      <td>91223.0</td>\n      <td>25815.0</td>\n      <td>1.826767</td>\n      <td>109.339243</td>\n    </tr>\n    <tr>\n      <th>6</th>\n      <td>78705</td>\n      <td>1606560.0</td>\n      <td>33075.0</td>\n      <td>8370.0</td>\n      <td>15309.0</td>\n      <td>41357.0</td>\n      <td>10336.0</td>\n      <td>3.199981</td>\n      <td>48.573243</td>\n    </tr>\n    <tr>\n      <th>7</th>\n      <td>78721</td>\n      <td>1374760.0</td>\n      <td>12447.0</td>\n      <td>4197.0</td>\n      <td>41611.0</td>\n      <td>52873.0</td>\n      <td>4632.0</td>\n      <td>2.687176</td>\n      <td>110.449104</td>\n    </tr>\n    <tr>\n      <th>8</th>\n      <td>78722</td>\n      <td>1471280.0</td>\n      <td>7254.0</td>\n      <td>3111.0</td>\n      <td>69267.0</td>\n      <td>95443.0</td>\n      <td>3415.0</td>\n      <td>2.124158</td>\n      <td>202.823270</td>\n    </tr>\n    <tr>\n      <th>9</th>\n      <td>78723</td>\n      <td>5984646.0</td>\n      <td>33170.0</td>\n      <td>12518.0</td>\n      <td>49606.0</td>\n      <td>71897.0</td>\n      <td>13777.0</td>\n      <td>2.407636</td>\n      <td>180.423455</td>\n    </tr>\n    <tr>\n      <th>10</th>\n      <td>78724</td>\n      <td>1139940.0</td>\n      <td>24833.0</td>\n      <td>6360.0</td>\n      <td>45158.0</td>\n      <td>55252.0</td>\n      <td>6754.0</td>\n      <td>3.676784</td>\n      <td>45.904240</td>\n    </tr>\n    <tr>\n      <th>11</th>\n      <td>78725</td>\n      <td>2732580.0</td>\n      <td>7517.0</td>\n      <td>2544.0</td>\n      <td>62172.0</td>\n      <td>66225.0</td>\n      <td>2598.0</td>\n      <td>2.893380</td>\n      <td>363.520021</td>\n    </tr>\n    <tr>\n      <th>12</th>\n      <td>78726</td>\n      <td>1595480.0</td>\n      <td>14610.0</td>\n      <td>5554.0</td>\n      <td>88322.0</td>\n      <td>122559.0</td>\n      <td>5998.0</td>\n      <td>2.435812</td>\n      <td>109.204654</td>\n    </tr>\n    <tr>\n      <th>13</th>\n      <td>78727</td>\n      <td>2422020.0</td>\n      <td>28999.0</td>\n      <td>12937.0</td>\n      <td>74458.0</td>\n      <td>88800.0</td>\n      <td>14029.0</td>\n      <td>2.067075</td>\n      <td>83.520811</td>\n    </tr>\n    <tr>\n      <th>14</th>\n      <td>78728</td>\n      <td>711120.0</td>\n      <td>21245.0</td>\n      <td>10029.0</td>\n      <td>55603.0</td>\n      <td>71409.0</td>\n      <td>10626.0</td>\n      <td>1.999341</td>\n      <td>33.472346</td>\n    </tr>\n    <tr>\n      <th>15</th>\n      <td>78729</td>\n      <td>2337494.0</td>\n      <td>29434.0</td>\n      <td>12622.0</td>\n      <td>73047.0</td>\n      <td>86587.0</td>\n      <td>13636.0</td>\n      <td>2.158551</td>\n      <td>79.414758</td>\n    </tr>\n    <tr>\n      <th>16</th>\n      <td>78730</td>\n      <td>693680.0</td>\n      <td>8933.0</td>\n      <td>3678.0</td>\n      <td>108750.0</td>\n      <td>183174.0</td>\n      <td>4019.0</td>\n      <td>2.222692</td>\n      <td>77.653644</td>\n    </tr>\n    <tr>\n      <th>17</th>\n      <td>78731</td>\n      <td>4038480.0</td>\n      <td>27447.0</td>\n      <td>12556.0</td>\n      <td>89099.0</td>\n      <td>140009.0</td>\n      <td>13476.0</td>\n      <td>2.036732</td>\n      <td>147.137392</td>\n    </tr>\n    <tr>\n      <th>18</th>\n      <td>78735</td>\n      <td>2042200.0</td>\n      <td>17919.0</td>\n      <td>7193.0</td>\n      <td>102551.0</td>\n      <td>155092.0</td>\n      <td>8176.0</td>\n      <td>2.191659</td>\n      <td>113.968413</td>\n    </tr>\n    <tr>\n      <th>19</th>\n      <td>78736</td>\n      <td>702800.0</td>\n      <td>8199.0</td>\n      <td>3023.0</td>\n      <td>107467.0</td>\n      <td>134565.0</td>\n      <td>3306.0</td>\n      <td>2.480036</td>\n      <td>85.717770</td>\n    </tr>\n    <tr>\n      <th>20</th>\n      <td>78739</td>\n      <td>6391660.0</td>\n      <td>20191.0</td>\n      <td>6367.0</td>\n      <td>147736.0</td>\n      <td>175189.0</td>\n      <td>6460.0</td>\n      <td>3.125542</td>\n      <td>316.559853</td>\n    </tr>\n    <tr>\n      <th>21</th>\n      <td>78741</td>\n      <td>2626560.0</td>\n      <td>52307.0</td>\n      <td>20758.0</td>\n      <td>39049.0</td>\n      <td>49856.0</td>\n      <td>23380.0</td>\n      <td>2.237254</td>\n      <td>50.214312</td>\n    </tr>\n    <tr>\n      <th>22</th>\n      <td>78744</td>\n      <td>7868620.0</td>\n      <td>48432.0</td>\n      <td>14345.0</td>\n      <td>47073.0</td>\n      <td>56407.0</td>\n      <td>15236.0</td>\n      <td>3.178787</td>\n      <td>162.467377</td>\n    </tr>\n    <tr>\n      <th>23</th>\n      <td>78745</td>\n      <td>11083500.0</td>\n      <td>62220.0</td>\n      <td>25857.0</td>\n      <td>60567.0</td>\n      <td>72944.0</td>\n      <td>27367.0</td>\n      <td>2.273541</td>\n      <td>178.134041</td>\n    </tr>\n    <tr>\n      <th>24</th>\n      <td>78746</td>\n      <td>2022960.0</td>\n      <td>28268.0</td>\n      <td>10848.0</td>\n      <td>136138.0</td>\n      <td>217305.0</td>\n      <td>11922.0</td>\n      <td>2.371079</td>\n      <td>71.563605</td>\n    </tr>\n    <tr>\n      <th>25</th>\n      <td>78747</td>\n      <td>4296600.0</td>\n      <td>20954.0</td>\n      <td>6364.0</td>\n      <td>79500.0</td>\n      <td>84070.0</td>\n      <td>6654.0</td>\n      <td>3.149083</td>\n      <td>205.049155</td>\n    </tr>\n    <tr>\n      <th>26</th>\n      <td>78748</td>\n      <td>8731680.0</td>\n      <td>49142.0</td>\n      <td>18820.0</td>\n      <td>74176.0</td>\n      <td>86175.0</td>\n      <td>19577.0</td>\n      <td>2.510191</td>\n      <td>177.682634</td>\n    </tr>\n    <tr>\n      <th>27</th>\n      <td>78749</td>\n      <td>7500640.0</td>\n      <td>37453.0</td>\n      <td>15215.0</td>\n      <td>92313.0</td>\n      <td>107483.0</td>\n      <td>15727.0</td>\n      <td>2.381446</td>\n      <td>200.268069</td>\n    </tr>\n    <tr>\n      <th>28</th>\n      <td>78750</td>\n      <td>3092740.0</td>\n      <td>30758.0</td>\n      <td>11713.0</td>\n      <td>81061.0</td>\n      <td>119690.0</td>\n      <td>12472.0</td>\n      <td>2.466164</td>\n      <td>100.550751</td>\n    </tr>\n    <tr>\n      <th>29</th>\n      <td>78751</td>\n      <td>1865020.0</td>\n      <td>14949.0</td>\n      <td>7463.0</td>\n      <td>54129.0</td>\n      <td>79620.0</td>\n      <td>8632.0</td>\n      <td>1.731812</td>\n      <td>124.758847</td>\n    </tr>\n    <tr>\n      <th>30</th>\n      <td>78752</td>\n      <td>2448520.0</td>\n      <td>20302.0</td>\n      <td>7932.0</td>\n      <td>41486.0</td>\n      <td>58935.0</td>\n      <td>8720.0</td>\n      <td>2.328211</td>\n      <td>120.604867</td>\n    </tr>\n    <tr>\n      <th>31</th>\n      <td>78753</td>\n      <td>5082710.0</td>\n      <td>58693.0</td>\n      <td>19947.0</td>\n      <td>45983.0</td>\n      <td>61853.0</td>\n      <td>21287.0</td>\n      <td>2.757223</td>\n      <td>86.598231</td>\n    </tr>\n    <tr>\n      <th>32</th>\n      <td>78754</td>\n      <td>4322388.0</td>\n      <td>23858.0</td>\n      <td>8009.0</td>\n      <td>64114.0</td>\n      <td>84433.0</td>\n      <td>8451.0</td>\n      <td>2.823098</td>\n      <td>181.171431</td>\n    </tr>\n    <tr>\n      <th>33</th>\n      <td>78756</td>\n      <td>1311900.0</td>\n      <td>8377.0</td>\n      <td>4246.0</td>\n      <td>73578.0</td>\n      <td>107864.0</td>\n      <td>4642.0</td>\n      <td>1.804610</td>\n      <td>156.607377</td>\n    </tr>\n    <tr>\n      <th>34</th>\n      <td>78757</td>\n      <td>4196720.0</td>\n      <td>24059.0</td>\n      <td>10746.0</td>\n      <td>65709.0</td>\n      <td>93055.0</td>\n      <td>11454.0</td>\n      <td>2.100489</td>\n      <td>174.434515</td>\n    </tr>\n    <tr>\n      <th>35</th>\n      <td>78758</td>\n      <td>6322950.0</td>\n      <td>46618.0</td>\n      <td>19397.0</td>\n      <td>50018.0</td>\n      <td>62838.0</td>\n      <td>21064.0</td>\n      <td>2.213160</td>\n      <td>135.633232</td>\n    </tr>\n    <tr>\n      <th>36</th>\n      <td>78759</td>\n      <td>6804600.0</td>\n      <td>41847.0</td>\n      <td>20240.0</td>\n      <td>76749.0</td>\n      <td>104404.0</td>\n      <td>21798.0</td>\n      <td>1.919763</td>\n      <td>162.606638</td>\n    </tr>\n  </tbody>\n</table>\n</div>"
     },
     "metadata": {},
     "execution_count": 8
    }
   ],
   "source": [
    "joined_zips_grb_df"
   ]
  },
  {
   "cell_type": "code",
   "execution_count": 9,
   "metadata": {},
   "outputs": [],
   "source": [
    "features = ['TOTAL_POPULATION', 'TOTAL_HOUSEHOLDS', 'MEDIAN_HOUSEHOLD_INCOME', 'TOTAL_HOUSING_UNITS']\n",
    "# Separating out the features\n",
    "x = joined_zips_grb_df.loc[:, features]\n",
    "# Standardizing the features\n",
    "ss = StandardScaler().fit(x)\n",
    "X = ss.transform(x)"
   ]
  },
  {
   "cell_type": "code",
   "execution_count": 10,
   "metadata": {},
   "outputs": [],
   "source": [
    "def binned_trash(number_of_bins, dataSeries):\n",
    "    bins = {}\n",
    "    out = []\n",
    "    min_value = dataSeries.min()\n",
    "    max_value = dataSeries.max()\n",
    "    mean_value = dataSeries.mean()\n",
    "\n",
    "    for bin in range(0,number_of_bins):\n",
    "        b_float_lower = float(bin)/float(number_of_bins)\n",
    "        b_float_upper = float(bin+1.)/float(number_of_bins)\n",
    "        bins[bin] = [min_value + b_float_lower * (max_value - min_value), min_value + b_float_upper*(max_value - min_value)]\n",
    "    \n",
    "\n",
    "    for row in dataSeries:\n",
    "        for bin, bin_range in bins.items():\n",
    "            if row <= bin_range[1] and row >= bin_range[0]:\n",
    "                out.append(bin)\n",
    "\n",
    "    return pd.Series(out), bins"
   ]
  },
  {
   "cell_type": "code",
   "execution_count": 11,
   "metadata": {},
   "outputs": [
    {
     "output_type": "execute_result",
     "data": {
      "text/plain": [
       "      ZIP  load_weight  TOTAL_POPULATION  TOTAL_HOUSEHOLDS  \\\n",
       "0   78617    1325600.0           27900.0            6520.0   \n",
       "1   78653     825420.0           20822.0            6332.0   \n",
       "2   78701     458460.0            7875.0            4855.0   \n",
       "3   78702    3741320.0           22876.0            8937.0   \n",
       "4   78703    3671428.0           20788.0            9723.0   \n",
       "5   78704    5156220.0           47158.0           23213.0   \n",
       "6   78705    1606560.0           33075.0            8370.0   \n",
       "7   78721    1374760.0           12447.0            4197.0   \n",
       "8   78722    1471280.0            7254.0            3111.0   \n",
       "9   78723    5984646.0           33170.0           12518.0   \n",
       "10  78724    1139940.0           24833.0            6360.0   \n",
       "11  78725    2732580.0            7517.0            2544.0   \n",
       "12  78726    1595480.0           14610.0            5554.0   \n",
       "13  78727    2422020.0           28999.0           12937.0   \n",
       "14  78728     711120.0           21245.0           10029.0   \n",
       "15  78729    2337494.0           29434.0           12622.0   \n",
       "16  78730     693680.0            8933.0            3678.0   \n",
       "17  78731    4038480.0           27447.0           12556.0   \n",
       "18  78735    2042200.0           17919.0            7193.0   \n",
       "19  78736     702800.0            8199.0            3023.0   \n",
       "20  78739    6391660.0           20191.0            6367.0   \n",
       "21  78741    2626560.0           52307.0           20758.0   \n",
       "22  78744    7868620.0           48432.0           14345.0   \n",
       "23  78745   11083500.0           62220.0           25857.0   \n",
       "24  78746    2022960.0           28268.0           10848.0   \n",
       "25  78747    4296600.0           20954.0            6364.0   \n",
       "26  78748    8731680.0           49142.0           18820.0   \n",
       "27  78749    7500640.0           37453.0           15215.0   \n",
       "28  78750    3092740.0           30758.0           11713.0   \n",
       "29  78751    1865020.0           14949.0            7463.0   \n",
       "30  78752    2448520.0           20302.0            7932.0   \n",
       "31  78753    5082710.0           58693.0           19947.0   \n",
       "32  78754    4322388.0           23858.0            8009.0   \n",
       "33  78756    1311900.0            8377.0            4246.0   \n",
       "34  78757    4196720.0           24059.0           10746.0   \n",
       "35  78758    6322950.0           46618.0           19397.0   \n",
       "36  78759    6804600.0           41847.0           20240.0   \n",
       "\n",
       "    MEDIAN_HOUSEHOLD_INCOME  MEAN_HOUSEHOLD_INCOME  TOTAL_HOUSING_UNITS  \\\n",
       "0                   52819.0                69936.0               7244.0   \n",
       "1                   66752.0                75678.0               6891.0   \n",
       "2                  112201.0               173289.0               6576.0   \n",
       "3                   54053.0                73919.0               9839.0   \n",
       "4                   98553.0               166396.0              11047.0   \n",
       "5                   66262.0                91223.0              25815.0   \n",
       "6                   15309.0                41357.0              10336.0   \n",
       "7                   41611.0                52873.0               4632.0   \n",
       "8                   69267.0                95443.0               3415.0   \n",
       "9                   49606.0                71897.0              13777.0   \n",
       "10                  45158.0                55252.0               6754.0   \n",
       "11                  62172.0                66225.0               2598.0   \n",
       "12                  88322.0               122559.0               5998.0   \n",
       "13                  74458.0                88800.0              14029.0   \n",
       "14                  55603.0                71409.0              10626.0   \n",
       "15                  73047.0                86587.0              13636.0   \n",
       "16                 108750.0               183174.0               4019.0   \n",
       "17                  89099.0               140009.0              13476.0   \n",
       "18                 102551.0               155092.0               8176.0   \n",
       "19                 107467.0               134565.0               3306.0   \n",
       "20                 147736.0               175189.0               6460.0   \n",
       "21                  39049.0                49856.0              23380.0   \n",
       "22                  47073.0                56407.0              15236.0   \n",
       "23                  60567.0                72944.0              27367.0   \n",
       "24                 136138.0               217305.0              11922.0   \n",
       "25                  79500.0                84070.0               6654.0   \n",
       "26                  74176.0                86175.0              19577.0   \n",
       "27                  92313.0               107483.0              15727.0   \n",
       "28                  81061.0               119690.0              12472.0   \n",
       "29                  54129.0                79620.0               8632.0   \n",
       "30                  41486.0                58935.0               8720.0   \n",
       "31                  45983.0                61853.0              21287.0   \n",
       "32                  64114.0                84433.0               8451.0   \n",
       "33                  73578.0               107864.0               4642.0   \n",
       "34                  65709.0                93055.0              11454.0   \n",
       "35                  50018.0                62838.0              21064.0   \n",
       "36                  76749.0               104404.0              21798.0   \n",
       "\n",
       "    POPULATION_PER_UNIT  LOAD_PER_CAPITA  \n",
       "0              3.851463        47.512545  \n",
       "1              3.021622        39.641725  \n",
       "2              1.197536        58.217143  \n",
       "3              2.325033       163.547823  \n",
       "4              1.881778       176.612854  \n",
       "5              1.826767       109.339243  \n",
       "6              3.199981        48.573243  \n",
       "7              2.687176       110.449104  \n",
       "8              2.124158       202.823270  \n",
       "9              2.407636       180.423455  \n",
       "10             3.676784        45.904240  \n",
       "11             2.893380       363.520021  \n",
       "12             2.435812       109.204654  \n",
       "13             2.067075        83.520811  \n",
       "14             1.999341        33.472346  \n",
       "15             2.158551        79.414758  \n",
       "16             2.222692        77.653644  \n",
       "17             2.036732       147.137392  \n",
       "18             2.191659       113.968413  \n",
       "19             2.480036        85.717770  \n",
       "20             3.125542       316.559853  \n",
       "21             2.237254        50.214312  \n",
       "22             3.178787       162.467377  \n",
       "23             2.273541       178.134041  \n",
       "24             2.371079        71.563605  \n",
       "25             3.149083       205.049155  \n",
       "26             2.510191       177.682634  \n",
       "27             2.381446       200.268069  \n",
       "28             2.466164       100.550751  \n",
       "29             1.731812       124.758847  \n",
       "30             2.328211       120.604867  \n",
       "31             2.757223        86.598231  \n",
       "32             2.823098       181.171431  \n",
       "33             1.804610       156.607377  \n",
       "34             2.100489       174.434515  \n",
       "35             2.213160       135.633232  \n",
       "36             1.919763       162.606638  "
      ],
      "text/html": "<div>\n<style scoped>\n    .dataframe tbody tr th:only-of-type {\n        vertical-align: middle;\n    }\n\n    .dataframe tbody tr th {\n        vertical-align: top;\n    }\n\n    .dataframe thead th {\n        text-align: right;\n    }\n</style>\n<table border=\"1\" class=\"dataframe\">\n  <thead>\n    <tr style=\"text-align: right;\">\n      <th></th>\n      <th>ZIP</th>\n      <th>load_weight</th>\n      <th>TOTAL_POPULATION</th>\n      <th>TOTAL_HOUSEHOLDS</th>\n      <th>MEDIAN_HOUSEHOLD_INCOME</th>\n      <th>MEAN_HOUSEHOLD_INCOME</th>\n      <th>TOTAL_HOUSING_UNITS</th>\n      <th>POPULATION_PER_UNIT</th>\n      <th>LOAD_PER_CAPITA</th>\n    </tr>\n  </thead>\n  <tbody>\n    <tr>\n      <th>0</th>\n      <td>78617</td>\n      <td>1325600.0</td>\n      <td>27900.0</td>\n      <td>6520.0</td>\n      <td>52819.0</td>\n      <td>69936.0</td>\n      <td>7244.0</td>\n      <td>3.851463</td>\n      <td>47.512545</td>\n    </tr>\n    <tr>\n      <th>1</th>\n      <td>78653</td>\n      <td>825420.0</td>\n      <td>20822.0</td>\n      <td>6332.0</td>\n      <td>66752.0</td>\n      <td>75678.0</td>\n      <td>6891.0</td>\n      <td>3.021622</td>\n      <td>39.641725</td>\n    </tr>\n    <tr>\n      <th>2</th>\n      <td>78701</td>\n      <td>458460.0</td>\n      <td>7875.0</td>\n      <td>4855.0</td>\n      <td>112201.0</td>\n      <td>173289.0</td>\n      <td>6576.0</td>\n      <td>1.197536</td>\n      <td>58.217143</td>\n    </tr>\n    <tr>\n      <th>3</th>\n      <td>78702</td>\n      <td>3741320.0</td>\n      <td>22876.0</td>\n      <td>8937.0</td>\n      <td>54053.0</td>\n      <td>73919.0</td>\n      <td>9839.0</td>\n      <td>2.325033</td>\n      <td>163.547823</td>\n    </tr>\n    <tr>\n      <th>4</th>\n      <td>78703</td>\n      <td>3671428.0</td>\n      <td>20788.0</td>\n      <td>9723.0</td>\n      <td>98553.0</td>\n      <td>166396.0</td>\n      <td>11047.0</td>\n      <td>1.881778</td>\n      <td>176.612854</td>\n    </tr>\n    <tr>\n      <th>5</th>\n      <td>78704</td>\n      <td>5156220.0</td>\n      <td>47158.0</td>\n      <td>23213.0</td>\n      <td>66262.0</td>\n      <td>91223.0</td>\n      <td>25815.0</td>\n      <td>1.826767</td>\n      <td>109.339243</td>\n    </tr>\n    <tr>\n      <th>6</th>\n      <td>78705</td>\n      <td>1606560.0</td>\n      <td>33075.0</td>\n      <td>8370.0</td>\n      <td>15309.0</td>\n      <td>41357.0</td>\n      <td>10336.0</td>\n      <td>3.199981</td>\n      <td>48.573243</td>\n    </tr>\n    <tr>\n      <th>7</th>\n      <td>78721</td>\n      <td>1374760.0</td>\n      <td>12447.0</td>\n      <td>4197.0</td>\n      <td>41611.0</td>\n      <td>52873.0</td>\n      <td>4632.0</td>\n      <td>2.687176</td>\n      <td>110.449104</td>\n    </tr>\n    <tr>\n      <th>8</th>\n      <td>78722</td>\n      <td>1471280.0</td>\n      <td>7254.0</td>\n      <td>3111.0</td>\n      <td>69267.0</td>\n      <td>95443.0</td>\n      <td>3415.0</td>\n      <td>2.124158</td>\n      <td>202.823270</td>\n    </tr>\n    <tr>\n      <th>9</th>\n      <td>78723</td>\n      <td>5984646.0</td>\n      <td>33170.0</td>\n      <td>12518.0</td>\n      <td>49606.0</td>\n      <td>71897.0</td>\n      <td>13777.0</td>\n      <td>2.407636</td>\n      <td>180.423455</td>\n    </tr>\n    <tr>\n      <th>10</th>\n      <td>78724</td>\n      <td>1139940.0</td>\n      <td>24833.0</td>\n      <td>6360.0</td>\n      <td>45158.0</td>\n      <td>55252.0</td>\n      <td>6754.0</td>\n      <td>3.676784</td>\n      <td>45.904240</td>\n    </tr>\n    <tr>\n      <th>11</th>\n      <td>78725</td>\n      <td>2732580.0</td>\n      <td>7517.0</td>\n      <td>2544.0</td>\n      <td>62172.0</td>\n      <td>66225.0</td>\n      <td>2598.0</td>\n      <td>2.893380</td>\n      <td>363.520021</td>\n    </tr>\n    <tr>\n      <th>12</th>\n      <td>78726</td>\n      <td>1595480.0</td>\n      <td>14610.0</td>\n      <td>5554.0</td>\n      <td>88322.0</td>\n      <td>122559.0</td>\n      <td>5998.0</td>\n      <td>2.435812</td>\n      <td>109.204654</td>\n    </tr>\n    <tr>\n      <th>13</th>\n      <td>78727</td>\n      <td>2422020.0</td>\n      <td>28999.0</td>\n      <td>12937.0</td>\n      <td>74458.0</td>\n      <td>88800.0</td>\n      <td>14029.0</td>\n      <td>2.067075</td>\n      <td>83.520811</td>\n    </tr>\n    <tr>\n      <th>14</th>\n      <td>78728</td>\n      <td>711120.0</td>\n      <td>21245.0</td>\n      <td>10029.0</td>\n      <td>55603.0</td>\n      <td>71409.0</td>\n      <td>10626.0</td>\n      <td>1.999341</td>\n      <td>33.472346</td>\n    </tr>\n    <tr>\n      <th>15</th>\n      <td>78729</td>\n      <td>2337494.0</td>\n      <td>29434.0</td>\n      <td>12622.0</td>\n      <td>73047.0</td>\n      <td>86587.0</td>\n      <td>13636.0</td>\n      <td>2.158551</td>\n      <td>79.414758</td>\n    </tr>\n    <tr>\n      <th>16</th>\n      <td>78730</td>\n      <td>693680.0</td>\n      <td>8933.0</td>\n      <td>3678.0</td>\n      <td>108750.0</td>\n      <td>183174.0</td>\n      <td>4019.0</td>\n      <td>2.222692</td>\n      <td>77.653644</td>\n    </tr>\n    <tr>\n      <th>17</th>\n      <td>78731</td>\n      <td>4038480.0</td>\n      <td>27447.0</td>\n      <td>12556.0</td>\n      <td>89099.0</td>\n      <td>140009.0</td>\n      <td>13476.0</td>\n      <td>2.036732</td>\n      <td>147.137392</td>\n    </tr>\n    <tr>\n      <th>18</th>\n      <td>78735</td>\n      <td>2042200.0</td>\n      <td>17919.0</td>\n      <td>7193.0</td>\n      <td>102551.0</td>\n      <td>155092.0</td>\n      <td>8176.0</td>\n      <td>2.191659</td>\n      <td>113.968413</td>\n    </tr>\n    <tr>\n      <th>19</th>\n      <td>78736</td>\n      <td>702800.0</td>\n      <td>8199.0</td>\n      <td>3023.0</td>\n      <td>107467.0</td>\n      <td>134565.0</td>\n      <td>3306.0</td>\n      <td>2.480036</td>\n      <td>85.717770</td>\n    </tr>\n    <tr>\n      <th>20</th>\n      <td>78739</td>\n      <td>6391660.0</td>\n      <td>20191.0</td>\n      <td>6367.0</td>\n      <td>147736.0</td>\n      <td>175189.0</td>\n      <td>6460.0</td>\n      <td>3.125542</td>\n      <td>316.559853</td>\n    </tr>\n    <tr>\n      <th>21</th>\n      <td>78741</td>\n      <td>2626560.0</td>\n      <td>52307.0</td>\n      <td>20758.0</td>\n      <td>39049.0</td>\n      <td>49856.0</td>\n      <td>23380.0</td>\n      <td>2.237254</td>\n      <td>50.214312</td>\n    </tr>\n    <tr>\n      <th>22</th>\n      <td>78744</td>\n      <td>7868620.0</td>\n      <td>48432.0</td>\n      <td>14345.0</td>\n      <td>47073.0</td>\n      <td>56407.0</td>\n      <td>15236.0</td>\n      <td>3.178787</td>\n      <td>162.467377</td>\n    </tr>\n    <tr>\n      <th>23</th>\n      <td>78745</td>\n      <td>11083500.0</td>\n      <td>62220.0</td>\n      <td>25857.0</td>\n      <td>60567.0</td>\n      <td>72944.0</td>\n      <td>27367.0</td>\n      <td>2.273541</td>\n      <td>178.134041</td>\n    </tr>\n    <tr>\n      <th>24</th>\n      <td>78746</td>\n      <td>2022960.0</td>\n      <td>28268.0</td>\n      <td>10848.0</td>\n      <td>136138.0</td>\n      <td>217305.0</td>\n      <td>11922.0</td>\n      <td>2.371079</td>\n      <td>71.563605</td>\n    </tr>\n    <tr>\n      <th>25</th>\n      <td>78747</td>\n      <td>4296600.0</td>\n      <td>20954.0</td>\n      <td>6364.0</td>\n      <td>79500.0</td>\n      <td>84070.0</td>\n      <td>6654.0</td>\n      <td>3.149083</td>\n      <td>205.049155</td>\n    </tr>\n    <tr>\n      <th>26</th>\n      <td>78748</td>\n      <td>8731680.0</td>\n      <td>49142.0</td>\n      <td>18820.0</td>\n      <td>74176.0</td>\n      <td>86175.0</td>\n      <td>19577.0</td>\n      <td>2.510191</td>\n      <td>177.682634</td>\n    </tr>\n    <tr>\n      <th>27</th>\n      <td>78749</td>\n      <td>7500640.0</td>\n      <td>37453.0</td>\n      <td>15215.0</td>\n      <td>92313.0</td>\n      <td>107483.0</td>\n      <td>15727.0</td>\n      <td>2.381446</td>\n      <td>200.268069</td>\n    </tr>\n    <tr>\n      <th>28</th>\n      <td>78750</td>\n      <td>3092740.0</td>\n      <td>30758.0</td>\n      <td>11713.0</td>\n      <td>81061.0</td>\n      <td>119690.0</td>\n      <td>12472.0</td>\n      <td>2.466164</td>\n      <td>100.550751</td>\n    </tr>\n    <tr>\n      <th>29</th>\n      <td>78751</td>\n      <td>1865020.0</td>\n      <td>14949.0</td>\n      <td>7463.0</td>\n      <td>54129.0</td>\n      <td>79620.0</td>\n      <td>8632.0</td>\n      <td>1.731812</td>\n      <td>124.758847</td>\n    </tr>\n    <tr>\n      <th>30</th>\n      <td>78752</td>\n      <td>2448520.0</td>\n      <td>20302.0</td>\n      <td>7932.0</td>\n      <td>41486.0</td>\n      <td>58935.0</td>\n      <td>8720.0</td>\n      <td>2.328211</td>\n      <td>120.604867</td>\n    </tr>\n    <tr>\n      <th>31</th>\n      <td>78753</td>\n      <td>5082710.0</td>\n      <td>58693.0</td>\n      <td>19947.0</td>\n      <td>45983.0</td>\n      <td>61853.0</td>\n      <td>21287.0</td>\n      <td>2.757223</td>\n      <td>86.598231</td>\n    </tr>\n    <tr>\n      <th>32</th>\n      <td>78754</td>\n      <td>4322388.0</td>\n      <td>23858.0</td>\n      <td>8009.0</td>\n      <td>64114.0</td>\n      <td>84433.0</td>\n      <td>8451.0</td>\n      <td>2.823098</td>\n      <td>181.171431</td>\n    </tr>\n    <tr>\n      <th>33</th>\n      <td>78756</td>\n      <td>1311900.0</td>\n      <td>8377.0</td>\n      <td>4246.0</td>\n      <td>73578.0</td>\n      <td>107864.0</td>\n      <td>4642.0</td>\n      <td>1.804610</td>\n      <td>156.607377</td>\n    </tr>\n    <tr>\n      <th>34</th>\n      <td>78757</td>\n      <td>4196720.0</td>\n      <td>24059.0</td>\n      <td>10746.0</td>\n      <td>65709.0</td>\n      <td>93055.0</td>\n      <td>11454.0</td>\n      <td>2.100489</td>\n      <td>174.434515</td>\n    </tr>\n    <tr>\n      <th>35</th>\n      <td>78758</td>\n      <td>6322950.0</td>\n      <td>46618.0</td>\n      <td>19397.0</td>\n      <td>50018.0</td>\n      <td>62838.0</td>\n      <td>21064.0</td>\n      <td>2.213160</td>\n      <td>135.633232</td>\n    </tr>\n    <tr>\n      <th>36</th>\n      <td>78759</td>\n      <td>6804600.0</td>\n      <td>41847.0</td>\n      <td>20240.0</td>\n      <td>76749.0</td>\n      <td>104404.0</td>\n      <td>21798.0</td>\n      <td>1.919763</td>\n      <td>162.606638</td>\n    </tr>\n  </tbody>\n</table>\n</div>"
     },
     "metadata": {},
     "execution_count": 11
    }
   ],
   "source": [
    "joined_zips_grb_df"
   ]
  },
  {
   "cell_type": "code",
   "execution_count": 12,
   "metadata": {},
   "outputs": [],
   "source": [
    "binned_load_per_capita, bins = binned_trash(3, joined_zips_grb_df['LOAD_PER_CAPITA'])"
   ]
  },
  {
   "cell_type": "code",
   "execution_count": 13,
   "metadata": {},
   "outputs": [
    {
     "output_type": "execute_result",
     "data": {
      "text/plain": [
       "37"
      ]
     },
     "metadata": {},
     "execution_count": 13
    }
   ],
   "source": [
    "binned_load_per_capita.size"
   ]
  },
  {
   "cell_type": "code",
   "execution_count": 14,
   "metadata": {},
   "outputs": [
    {
     "output_type": "execute_result",
     "data": {
      "text/plain": [
       "0     0\n",
       "1     0\n",
       "2     0\n",
       "3     1\n",
       "4     1\n",
       "5     0\n",
       "6     0\n",
       "7     0\n",
       "8     1\n",
       "9     1\n",
       "10    0\n",
       "11    2\n",
       "12    0\n",
       "13    0\n",
       "14    0\n",
       "15    0\n",
       "16    0\n",
       "17    1\n",
       "18    0\n",
       "19    0\n",
       "20    2\n",
       "21    0\n",
       "22    1\n",
       "23    1\n",
       "24    0\n",
       "25    1\n",
       "26    1\n",
       "27    1\n",
       "28    0\n",
       "29    0\n",
       "30    0\n",
       "31    0\n",
       "32    1\n",
       "33    1\n",
       "34    1\n",
       "35    0\n",
       "36    1\n",
       "dtype: int64"
      ]
     },
     "metadata": {},
     "execution_count": 14
    }
   ],
   "source": [
    "binned_load_per_capita"
   ]
  },
  {
   "cell_type": "code",
   "execution_count": 15,
   "metadata": {},
   "outputs": [
    {
     "output_type": "execute_result",
     "data": {
      "text/plain": [
       "{0: [33.47234643445517, 143.48823805133247],\n",
       " 1: [143.48823805133247, 253.5041296682098],\n",
       " 2: [253.5041296682098, 363.5200212850871]}"
      ]
     },
     "metadata": {},
     "execution_count": 15
    }
   ],
   "source": [
    "bins"
   ]
  },
  {
   "cell_type": "code",
   "execution_count": 16,
   "metadata": {},
   "outputs": [],
   "source": [
    "#X = pd.DataFrame(X_reduced)\n",
    "X = pd.DataFrame(X)"
   ]
  },
  {
   "cell_type": "code",
   "execution_count": 17,
   "metadata": {},
   "outputs": [
    {
     "output_type": "execute_result",
     "data": {
      "text/plain": [
       "           0         1         2         3\n",
       "0   0.039070 -0.671284 -0.699580 -0.658071\n",
       "1  -0.439705 -0.702146 -0.190288 -0.712127\n",
       "2  -1.315476 -0.944613  1.471007 -0.760363\n",
       "3  -0.300767 -0.274505 -0.654474 -0.260696\n",
       "4  -0.442005 -0.145474  0.972133 -0.075713\n",
       "5   1.341734  2.069068 -0.208199  2.185730\n",
       "6   0.389121 -0.367585 -2.070681 -0.184589\n",
       "7  -1.006213 -1.052631 -1.109266 -1.058050\n",
       "8  -1.357482 -1.230911 -0.098357 -1.244411\n",
       "9   0.395547  0.313358 -0.817025  0.342335\n",
       "10 -0.168390 -0.697550 -0.979612 -0.733106\n",
       "11 -1.339692 -1.323991 -0.357700 -1.369519\n",
       "12 -0.859902 -0.829864  0.598159 -0.848873\n",
       "13  0.113409  0.382142  0.091389  0.380924\n",
       "14 -0.411092 -0.095240 -0.597817 -0.140181\n",
       "15  0.142834  0.330431  0.039813  0.320744\n",
       "16 -1.243910 -1.137831  1.344863 -1.151920\n",
       "17  0.008428  0.319596  0.626561  0.296243\n",
       "18 -0.636072 -0.560803  1.118271 -0.515353\n",
       "19 -1.293559 -1.245357  1.297966 -1.261102\n",
       "20 -0.482388 -0.696401  2.769917 -0.778126\n",
       "21  1.690026  1.666051 -1.202914  1.812855\n",
       "22  1.427911  0.613282 -0.909613  0.565754\n",
       "23  2.360569  2.503111 -0.416368  2.423390\n",
       "24  0.063963  0.039208  2.345976  0.058277\n",
       "25 -0.430776 -0.696893  0.275689 -0.748419\n",
       "26  1.475937  1.347905  0.081081  1.230497\n",
       "27  0.685261  0.756102  0.744042  0.640941\n",
       "28  0.232393  0.181208  0.332748  0.142499\n",
       "29 -0.836971 -0.516479 -0.651696 -0.445525\n",
       "30 -0.474879 -0.439488 -1.113835 -0.432050\n",
       "31  2.121993  1.532915 -0.949456  1.492351\n",
       "32 -0.234342 -0.426847 -0.286714 -0.473242\n",
       "33 -1.281519 -1.044588  0.059223 -1.056519\n",
       "34 -0.220746  0.022464 -0.228413 -0.013389\n",
       "35  1.305207  1.442626 -0.801965  1.458203\n",
       "36  0.982483  1.581015  0.175132  1.570601"
      ],
      "text/html": "<div>\n<style scoped>\n    .dataframe tbody tr th:only-of-type {\n        vertical-align: middle;\n    }\n\n    .dataframe tbody tr th {\n        vertical-align: top;\n    }\n\n    .dataframe thead th {\n        text-align: right;\n    }\n</style>\n<table border=\"1\" class=\"dataframe\">\n  <thead>\n    <tr style=\"text-align: right;\">\n      <th></th>\n      <th>0</th>\n      <th>1</th>\n      <th>2</th>\n      <th>3</th>\n    </tr>\n  </thead>\n  <tbody>\n    <tr>\n      <th>0</th>\n      <td>0.039070</td>\n      <td>-0.671284</td>\n      <td>-0.699580</td>\n      <td>-0.658071</td>\n    </tr>\n    <tr>\n      <th>1</th>\n      <td>-0.439705</td>\n      <td>-0.702146</td>\n      <td>-0.190288</td>\n      <td>-0.712127</td>\n    </tr>\n    <tr>\n      <th>2</th>\n      <td>-1.315476</td>\n      <td>-0.944613</td>\n      <td>1.471007</td>\n      <td>-0.760363</td>\n    </tr>\n    <tr>\n      <th>3</th>\n      <td>-0.300767</td>\n      <td>-0.274505</td>\n      <td>-0.654474</td>\n      <td>-0.260696</td>\n    </tr>\n    <tr>\n      <th>4</th>\n      <td>-0.442005</td>\n      <td>-0.145474</td>\n      <td>0.972133</td>\n      <td>-0.075713</td>\n    </tr>\n    <tr>\n      <th>5</th>\n      <td>1.341734</td>\n      <td>2.069068</td>\n      <td>-0.208199</td>\n      <td>2.185730</td>\n    </tr>\n    <tr>\n      <th>6</th>\n      <td>0.389121</td>\n      <td>-0.367585</td>\n      <td>-2.070681</td>\n      <td>-0.184589</td>\n    </tr>\n    <tr>\n      <th>7</th>\n      <td>-1.006213</td>\n      <td>-1.052631</td>\n      <td>-1.109266</td>\n      <td>-1.058050</td>\n    </tr>\n    <tr>\n      <th>8</th>\n      <td>-1.357482</td>\n      <td>-1.230911</td>\n      <td>-0.098357</td>\n      <td>-1.244411</td>\n    </tr>\n    <tr>\n      <th>9</th>\n      <td>0.395547</td>\n      <td>0.313358</td>\n      <td>-0.817025</td>\n      <td>0.342335</td>\n    </tr>\n    <tr>\n      <th>10</th>\n      <td>-0.168390</td>\n      <td>-0.697550</td>\n      <td>-0.979612</td>\n      <td>-0.733106</td>\n    </tr>\n    <tr>\n      <th>11</th>\n      <td>-1.339692</td>\n      <td>-1.323991</td>\n      <td>-0.357700</td>\n      <td>-1.369519</td>\n    </tr>\n    <tr>\n      <th>12</th>\n      <td>-0.859902</td>\n      <td>-0.829864</td>\n      <td>0.598159</td>\n      <td>-0.848873</td>\n    </tr>\n    <tr>\n      <th>13</th>\n      <td>0.113409</td>\n      <td>0.382142</td>\n      <td>0.091389</td>\n      <td>0.380924</td>\n    </tr>\n    <tr>\n      <th>14</th>\n      <td>-0.411092</td>\n      <td>-0.095240</td>\n      <td>-0.597817</td>\n      <td>-0.140181</td>\n    </tr>\n    <tr>\n      <th>15</th>\n      <td>0.142834</td>\n      <td>0.330431</td>\n      <td>0.039813</td>\n      <td>0.320744</td>\n    </tr>\n    <tr>\n      <th>16</th>\n      <td>-1.243910</td>\n      <td>-1.137831</td>\n      <td>1.344863</td>\n      <td>-1.151920</td>\n    </tr>\n    <tr>\n      <th>17</th>\n      <td>0.008428</td>\n      <td>0.319596</td>\n      <td>0.626561</td>\n      <td>0.296243</td>\n    </tr>\n    <tr>\n      <th>18</th>\n      <td>-0.636072</td>\n      <td>-0.560803</td>\n      <td>1.118271</td>\n      <td>-0.515353</td>\n    </tr>\n    <tr>\n      <th>19</th>\n      <td>-1.293559</td>\n      <td>-1.245357</td>\n      <td>1.297966</td>\n      <td>-1.261102</td>\n    </tr>\n    <tr>\n      <th>20</th>\n      <td>-0.482388</td>\n      <td>-0.696401</td>\n      <td>2.769917</td>\n      <td>-0.778126</td>\n    </tr>\n    <tr>\n      <th>21</th>\n      <td>1.690026</td>\n      <td>1.666051</td>\n      <td>-1.202914</td>\n      <td>1.812855</td>\n    </tr>\n    <tr>\n      <th>22</th>\n      <td>1.427911</td>\n      <td>0.613282</td>\n      <td>-0.909613</td>\n      <td>0.565754</td>\n    </tr>\n    <tr>\n      <th>23</th>\n      <td>2.360569</td>\n      <td>2.503111</td>\n      <td>-0.416368</td>\n      <td>2.423390</td>\n    </tr>\n    <tr>\n      <th>24</th>\n      <td>0.063963</td>\n      <td>0.039208</td>\n      <td>2.345976</td>\n      <td>0.058277</td>\n    </tr>\n    <tr>\n      <th>25</th>\n      <td>-0.430776</td>\n      <td>-0.696893</td>\n      <td>0.275689</td>\n      <td>-0.748419</td>\n    </tr>\n    <tr>\n      <th>26</th>\n      <td>1.475937</td>\n      <td>1.347905</td>\n      <td>0.081081</td>\n      <td>1.230497</td>\n    </tr>\n    <tr>\n      <th>27</th>\n      <td>0.685261</td>\n      <td>0.756102</td>\n      <td>0.744042</td>\n      <td>0.640941</td>\n    </tr>\n    <tr>\n      <th>28</th>\n      <td>0.232393</td>\n      <td>0.181208</td>\n      <td>0.332748</td>\n      <td>0.142499</td>\n    </tr>\n    <tr>\n      <th>29</th>\n      <td>-0.836971</td>\n      <td>-0.516479</td>\n      <td>-0.651696</td>\n      <td>-0.445525</td>\n    </tr>\n    <tr>\n      <th>30</th>\n      <td>-0.474879</td>\n      <td>-0.439488</td>\n      <td>-1.113835</td>\n      <td>-0.432050</td>\n    </tr>\n    <tr>\n      <th>31</th>\n      <td>2.121993</td>\n      <td>1.532915</td>\n      <td>-0.949456</td>\n      <td>1.492351</td>\n    </tr>\n    <tr>\n      <th>32</th>\n      <td>-0.234342</td>\n      <td>-0.426847</td>\n      <td>-0.286714</td>\n      <td>-0.473242</td>\n    </tr>\n    <tr>\n      <th>33</th>\n      <td>-1.281519</td>\n      <td>-1.044588</td>\n      <td>0.059223</td>\n      <td>-1.056519</td>\n    </tr>\n    <tr>\n      <th>34</th>\n      <td>-0.220746</td>\n      <td>0.022464</td>\n      <td>-0.228413</td>\n      <td>-0.013389</td>\n    </tr>\n    <tr>\n      <th>35</th>\n      <td>1.305207</td>\n      <td>1.442626</td>\n      <td>-0.801965</td>\n      <td>1.458203</td>\n    </tr>\n    <tr>\n      <th>36</th>\n      <td>0.982483</td>\n      <td>1.581015</td>\n      <td>0.175132</td>\n      <td>1.570601</td>\n    </tr>\n  </tbody>\n</table>\n</div>"
     },
     "metadata": {},
     "execution_count": 17
    }
   ],
   "source": [
    "X"
   ]
  },
  {
   "cell_type": "code",
   "execution_count": 18,
   "metadata": {},
   "outputs": [],
   "source": [
    "# Split data into training and testing sets\n",
    "X_train,X_test,y_train,y_test = train_test_split(X, binned_load_per_capita,random_state=1)"
   ]
  },
  {
   "cell_type": "code",
   "execution_count": 19,
   "metadata": {},
   "outputs": [],
   "source": [
    "#RANDOM FORREST CLASSIFIER MODEL BEGINS\n",
    "rf = RandomForestClassifier(random_state=1)"
   ]
  },
  {
   "cell_type": "code",
   "execution_count": 20,
   "metadata": {},
   "outputs": [
    {
     "output_type": "execute_result",
     "data": {
      "text/plain": [
       "RandomForestClassifier(random_state=1)"
      ]
     },
     "metadata": {},
     "execution_count": 20
    }
   ],
   "source": [
    "rf.fit(X_train, y_train)"
   ]
  },
  {
   "cell_type": "code",
   "execution_count": 21,
   "metadata": {},
   "outputs": [],
   "source": [
    "model_to_javascript = m2c.export_to_javascript(rf)"
   ]
  },
  {
   "cell_type": "code",
   "execution_count": 22,
   "metadata": {},
   "outputs": [],
   "source": [
    "with open(\"./model.js\", \"w\") as f: \n",
    "    f.write(model_to_javascript)"
   ]
  },
  {
   "cell_type": "code",
   "execution_count": 23,
   "metadata": {},
   "outputs": [
    {
     "output_type": "stream",
     "name": "stdout",
     "text": [
      "30    0\n17    1\n28    0\n34    1\n31    0\n26    1\n4     1\n14    0\n10    0\n33    1\n23    1\n32    1\n20    2\n18    0\n6     0\n13    0\n7     0\n36    1\n1     0\n16    0\n0     0\n15    0\n5     0\n11    2\n9     1\n8     1\n12    0\ndtype: int64\n"
     ]
    }
   ],
   "source": [
    "print(y_train)"
   ]
  },
  {
   "cell_type": "code",
   "execution_count": 24,
   "metadata": {},
   "outputs": [
    {
     "output_type": "execute_result",
     "data": {
      "text/plain": [
       "           0         1         2         3\n",
       "2  -1.315476 -0.944613  1.471007 -0.760363\n",
       "29 -0.836971 -0.516479 -0.651696 -0.445525\n",
       "3  -0.300767 -0.274505 -0.654474 -0.260696\n",
       "22  1.427911  0.613282 -0.909613  0.565754\n",
       "25 -0.430776 -0.696893  0.275689 -0.748419\n",
       "27  0.685261  0.756102  0.744042  0.640941\n",
       "21  1.690026  1.666051 -1.202914  1.812855\n",
       "35  1.305207  1.442626 -0.801965  1.458203\n",
       "19 -1.293559 -1.245357  1.297966 -1.261102\n",
       "24  0.063963  0.039208  2.345976  0.058277"
      ],
      "text/html": "<div>\n<style scoped>\n    .dataframe tbody tr th:only-of-type {\n        vertical-align: middle;\n    }\n\n    .dataframe tbody tr th {\n        vertical-align: top;\n    }\n\n    .dataframe thead th {\n        text-align: right;\n    }\n</style>\n<table border=\"1\" class=\"dataframe\">\n  <thead>\n    <tr style=\"text-align: right;\">\n      <th></th>\n      <th>0</th>\n      <th>1</th>\n      <th>2</th>\n      <th>3</th>\n    </tr>\n  </thead>\n  <tbody>\n    <tr>\n      <th>2</th>\n      <td>-1.315476</td>\n      <td>-0.944613</td>\n      <td>1.471007</td>\n      <td>-0.760363</td>\n    </tr>\n    <tr>\n      <th>29</th>\n      <td>-0.836971</td>\n      <td>-0.516479</td>\n      <td>-0.651696</td>\n      <td>-0.445525</td>\n    </tr>\n    <tr>\n      <th>3</th>\n      <td>-0.300767</td>\n      <td>-0.274505</td>\n      <td>-0.654474</td>\n      <td>-0.260696</td>\n    </tr>\n    <tr>\n      <th>22</th>\n      <td>1.427911</td>\n      <td>0.613282</td>\n      <td>-0.909613</td>\n      <td>0.565754</td>\n    </tr>\n    <tr>\n      <th>25</th>\n      <td>-0.430776</td>\n      <td>-0.696893</td>\n      <td>0.275689</td>\n      <td>-0.748419</td>\n    </tr>\n    <tr>\n      <th>27</th>\n      <td>0.685261</td>\n      <td>0.756102</td>\n      <td>0.744042</td>\n      <td>0.640941</td>\n    </tr>\n    <tr>\n      <th>21</th>\n      <td>1.690026</td>\n      <td>1.666051</td>\n      <td>-1.202914</td>\n      <td>1.812855</td>\n    </tr>\n    <tr>\n      <th>35</th>\n      <td>1.305207</td>\n      <td>1.442626</td>\n      <td>-0.801965</td>\n      <td>1.458203</td>\n    </tr>\n    <tr>\n      <th>19</th>\n      <td>-1.293559</td>\n      <td>-1.245357</td>\n      <td>1.297966</td>\n      <td>-1.261102</td>\n    </tr>\n    <tr>\n      <th>24</th>\n      <td>0.063963</td>\n      <td>0.039208</td>\n      <td>2.345976</td>\n      <td>0.058277</td>\n    </tr>\n  </tbody>\n</table>\n</div>"
     },
     "metadata": {},
     "execution_count": 24
    }
   ],
   "source": [
    "X_test"
   ]
  },
  {
   "cell_type": "code",
   "execution_count": 25,
   "metadata": {},
   "outputs": [],
   "source": [
    "y_pred = rf.predict(X_test)"
   ]
  },
  {
   "cell_type": "code",
   "execution_count": 26,
   "metadata": {},
   "outputs": [
    {
     "output_type": "stream",
     "name": "stdout",
     "text": [
      "[1 0 0 0 0 1 0 0 1 1]\n"
     ]
    }
   ],
   "source": [
    "print(y_pred)"
   ]
  },
  {
   "cell_type": "code",
   "execution_count": 27,
   "metadata": {},
   "outputs": [],
   "source": [
    "score = accuracy_score(y_test, y_pred)"
   ]
  },
  {
   "cell_type": "code",
   "execution_count": 28,
   "metadata": {},
   "outputs": [
    {
     "output_type": "stream",
     "name": "stdout",
     "text": [
      "0.4\n"
     ]
    }
   ],
   "source": [
    "print(score)"
   ]
  },
  {
   "cell_type": "code",
   "execution_count": 29,
   "metadata": {},
   "outputs": [
    {
     "output_type": "stream",
     "name": "stdout",
     "text": [
      "2     0\n29    0\n3     1\n22    1\n25    1\n27    1\n21    0\n35    0\n19    0\n24    0\ndtype: int64\n"
     ]
    }
   ],
   "source": [
    "print(y_test)"
   ]
  },
  {
   "cell_type": "code",
   "execution_count": 30,
   "metadata": {},
   "outputs": [
    {
     "output_type": "execute_result",
     "data": {
      "text/plain": [
       "           0         1         2         3\n",
       "2  -1.315476 -0.944613  1.471007 -0.760363\n",
       "29 -0.836971 -0.516479 -0.651696 -0.445525\n",
       "3  -0.300767 -0.274505 -0.654474 -0.260696\n",
       "22  1.427911  0.613282 -0.909613  0.565754\n",
       "25 -0.430776 -0.696893  0.275689 -0.748419\n",
       "27  0.685261  0.756102  0.744042  0.640941\n",
       "21  1.690026  1.666051 -1.202914  1.812855\n",
       "35  1.305207  1.442626 -0.801965  1.458203\n",
       "19 -1.293559 -1.245357  1.297966 -1.261102\n",
       "24  0.063963  0.039208  2.345976  0.058277"
      ],
      "text/html": "<div>\n<style scoped>\n    .dataframe tbody tr th:only-of-type {\n        vertical-align: middle;\n    }\n\n    .dataframe tbody tr th {\n        vertical-align: top;\n    }\n\n    .dataframe thead th {\n        text-align: right;\n    }\n</style>\n<table border=\"1\" class=\"dataframe\">\n  <thead>\n    <tr style=\"text-align: right;\">\n      <th></th>\n      <th>0</th>\n      <th>1</th>\n      <th>2</th>\n      <th>3</th>\n    </tr>\n  </thead>\n  <tbody>\n    <tr>\n      <th>2</th>\n      <td>-1.315476</td>\n      <td>-0.944613</td>\n      <td>1.471007</td>\n      <td>-0.760363</td>\n    </tr>\n    <tr>\n      <th>29</th>\n      <td>-0.836971</td>\n      <td>-0.516479</td>\n      <td>-0.651696</td>\n      <td>-0.445525</td>\n    </tr>\n    <tr>\n      <th>3</th>\n      <td>-0.300767</td>\n      <td>-0.274505</td>\n      <td>-0.654474</td>\n      <td>-0.260696</td>\n    </tr>\n    <tr>\n      <th>22</th>\n      <td>1.427911</td>\n      <td>0.613282</td>\n      <td>-0.909613</td>\n      <td>0.565754</td>\n    </tr>\n    <tr>\n      <th>25</th>\n      <td>-0.430776</td>\n      <td>-0.696893</td>\n      <td>0.275689</td>\n      <td>-0.748419</td>\n    </tr>\n    <tr>\n      <th>27</th>\n      <td>0.685261</td>\n      <td>0.756102</td>\n      <td>0.744042</td>\n      <td>0.640941</td>\n    </tr>\n    <tr>\n      <th>21</th>\n      <td>1.690026</td>\n      <td>1.666051</td>\n      <td>-1.202914</td>\n      <td>1.812855</td>\n    </tr>\n    <tr>\n      <th>35</th>\n      <td>1.305207</td>\n      <td>1.442626</td>\n      <td>-0.801965</td>\n      <td>1.458203</td>\n    </tr>\n    <tr>\n      <th>19</th>\n      <td>-1.293559</td>\n      <td>-1.245357</td>\n      <td>1.297966</td>\n      <td>-1.261102</td>\n    </tr>\n    <tr>\n      <th>24</th>\n      <td>0.063963</td>\n      <td>0.039208</td>\n      <td>2.345976</td>\n      <td>0.058277</td>\n    </tr>\n  </tbody>\n</table>\n</div>"
     },
     "metadata": {},
     "execution_count": 30
    }
   ],
   "source": [
    "X_test"
   ]
  },
  {
   "cell_type": "code",
   "execution_count": 31,
   "metadata": {},
   "outputs": [],
   "source": [
    "all_pred = rf.predict(X)"
   ]
  },
  {
   "cell_type": "code",
   "execution_count": 32,
   "metadata": {},
   "outputs": [
    {
     "output_type": "execute_result",
     "data": {
      "text/plain": [
       "      ZIP  load_weight  TOTAL_POPULATION  TOTAL_HOUSEHOLDS  \\\n",
       "0   78617    1325600.0           27900.0            6520.0   \n",
       "1   78653     825420.0           20822.0            6332.0   \n",
       "2   78701     458460.0            7875.0            4855.0   \n",
       "3   78702    3741320.0           22876.0            8937.0   \n",
       "4   78703    3671428.0           20788.0            9723.0   \n",
       "5   78704    5156220.0           47158.0           23213.0   \n",
       "6   78705    1606560.0           33075.0            8370.0   \n",
       "7   78721    1374760.0           12447.0            4197.0   \n",
       "8   78722    1471280.0            7254.0            3111.0   \n",
       "9   78723    5984646.0           33170.0           12518.0   \n",
       "10  78724    1139940.0           24833.0            6360.0   \n",
       "11  78725    2732580.0            7517.0            2544.0   \n",
       "12  78726    1595480.0           14610.0            5554.0   \n",
       "13  78727    2422020.0           28999.0           12937.0   \n",
       "14  78728     711120.0           21245.0           10029.0   \n",
       "15  78729    2337494.0           29434.0           12622.0   \n",
       "16  78730     693680.0            8933.0            3678.0   \n",
       "17  78731    4038480.0           27447.0           12556.0   \n",
       "18  78735    2042200.0           17919.0            7193.0   \n",
       "19  78736     702800.0            8199.0            3023.0   \n",
       "20  78739    6391660.0           20191.0            6367.0   \n",
       "21  78741    2626560.0           52307.0           20758.0   \n",
       "22  78744    7868620.0           48432.0           14345.0   \n",
       "23  78745   11083500.0           62220.0           25857.0   \n",
       "24  78746    2022960.0           28268.0           10848.0   \n",
       "25  78747    4296600.0           20954.0            6364.0   \n",
       "26  78748    8731680.0           49142.0           18820.0   \n",
       "27  78749    7500640.0           37453.0           15215.0   \n",
       "28  78750    3092740.0           30758.0           11713.0   \n",
       "29  78751    1865020.0           14949.0            7463.0   \n",
       "30  78752    2448520.0           20302.0            7932.0   \n",
       "31  78753    5082710.0           58693.0           19947.0   \n",
       "32  78754    4322388.0           23858.0            8009.0   \n",
       "33  78756    1311900.0            8377.0            4246.0   \n",
       "34  78757    4196720.0           24059.0           10746.0   \n",
       "35  78758    6322950.0           46618.0           19397.0   \n",
       "36  78759    6804600.0           41847.0           20240.0   \n",
       "\n",
       "    MEDIAN_HOUSEHOLD_INCOME  MEAN_HOUSEHOLD_INCOME  TOTAL_HOUSING_UNITS  \\\n",
       "0                   52819.0                69936.0               7244.0   \n",
       "1                   66752.0                75678.0               6891.0   \n",
       "2                  112201.0               173289.0               6576.0   \n",
       "3                   54053.0                73919.0               9839.0   \n",
       "4                   98553.0               166396.0              11047.0   \n",
       "5                   66262.0                91223.0              25815.0   \n",
       "6                   15309.0                41357.0              10336.0   \n",
       "7                   41611.0                52873.0               4632.0   \n",
       "8                   69267.0                95443.0               3415.0   \n",
       "9                   49606.0                71897.0              13777.0   \n",
       "10                  45158.0                55252.0               6754.0   \n",
       "11                  62172.0                66225.0               2598.0   \n",
       "12                  88322.0               122559.0               5998.0   \n",
       "13                  74458.0                88800.0              14029.0   \n",
       "14                  55603.0                71409.0              10626.0   \n",
       "15                  73047.0                86587.0              13636.0   \n",
       "16                 108750.0               183174.0               4019.0   \n",
       "17                  89099.0               140009.0              13476.0   \n",
       "18                 102551.0               155092.0               8176.0   \n",
       "19                 107467.0               134565.0               3306.0   \n",
       "20                 147736.0               175189.0               6460.0   \n",
       "21                  39049.0                49856.0              23380.0   \n",
       "22                  47073.0                56407.0              15236.0   \n",
       "23                  60567.0                72944.0              27367.0   \n",
       "24                 136138.0               217305.0              11922.0   \n",
       "25                  79500.0                84070.0               6654.0   \n",
       "26                  74176.0                86175.0              19577.0   \n",
       "27                  92313.0               107483.0              15727.0   \n",
       "28                  81061.0               119690.0              12472.0   \n",
       "29                  54129.0                79620.0               8632.0   \n",
       "30                  41486.0                58935.0               8720.0   \n",
       "31                  45983.0                61853.0              21287.0   \n",
       "32                  64114.0                84433.0               8451.0   \n",
       "33                  73578.0               107864.0               4642.0   \n",
       "34                  65709.0                93055.0              11454.0   \n",
       "35                  50018.0                62838.0              21064.0   \n",
       "36                  76749.0               104404.0              21798.0   \n",
       "\n",
       "    POPULATION_PER_UNIT  LOAD_PER_CAPITA  \n",
       "0              3.851463        47.512545  \n",
       "1              3.021622        39.641725  \n",
       "2              1.197536        58.217143  \n",
       "3              2.325033       163.547823  \n",
       "4              1.881778       176.612854  \n",
       "5              1.826767       109.339243  \n",
       "6              3.199981        48.573243  \n",
       "7              2.687176       110.449104  \n",
       "8              2.124158       202.823270  \n",
       "9              2.407636       180.423455  \n",
       "10             3.676784        45.904240  \n",
       "11             2.893380       363.520021  \n",
       "12             2.435812       109.204654  \n",
       "13             2.067075        83.520811  \n",
       "14             1.999341        33.472346  \n",
       "15             2.158551        79.414758  \n",
       "16             2.222692        77.653644  \n",
       "17             2.036732       147.137392  \n",
       "18             2.191659       113.968413  \n",
       "19             2.480036        85.717770  \n",
       "20             3.125542       316.559853  \n",
       "21             2.237254        50.214312  \n",
       "22             3.178787       162.467377  \n",
       "23             2.273541       178.134041  \n",
       "24             2.371079        71.563605  \n",
       "25             3.149083       205.049155  \n",
       "26             2.510191       177.682634  \n",
       "27             2.381446       200.268069  \n",
       "28             2.466164       100.550751  \n",
       "29             1.731812       124.758847  \n",
       "30             2.328211       120.604867  \n",
       "31             2.757223        86.598231  \n",
       "32             2.823098       181.171431  \n",
       "33             1.804610       156.607377  \n",
       "34             2.100489       174.434515  \n",
       "35             2.213160       135.633232  \n",
       "36             1.919763       162.606638  "
      ],
      "text/html": "<div>\n<style scoped>\n    .dataframe tbody tr th:only-of-type {\n        vertical-align: middle;\n    }\n\n    .dataframe tbody tr th {\n        vertical-align: top;\n    }\n\n    .dataframe thead th {\n        text-align: right;\n    }\n</style>\n<table border=\"1\" class=\"dataframe\">\n  <thead>\n    <tr style=\"text-align: right;\">\n      <th></th>\n      <th>ZIP</th>\n      <th>load_weight</th>\n      <th>TOTAL_POPULATION</th>\n      <th>TOTAL_HOUSEHOLDS</th>\n      <th>MEDIAN_HOUSEHOLD_INCOME</th>\n      <th>MEAN_HOUSEHOLD_INCOME</th>\n      <th>TOTAL_HOUSING_UNITS</th>\n      <th>POPULATION_PER_UNIT</th>\n      <th>LOAD_PER_CAPITA</th>\n    </tr>\n  </thead>\n  <tbody>\n    <tr>\n      <th>0</th>\n      <td>78617</td>\n      <td>1325600.0</td>\n      <td>27900.0</td>\n      <td>6520.0</td>\n      <td>52819.0</td>\n      <td>69936.0</td>\n      <td>7244.0</td>\n      <td>3.851463</td>\n      <td>47.512545</td>\n    </tr>\n    <tr>\n      <th>1</th>\n      <td>78653</td>\n      <td>825420.0</td>\n      <td>20822.0</td>\n      <td>6332.0</td>\n      <td>66752.0</td>\n      <td>75678.0</td>\n      <td>6891.0</td>\n      <td>3.021622</td>\n      <td>39.641725</td>\n    </tr>\n    <tr>\n      <th>2</th>\n      <td>78701</td>\n      <td>458460.0</td>\n      <td>7875.0</td>\n      <td>4855.0</td>\n      <td>112201.0</td>\n      <td>173289.0</td>\n      <td>6576.0</td>\n      <td>1.197536</td>\n      <td>58.217143</td>\n    </tr>\n    <tr>\n      <th>3</th>\n      <td>78702</td>\n      <td>3741320.0</td>\n      <td>22876.0</td>\n      <td>8937.0</td>\n      <td>54053.0</td>\n      <td>73919.0</td>\n      <td>9839.0</td>\n      <td>2.325033</td>\n      <td>163.547823</td>\n    </tr>\n    <tr>\n      <th>4</th>\n      <td>78703</td>\n      <td>3671428.0</td>\n      <td>20788.0</td>\n      <td>9723.0</td>\n      <td>98553.0</td>\n      <td>166396.0</td>\n      <td>11047.0</td>\n      <td>1.881778</td>\n      <td>176.612854</td>\n    </tr>\n    <tr>\n      <th>5</th>\n      <td>78704</td>\n      <td>5156220.0</td>\n      <td>47158.0</td>\n      <td>23213.0</td>\n      <td>66262.0</td>\n      <td>91223.0</td>\n      <td>25815.0</td>\n      <td>1.826767</td>\n      <td>109.339243</td>\n    </tr>\n    <tr>\n      <th>6</th>\n      <td>78705</td>\n      <td>1606560.0</td>\n      <td>33075.0</td>\n      <td>8370.0</td>\n      <td>15309.0</td>\n      <td>41357.0</td>\n      <td>10336.0</td>\n      <td>3.199981</td>\n      <td>48.573243</td>\n    </tr>\n    <tr>\n      <th>7</th>\n      <td>78721</td>\n      <td>1374760.0</td>\n      <td>12447.0</td>\n      <td>4197.0</td>\n      <td>41611.0</td>\n      <td>52873.0</td>\n      <td>4632.0</td>\n      <td>2.687176</td>\n      <td>110.449104</td>\n    </tr>\n    <tr>\n      <th>8</th>\n      <td>78722</td>\n      <td>1471280.0</td>\n      <td>7254.0</td>\n      <td>3111.0</td>\n      <td>69267.0</td>\n      <td>95443.0</td>\n      <td>3415.0</td>\n      <td>2.124158</td>\n      <td>202.823270</td>\n    </tr>\n    <tr>\n      <th>9</th>\n      <td>78723</td>\n      <td>5984646.0</td>\n      <td>33170.0</td>\n      <td>12518.0</td>\n      <td>49606.0</td>\n      <td>71897.0</td>\n      <td>13777.0</td>\n      <td>2.407636</td>\n      <td>180.423455</td>\n    </tr>\n    <tr>\n      <th>10</th>\n      <td>78724</td>\n      <td>1139940.0</td>\n      <td>24833.0</td>\n      <td>6360.0</td>\n      <td>45158.0</td>\n      <td>55252.0</td>\n      <td>6754.0</td>\n      <td>3.676784</td>\n      <td>45.904240</td>\n    </tr>\n    <tr>\n      <th>11</th>\n      <td>78725</td>\n      <td>2732580.0</td>\n      <td>7517.0</td>\n      <td>2544.0</td>\n      <td>62172.0</td>\n      <td>66225.0</td>\n      <td>2598.0</td>\n      <td>2.893380</td>\n      <td>363.520021</td>\n    </tr>\n    <tr>\n      <th>12</th>\n      <td>78726</td>\n      <td>1595480.0</td>\n      <td>14610.0</td>\n      <td>5554.0</td>\n      <td>88322.0</td>\n      <td>122559.0</td>\n      <td>5998.0</td>\n      <td>2.435812</td>\n      <td>109.204654</td>\n    </tr>\n    <tr>\n      <th>13</th>\n      <td>78727</td>\n      <td>2422020.0</td>\n      <td>28999.0</td>\n      <td>12937.0</td>\n      <td>74458.0</td>\n      <td>88800.0</td>\n      <td>14029.0</td>\n      <td>2.067075</td>\n      <td>83.520811</td>\n    </tr>\n    <tr>\n      <th>14</th>\n      <td>78728</td>\n      <td>711120.0</td>\n      <td>21245.0</td>\n      <td>10029.0</td>\n      <td>55603.0</td>\n      <td>71409.0</td>\n      <td>10626.0</td>\n      <td>1.999341</td>\n      <td>33.472346</td>\n    </tr>\n    <tr>\n      <th>15</th>\n      <td>78729</td>\n      <td>2337494.0</td>\n      <td>29434.0</td>\n      <td>12622.0</td>\n      <td>73047.0</td>\n      <td>86587.0</td>\n      <td>13636.0</td>\n      <td>2.158551</td>\n      <td>79.414758</td>\n    </tr>\n    <tr>\n      <th>16</th>\n      <td>78730</td>\n      <td>693680.0</td>\n      <td>8933.0</td>\n      <td>3678.0</td>\n      <td>108750.0</td>\n      <td>183174.0</td>\n      <td>4019.0</td>\n      <td>2.222692</td>\n      <td>77.653644</td>\n    </tr>\n    <tr>\n      <th>17</th>\n      <td>78731</td>\n      <td>4038480.0</td>\n      <td>27447.0</td>\n      <td>12556.0</td>\n      <td>89099.0</td>\n      <td>140009.0</td>\n      <td>13476.0</td>\n      <td>2.036732</td>\n      <td>147.137392</td>\n    </tr>\n    <tr>\n      <th>18</th>\n      <td>78735</td>\n      <td>2042200.0</td>\n      <td>17919.0</td>\n      <td>7193.0</td>\n      <td>102551.0</td>\n      <td>155092.0</td>\n      <td>8176.0</td>\n      <td>2.191659</td>\n      <td>113.968413</td>\n    </tr>\n    <tr>\n      <th>19</th>\n      <td>78736</td>\n      <td>702800.0</td>\n      <td>8199.0</td>\n      <td>3023.0</td>\n      <td>107467.0</td>\n      <td>134565.0</td>\n      <td>3306.0</td>\n      <td>2.480036</td>\n      <td>85.717770</td>\n    </tr>\n    <tr>\n      <th>20</th>\n      <td>78739</td>\n      <td>6391660.0</td>\n      <td>20191.0</td>\n      <td>6367.0</td>\n      <td>147736.0</td>\n      <td>175189.0</td>\n      <td>6460.0</td>\n      <td>3.125542</td>\n      <td>316.559853</td>\n    </tr>\n    <tr>\n      <th>21</th>\n      <td>78741</td>\n      <td>2626560.0</td>\n      <td>52307.0</td>\n      <td>20758.0</td>\n      <td>39049.0</td>\n      <td>49856.0</td>\n      <td>23380.0</td>\n      <td>2.237254</td>\n      <td>50.214312</td>\n    </tr>\n    <tr>\n      <th>22</th>\n      <td>78744</td>\n      <td>7868620.0</td>\n      <td>48432.0</td>\n      <td>14345.0</td>\n      <td>47073.0</td>\n      <td>56407.0</td>\n      <td>15236.0</td>\n      <td>3.178787</td>\n      <td>162.467377</td>\n    </tr>\n    <tr>\n      <th>23</th>\n      <td>78745</td>\n      <td>11083500.0</td>\n      <td>62220.0</td>\n      <td>25857.0</td>\n      <td>60567.0</td>\n      <td>72944.0</td>\n      <td>27367.0</td>\n      <td>2.273541</td>\n      <td>178.134041</td>\n    </tr>\n    <tr>\n      <th>24</th>\n      <td>78746</td>\n      <td>2022960.0</td>\n      <td>28268.0</td>\n      <td>10848.0</td>\n      <td>136138.0</td>\n      <td>217305.0</td>\n      <td>11922.0</td>\n      <td>2.371079</td>\n      <td>71.563605</td>\n    </tr>\n    <tr>\n      <th>25</th>\n      <td>78747</td>\n      <td>4296600.0</td>\n      <td>20954.0</td>\n      <td>6364.0</td>\n      <td>79500.0</td>\n      <td>84070.0</td>\n      <td>6654.0</td>\n      <td>3.149083</td>\n      <td>205.049155</td>\n    </tr>\n    <tr>\n      <th>26</th>\n      <td>78748</td>\n      <td>8731680.0</td>\n      <td>49142.0</td>\n      <td>18820.0</td>\n      <td>74176.0</td>\n      <td>86175.0</td>\n      <td>19577.0</td>\n      <td>2.510191</td>\n      <td>177.682634</td>\n    </tr>\n    <tr>\n      <th>27</th>\n      <td>78749</td>\n      <td>7500640.0</td>\n      <td>37453.0</td>\n      <td>15215.0</td>\n      <td>92313.0</td>\n      <td>107483.0</td>\n      <td>15727.0</td>\n      <td>2.381446</td>\n      <td>200.268069</td>\n    </tr>\n    <tr>\n      <th>28</th>\n      <td>78750</td>\n      <td>3092740.0</td>\n      <td>30758.0</td>\n      <td>11713.0</td>\n      <td>81061.0</td>\n      <td>119690.0</td>\n      <td>12472.0</td>\n      <td>2.466164</td>\n      <td>100.550751</td>\n    </tr>\n    <tr>\n      <th>29</th>\n      <td>78751</td>\n      <td>1865020.0</td>\n      <td>14949.0</td>\n      <td>7463.0</td>\n      <td>54129.0</td>\n      <td>79620.0</td>\n      <td>8632.0</td>\n      <td>1.731812</td>\n      <td>124.758847</td>\n    </tr>\n    <tr>\n      <th>30</th>\n      <td>78752</td>\n      <td>2448520.0</td>\n      <td>20302.0</td>\n      <td>7932.0</td>\n      <td>41486.0</td>\n      <td>58935.0</td>\n      <td>8720.0</td>\n      <td>2.328211</td>\n      <td>120.604867</td>\n    </tr>\n    <tr>\n      <th>31</th>\n      <td>78753</td>\n      <td>5082710.0</td>\n      <td>58693.0</td>\n      <td>19947.0</td>\n      <td>45983.0</td>\n      <td>61853.0</td>\n      <td>21287.0</td>\n      <td>2.757223</td>\n      <td>86.598231</td>\n    </tr>\n    <tr>\n      <th>32</th>\n      <td>78754</td>\n      <td>4322388.0</td>\n      <td>23858.0</td>\n      <td>8009.0</td>\n      <td>64114.0</td>\n      <td>84433.0</td>\n      <td>8451.0</td>\n      <td>2.823098</td>\n      <td>181.171431</td>\n    </tr>\n    <tr>\n      <th>33</th>\n      <td>78756</td>\n      <td>1311900.0</td>\n      <td>8377.0</td>\n      <td>4246.0</td>\n      <td>73578.0</td>\n      <td>107864.0</td>\n      <td>4642.0</td>\n      <td>1.804610</td>\n      <td>156.607377</td>\n    </tr>\n    <tr>\n      <th>34</th>\n      <td>78757</td>\n      <td>4196720.0</td>\n      <td>24059.0</td>\n      <td>10746.0</td>\n      <td>65709.0</td>\n      <td>93055.0</td>\n      <td>11454.0</td>\n      <td>2.100489</td>\n      <td>174.434515</td>\n    </tr>\n    <tr>\n      <th>35</th>\n      <td>78758</td>\n      <td>6322950.0</td>\n      <td>46618.0</td>\n      <td>19397.0</td>\n      <td>50018.0</td>\n      <td>62838.0</td>\n      <td>21064.0</td>\n      <td>2.213160</td>\n      <td>135.633232</td>\n    </tr>\n    <tr>\n      <th>36</th>\n      <td>78759</td>\n      <td>6804600.0</td>\n      <td>41847.0</td>\n      <td>20240.0</td>\n      <td>76749.0</td>\n      <td>104404.0</td>\n      <td>21798.0</td>\n      <td>1.919763</td>\n      <td>162.606638</td>\n    </tr>\n  </tbody>\n</table>\n</div>"
     },
     "metadata": {},
     "execution_count": 32
    }
   ],
   "source": [
    "joined_zips_grb_df"
   ]
  },
  {
   "cell_type": "code",
   "execution_count": 33,
   "metadata": {
    "tags": []
   },
   "outputs": [
    {
     "output_type": "stream",
     "name": "stdout",
     "text": [
      "47.51254480286738\n",
      "39.641725098453556\n",
      "58.21714285714286\n",
      "163.54782304598706\n",
      "176.61285356936693\n",
      "109.33924254633361\n",
      "48.57324263038549\n",
      "110.4491042018157\n",
      "202.8232699200441\n",
      "180.42345492915285\n",
      "45.90424032537349\n",
      "363.5200212850871\n",
      "109.20465434633813\n",
      "83.52081106245043\n",
      "33.47234643445517\n",
      "79.41475844261738\n",
      "77.65364379267884\n",
      "147.13739206470652\n",
      "113.96841341592723\n",
      "85.71777045981217\n",
      "316.55985340002974\n",
      "50.21431166000726\n",
      "162.46737694086553\n",
      "178.1340405014465\n",
      "71.56360549030705\n",
      "205.04915529254558\n",
      "177.6826339994302\n",
      "200.26806931353963\n",
      "100.55075102412381\n",
      "124.75884674560172\n",
      "120.60486651561422\n",
      "86.59823147564445\n",
      "181.1714309665521\n",
      "156.60737734272413\n",
      "174.43451515025563\n",
      "135.63323179887598\n",
      "162.60663846870744\n"
     ]
    }
   ],
   "source": [
    "joined_zips_grb_df[\"PREDICTED_BIN\"] = all_pred\n",
    "#all_zips_df[\"PREDICTED_BIN\"] = all_pred\n",
    "#print(len(all_zips_df))\n",
    "joined_zips_grb_df[\"ACTUAL_BIN\"] = [float(\"nan\")]*len(joined_zips_grb_df)\n",
    "#all_zips_df[\"ACTUAL_BIN\"] = [float(\"nan\")]*len(all_zips_df)\n",
    "joined_zips_grb_df[\"FINAL_OUTPUT\"] = all_pred\n",
    "#all_zips_df[\"FINAL_OUTPUT\"] = all_pred\n",
    "bin_names = {0: \"LOW\", 1: \"MEDIUM\", 2: \"HIGH\"}\n",
    "#bin_names = {0: \"LOW\", 1: \"MEDIUM\", 2: \"HIGH\"}\n",
    "len(binned_load_per_capita)\n",
    "#print(binned_load_per_capita)\n",
    "# Index tracking non Nan rows because binned_load_per_capita removes them from indexing\n",
    "my_index = 0\n",
    "for index,row in joined_zips_grb_df.iterrows():\n",
    "    if pd.notnull(row[\"LOAD_PER_CAPITA\"]):\n",
    "        print(row[\"LOAD_PER_CAPITA\"])\n",
    "        # Goes to column 10 and assigns bin number\n",
    "        joined_zips_grb_df.iloc[[index],[10]] = binned_load_per_capita[my_index]\n",
    "\n",
    "        joined_zips_grb_df.iloc[[index],[11]] = bin_names[binned_load_per_capita[my_index]]\n",
    "        my_index += 1\n",
    "    else:\n",
    "        joined_zips_grb_df.iloc[[index],[11]] = bin_names[all_pred[index]]\n",
    "        print(\"NA\")"
   ]
  },
  {
   "cell_type": "code",
   "execution_count": 34,
   "metadata": {},
   "outputs": [
    {
     "output_type": "execute_result",
     "data": {
      "text/plain": [
       "      ZIP  load_weight  TOTAL_POPULATION  TOTAL_HOUSEHOLDS  \\\n",
       "0   78617    1325600.0           27900.0            6520.0   \n",
       "1   78653     825420.0           20822.0            6332.0   \n",
       "2   78701     458460.0            7875.0            4855.0   \n",
       "3   78702    3741320.0           22876.0            8937.0   \n",
       "4   78703    3671428.0           20788.0            9723.0   \n",
       "5   78704    5156220.0           47158.0           23213.0   \n",
       "6   78705    1606560.0           33075.0            8370.0   \n",
       "7   78721    1374760.0           12447.0            4197.0   \n",
       "8   78722    1471280.0            7254.0            3111.0   \n",
       "9   78723    5984646.0           33170.0           12518.0   \n",
       "10  78724    1139940.0           24833.0            6360.0   \n",
       "11  78725    2732580.0            7517.0            2544.0   \n",
       "12  78726    1595480.0           14610.0            5554.0   \n",
       "13  78727    2422020.0           28999.0           12937.0   \n",
       "14  78728     711120.0           21245.0           10029.0   \n",
       "15  78729    2337494.0           29434.0           12622.0   \n",
       "16  78730     693680.0            8933.0            3678.0   \n",
       "17  78731    4038480.0           27447.0           12556.0   \n",
       "18  78735    2042200.0           17919.0            7193.0   \n",
       "19  78736     702800.0            8199.0            3023.0   \n",
       "20  78739    6391660.0           20191.0            6367.0   \n",
       "21  78741    2626560.0           52307.0           20758.0   \n",
       "22  78744    7868620.0           48432.0           14345.0   \n",
       "23  78745   11083500.0           62220.0           25857.0   \n",
       "24  78746    2022960.0           28268.0           10848.0   \n",
       "25  78747    4296600.0           20954.0            6364.0   \n",
       "26  78748    8731680.0           49142.0           18820.0   \n",
       "27  78749    7500640.0           37453.0           15215.0   \n",
       "28  78750    3092740.0           30758.0           11713.0   \n",
       "29  78751    1865020.0           14949.0            7463.0   \n",
       "30  78752    2448520.0           20302.0            7932.0   \n",
       "31  78753    5082710.0           58693.0           19947.0   \n",
       "32  78754    4322388.0           23858.0            8009.0   \n",
       "33  78756    1311900.0            8377.0            4246.0   \n",
       "34  78757    4196720.0           24059.0           10746.0   \n",
       "35  78758    6322950.0           46618.0           19397.0   \n",
       "36  78759    6804600.0           41847.0           20240.0   \n",
       "\n",
       "    MEDIAN_HOUSEHOLD_INCOME  MEAN_HOUSEHOLD_INCOME  TOTAL_HOUSING_UNITS  \\\n",
       "0                   52819.0                69936.0               7244.0   \n",
       "1                   66752.0                75678.0               6891.0   \n",
       "2                  112201.0               173289.0               6576.0   \n",
       "3                   54053.0                73919.0               9839.0   \n",
       "4                   98553.0               166396.0              11047.0   \n",
       "5                   66262.0                91223.0              25815.0   \n",
       "6                   15309.0                41357.0              10336.0   \n",
       "7                   41611.0                52873.0               4632.0   \n",
       "8                   69267.0                95443.0               3415.0   \n",
       "9                   49606.0                71897.0              13777.0   \n",
       "10                  45158.0                55252.0               6754.0   \n",
       "11                  62172.0                66225.0               2598.0   \n",
       "12                  88322.0               122559.0               5998.0   \n",
       "13                  74458.0                88800.0              14029.0   \n",
       "14                  55603.0                71409.0              10626.0   \n",
       "15                  73047.0                86587.0              13636.0   \n",
       "16                 108750.0               183174.0               4019.0   \n",
       "17                  89099.0               140009.0              13476.0   \n",
       "18                 102551.0               155092.0               8176.0   \n",
       "19                 107467.0               134565.0               3306.0   \n",
       "20                 147736.0               175189.0               6460.0   \n",
       "21                  39049.0                49856.0              23380.0   \n",
       "22                  47073.0                56407.0              15236.0   \n",
       "23                  60567.0                72944.0              27367.0   \n",
       "24                 136138.0               217305.0              11922.0   \n",
       "25                  79500.0                84070.0               6654.0   \n",
       "26                  74176.0                86175.0              19577.0   \n",
       "27                  92313.0               107483.0              15727.0   \n",
       "28                  81061.0               119690.0              12472.0   \n",
       "29                  54129.0                79620.0               8632.0   \n",
       "30                  41486.0                58935.0               8720.0   \n",
       "31                  45983.0                61853.0              21287.0   \n",
       "32                  64114.0                84433.0               8451.0   \n",
       "33                  73578.0               107864.0               4642.0   \n",
       "34                  65709.0                93055.0              11454.0   \n",
       "35                  50018.0                62838.0              21064.0   \n",
       "36                  76749.0               104404.0              21798.0   \n",
       "\n",
       "    POPULATION_PER_UNIT  LOAD_PER_CAPITA  PREDICTED_BIN  ACTUAL_BIN  \\\n",
       "0              3.851463        47.512545              0         0.0   \n",
       "1              3.021622        39.641725              0         0.0   \n",
       "2              1.197536        58.217143              1         0.0   \n",
       "3              2.325033       163.547823              0         1.0   \n",
       "4              1.881778       176.612854              1         1.0   \n",
       "5              1.826767       109.339243              0         0.0   \n",
       "6              3.199981        48.573243              0         0.0   \n",
       "7              2.687176       110.449104              0         0.0   \n",
       "8              2.124158       202.823270              1         1.0   \n",
       "9              2.407636       180.423455              1         1.0   \n",
       "10             3.676784        45.904240              0         0.0   \n",
       "11             2.893380       363.520021              2         2.0   \n",
       "12             2.435812       109.204654              0         0.0   \n",
       "13             2.067075        83.520811              0         0.0   \n",
       "14             1.999341        33.472346              0         0.0   \n",
       "15             2.158551        79.414758              0         0.0   \n",
       "16             2.222692        77.653644              0         0.0   \n",
       "17             2.036732       147.137392              1         1.0   \n",
       "18             2.191659       113.968413              0         0.0   \n",
       "19             2.480036        85.717770              1         0.0   \n",
       "20             3.125542       316.559853              2         2.0   \n",
       "21             2.237254        50.214312              0         0.0   \n",
       "22             3.178787       162.467377              0         1.0   \n",
       "23             2.273541       178.134041              1         1.0   \n",
       "24             2.371079        71.563605              1         0.0   \n",
       "25             3.149083       205.049155              0         1.0   \n",
       "26             2.510191       177.682634              1         1.0   \n",
       "27             2.381446       200.268069              1         1.0   \n",
       "28             2.466164       100.550751              0         0.0   \n",
       "29             1.731812       124.758847              0         0.0   \n",
       "30             2.328211       120.604867              0         0.0   \n",
       "31             2.757223        86.598231              0         0.0   \n",
       "32             2.823098       181.171431              1         1.0   \n",
       "33             1.804610       156.607377              1         1.0   \n",
       "34             2.100489       174.434515              1         1.0   \n",
       "35             2.213160       135.633232              0         0.0   \n",
       "36             1.919763       162.606638              1         1.0   \n",
       "\n",
       "   FINAL_OUTPUT  \n",
       "0           LOW  \n",
       "1           LOW  \n",
       "2           LOW  \n",
       "3        MEDIUM  \n",
       "4        MEDIUM  \n",
       "5           LOW  \n",
       "6           LOW  \n",
       "7           LOW  \n",
       "8        MEDIUM  \n",
       "9        MEDIUM  \n",
       "10          LOW  \n",
       "11         HIGH  \n",
       "12          LOW  \n",
       "13          LOW  \n",
       "14          LOW  \n",
       "15          LOW  \n",
       "16          LOW  \n",
       "17       MEDIUM  \n",
       "18          LOW  \n",
       "19          LOW  \n",
       "20         HIGH  \n",
       "21          LOW  \n",
       "22       MEDIUM  \n",
       "23       MEDIUM  \n",
       "24          LOW  \n",
       "25       MEDIUM  \n",
       "26       MEDIUM  \n",
       "27       MEDIUM  \n",
       "28          LOW  \n",
       "29          LOW  \n",
       "30          LOW  \n",
       "31          LOW  \n",
       "32       MEDIUM  \n",
       "33       MEDIUM  \n",
       "34       MEDIUM  \n",
       "35          LOW  \n",
       "36       MEDIUM  "
      ],
      "text/html": "<div>\n<style scoped>\n    .dataframe tbody tr th:only-of-type {\n        vertical-align: middle;\n    }\n\n    .dataframe tbody tr th {\n        vertical-align: top;\n    }\n\n    .dataframe thead th {\n        text-align: right;\n    }\n</style>\n<table border=\"1\" class=\"dataframe\">\n  <thead>\n    <tr style=\"text-align: right;\">\n      <th></th>\n      <th>ZIP</th>\n      <th>load_weight</th>\n      <th>TOTAL_POPULATION</th>\n      <th>TOTAL_HOUSEHOLDS</th>\n      <th>MEDIAN_HOUSEHOLD_INCOME</th>\n      <th>MEAN_HOUSEHOLD_INCOME</th>\n      <th>TOTAL_HOUSING_UNITS</th>\n      <th>POPULATION_PER_UNIT</th>\n      <th>LOAD_PER_CAPITA</th>\n      <th>PREDICTED_BIN</th>\n      <th>ACTUAL_BIN</th>\n      <th>FINAL_OUTPUT</th>\n    </tr>\n  </thead>\n  <tbody>\n    <tr>\n      <th>0</th>\n      <td>78617</td>\n      <td>1325600.0</td>\n      <td>27900.0</td>\n      <td>6520.0</td>\n      <td>52819.0</td>\n      <td>69936.0</td>\n      <td>7244.0</td>\n      <td>3.851463</td>\n      <td>47.512545</td>\n      <td>0</td>\n      <td>0.0</td>\n      <td>LOW</td>\n    </tr>\n    <tr>\n      <th>1</th>\n      <td>78653</td>\n      <td>825420.0</td>\n      <td>20822.0</td>\n      <td>6332.0</td>\n      <td>66752.0</td>\n      <td>75678.0</td>\n      <td>6891.0</td>\n      <td>3.021622</td>\n      <td>39.641725</td>\n      <td>0</td>\n      <td>0.0</td>\n      <td>LOW</td>\n    </tr>\n    <tr>\n      <th>2</th>\n      <td>78701</td>\n      <td>458460.0</td>\n      <td>7875.0</td>\n      <td>4855.0</td>\n      <td>112201.0</td>\n      <td>173289.0</td>\n      <td>6576.0</td>\n      <td>1.197536</td>\n      <td>58.217143</td>\n      <td>1</td>\n      <td>0.0</td>\n      <td>LOW</td>\n    </tr>\n    <tr>\n      <th>3</th>\n      <td>78702</td>\n      <td>3741320.0</td>\n      <td>22876.0</td>\n      <td>8937.0</td>\n      <td>54053.0</td>\n      <td>73919.0</td>\n      <td>9839.0</td>\n      <td>2.325033</td>\n      <td>163.547823</td>\n      <td>0</td>\n      <td>1.0</td>\n      <td>MEDIUM</td>\n    </tr>\n    <tr>\n      <th>4</th>\n      <td>78703</td>\n      <td>3671428.0</td>\n      <td>20788.0</td>\n      <td>9723.0</td>\n      <td>98553.0</td>\n      <td>166396.0</td>\n      <td>11047.0</td>\n      <td>1.881778</td>\n      <td>176.612854</td>\n      <td>1</td>\n      <td>1.0</td>\n      <td>MEDIUM</td>\n    </tr>\n    <tr>\n      <th>5</th>\n      <td>78704</td>\n      <td>5156220.0</td>\n      <td>47158.0</td>\n      <td>23213.0</td>\n      <td>66262.0</td>\n      <td>91223.0</td>\n      <td>25815.0</td>\n      <td>1.826767</td>\n      <td>109.339243</td>\n      <td>0</td>\n      <td>0.0</td>\n      <td>LOW</td>\n    </tr>\n    <tr>\n      <th>6</th>\n      <td>78705</td>\n      <td>1606560.0</td>\n      <td>33075.0</td>\n      <td>8370.0</td>\n      <td>15309.0</td>\n      <td>41357.0</td>\n      <td>10336.0</td>\n      <td>3.199981</td>\n      <td>48.573243</td>\n      <td>0</td>\n      <td>0.0</td>\n      <td>LOW</td>\n    </tr>\n    <tr>\n      <th>7</th>\n      <td>78721</td>\n      <td>1374760.0</td>\n      <td>12447.0</td>\n      <td>4197.0</td>\n      <td>41611.0</td>\n      <td>52873.0</td>\n      <td>4632.0</td>\n      <td>2.687176</td>\n      <td>110.449104</td>\n      <td>0</td>\n      <td>0.0</td>\n      <td>LOW</td>\n    </tr>\n    <tr>\n      <th>8</th>\n      <td>78722</td>\n      <td>1471280.0</td>\n      <td>7254.0</td>\n      <td>3111.0</td>\n      <td>69267.0</td>\n      <td>95443.0</td>\n      <td>3415.0</td>\n      <td>2.124158</td>\n      <td>202.823270</td>\n      <td>1</td>\n      <td>1.0</td>\n      <td>MEDIUM</td>\n    </tr>\n    <tr>\n      <th>9</th>\n      <td>78723</td>\n      <td>5984646.0</td>\n      <td>33170.0</td>\n      <td>12518.0</td>\n      <td>49606.0</td>\n      <td>71897.0</td>\n      <td>13777.0</td>\n      <td>2.407636</td>\n      <td>180.423455</td>\n      <td>1</td>\n      <td>1.0</td>\n      <td>MEDIUM</td>\n    </tr>\n    <tr>\n      <th>10</th>\n      <td>78724</td>\n      <td>1139940.0</td>\n      <td>24833.0</td>\n      <td>6360.0</td>\n      <td>45158.0</td>\n      <td>55252.0</td>\n      <td>6754.0</td>\n      <td>3.676784</td>\n      <td>45.904240</td>\n      <td>0</td>\n      <td>0.0</td>\n      <td>LOW</td>\n    </tr>\n    <tr>\n      <th>11</th>\n      <td>78725</td>\n      <td>2732580.0</td>\n      <td>7517.0</td>\n      <td>2544.0</td>\n      <td>62172.0</td>\n      <td>66225.0</td>\n      <td>2598.0</td>\n      <td>2.893380</td>\n      <td>363.520021</td>\n      <td>2</td>\n      <td>2.0</td>\n      <td>HIGH</td>\n    </tr>\n    <tr>\n      <th>12</th>\n      <td>78726</td>\n      <td>1595480.0</td>\n      <td>14610.0</td>\n      <td>5554.0</td>\n      <td>88322.0</td>\n      <td>122559.0</td>\n      <td>5998.0</td>\n      <td>2.435812</td>\n      <td>109.204654</td>\n      <td>0</td>\n      <td>0.0</td>\n      <td>LOW</td>\n    </tr>\n    <tr>\n      <th>13</th>\n      <td>78727</td>\n      <td>2422020.0</td>\n      <td>28999.0</td>\n      <td>12937.0</td>\n      <td>74458.0</td>\n      <td>88800.0</td>\n      <td>14029.0</td>\n      <td>2.067075</td>\n      <td>83.520811</td>\n      <td>0</td>\n      <td>0.0</td>\n      <td>LOW</td>\n    </tr>\n    <tr>\n      <th>14</th>\n      <td>78728</td>\n      <td>711120.0</td>\n      <td>21245.0</td>\n      <td>10029.0</td>\n      <td>55603.0</td>\n      <td>71409.0</td>\n      <td>10626.0</td>\n      <td>1.999341</td>\n      <td>33.472346</td>\n      <td>0</td>\n      <td>0.0</td>\n      <td>LOW</td>\n    </tr>\n    <tr>\n      <th>15</th>\n      <td>78729</td>\n      <td>2337494.0</td>\n      <td>29434.0</td>\n      <td>12622.0</td>\n      <td>73047.0</td>\n      <td>86587.0</td>\n      <td>13636.0</td>\n      <td>2.158551</td>\n      <td>79.414758</td>\n      <td>0</td>\n      <td>0.0</td>\n      <td>LOW</td>\n    </tr>\n    <tr>\n      <th>16</th>\n      <td>78730</td>\n      <td>693680.0</td>\n      <td>8933.0</td>\n      <td>3678.0</td>\n      <td>108750.0</td>\n      <td>183174.0</td>\n      <td>4019.0</td>\n      <td>2.222692</td>\n      <td>77.653644</td>\n      <td>0</td>\n      <td>0.0</td>\n      <td>LOW</td>\n    </tr>\n    <tr>\n      <th>17</th>\n      <td>78731</td>\n      <td>4038480.0</td>\n      <td>27447.0</td>\n      <td>12556.0</td>\n      <td>89099.0</td>\n      <td>140009.0</td>\n      <td>13476.0</td>\n      <td>2.036732</td>\n      <td>147.137392</td>\n      <td>1</td>\n      <td>1.0</td>\n      <td>MEDIUM</td>\n    </tr>\n    <tr>\n      <th>18</th>\n      <td>78735</td>\n      <td>2042200.0</td>\n      <td>17919.0</td>\n      <td>7193.0</td>\n      <td>102551.0</td>\n      <td>155092.0</td>\n      <td>8176.0</td>\n      <td>2.191659</td>\n      <td>113.968413</td>\n      <td>0</td>\n      <td>0.0</td>\n      <td>LOW</td>\n    </tr>\n    <tr>\n      <th>19</th>\n      <td>78736</td>\n      <td>702800.0</td>\n      <td>8199.0</td>\n      <td>3023.0</td>\n      <td>107467.0</td>\n      <td>134565.0</td>\n      <td>3306.0</td>\n      <td>2.480036</td>\n      <td>85.717770</td>\n      <td>1</td>\n      <td>0.0</td>\n      <td>LOW</td>\n    </tr>\n    <tr>\n      <th>20</th>\n      <td>78739</td>\n      <td>6391660.0</td>\n      <td>20191.0</td>\n      <td>6367.0</td>\n      <td>147736.0</td>\n      <td>175189.0</td>\n      <td>6460.0</td>\n      <td>3.125542</td>\n      <td>316.559853</td>\n      <td>2</td>\n      <td>2.0</td>\n      <td>HIGH</td>\n    </tr>\n    <tr>\n      <th>21</th>\n      <td>78741</td>\n      <td>2626560.0</td>\n      <td>52307.0</td>\n      <td>20758.0</td>\n      <td>39049.0</td>\n      <td>49856.0</td>\n      <td>23380.0</td>\n      <td>2.237254</td>\n      <td>50.214312</td>\n      <td>0</td>\n      <td>0.0</td>\n      <td>LOW</td>\n    </tr>\n    <tr>\n      <th>22</th>\n      <td>78744</td>\n      <td>7868620.0</td>\n      <td>48432.0</td>\n      <td>14345.0</td>\n      <td>47073.0</td>\n      <td>56407.0</td>\n      <td>15236.0</td>\n      <td>3.178787</td>\n      <td>162.467377</td>\n      <td>0</td>\n      <td>1.0</td>\n      <td>MEDIUM</td>\n    </tr>\n    <tr>\n      <th>23</th>\n      <td>78745</td>\n      <td>11083500.0</td>\n      <td>62220.0</td>\n      <td>25857.0</td>\n      <td>60567.0</td>\n      <td>72944.0</td>\n      <td>27367.0</td>\n      <td>2.273541</td>\n      <td>178.134041</td>\n      <td>1</td>\n      <td>1.0</td>\n      <td>MEDIUM</td>\n    </tr>\n    <tr>\n      <th>24</th>\n      <td>78746</td>\n      <td>2022960.0</td>\n      <td>28268.0</td>\n      <td>10848.0</td>\n      <td>136138.0</td>\n      <td>217305.0</td>\n      <td>11922.0</td>\n      <td>2.371079</td>\n      <td>71.563605</td>\n      <td>1</td>\n      <td>0.0</td>\n      <td>LOW</td>\n    </tr>\n    <tr>\n      <th>25</th>\n      <td>78747</td>\n      <td>4296600.0</td>\n      <td>20954.0</td>\n      <td>6364.0</td>\n      <td>79500.0</td>\n      <td>84070.0</td>\n      <td>6654.0</td>\n      <td>3.149083</td>\n      <td>205.049155</td>\n      <td>0</td>\n      <td>1.0</td>\n      <td>MEDIUM</td>\n    </tr>\n    <tr>\n      <th>26</th>\n      <td>78748</td>\n      <td>8731680.0</td>\n      <td>49142.0</td>\n      <td>18820.0</td>\n      <td>74176.0</td>\n      <td>86175.0</td>\n      <td>19577.0</td>\n      <td>2.510191</td>\n      <td>177.682634</td>\n      <td>1</td>\n      <td>1.0</td>\n      <td>MEDIUM</td>\n    </tr>\n    <tr>\n      <th>27</th>\n      <td>78749</td>\n      <td>7500640.0</td>\n      <td>37453.0</td>\n      <td>15215.0</td>\n      <td>92313.0</td>\n      <td>107483.0</td>\n      <td>15727.0</td>\n      <td>2.381446</td>\n      <td>200.268069</td>\n      <td>1</td>\n      <td>1.0</td>\n      <td>MEDIUM</td>\n    </tr>\n    <tr>\n      <th>28</th>\n      <td>78750</td>\n      <td>3092740.0</td>\n      <td>30758.0</td>\n      <td>11713.0</td>\n      <td>81061.0</td>\n      <td>119690.0</td>\n      <td>12472.0</td>\n      <td>2.466164</td>\n      <td>100.550751</td>\n      <td>0</td>\n      <td>0.0</td>\n      <td>LOW</td>\n    </tr>\n    <tr>\n      <th>29</th>\n      <td>78751</td>\n      <td>1865020.0</td>\n      <td>14949.0</td>\n      <td>7463.0</td>\n      <td>54129.0</td>\n      <td>79620.0</td>\n      <td>8632.0</td>\n      <td>1.731812</td>\n      <td>124.758847</td>\n      <td>0</td>\n      <td>0.0</td>\n      <td>LOW</td>\n    </tr>\n    <tr>\n      <th>30</th>\n      <td>78752</td>\n      <td>2448520.0</td>\n      <td>20302.0</td>\n      <td>7932.0</td>\n      <td>41486.0</td>\n      <td>58935.0</td>\n      <td>8720.0</td>\n      <td>2.328211</td>\n      <td>120.604867</td>\n      <td>0</td>\n      <td>0.0</td>\n      <td>LOW</td>\n    </tr>\n    <tr>\n      <th>31</th>\n      <td>78753</td>\n      <td>5082710.0</td>\n      <td>58693.0</td>\n      <td>19947.0</td>\n      <td>45983.0</td>\n      <td>61853.0</td>\n      <td>21287.0</td>\n      <td>2.757223</td>\n      <td>86.598231</td>\n      <td>0</td>\n      <td>0.0</td>\n      <td>LOW</td>\n    </tr>\n    <tr>\n      <th>32</th>\n      <td>78754</td>\n      <td>4322388.0</td>\n      <td>23858.0</td>\n      <td>8009.0</td>\n      <td>64114.0</td>\n      <td>84433.0</td>\n      <td>8451.0</td>\n      <td>2.823098</td>\n      <td>181.171431</td>\n      <td>1</td>\n      <td>1.0</td>\n      <td>MEDIUM</td>\n    </tr>\n    <tr>\n      <th>33</th>\n      <td>78756</td>\n      <td>1311900.0</td>\n      <td>8377.0</td>\n      <td>4246.0</td>\n      <td>73578.0</td>\n      <td>107864.0</td>\n      <td>4642.0</td>\n      <td>1.804610</td>\n      <td>156.607377</td>\n      <td>1</td>\n      <td>1.0</td>\n      <td>MEDIUM</td>\n    </tr>\n    <tr>\n      <th>34</th>\n      <td>78757</td>\n      <td>4196720.0</td>\n      <td>24059.0</td>\n      <td>10746.0</td>\n      <td>65709.0</td>\n      <td>93055.0</td>\n      <td>11454.0</td>\n      <td>2.100489</td>\n      <td>174.434515</td>\n      <td>1</td>\n      <td>1.0</td>\n      <td>MEDIUM</td>\n    </tr>\n    <tr>\n      <th>35</th>\n      <td>78758</td>\n      <td>6322950.0</td>\n      <td>46618.0</td>\n      <td>19397.0</td>\n      <td>50018.0</td>\n      <td>62838.0</td>\n      <td>21064.0</td>\n      <td>2.213160</td>\n      <td>135.633232</td>\n      <td>0</td>\n      <td>0.0</td>\n      <td>LOW</td>\n    </tr>\n    <tr>\n      <th>36</th>\n      <td>78759</td>\n      <td>6804600.0</td>\n      <td>41847.0</td>\n      <td>20240.0</td>\n      <td>76749.0</td>\n      <td>104404.0</td>\n      <td>21798.0</td>\n      <td>1.919763</td>\n      <td>162.606638</td>\n      <td>1</td>\n      <td>1.0</td>\n      <td>MEDIUM</td>\n    </tr>\n  </tbody>\n</table>\n</div>"
     },
     "metadata": {},
     "execution_count": 34
    }
   ],
   "source": [
    "joined_zips_grb_df"
   ]
  },
  {
   "cell_type": "code",
   "execution_count": 35,
   "metadata": {},
   "outputs": [],
   "source": [
    "x_dashboard = [[50000, 300000, 80000, 81500]]"
   ]
  },
  {
   "cell_type": "code",
   "execution_count": 36,
   "metadata": {},
   "outputs": [],
   "source": [
    "y_pred_dashboard = rf.predict(x_dashboard)"
   ]
  },
  {
   "cell_type": "code",
   "execution_count": 37,
   "metadata": {},
   "outputs": [
    {
     "output_type": "execute_result",
     "data": {
      "text/plain": [
       "array([1])"
      ]
     },
     "metadata": {},
     "execution_count": 37
    }
   ],
   "source": [
    "y_pred_dashboard"
   ]
  },
  {
   "cell_type": "code",
   "execution_count": null,
   "metadata": {},
   "outputs": [],
   "source": []
  }
 ]
}