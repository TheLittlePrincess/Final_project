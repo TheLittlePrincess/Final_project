{
 "metadata": {
  "language_info": {
   "codemirror_mode": {
    "name": "ipython",
    "version": 3
   },
   "file_extension": ".py",
   "mimetype": "text/x-python",
   "name": "python",
   "nbconvert_exporter": "python",
   "pygments_lexer": "ipython3",
   "version": "3.7.9"
  },
  "orig_nbformat": 2,
  "kernelspec": {
   "name": "python3",
   "display_name": "Python 3.7.9 64-bit ('PythonData': conda)"
  },
  "interpreter": {
   "hash": "55eec88e7763de8670a205c9d88144eea2397edc63dc208f06c9583843878ae5"
  }
 },
 "nbformat": 4,
 "nbformat_minor": 2,
 "cells": [
  {
   "cell_type": "code",
   "execution_count": 99,
   "metadata": {},
   "outputs": [],
   "source": [
    "import pandas as pd\n",
    "from pathlib import Path\n",
    "import matplotlib.pyplot as plt\n",
    "from sklearn.linear_model import LinearRegression\n",
    "from scipy import stats\n",
    "import numpy as np\n",
    "from sklearn.ensemble import RandomForestClassifier\n",
    "from sklearn.preprocessing import StandardScaler\n",
    "from sklearn.model_selection import train_test_split\n",
    "from sklearn.metrics import confusion_matrix, accuracy_score, classification_report, mean_squared_error, mean_absolute_error\n",
    "from sklearn.decomposition import PCA\n",
    "from sklearn.neighbors import KNeighborsRegressor"
   ]
  },
  {
   "source": [
    "joined_zips_grb_df = pd.read_csv(\"zips_load_demographics.csv\")\n",
    "all_zips_df = pd.read_csv(\"full_zip_codes.csv\")"
   ],
   "cell_type": "code",
   "metadata": {},
   "execution_count": 100,
   "outputs": []
  },
  {
   "cell_type": "code",
   "execution_count": 101,
   "metadata": {},
   "outputs": [
    {
     "output_type": "execute_result",
     "data": {
      "text/plain": [
       "   ZIPCODE  TOTAL_POPULATION  TOTAL_HOUSEHOLDS  MEDIAN_HOUSEHOLD_INCOME  \\\n",
       "0    78701              7875              4855                   112201   \n",
       "1    78702             22876              8937                    54053   \n",
       "2    78703             20788              9723                    98553   \n",
       "3    78704             47158             23213                    66262   \n",
       "4    78705             33075              8370                    15309   \n",
       "\n",
       "   MEAN_HOUSEHOLD_INCOME  TOTAL_HOUSING_UNITS  \n",
       "0                 173289                 6576  \n",
       "1                  73919                 9839  \n",
       "2                 166396                11047  \n",
       "3                  91223                25815  \n",
       "4                  41357                10336  "
      ],
      "text/html": "<div>\n<style scoped>\n    .dataframe tbody tr th:only-of-type {\n        vertical-align: middle;\n    }\n\n    .dataframe tbody tr th {\n        vertical-align: top;\n    }\n\n    .dataframe thead th {\n        text-align: right;\n    }\n</style>\n<table border=\"1\" class=\"dataframe\">\n  <thead>\n    <tr style=\"text-align: right;\">\n      <th></th>\n      <th>ZIPCODE</th>\n      <th>TOTAL_POPULATION</th>\n      <th>TOTAL_HOUSEHOLDS</th>\n      <th>MEDIAN_HOUSEHOLD_INCOME</th>\n      <th>MEAN_HOUSEHOLD_INCOME</th>\n      <th>TOTAL_HOUSING_UNITS</th>\n    </tr>\n  </thead>\n  <tbody>\n    <tr>\n      <th>0</th>\n      <td>78701</td>\n      <td>7875</td>\n      <td>4855</td>\n      <td>112201</td>\n      <td>173289</td>\n      <td>6576</td>\n    </tr>\n    <tr>\n      <th>1</th>\n      <td>78702</td>\n      <td>22876</td>\n      <td>8937</td>\n      <td>54053</td>\n      <td>73919</td>\n      <td>9839</td>\n    </tr>\n    <tr>\n      <th>2</th>\n      <td>78703</td>\n      <td>20788</td>\n      <td>9723</td>\n      <td>98553</td>\n      <td>166396</td>\n      <td>11047</td>\n    </tr>\n    <tr>\n      <th>3</th>\n      <td>78704</td>\n      <td>47158</td>\n      <td>23213</td>\n      <td>66262</td>\n      <td>91223</td>\n      <td>25815</td>\n    </tr>\n    <tr>\n      <th>4</th>\n      <td>78705</td>\n      <td>33075</td>\n      <td>8370</td>\n      <td>15309</td>\n      <td>41357</td>\n      <td>10336</td>\n    </tr>\n  </tbody>\n</table>\n</div>"
     },
     "metadata": {},
     "execution_count": 101
    }
   ],
   "source": [
    "all_zips_df.head()"
   ]
  },
  {
   "cell_type": "code",
   "execution_count": 102,
   "metadata": {},
   "outputs": [
    {
     "output_type": "execute_result",
     "data": {
      "text/plain": [
       "45"
      ]
     },
     "metadata": {},
     "execution_count": 102
    }
   ],
   "source": [
    "len(all_zips_df)"
   ]
  },
  {
   "cell_type": "code",
   "execution_count": 103,
   "metadata": {},
   "outputs": [
    {
     "output_type": "execute_result",
     "data": {
      "text/plain": [
       "40"
      ]
     },
     "metadata": {},
     "execution_count": 103
    }
   ],
   "source": [
    "len(joined_zips_grb_df)"
   ]
  },
  {
   "cell_type": "code",
   "execution_count": 104,
   "metadata": {},
   "outputs": [
    {
     "output_type": "execute_result",
     "data": {
      "text/plain": [
       "     ZIP  load_weight  TOTAL_POPULATION  TOTAL_HOUSEHOLDS  \\\n",
       "0  78617    1325600.0           27900.0            6520.0   \n",
       "1  78652     908280.0               NaN               NaN   \n",
       "2  78653     825420.0           20822.0            6332.0   \n",
       "3  78701     458460.0            7875.0            4855.0   \n",
       "4  78702    3741320.0           22876.0            8937.0   \n",
       "\n",
       "   MEDIAN_HOUSEHOLD_INCOME  MEAN_HOUSEHOLD_INCOME  TOTAL_HOUSING_UNITS  \n",
       "0                  52819.0                69936.0               7244.0  \n",
       "1                      NaN                    NaN                  NaN  \n",
       "2                  66752.0                75678.0               6891.0  \n",
       "3                 112201.0               173289.0               6576.0  \n",
       "4                  54053.0                73919.0               9839.0  "
      ],
      "text/html": "<div>\n<style scoped>\n    .dataframe tbody tr th:only-of-type {\n        vertical-align: middle;\n    }\n\n    .dataframe tbody tr th {\n        vertical-align: top;\n    }\n\n    .dataframe thead th {\n        text-align: right;\n    }\n</style>\n<table border=\"1\" class=\"dataframe\">\n  <thead>\n    <tr style=\"text-align: right;\">\n      <th></th>\n      <th>ZIP</th>\n      <th>load_weight</th>\n      <th>TOTAL_POPULATION</th>\n      <th>TOTAL_HOUSEHOLDS</th>\n      <th>MEDIAN_HOUSEHOLD_INCOME</th>\n      <th>MEAN_HOUSEHOLD_INCOME</th>\n      <th>TOTAL_HOUSING_UNITS</th>\n    </tr>\n  </thead>\n  <tbody>\n    <tr>\n      <th>0</th>\n      <td>78617</td>\n      <td>1325600.0</td>\n      <td>27900.0</td>\n      <td>6520.0</td>\n      <td>52819.0</td>\n      <td>69936.0</td>\n      <td>7244.0</td>\n    </tr>\n    <tr>\n      <th>1</th>\n      <td>78652</td>\n      <td>908280.0</td>\n      <td>NaN</td>\n      <td>NaN</td>\n      <td>NaN</td>\n      <td>NaN</td>\n      <td>NaN</td>\n    </tr>\n    <tr>\n      <th>2</th>\n      <td>78653</td>\n      <td>825420.0</td>\n      <td>20822.0</td>\n      <td>6332.0</td>\n      <td>66752.0</td>\n      <td>75678.0</td>\n      <td>6891.0</td>\n    </tr>\n    <tr>\n      <th>3</th>\n      <td>78701</td>\n      <td>458460.0</td>\n      <td>7875.0</td>\n      <td>4855.0</td>\n      <td>112201.0</td>\n      <td>173289.0</td>\n      <td>6576.0</td>\n    </tr>\n    <tr>\n      <th>4</th>\n      <td>78702</td>\n      <td>3741320.0</td>\n      <td>22876.0</td>\n      <td>8937.0</td>\n      <td>54053.0</td>\n      <td>73919.0</td>\n      <td>9839.0</td>\n    </tr>\n  </tbody>\n</table>\n</div>"
     },
     "metadata": {},
     "execution_count": 104
    }
   ],
   "source": [
    "joined_zips_grb_df.head()"
   ]
  },
  {
   "cell_type": "code",
   "execution_count": 105,
   "metadata": {},
   "outputs": [
    {
     "output_type": "execute_result",
     "data": {
      "text/plain": [
       "     ZIP  load_weight  TOTAL_POPULATION  TOTAL_HOUSEHOLDS  \\\n",
       "0  78617    1325600.0           27900.0            6520.0   \n",
       "2  78653     825420.0           20822.0            6332.0   \n",
       "3  78701     458460.0            7875.0            4855.0   \n",
       "4  78702    3741320.0           22876.0            8937.0   \n",
       "5  78703    3671428.0           20788.0            9723.0   \n",
       "\n",
       "   MEDIAN_HOUSEHOLD_INCOME  MEAN_HOUSEHOLD_INCOME  TOTAL_HOUSING_UNITS  \n",
       "0                  52819.0                69936.0               7244.0  \n",
       "2                  66752.0                75678.0               6891.0  \n",
       "3                 112201.0               173289.0               6576.0  \n",
       "4                  54053.0                73919.0               9839.0  \n",
       "5                  98553.0               166396.0              11047.0  "
      ],
      "text/html": "<div>\n<style scoped>\n    .dataframe tbody tr th:only-of-type {\n        vertical-align: middle;\n    }\n\n    .dataframe tbody tr th {\n        vertical-align: top;\n    }\n\n    .dataframe thead th {\n        text-align: right;\n    }\n</style>\n<table border=\"1\" class=\"dataframe\">\n  <thead>\n    <tr style=\"text-align: right;\">\n      <th></th>\n      <th>ZIP</th>\n      <th>load_weight</th>\n      <th>TOTAL_POPULATION</th>\n      <th>TOTAL_HOUSEHOLDS</th>\n      <th>MEDIAN_HOUSEHOLD_INCOME</th>\n      <th>MEAN_HOUSEHOLD_INCOME</th>\n      <th>TOTAL_HOUSING_UNITS</th>\n    </tr>\n  </thead>\n  <tbody>\n    <tr>\n      <th>0</th>\n      <td>78617</td>\n      <td>1325600.0</td>\n      <td>27900.0</td>\n      <td>6520.0</td>\n      <td>52819.0</td>\n      <td>69936.0</td>\n      <td>7244.0</td>\n    </tr>\n    <tr>\n      <th>2</th>\n      <td>78653</td>\n      <td>825420.0</td>\n      <td>20822.0</td>\n      <td>6332.0</td>\n      <td>66752.0</td>\n      <td>75678.0</td>\n      <td>6891.0</td>\n    </tr>\n    <tr>\n      <th>3</th>\n      <td>78701</td>\n      <td>458460.0</td>\n      <td>7875.0</td>\n      <td>4855.0</td>\n      <td>112201.0</td>\n      <td>173289.0</td>\n      <td>6576.0</td>\n    </tr>\n    <tr>\n      <th>4</th>\n      <td>78702</td>\n      <td>3741320.0</td>\n      <td>22876.0</td>\n      <td>8937.0</td>\n      <td>54053.0</td>\n      <td>73919.0</td>\n      <td>9839.0</td>\n    </tr>\n    <tr>\n      <th>5</th>\n      <td>78703</td>\n      <td>3671428.0</td>\n      <td>20788.0</td>\n      <td>9723.0</td>\n      <td>98553.0</td>\n      <td>166396.0</td>\n      <td>11047.0</td>\n    </tr>\n  </tbody>\n</table>\n</div>"
     },
     "metadata": {},
     "execution_count": 105
    }
   ],
   "source": [
    "joined_zips_grb_df = joined_zips_grb_df.dropna()\n",
    "joined_zips_grb_df.head()\n"
   ]
  },
  {
   "cell_type": "code",
   "execution_count": 106,
   "metadata": {},
   "outputs": [
    {
     "output_type": "execute_result",
     "data": {
      "text/plain": [
       "37"
      ]
     },
     "metadata": {},
     "execution_count": 106
    }
   ],
   "source": [
    "len(joined_zips_grb_df)"
   ]
  },
  {
   "cell_type": "code",
   "execution_count": 107,
   "metadata": {},
   "outputs": [
    {
     "output_type": "execute_result",
     "data": {
      "text/plain": [
       "     ZIP  load_weight  TOTAL_POPULATION  TOTAL_HOUSEHOLDS  \\\n",
       "0  78617    1325600.0           27900.0            6520.0   \n",
       "2  78653     825420.0           20822.0            6332.0   \n",
       "3  78701     458460.0            7875.0            4855.0   \n",
       "4  78702    3741320.0           22876.0            8937.0   \n",
       "5  78703    3671428.0           20788.0            9723.0   \n",
       "\n",
       "   MEDIAN_HOUSEHOLD_INCOME  MEAN_HOUSEHOLD_INCOME  TOTAL_HOUSING_UNITS  \\\n",
       "0                  52819.0                69936.0               7244.0   \n",
       "2                  66752.0                75678.0               6891.0   \n",
       "3                 112201.0               173289.0               6576.0   \n",
       "4                  54053.0                73919.0               9839.0   \n",
       "5                  98553.0               166396.0              11047.0   \n",
       "\n",
       "   POPULATION_PER_UNIT  \n",
       "0             3.851463  \n",
       "2             3.021622  \n",
       "3             1.197536  \n",
       "4             2.325033  \n",
       "5             1.881778  "
      ],
      "text/html": "<div>\n<style scoped>\n    .dataframe tbody tr th:only-of-type {\n        vertical-align: middle;\n    }\n\n    .dataframe tbody tr th {\n        vertical-align: top;\n    }\n\n    .dataframe thead th {\n        text-align: right;\n    }\n</style>\n<table border=\"1\" class=\"dataframe\">\n  <thead>\n    <tr style=\"text-align: right;\">\n      <th></th>\n      <th>ZIP</th>\n      <th>load_weight</th>\n      <th>TOTAL_POPULATION</th>\n      <th>TOTAL_HOUSEHOLDS</th>\n      <th>MEDIAN_HOUSEHOLD_INCOME</th>\n      <th>MEAN_HOUSEHOLD_INCOME</th>\n      <th>TOTAL_HOUSING_UNITS</th>\n      <th>POPULATION_PER_UNIT</th>\n    </tr>\n  </thead>\n  <tbody>\n    <tr>\n      <th>0</th>\n      <td>78617</td>\n      <td>1325600.0</td>\n      <td>27900.0</td>\n      <td>6520.0</td>\n      <td>52819.0</td>\n      <td>69936.0</td>\n      <td>7244.0</td>\n      <td>3.851463</td>\n    </tr>\n    <tr>\n      <th>2</th>\n      <td>78653</td>\n      <td>825420.0</td>\n      <td>20822.0</td>\n      <td>6332.0</td>\n      <td>66752.0</td>\n      <td>75678.0</td>\n      <td>6891.0</td>\n      <td>3.021622</td>\n    </tr>\n    <tr>\n      <th>3</th>\n      <td>78701</td>\n      <td>458460.0</td>\n      <td>7875.0</td>\n      <td>4855.0</td>\n      <td>112201.0</td>\n      <td>173289.0</td>\n      <td>6576.0</td>\n      <td>1.197536</td>\n    </tr>\n    <tr>\n      <th>4</th>\n      <td>78702</td>\n      <td>3741320.0</td>\n      <td>22876.0</td>\n      <td>8937.0</td>\n      <td>54053.0</td>\n      <td>73919.0</td>\n      <td>9839.0</td>\n      <td>2.325033</td>\n    </tr>\n    <tr>\n      <th>5</th>\n      <td>78703</td>\n      <td>3671428.0</td>\n      <td>20788.0</td>\n      <td>9723.0</td>\n      <td>98553.0</td>\n      <td>166396.0</td>\n      <td>11047.0</td>\n      <td>1.881778</td>\n    </tr>\n  </tbody>\n</table>\n</div>"
     },
     "metadata": {},
     "execution_count": 107
    }
   ],
   "source": [
    "joined_zips_grb_df[\"POPULATION_PER_UNIT\"] = joined_zips_grb_df.TOTAL_POPULATION/joined_zips_grb_df.TOTAL_HOUSING_UNITS\n",
    "joined_zips_grb_df.head()"
   ]
  },
  {
   "cell_type": "code",
   "execution_count": 108,
   "metadata": {},
   "outputs": [
    {
     "output_type": "execute_result",
     "data": {
      "text/plain": [
       "     ZIP  load_weight  TOTAL_POPULATION  TOTAL_HOUSEHOLDS  \\\n",
       "0  78617    1325600.0           27900.0            6520.0   \n",
       "2  78653     825420.0           20822.0            6332.0   \n",
       "3  78701     458460.0            7875.0            4855.0   \n",
       "4  78702    3741320.0           22876.0            8937.0   \n",
       "5  78703    3671428.0           20788.0            9723.0   \n",
       "\n",
       "   MEDIAN_HOUSEHOLD_INCOME  MEAN_HOUSEHOLD_INCOME  TOTAL_HOUSING_UNITS  \\\n",
       "0                  52819.0                69936.0               7244.0   \n",
       "2                  66752.0                75678.0               6891.0   \n",
       "3                 112201.0               173289.0               6576.0   \n",
       "4                  54053.0                73919.0               9839.0   \n",
       "5                  98553.0               166396.0              11047.0   \n",
       "\n",
       "   POPULATION_PER_UNIT  LOAD_PER_CAPITA  \n",
       "0             3.851463        47.512545  \n",
       "2             3.021622        39.641725  \n",
       "3             1.197536        58.217143  \n",
       "4             2.325033       163.547823  \n",
       "5             1.881778       176.612854  "
      ],
      "text/html": "<div>\n<style scoped>\n    .dataframe tbody tr th:only-of-type {\n        vertical-align: middle;\n    }\n\n    .dataframe tbody tr th {\n        vertical-align: top;\n    }\n\n    .dataframe thead th {\n        text-align: right;\n    }\n</style>\n<table border=\"1\" class=\"dataframe\">\n  <thead>\n    <tr style=\"text-align: right;\">\n      <th></th>\n      <th>ZIP</th>\n      <th>load_weight</th>\n      <th>TOTAL_POPULATION</th>\n      <th>TOTAL_HOUSEHOLDS</th>\n      <th>MEDIAN_HOUSEHOLD_INCOME</th>\n      <th>MEAN_HOUSEHOLD_INCOME</th>\n      <th>TOTAL_HOUSING_UNITS</th>\n      <th>POPULATION_PER_UNIT</th>\n      <th>LOAD_PER_CAPITA</th>\n    </tr>\n  </thead>\n  <tbody>\n    <tr>\n      <th>0</th>\n      <td>78617</td>\n      <td>1325600.0</td>\n      <td>27900.0</td>\n      <td>6520.0</td>\n      <td>52819.0</td>\n      <td>69936.0</td>\n      <td>7244.0</td>\n      <td>3.851463</td>\n      <td>47.512545</td>\n    </tr>\n    <tr>\n      <th>2</th>\n      <td>78653</td>\n      <td>825420.0</td>\n      <td>20822.0</td>\n      <td>6332.0</td>\n      <td>66752.0</td>\n      <td>75678.0</td>\n      <td>6891.0</td>\n      <td>3.021622</td>\n      <td>39.641725</td>\n    </tr>\n    <tr>\n      <th>3</th>\n      <td>78701</td>\n      <td>458460.0</td>\n      <td>7875.0</td>\n      <td>4855.0</td>\n      <td>112201.0</td>\n      <td>173289.0</td>\n      <td>6576.0</td>\n      <td>1.197536</td>\n      <td>58.217143</td>\n    </tr>\n    <tr>\n      <th>4</th>\n      <td>78702</td>\n      <td>3741320.0</td>\n      <td>22876.0</td>\n      <td>8937.0</td>\n      <td>54053.0</td>\n      <td>73919.0</td>\n      <td>9839.0</td>\n      <td>2.325033</td>\n      <td>163.547823</td>\n    </tr>\n    <tr>\n      <th>5</th>\n      <td>78703</td>\n      <td>3671428.0</td>\n      <td>20788.0</td>\n      <td>9723.0</td>\n      <td>98553.0</td>\n      <td>166396.0</td>\n      <td>11047.0</td>\n      <td>1.881778</td>\n      <td>176.612854</td>\n    </tr>\n  </tbody>\n</table>\n</div>"
     },
     "metadata": {},
     "execution_count": 108
    }
   ],
   "source": [
    "joined_zips_grb_df[\"LOAD_PER_CAPITA\"] = joined_zips_grb_df.load_weight/joined_zips_grb_df.TOTAL_POPULATION\n",
    "joined_zips_grb_df.head()"
   ]
  },
  {
   "cell_type": "code",
   "execution_count": 109,
   "metadata": {},
   "outputs": [],
   "source": [
    "features = ['TOTAL_POPULATION', 'TOTAL_HOUSEHOLDS', 'MEDIAN_HOUSEHOLD_INCOME', 'TOTAL_HOUSING_UNITS', 'POPULATION_PER_UNIT']\n",
    "# Separating out the features\n",
    "x = joined_zips_grb_df.loc[:, features]\n",
    "# Separating out the target\n",
    "#y = joined_zips_grb_df.loc[:,['load_weight']]\n",
    "# Standardizing the features\n",
    "ss = StandardScaler().fit(x)\n",
    "X = ss.transform(x)"
   ]
  },
  {
   "cell_type": "code",
   "execution_count": 110,
   "metadata": {},
   "outputs": [
    {
     "output_type": "execute_result",
     "data": {
      "text/plain": [
       "PCA(n_components=3)"
      ]
     },
     "metadata": {},
     "execution_count": 110
    }
   ],
   "source": [
    "# Apply principal component analysis\n",
    "pca = PCA(n_components=3)\n",
    "pca.fit(X)\n",
    "#principalComponents = pca.fit(x)\n",
    "#PCA_df = pd.DataFrame(data = principalComponents, columns = ['PRINCIPAL_COMPONENT_1', 'PRINCIPAL_COMPONENT_2'])"
   ]
  },
  {
   "cell_type": "code",
   "execution_count": 111,
   "metadata": {},
   "outputs": [
    {
     "output_type": "execute_result",
     "data": {
      "text/plain": [
       "array([[ 0.55593522,  0.56556387, -0.21785227,  0.56580689, -0.05896181],\n",
       "       [ 0.11745993, -0.1295423 , -0.60106462, -0.13735661,  0.76764343],\n",
       "       [ 0.22954666,  0.08363969,  0.76852846,  0.04817768,  0.58936886]])"
      ]
     },
     "metadata": {},
     "execution_count": 111
    }
   ],
   "source": [
    "pca.components_"
   ]
  },
  {
   "cell_type": "code",
   "execution_count": 112,
   "metadata": {},
   "outputs": [
    {
     "output_type": "execute_result",
     "data": {
      "text/plain": [
       "   TOTAL_POPULATION  TOTAL_HOUSEHOLDS  MEDIAN_HOUSEHOLD_INCOME  \\\n",
       "0          0.555935          0.565564                -0.217852   \n",
       "1          0.117460         -0.129542                -0.601065   \n",
       "2          0.229547          0.083640                 0.768528   \n",
       "\n",
       "   TOTAL_HOUSING_UNITS  POPULATION_PER_UNIT  \n",
       "0             0.565807            -0.058962  \n",
       "1            -0.137357             0.767643  \n",
       "2             0.048178             0.589369  "
      ],
      "text/html": "<div>\n<style scoped>\n    .dataframe tbody tr th:only-of-type {\n        vertical-align: middle;\n    }\n\n    .dataframe tbody tr th {\n        vertical-align: top;\n    }\n\n    .dataframe thead th {\n        text-align: right;\n    }\n</style>\n<table border=\"1\" class=\"dataframe\">\n  <thead>\n    <tr style=\"text-align: right;\">\n      <th></th>\n      <th>TOTAL_POPULATION</th>\n      <th>TOTAL_HOUSEHOLDS</th>\n      <th>MEDIAN_HOUSEHOLD_INCOME</th>\n      <th>TOTAL_HOUSING_UNITS</th>\n      <th>POPULATION_PER_UNIT</th>\n    </tr>\n  </thead>\n  <tbody>\n    <tr>\n      <th>0</th>\n      <td>0.555935</td>\n      <td>0.565564</td>\n      <td>-0.217852</td>\n      <td>0.565807</td>\n      <td>-0.058962</td>\n    </tr>\n    <tr>\n      <th>1</th>\n      <td>0.117460</td>\n      <td>-0.129542</td>\n      <td>-0.601065</td>\n      <td>-0.137357</td>\n      <td>0.767643</td>\n    </tr>\n    <tr>\n      <th>2</th>\n      <td>0.229547</td>\n      <td>0.083640</td>\n      <td>0.768528</td>\n      <td>0.048178</td>\n      <td>0.589369</td>\n    </tr>\n  </tbody>\n</table>\n</div>"
     },
     "metadata": {},
     "execution_count": 112
    }
   ],
   "source": [
    "pd.DataFrame(pca.components_, columns=features)"
   ]
  },
  {
   "cell_type": "code",
   "execution_count": 113,
   "metadata": {},
   "outputs": [],
   "source": [
    "X_reduced = pca.transform(X)"
   ]
  },
  {
   "cell_type": "code",
   "execution_count": 114,
   "metadata": {},
   "outputs": [
    {
     "output_type": "execute_result",
     "data": {
      "text/plain": [
       "array([[-0.73158994,  2.60376743,  0.92002373],\n",
       "       [-1.06675618,  1.08120218,  0.29680464],\n",
       "       [-1.88215531, -2.55756196, -0.62736463],\n",
       "       [-0.31556893,  0.27562414, -0.72562083],\n",
       "       [-0.52273962, -1.38660683,  0.03127252],\n",
       "       [ 3.26401178, -1.14280248, -0.23185058],\n",
       "       [ 0.27202382,  2.44481355, -0.71134065],\n",
       "       [-1.53917529,  1.18774575, -0.9480121 ],\n",
       "       [-2.09990307, -0.20735542, -0.88592741],\n",
       "       [ 0.77166421,  0.41275853, -0.52294738],\n",
       "       [-0.8242857 ,  2.51480006,  0.46202719],\n",
       "       [-2.24036205,  1.06590475, -0.26114191],\n",
       "       [-1.55819984, -0.23382654,  0.15401188],\n",
       "       [ 0.51458134, -0.66143755, -0.25112066],\n",
       "       [-0.18435257, -0.2710019 , -1.03964945],\n",
       "       [ 0.46895903, -0.48286348, -0.19207015],\n",
       "       [-2.25688392, -0.94712793,  0.36834957],\n",
       "       [ 0.25963362, -1.01854877,  0.09387302],\n",
       "       [-1.17971632, -0.94553709,  0.37902506],\n",
       "       [-2.4247659 , -0.53250698,  0.58561502],\n",
       "       [-1.78073519, -0.54804291,  2.67195668],\n",
       "       [ 3.19091883,  0.17897769, -0.52307808],\n",
       "       [ 1.5781724 ,  1.60890174,  0.51463942],\n",
       "       [ 4.20726672, -0.35608853,  0.37408643],\n",
       "       [-0.41354941, -1.50443996,  1.75555148],\n",
       "       [-1.19469226,  0.98643218,  0.79382785],\n",
       "       [ 2.25314531, -0.1113767 ,  0.65575936],\n",
       "       [ 1.01483792, -0.62686055,  0.7663074 ],\n",
       "       [ 0.23632507, -0.1702909 ,  0.36599787],\n",
       "       [-0.79136685, -0.56985021, -1.51875785],\n",
       "       [-0.50289732,  0.58067428, -1.13722937],\n",
       "       [ 3.06282026,  0.87277364,  0.3079317 ],\n",
       "       [-0.61918981,  0.8145152 ,  0.08917499],\n",
       "       [-1.84566001, -0.79425614, -1.06913598],\n",
       "       [-0.03166734, -0.36053491, -0.58646219],\n",
       "       [ 2.56522409, -0.063581  , -0.36516235],\n",
       "       [ 2.34662844, -1.13639239,  0.01063575]])"
      ]
     },
     "metadata": {},
     "execution_count": 114
    }
   ],
   "source": [
    "X_reduced"
   ]
  },
  {
   "cell_type": "code",
   "execution_count": 115,
   "metadata": {},
   "outputs": [],
   "source": [
    "knn = KNeighborsRegressor(n_neighbors=3, weights= 'uniform')"
   ]
  },
  {
   "cell_type": "code",
   "execution_count": 116,
   "metadata": {},
   "outputs": [
    {
     "output_type": "execute_result",
     "data": {
      "text/plain": [
       "   ZIPCODE  TOTAL_POPULATION  TOTAL_HOUSEHOLDS  MEDIAN_HOUSEHOLD_INCOME  \\\n",
       "0    78701              7875              4855                   112201   \n",
       "1    78702             22876              8937                    54053   \n",
       "2    78703             20788              9723                    98553   \n",
       "3    78704             47158             23213                    66262   \n",
       "4    78705             33075              8370                    15309   \n",
       "\n",
       "   MEAN_HOUSEHOLD_INCOME  TOTAL_HOUSING_UNITS  POPULATION_PER_UNIT  \n",
       "0                 173289                 6576             1.197536  \n",
       "1                  73919                 9839             2.325033  \n",
       "2                 166396                11047             1.881778  \n",
       "3                  91223                25815             1.826767  \n",
       "4                  41357                10336             3.199981  "
      ],
      "text/html": "<div>\n<style scoped>\n    .dataframe tbody tr th:only-of-type {\n        vertical-align: middle;\n    }\n\n    .dataframe tbody tr th {\n        vertical-align: top;\n    }\n\n    .dataframe thead th {\n        text-align: right;\n    }\n</style>\n<table border=\"1\" class=\"dataframe\">\n  <thead>\n    <tr style=\"text-align: right;\">\n      <th></th>\n      <th>ZIPCODE</th>\n      <th>TOTAL_POPULATION</th>\n      <th>TOTAL_HOUSEHOLDS</th>\n      <th>MEDIAN_HOUSEHOLD_INCOME</th>\n      <th>MEAN_HOUSEHOLD_INCOME</th>\n      <th>TOTAL_HOUSING_UNITS</th>\n      <th>POPULATION_PER_UNIT</th>\n    </tr>\n  </thead>\n  <tbody>\n    <tr>\n      <th>0</th>\n      <td>78701</td>\n      <td>7875</td>\n      <td>4855</td>\n      <td>112201</td>\n      <td>173289</td>\n      <td>6576</td>\n      <td>1.197536</td>\n    </tr>\n    <tr>\n      <th>1</th>\n      <td>78702</td>\n      <td>22876</td>\n      <td>8937</td>\n      <td>54053</td>\n      <td>73919</td>\n      <td>9839</td>\n      <td>2.325033</td>\n    </tr>\n    <tr>\n      <th>2</th>\n      <td>78703</td>\n      <td>20788</td>\n      <td>9723</td>\n      <td>98553</td>\n      <td>166396</td>\n      <td>11047</td>\n      <td>1.881778</td>\n    </tr>\n    <tr>\n      <th>3</th>\n      <td>78704</td>\n      <td>47158</td>\n      <td>23213</td>\n      <td>66262</td>\n      <td>91223</td>\n      <td>25815</td>\n      <td>1.826767</td>\n    </tr>\n    <tr>\n      <th>4</th>\n      <td>78705</td>\n      <td>33075</td>\n      <td>8370</td>\n      <td>15309</td>\n      <td>41357</td>\n      <td>10336</td>\n      <td>3.199981</td>\n    </tr>\n  </tbody>\n</table>\n</div>"
     },
     "metadata": {},
     "execution_count": 116
    }
   ],
   "source": [
    "all_zips_df[\"POPULATION_PER_UNIT\"] = all_zips_df.TOTAL_POPULATION/all_zips_df.TOTAL_HOUSING_UNITS\n",
    "all_zips_df.head()"
   ]
  },
  {
   "cell_type": "code",
   "execution_count": 117,
   "metadata": {},
   "outputs": [],
   "source": [
    "T = all_zips_df.loc[:, features]"
   ]
  },
  {
   "cell_type": "code",
   "execution_count": 118,
   "metadata": {},
   "outputs": [],
   "source": [
    "T_reduced = pca.transform(ss.transform(T))"
   ]
  },
  {
   "cell_type": "code",
   "execution_count": 119,
   "metadata": {},
   "outputs": [],
   "source": [
    "# Split data into training and testing sets\n",
    "X_train,X_test,y_train,y_test = train_test_split(X_reduced,joined_zips_grb_df[\"LOAD_PER_CAPITA\"],random_state=1)"
   ]
  },
  {
   "cell_type": "code",
   "execution_count": 120,
   "metadata": {},
   "outputs": [],
   "source": [
    "# Use K-nearest-neighbors method to fit data\n",
    "model = knn.fit(X_train, y_train)"
   ]
  },
  {
   "cell_type": "code",
   "execution_count": 121,
   "metadata": {},
   "outputs": [],
   "source": [
    "y_pred = model.predict(X_test)"
   ]
  },
  {
   "cell_type": "code",
   "execution_count": 122,
   "metadata": {},
   "outputs": [],
   "source": [
    "score = mean_absolute_error(y_pred,y_test)"
   ]
  },
  {
   "cell_type": "code",
   "execution_count": 123,
   "metadata": {},
   "outputs": [
    {
     "output_type": "stream",
     "name": "stdout",
     "text": [
      "50.6587630539775\n"
     ]
    }
   ],
   "source": [
    "print(score)"
   ]
  },
  {
   "cell_type": "code",
   "execution_count": 124,
   "metadata": {},
   "outputs": [],
   "source": [
    "percent_error = ((abs(y_pred - y_test)/abs(y_test)).mean())*100."
   ]
  },
  {
   "cell_type": "code",
   "execution_count": 125,
   "metadata": {},
   "outputs": [
    {
     "output_type": "stream",
     "name": "stdout",
     "text": [
      "54.56697927876088\n"
     ]
    }
   ],
   "source": [
    "print(percent_error)"
   ]
  },
  {
   "cell_type": "code",
   "execution_count": 126,
   "metadata": {},
   "outputs": [
    {
     "output_type": "execute_result",
     "data": {
      "text/plain": [
       "array([0.60654758, 0.25745225, 0.13239989])"
      ]
     },
     "metadata": {},
     "execution_count": 126
    }
   ],
   "source": [
    "pca.explained_variance_ratio_"
   ]
  },
  {
   "cell_type": "code",
   "execution_count": 127,
   "metadata": {},
   "outputs": [],
   "source": [
    "all_zips_df['PREDICTED_TRASH_OUTPUT_PER_CAPITA (TONS)'] = model.predict(T_reduced)"
   ]
  },
  {
   "cell_type": "code",
   "execution_count": 128,
   "metadata": {},
   "outputs": [],
   "source": [
    "all_zips_df['PREDICTED_TRASH_OUTPUT_PER_CAPITA (TONS)'] = all_zips_df['PREDICTED_TRASH_OUTPUT_PER_CAPITA (TONS)'].astype(int)"
   ]
  },
  {
   "cell_type": "code",
   "execution_count": 129,
   "metadata": {},
   "outputs": [],
   "source": [
    "all_zips_df[\"ACTUAL_TRASH_OUTPUT_PER_CAPITA\"] = joined_zips_grb_df['LOAD_PER_CAPITA']"
   ]
  },
  {
   "cell_type": "code",
   "execution_count": 130,
   "metadata": {},
   "outputs": [
    {
     "output_type": "execute_result",
     "data": {
      "text/plain": [
       "    ZIPCODE  TOTAL_POPULATION  TOTAL_HOUSEHOLDS  MEDIAN_HOUSEHOLD_INCOME  \\\n",
       "0     78701              7875              4855                   112201   \n",
       "1     78702             22876              8937                    54053   \n",
       "2     78703             20788              9723                    98553   \n",
       "3     78704             47158             23213                    66262   \n",
       "4     78705             33075              8370                    15309   \n",
       "5     78721             12447              4197                    41611   \n",
       "6     78722              7254              3111                    69267   \n",
       "7     78723             33170             12518                    49606   \n",
       "8     78724             24833              6360                    45158   \n",
       "9     78725              7517              2544                    62172   \n",
       "10    78726             14610              5554                    88322   \n",
       "11    78727             28999             12937                    74458   \n",
       "12    78728             21245             10029                    55603   \n",
       "13    78729             29434             12622                    73047   \n",
       "14    78730              8933              3678                   108750   \n",
       "15    78731             27447             12556                    89099   \n",
       "16    78732             17762              5689                   142612   \n",
       "17    78733              8754              2920                   136563   \n",
       "18    78734             18722              7392                   107827   \n",
       "19    78735             17919              7193                   102551   \n",
       "20    78736              8199              3023                   107467   \n",
       "21    78737             15879              5305                   127136   \n",
       "22    78738             15746              5964                   123836   \n",
       "23    78739             20191              6367                   147736   \n",
       "24    78741             52307             20758                    39049   \n",
       "25    78742               517               218                    33182   \n",
       "26    78744             48432             14345                    47073   \n",
       "27    78745             62220             25857                    60567   \n",
       "28    78746             28268             10848                   136138   \n",
       "29    78747             20954              6364                    79500   \n",
       "30    78748             49142             18820                    74176   \n",
       "31    78749             37453             15215                    92313   \n",
       "32    78750             30758             11713                    81061   \n",
       "33    78751             14949              7463                    54129   \n",
       "34    78752             20302              7932                    41486   \n",
       "35    78753             58693             19947                    45983   \n",
       "36    78754             23858              8009                    64114   \n",
       "37    78756              8377              4246                    73578   \n",
       "38    78757             24059             10746                    65709   \n",
       "39    78758             46618             19397                    50018   \n",
       "40    78759             41847             20240                    76749   \n",
       "41    78610             32692             11243                    76623   \n",
       "42    78617             27900              6520                    52819   \n",
       "43    78653             20822              6332                    66752   \n",
       "44    78660             85450             28469                    81693   \n",
       "\n",
       "    MEAN_HOUSEHOLD_INCOME  TOTAL_HOUSING_UNITS  POPULATION_PER_UNIT  \\\n",
       "0                  173289                 6576             1.197536   \n",
       "1                   73919                 9839             2.325033   \n",
       "2                  166396                11047             1.881778   \n",
       "3                   91223                25815             1.826767   \n",
       "4                   41357                10336             3.199981   \n",
       "5                   52873                 4632             2.687176   \n",
       "6                   95443                 3415             2.124158   \n",
       "7                   71897                13777             2.407636   \n",
       "8                   55252                 6754             3.676784   \n",
       "9                   66225                 2598             2.893380   \n",
       "10                 122559                 5998             2.435812   \n",
       "11                  88800                14029             2.067075   \n",
       "12                  71409                10626             1.999341   \n",
       "13                  86587                13636             2.158551   \n",
       "14                 183174                 4019             2.222692   \n",
       "15                 140009                13476             2.036732   \n",
       "16                 193848                 6114             2.905136   \n",
       "17                 214080                 3033             2.886251   \n",
       "18                 142453                 8633             2.168655   \n",
       "19                 155092                 8176             2.191659   \n",
       "20                 134565                 3306             2.480036   \n",
       "21                 148042                 5385             2.948747   \n",
       "22                 159347                 6737             2.337242   \n",
       "23                 175189                 6460             3.125542   \n",
       "24                  49856                23380             2.237254   \n",
       "25                  49511                  252             2.051587   \n",
       "26                  56407                15236             3.178787   \n",
       "27                  72944                27367             2.273541   \n",
       "28                 217305                11922             2.371079   \n",
       "29                  84070                 6654             3.149083   \n",
       "30                  86175                19577             2.510191   \n",
       "31                 107483                15727             2.381446   \n",
       "32                 119690                12472             2.466164   \n",
       "33                  79620                 8632             1.731812   \n",
       "34                  58935                 8720             2.328211   \n",
       "35                  61853                21287             2.757223   \n",
       "36                  84433                 8451             2.823098   \n",
       "37                 107864                 4642             1.804610   \n",
       "38                  93055                11454             2.100489   \n",
       "39                  62838                21064             2.213160   \n",
       "40                 104404                21798             1.919763   \n",
       "41                  90103                11585             2.821925   \n",
       "42                  69936                 7244             3.851463   \n",
       "43                  75678                 6891             3.021622   \n",
       "44                  94180                29569             2.889851   \n",
       "\n",
       "    PREDICTED_TRASH_OUTPUT_PER_CAPITA (TONS)  ACTUAL_TRASH_OUTPUT_PER_CAPITA  \n",
       "0                                        136                       47.512545  \n",
       "1                                        109                             NaN  \n",
       "2                                        145                       39.641725  \n",
       "3                                        150                       58.217143  \n",
       "4                                         47                      163.547823  \n",
       "5                                        198                      176.612854  \n",
       "6                                        156                      109.339243  \n",
       "7                                        144                       48.573243  \n",
       "8                                         44                             NaN  \n",
       "9                                        171                             NaN  \n",
       "10                                       100                      110.449104  \n",
       "11                                       103                      202.823270  \n",
       "12                                       109                      180.423455  \n",
       "13                                       103                       45.904240  \n",
       "14                                       100                      363.520021  \n",
       "15                                       103                      109.204654  \n",
       "16                                       169                       83.520811  \n",
       "17                                       167                       33.472346  \n",
       "18                                       133                       79.414758  \n",
       "19                                       133                       77.653644  \n",
       "20                                       100                      147.137392  \n",
       "21                                       167                      113.968413  \n",
       "22                                       100                       85.717770  \n",
       "23                                       169                      316.559853  \n",
       "24                                       124                       50.214312  \n",
       "25                                       156                      162.467377  \n",
       "26                                       148                      178.134041  \n",
       "27                                       124                       71.563605  \n",
       "28                                       145                      205.049155  \n",
       "29                                       110                      177.682634  \n",
       "30                                       142                      200.268069  \n",
       "31                                       109                      100.550751  \n",
       "32                                        87                      124.758847  \n",
       "33                                       121                      120.604867  \n",
       "34                                       109                       86.598231  \n",
       "35                                       147                      181.171431  \n",
       "36                                       113                      156.607377  \n",
       "37                                       156                      174.434515  \n",
       "38                                        95                      135.633232  \n",
       "39                                       142                      162.606638  \n",
       "40                                       149                             NaN  \n",
       "41                                       120                             NaN  \n",
       "42                                        44                             NaN  \n",
       "43                                       194                             NaN  \n",
       "44                                       124                             NaN  "
      ],
      "text/html": "<div>\n<style scoped>\n    .dataframe tbody tr th:only-of-type {\n        vertical-align: middle;\n    }\n\n    .dataframe tbody tr th {\n        vertical-align: top;\n    }\n\n    .dataframe thead th {\n        text-align: right;\n    }\n</style>\n<table border=\"1\" class=\"dataframe\">\n  <thead>\n    <tr style=\"text-align: right;\">\n      <th></th>\n      <th>ZIPCODE</th>\n      <th>TOTAL_POPULATION</th>\n      <th>TOTAL_HOUSEHOLDS</th>\n      <th>MEDIAN_HOUSEHOLD_INCOME</th>\n      <th>MEAN_HOUSEHOLD_INCOME</th>\n      <th>TOTAL_HOUSING_UNITS</th>\n      <th>POPULATION_PER_UNIT</th>\n      <th>PREDICTED_TRASH_OUTPUT_PER_CAPITA (TONS)</th>\n      <th>ACTUAL_TRASH_OUTPUT_PER_CAPITA</th>\n    </tr>\n  </thead>\n  <tbody>\n    <tr>\n      <th>0</th>\n      <td>78701</td>\n      <td>7875</td>\n      <td>4855</td>\n      <td>112201</td>\n      <td>173289</td>\n      <td>6576</td>\n      <td>1.197536</td>\n      <td>136</td>\n      <td>47.512545</td>\n    </tr>\n    <tr>\n      <th>1</th>\n      <td>78702</td>\n      <td>22876</td>\n      <td>8937</td>\n      <td>54053</td>\n      <td>73919</td>\n      <td>9839</td>\n      <td>2.325033</td>\n      <td>109</td>\n      <td>NaN</td>\n    </tr>\n    <tr>\n      <th>2</th>\n      <td>78703</td>\n      <td>20788</td>\n      <td>9723</td>\n      <td>98553</td>\n      <td>166396</td>\n      <td>11047</td>\n      <td>1.881778</td>\n      <td>145</td>\n      <td>39.641725</td>\n    </tr>\n    <tr>\n      <th>3</th>\n      <td>78704</td>\n      <td>47158</td>\n      <td>23213</td>\n      <td>66262</td>\n      <td>91223</td>\n      <td>25815</td>\n      <td>1.826767</td>\n      <td>150</td>\n      <td>58.217143</td>\n    </tr>\n    <tr>\n      <th>4</th>\n      <td>78705</td>\n      <td>33075</td>\n      <td>8370</td>\n      <td>15309</td>\n      <td>41357</td>\n      <td>10336</td>\n      <td>3.199981</td>\n      <td>47</td>\n      <td>163.547823</td>\n    </tr>\n    <tr>\n      <th>5</th>\n      <td>78721</td>\n      <td>12447</td>\n      <td>4197</td>\n      <td>41611</td>\n      <td>52873</td>\n      <td>4632</td>\n      <td>2.687176</td>\n      <td>198</td>\n      <td>176.612854</td>\n    </tr>\n    <tr>\n      <th>6</th>\n      <td>78722</td>\n      <td>7254</td>\n      <td>3111</td>\n      <td>69267</td>\n      <td>95443</td>\n      <td>3415</td>\n      <td>2.124158</td>\n      <td>156</td>\n      <td>109.339243</td>\n    </tr>\n    <tr>\n      <th>7</th>\n      <td>78723</td>\n      <td>33170</td>\n      <td>12518</td>\n      <td>49606</td>\n      <td>71897</td>\n      <td>13777</td>\n      <td>2.407636</td>\n      <td>144</td>\n      <td>48.573243</td>\n    </tr>\n    <tr>\n      <th>8</th>\n      <td>78724</td>\n      <td>24833</td>\n      <td>6360</td>\n      <td>45158</td>\n      <td>55252</td>\n      <td>6754</td>\n      <td>3.676784</td>\n      <td>44</td>\n      <td>NaN</td>\n    </tr>\n    <tr>\n      <th>9</th>\n      <td>78725</td>\n      <td>7517</td>\n      <td>2544</td>\n      <td>62172</td>\n      <td>66225</td>\n      <td>2598</td>\n      <td>2.893380</td>\n      <td>171</td>\n      <td>NaN</td>\n    </tr>\n    <tr>\n      <th>10</th>\n      <td>78726</td>\n      <td>14610</td>\n      <td>5554</td>\n      <td>88322</td>\n      <td>122559</td>\n      <td>5998</td>\n      <td>2.435812</td>\n      <td>100</td>\n      <td>110.449104</td>\n    </tr>\n    <tr>\n      <th>11</th>\n      <td>78727</td>\n      <td>28999</td>\n      <td>12937</td>\n      <td>74458</td>\n      <td>88800</td>\n      <td>14029</td>\n      <td>2.067075</td>\n      <td>103</td>\n      <td>202.823270</td>\n    </tr>\n    <tr>\n      <th>12</th>\n      <td>78728</td>\n      <td>21245</td>\n      <td>10029</td>\n      <td>55603</td>\n      <td>71409</td>\n      <td>10626</td>\n      <td>1.999341</td>\n      <td>109</td>\n      <td>180.423455</td>\n    </tr>\n    <tr>\n      <th>13</th>\n      <td>78729</td>\n      <td>29434</td>\n      <td>12622</td>\n      <td>73047</td>\n      <td>86587</td>\n      <td>13636</td>\n      <td>2.158551</td>\n      <td>103</td>\n      <td>45.904240</td>\n    </tr>\n    <tr>\n      <th>14</th>\n      <td>78730</td>\n      <td>8933</td>\n      <td>3678</td>\n      <td>108750</td>\n      <td>183174</td>\n      <td>4019</td>\n      <td>2.222692</td>\n      <td>100</td>\n      <td>363.520021</td>\n    </tr>\n    <tr>\n      <th>15</th>\n      <td>78731</td>\n      <td>27447</td>\n      <td>12556</td>\n      <td>89099</td>\n      <td>140009</td>\n      <td>13476</td>\n      <td>2.036732</td>\n      <td>103</td>\n      <td>109.204654</td>\n    </tr>\n    <tr>\n      <th>16</th>\n      <td>78732</td>\n      <td>17762</td>\n      <td>5689</td>\n      <td>142612</td>\n      <td>193848</td>\n      <td>6114</td>\n      <td>2.905136</td>\n      <td>169</td>\n      <td>83.520811</td>\n    </tr>\n    <tr>\n      <th>17</th>\n      <td>78733</td>\n      <td>8754</td>\n      <td>2920</td>\n      <td>136563</td>\n      <td>214080</td>\n      <td>3033</td>\n      <td>2.886251</td>\n      <td>167</td>\n      <td>33.472346</td>\n    </tr>\n    <tr>\n      <th>18</th>\n      <td>78734</td>\n      <td>18722</td>\n      <td>7392</td>\n      <td>107827</td>\n      <td>142453</td>\n      <td>8633</td>\n      <td>2.168655</td>\n      <td>133</td>\n      <td>79.414758</td>\n    </tr>\n    <tr>\n      <th>19</th>\n      <td>78735</td>\n      <td>17919</td>\n      <td>7193</td>\n      <td>102551</td>\n      <td>155092</td>\n      <td>8176</td>\n      <td>2.191659</td>\n      <td>133</td>\n      <td>77.653644</td>\n    </tr>\n    <tr>\n      <th>20</th>\n      <td>78736</td>\n      <td>8199</td>\n      <td>3023</td>\n      <td>107467</td>\n      <td>134565</td>\n      <td>3306</td>\n      <td>2.480036</td>\n      <td>100</td>\n      <td>147.137392</td>\n    </tr>\n    <tr>\n      <th>21</th>\n      <td>78737</td>\n      <td>15879</td>\n      <td>5305</td>\n      <td>127136</td>\n      <td>148042</td>\n      <td>5385</td>\n      <td>2.948747</td>\n      <td>167</td>\n      <td>113.968413</td>\n    </tr>\n    <tr>\n      <th>22</th>\n      <td>78738</td>\n      <td>15746</td>\n      <td>5964</td>\n      <td>123836</td>\n      <td>159347</td>\n      <td>6737</td>\n      <td>2.337242</td>\n      <td>100</td>\n      <td>85.717770</td>\n    </tr>\n    <tr>\n      <th>23</th>\n      <td>78739</td>\n      <td>20191</td>\n      <td>6367</td>\n      <td>147736</td>\n      <td>175189</td>\n      <td>6460</td>\n      <td>3.125542</td>\n      <td>169</td>\n      <td>316.559853</td>\n    </tr>\n    <tr>\n      <th>24</th>\n      <td>78741</td>\n      <td>52307</td>\n      <td>20758</td>\n      <td>39049</td>\n      <td>49856</td>\n      <td>23380</td>\n      <td>2.237254</td>\n      <td>124</td>\n      <td>50.214312</td>\n    </tr>\n    <tr>\n      <th>25</th>\n      <td>78742</td>\n      <td>517</td>\n      <td>218</td>\n      <td>33182</td>\n      <td>49511</td>\n      <td>252</td>\n      <td>2.051587</td>\n      <td>156</td>\n      <td>162.467377</td>\n    </tr>\n    <tr>\n      <th>26</th>\n      <td>78744</td>\n      <td>48432</td>\n      <td>14345</td>\n      <td>47073</td>\n      <td>56407</td>\n      <td>15236</td>\n      <td>3.178787</td>\n      <td>148</td>\n      <td>178.134041</td>\n    </tr>\n    <tr>\n      <th>27</th>\n      <td>78745</td>\n      <td>62220</td>\n      <td>25857</td>\n      <td>60567</td>\n      <td>72944</td>\n      <td>27367</td>\n      <td>2.273541</td>\n      <td>124</td>\n      <td>71.563605</td>\n    </tr>\n    <tr>\n      <th>28</th>\n      <td>78746</td>\n      <td>28268</td>\n      <td>10848</td>\n      <td>136138</td>\n      <td>217305</td>\n      <td>11922</td>\n      <td>2.371079</td>\n      <td>145</td>\n      <td>205.049155</td>\n    </tr>\n    <tr>\n      <th>29</th>\n      <td>78747</td>\n      <td>20954</td>\n      <td>6364</td>\n      <td>79500</td>\n      <td>84070</td>\n      <td>6654</td>\n      <td>3.149083</td>\n      <td>110</td>\n      <td>177.682634</td>\n    </tr>\n    <tr>\n      <th>30</th>\n      <td>78748</td>\n      <td>49142</td>\n      <td>18820</td>\n      <td>74176</td>\n      <td>86175</td>\n      <td>19577</td>\n      <td>2.510191</td>\n      <td>142</td>\n      <td>200.268069</td>\n    </tr>\n    <tr>\n      <th>31</th>\n      <td>78749</td>\n      <td>37453</td>\n      <td>15215</td>\n      <td>92313</td>\n      <td>107483</td>\n      <td>15727</td>\n      <td>2.381446</td>\n      <td>109</td>\n      <td>100.550751</td>\n    </tr>\n    <tr>\n      <th>32</th>\n      <td>78750</td>\n      <td>30758</td>\n      <td>11713</td>\n      <td>81061</td>\n      <td>119690</td>\n      <td>12472</td>\n      <td>2.466164</td>\n      <td>87</td>\n      <td>124.758847</td>\n    </tr>\n    <tr>\n      <th>33</th>\n      <td>78751</td>\n      <td>14949</td>\n      <td>7463</td>\n      <td>54129</td>\n      <td>79620</td>\n      <td>8632</td>\n      <td>1.731812</td>\n      <td>121</td>\n      <td>120.604867</td>\n    </tr>\n    <tr>\n      <th>34</th>\n      <td>78752</td>\n      <td>20302</td>\n      <td>7932</td>\n      <td>41486</td>\n      <td>58935</td>\n      <td>8720</td>\n      <td>2.328211</td>\n      <td>109</td>\n      <td>86.598231</td>\n    </tr>\n    <tr>\n      <th>35</th>\n      <td>78753</td>\n      <td>58693</td>\n      <td>19947</td>\n      <td>45983</td>\n      <td>61853</td>\n      <td>21287</td>\n      <td>2.757223</td>\n      <td>147</td>\n      <td>181.171431</td>\n    </tr>\n    <tr>\n      <th>36</th>\n      <td>78754</td>\n      <td>23858</td>\n      <td>8009</td>\n      <td>64114</td>\n      <td>84433</td>\n      <td>8451</td>\n      <td>2.823098</td>\n      <td>113</td>\n      <td>156.607377</td>\n    </tr>\n    <tr>\n      <th>37</th>\n      <td>78756</td>\n      <td>8377</td>\n      <td>4246</td>\n      <td>73578</td>\n      <td>107864</td>\n      <td>4642</td>\n      <td>1.804610</td>\n      <td>156</td>\n      <td>174.434515</td>\n    </tr>\n    <tr>\n      <th>38</th>\n      <td>78757</td>\n      <td>24059</td>\n      <td>10746</td>\n      <td>65709</td>\n      <td>93055</td>\n      <td>11454</td>\n      <td>2.100489</td>\n      <td>95</td>\n      <td>135.633232</td>\n    </tr>\n    <tr>\n      <th>39</th>\n      <td>78758</td>\n      <td>46618</td>\n      <td>19397</td>\n      <td>50018</td>\n      <td>62838</td>\n      <td>21064</td>\n      <td>2.213160</td>\n      <td>142</td>\n      <td>162.606638</td>\n    </tr>\n    <tr>\n      <th>40</th>\n      <td>78759</td>\n      <td>41847</td>\n      <td>20240</td>\n      <td>76749</td>\n      <td>104404</td>\n      <td>21798</td>\n      <td>1.919763</td>\n      <td>149</td>\n      <td>NaN</td>\n    </tr>\n    <tr>\n      <th>41</th>\n      <td>78610</td>\n      <td>32692</td>\n      <td>11243</td>\n      <td>76623</td>\n      <td>90103</td>\n      <td>11585</td>\n      <td>2.821925</td>\n      <td>120</td>\n      <td>NaN</td>\n    </tr>\n    <tr>\n      <th>42</th>\n      <td>78617</td>\n      <td>27900</td>\n      <td>6520</td>\n      <td>52819</td>\n      <td>69936</td>\n      <td>7244</td>\n      <td>3.851463</td>\n      <td>44</td>\n      <td>NaN</td>\n    </tr>\n    <tr>\n      <th>43</th>\n      <td>78653</td>\n      <td>20822</td>\n      <td>6332</td>\n      <td>66752</td>\n      <td>75678</td>\n      <td>6891</td>\n      <td>3.021622</td>\n      <td>194</td>\n      <td>NaN</td>\n    </tr>\n    <tr>\n      <th>44</th>\n      <td>78660</td>\n      <td>85450</td>\n      <td>28469</td>\n      <td>81693</td>\n      <td>94180</td>\n      <td>29569</td>\n      <td>2.889851</td>\n      <td>124</td>\n      <td>NaN</td>\n    </tr>\n  </tbody>\n</table>\n</div>"
     },
     "metadata": {},
     "execution_count": 130
    }
   ],
   "source": [
    "all_zips_df"
   ]
  },
  {
   "cell_type": "code",
   "execution_count": 131,
   "metadata": {},
   "outputs": [],
   "source": [
    "# Drop outliers\n",
    "#all_zips_df = all_zips_df.drop([9,23,24,28])"
   ]
  },
  {
   "cell_type": "code",
   "execution_count": 132,
   "metadata": {},
   "outputs": [],
   "source": [
    "all_zips_df['DIFFERENCE'] = abs(all_zips_df['PREDICTED_TRASH_OUTPUT_PER_CAPITA (TONS)'] - all_zips_df['ACTUAL_TRASH_OUTPUT_PER_CAPITA'])"
   ]
  },
  {
   "cell_type": "code",
   "execution_count": 133,
   "metadata": {},
   "outputs": [
    {
     "output_type": "execute_result",
     "data": {
      "text/plain": [
       "    ZIPCODE  TOTAL_POPULATION  TOTAL_HOUSEHOLDS  MEDIAN_HOUSEHOLD_INCOME  \\\n",
       "0     78701              7875              4855                   112201   \n",
       "1     78702             22876              8937                    54053   \n",
       "2     78703             20788              9723                    98553   \n",
       "3     78704             47158             23213                    66262   \n",
       "4     78705             33075              8370                    15309   \n",
       "5     78721             12447              4197                    41611   \n",
       "6     78722              7254              3111                    69267   \n",
       "7     78723             33170             12518                    49606   \n",
       "8     78724             24833              6360                    45158   \n",
       "9     78725              7517              2544                    62172   \n",
       "10    78726             14610              5554                    88322   \n",
       "11    78727             28999             12937                    74458   \n",
       "12    78728             21245             10029                    55603   \n",
       "13    78729             29434             12622                    73047   \n",
       "14    78730              8933              3678                   108750   \n",
       "15    78731             27447             12556                    89099   \n",
       "16    78732             17762              5689                   142612   \n",
       "17    78733              8754              2920                   136563   \n",
       "18    78734             18722              7392                   107827   \n",
       "19    78735             17919              7193                   102551   \n",
       "20    78736              8199              3023                   107467   \n",
       "21    78737             15879              5305                   127136   \n",
       "22    78738             15746              5964                   123836   \n",
       "23    78739             20191              6367                   147736   \n",
       "24    78741             52307             20758                    39049   \n",
       "25    78742               517               218                    33182   \n",
       "26    78744             48432             14345                    47073   \n",
       "27    78745             62220             25857                    60567   \n",
       "28    78746             28268             10848                   136138   \n",
       "29    78747             20954              6364                    79500   \n",
       "30    78748             49142             18820                    74176   \n",
       "31    78749             37453             15215                    92313   \n",
       "32    78750             30758             11713                    81061   \n",
       "33    78751             14949              7463                    54129   \n",
       "34    78752             20302              7932                    41486   \n",
       "35    78753             58693             19947                    45983   \n",
       "36    78754             23858              8009                    64114   \n",
       "37    78756              8377              4246                    73578   \n",
       "38    78757             24059             10746                    65709   \n",
       "39    78758             46618             19397                    50018   \n",
       "40    78759             41847             20240                    76749   \n",
       "41    78610             32692             11243                    76623   \n",
       "42    78617             27900              6520                    52819   \n",
       "43    78653             20822              6332                    66752   \n",
       "44    78660             85450             28469                    81693   \n",
       "\n",
       "    MEAN_HOUSEHOLD_INCOME  TOTAL_HOUSING_UNITS  POPULATION_PER_UNIT  \\\n",
       "0                  173289                 6576             1.197536   \n",
       "1                   73919                 9839             2.325033   \n",
       "2                  166396                11047             1.881778   \n",
       "3                   91223                25815             1.826767   \n",
       "4                   41357                10336             3.199981   \n",
       "5                   52873                 4632             2.687176   \n",
       "6                   95443                 3415             2.124158   \n",
       "7                   71897                13777             2.407636   \n",
       "8                   55252                 6754             3.676784   \n",
       "9                   66225                 2598             2.893380   \n",
       "10                 122559                 5998             2.435812   \n",
       "11                  88800                14029             2.067075   \n",
       "12                  71409                10626             1.999341   \n",
       "13                  86587                13636             2.158551   \n",
       "14                 183174                 4019             2.222692   \n",
       "15                 140009                13476             2.036732   \n",
       "16                 193848                 6114             2.905136   \n",
       "17                 214080                 3033             2.886251   \n",
       "18                 142453                 8633             2.168655   \n",
       "19                 155092                 8176             2.191659   \n",
       "20                 134565                 3306             2.480036   \n",
       "21                 148042                 5385             2.948747   \n",
       "22                 159347                 6737             2.337242   \n",
       "23                 175189                 6460             3.125542   \n",
       "24                  49856                23380             2.237254   \n",
       "25                  49511                  252             2.051587   \n",
       "26                  56407                15236             3.178787   \n",
       "27                  72944                27367             2.273541   \n",
       "28                 217305                11922             2.371079   \n",
       "29                  84070                 6654             3.149083   \n",
       "30                  86175                19577             2.510191   \n",
       "31                 107483                15727             2.381446   \n",
       "32                 119690                12472             2.466164   \n",
       "33                  79620                 8632             1.731812   \n",
       "34                  58935                 8720             2.328211   \n",
       "35                  61853                21287             2.757223   \n",
       "36                  84433                 8451             2.823098   \n",
       "37                 107864                 4642             1.804610   \n",
       "38                  93055                11454             2.100489   \n",
       "39                  62838                21064             2.213160   \n",
       "40                 104404                21798             1.919763   \n",
       "41                  90103                11585             2.821925   \n",
       "42                  69936                 7244             3.851463   \n",
       "43                  75678                 6891             3.021622   \n",
       "44                  94180                29569             2.889851   \n",
       "\n",
       "    PREDICTED_TRASH_OUTPUT_PER_CAPITA (TONS)  ACTUAL_TRASH_OUTPUT_PER_CAPITA  \\\n",
       "0                                        136                       47.512545   \n",
       "1                                        109                             NaN   \n",
       "2                                        145                       39.641725   \n",
       "3                                        150                       58.217143   \n",
       "4                                         47                      163.547823   \n",
       "5                                        198                      176.612854   \n",
       "6                                        156                      109.339243   \n",
       "7                                        144                       48.573243   \n",
       "8                                         44                             NaN   \n",
       "9                                        171                             NaN   \n",
       "10                                       100                      110.449104   \n",
       "11                                       103                      202.823270   \n",
       "12                                       109                      180.423455   \n",
       "13                                       103                       45.904240   \n",
       "14                                       100                      363.520021   \n",
       "15                                       103                      109.204654   \n",
       "16                                       169                       83.520811   \n",
       "17                                       167                       33.472346   \n",
       "18                                       133                       79.414758   \n",
       "19                                       133                       77.653644   \n",
       "20                                       100                      147.137392   \n",
       "21                                       167                      113.968413   \n",
       "22                                       100                       85.717770   \n",
       "23                                       169                      316.559853   \n",
       "24                                       124                       50.214312   \n",
       "25                                       156                      162.467377   \n",
       "26                                       148                      178.134041   \n",
       "27                                       124                       71.563605   \n",
       "28                                       145                      205.049155   \n",
       "29                                       110                      177.682634   \n",
       "30                                       142                      200.268069   \n",
       "31                                       109                      100.550751   \n",
       "32                                        87                      124.758847   \n",
       "33                                       121                      120.604867   \n",
       "34                                       109                       86.598231   \n",
       "35                                       147                      181.171431   \n",
       "36                                       113                      156.607377   \n",
       "37                                       156                      174.434515   \n",
       "38                                        95                      135.633232   \n",
       "39                                       142                      162.606638   \n",
       "40                                       149                             NaN   \n",
       "41                                       120                             NaN   \n",
       "42                                        44                             NaN   \n",
       "43                                       194                             NaN   \n",
       "44                                       124                             NaN   \n",
       "\n",
       "    DIFFERENCE  \n",
       "0    88.487455  \n",
       "1          NaN  \n",
       "2   105.358275  \n",
       "3    91.782857  \n",
       "4   116.547823  \n",
       "5    21.387146  \n",
       "6    46.660757  \n",
       "7    95.426757  \n",
       "8          NaN  \n",
       "9          NaN  \n",
       "10   10.449104  \n",
       "11   99.823270  \n",
       "12   71.423455  \n",
       "13   57.095760  \n",
       "14  263.520021  \n",
       "15    6.204654  \n",
       "16   85.479189  \n",
       "17  133.527654  \n",
       "18   53.585242  \n",
       "19   55.346356  \n",
       "20   47.137392  \n",
       "21   53.031587  \n",
       "22   14.282230  \n",
       "23  147.559853  \n",
       "24   73.785688  \n",
       "25    6.467377  \n",
       "26   30.134041  \n",
       "27   52.436395  \n",
       "28   60.049155  \n",
       "29   67.682634  \n",
       "30   58.268069  \n",
       "31    8.449249  \n",
       "32   37.758847  \n",
       "33    0.395133  \n",
       "34   22.401769  \n",
       "35   34.171431  \n",
       "36   43.607377  \n",
       "37   18.434515  \n",
       "38   40.633232  \n",
       "39   20.606638  \n",
       "40         NaN  \n",
       "41         NaN  \n",
       "42         NaN  \n",
       "43         NaN  \n",
       "44         NaN  "
      ],
      "text/html": "<div>\n<style scoped>\n    .dataframe tbody tr th:only-of-type {\n        vertical-align: middle;\n    }\n\n    .dataframe tbody tr th {\n        vertical-align: top;\n    }\n\n    .dataframe thead th {\n        text-align: right;\n    }\n</style>\n<table border=\"1\" class=\"dataframe\">\n  <thead>\n    <tr style=\"text-align: right;\">\n      <th></th>\n      <th>ZIPCODE</th>\n      <th>TOTAL_POPULATION</th>\n      <th>TOTAL_HOUSEHOLDS</th>\n      <th>MEDIAN_HOUSEHOLD_INCOME</th>\n      <th>MEAN_HOUSEHOLD_INCOME</th>\n      <th>TOTAL_HOUSING_UNITS</th>\n      <th>POPULATION_PER_UNIT</th>\n      <th>PREDICTED_TRASH_OUTPUT_PER_CAPITA (TONS)</th>\n      <th>ACTUAL_TRASH_OUTPUT_PER_CAPITA</th>\n      <th>DIFFERENCE</th>\n    </tr>\n  </thead>\n  <tbody>\n    <tr>\n      <th>0</th>\n      <td>78701</td>\n      <td>7875</td>\n      <td>4855</td>\n      <td>112201</td>\n      <td>173289</td>\n      <td>6576</td>\n      <td>1.197536</td>\n      <td>136</td>\n      <td>47.512545</td>\n      <td>88.487455</td>\n    </tr>\n    <tr>\n      <th>1</th>\n      <td>78702</td>\n      <td>22876</td>\n      <td>8937</td>\n      <td>54053</td>\n      <td>73919</td>\n      <td>9839</td>\n      <td>2.325033</td>\n      <td>109</td>\n      <td>NaN</td>\n      <td>NaN</td>\n    </tr>\n    <tr>\n      <th>2</th>\n      <td>78703</td>\n      <td>20788</td>\n      <td>9723</td>\n      <td>98553</td>\n      <td>166396</td>\n      <td>11047</td>\n      <td>1.881778</td>\n      <td>145</td>\n      <td>39.641725</td>\n      <td>105.358275</td>\n    </tr>\n    <tr>\n      <th>3</th>\n      <td>78704</td>\n      <td>47158</td>\n      <td>23213</td>\n      <td>66262</td>\n      <td>91223</td>\n      <td>25815</td>\n      <td>1.826767</td>\n      <td>150</td>\n      <td>58.217143</td>\n      <td>91.782857</td>\n    </tr>\n    <tr>\n      <th>4</th>\n      <td>78705</td>\n      <td>33075</td>\n      <td>8370</td>\n      <td>15309</td>\n      <td>41357</td>\n      <td>10336</td>\n      <td>3.199981</td>\n      <td>47</td>\n      <td>163.547823</td>\n      <td>116.547823</td>\n    </tr>\n    <tr>\n      <th>5</th>\n      <td>78721</td>\n      <td>12447</td>\n      <td>4197</td>\n      <td>41611</td>\n      <td>52873</td>\n      <td>4632</td>\n      <td>2.687176</td>\n      <td>198</td>\n      <td>176.612854</td>\n      <td>21.387146</td>\n    </tr>\n    <tr>\n      <th>6</th>\n      <td>78722</td>\n      <td>7254</td>\n      <td>3111</td>\n      <td>69267</td>\n      <td>95443</td>\n      <td>3415</td>\n      <td>2.124158</td>\n      <td>156</td>\n      <td>109.339243</td>\n      <td>46.660757</td>\n    </tr>\n    <tr>\n      <th>7</th>\n      <td>78723</td>\n      <td>33170</td>\n      <td>12518</td>\n      <td>49606</td>\n      <td>71897</td>\n      <td>13777</td>\n      <td>2.407636</td>\n      <td>144</td>\n      <td>48.573243</td>\n      <td>95.426757</td>\n    </tr>\n    <tr>\n      <th>8</th>\n      <td>78724</td>\n      <td>24833</td>\n      <td>6360</td>\n      <td>45158</td>\n      <td>55252</td>\n      <td>6754</td>\n      <td>3.676784</td>\n      <td>44</td>\n      <td>NaN</td>\n      <td>NaN</td>\n    </tr>\n    <tr>\n      <th>9</th>\n      <td>78725</td>\n      <td>7517</td>\n      <td>2544</td>\n      <td>62172</td>\n      <td>66225</td>\n      <td>2598</td>\n      <td>2.893380</td>\n      <td>171</td>\n      <td>NaN</td>\n      <td>NaN</td>\n    </tr>\n    <tr>\n      <th>10</th>\n      <td>78726</td>\n      <td>14610</td>\n      <td>5554</td>\n      <td>88322</td>\n      <td>122559</td>\n      <td>5998</td>\n      <td>2.435812</td>\n      <td>100</td>\n      <td>110.449104</td>\n      <td>10.449104</td>\n    </tr>\n    <tr>\n      <th>11</th>\n      <td>78727</td>\n      <td>28999</td>\n      <td>12937</td>\n      <td>74458</td>\n      <td>88800</td>\n      <td>14029</td>\n      <td>2.067075</td>\n      <td>103</td>\n      <td>202.823270</td>\n      <td>99.823270</td>\n    </tr>\n    <tr>\n      <th>12</th>\n      <td>78728</td>\n      <td>21245</td>\n      <td>10029</td>\n      <td>55603</td>\n      <td>71409</td>\n      <td>10626</td>\n      <td>1.999341</td>\n      <td>109</td>\n      <td>180.423455</td>\n      <td>71.423455</td>\n    </tr>\n    <tr>\n      <th>13</th>\n      <td>78729</td>\n      <td>29434</td>\n      <td>12622</td>\n      <td>73047</td>\n      <td>86587</td>\n      <td>13636</td>\n      <td>2.158551</td>\n      <td>103</td>\n      <td>45.904240</td>\n      <td>57.095760</td>\n    </tr>\n    <tr>\n      <th>14</th>\n      <td>78730</td>\n      <td>8933</td>\n      <td>3678</td>\n      <td>108750</td>\n      <td>183174</td>\n      <td>4019</td>\n      <td>2.222692</td>\n      <td>100</td>\n      <td>363.520021</td>\n      <td>263.520021</td>\n    </tr>\n    <tr>\n      <th>15</th>\n      <td>78731</td>\n      <td>27447</td>\n      <td>12556</td>\n      <td>89099</td>\n      <td>140009</td>\n      <td>13476</td>\n      <td>2.036732</td>\n      <td>103</td>\n      <td>109.204654</td>\n      <td>6.204654</td>\n    </tr>\n    <tr>\n      <th>16</th>\n      <td>78732</td>\n      <td>17762</td>\n      <td>5689</td>\n      <td>142612</td>\n      <td>193848</td>\n      <td>6114</td>\n      <td>2.905136</td>\n      <td>169</td>\n      <td>83.520811</td>\n      <td>85.479189</td>\n    </tr>\n    <tr>\n      <th>17</th>\n      <td>78733</td>\n      <td>8754</td>\n      <td>2920</td>\n      <td>136563</td>\n      <td>214080</td>\n      <td>3033</td>\n      <td>2.886251</td>\n      <td>167</td>\n      <td>33.472346</td>\n      <td>133.527654</td>\n    </tr>\n    <tr>\n      <th>18</th>\n      <td>78734</td>\n      <td>18722</td>\n      <td>7392</td>\n      <td>107827</td>\n      <td>142453</td>\n      <td>8633</td>\n      <td>2.168655</td>\n      <td>133</td>\n      <td>79.414758</td>\n      <td>53.585242</td>\n    </tr>\n    <tr>\n      <th>19</th>\n      <td>78735</td>\n      <td>17919</td>\n      <td>7193</td>\n      <td>102551</td>\n      <td>155092</td>\n      <td>8176</td>\n      <td>2.191659</td>\n      <td>133</td>\n      <td>77.653644</td>\n      <td>55.346356</td>\n    </tr>\n    <tr>\n      <th>20</th>\n      <td>78736</td>\n      <td>8199</td>\n      <td>3023</td>\n      <td>107467</td>\n      <td>134565</td>\n      <td>3306</td>\n      <td>2.480036</td>\n      <td>100</td>\n      <td>147.137392</td>\n      <td>47.137392</td>\n    </tr>\n    <tr>\n      <th>21</th>\n      <td>78737</td>\n      <td>15879</td>\n      <td>5305</td>\n      <td>127136</td>\n      <td>148042</td>\n      <td>5385</td>\n      <td>2.948747</td>\n      <td>167</td>\n      <td>113.968413</td>\n      <td>53.031587</td>\n    </tr>\n    <tr>\n      <th>22</th>\n      <td>78738</td>\n      <td>15746</td>\n      <td>5964</td>\n      <td>123836</td>\n      <td>159347</td>\n      <td>6737</td>\n      <td>2.337242</td>\n      <td>100</td>\n      <td>85.717770</td>\n      <td>14.282230</td>\n    </tr>\n    <tr>\n      <th>23</th>\n      <td>78739</td>\n      <td>20191</td>\n      <td>6367</td>\n      <td>147736</td>\n      <td>175189</td>\n      <td>6460</td>\n      <td>3.125542</td>\n      <td>169</td>\n      <td>316.559853</td>\n      <td>147.559853</td>\n    </tr>\n    <tr>\n      <th>24</th>\n      <td>78741</td>\n      <td>52307</td>\n      <td>20758</td>\n      <td>39049</td>\n      <td>49856</td>\n      <td>23380</td>\n      <td>2.237254</td>\n      <td>124</td>\n      <td>50.214312</td>\n      <td>73.785688</td>\n    </tr>\n    <tr>\n      <th>25</th>\n      <td>78742</td>\n      <td>517</td>\n      <td>218</td>\n      <td>33182</td>\n      <td>49511</td>\n      <td>252</td>\n      <td>2.051587</td>\n      <td>156</td>\n      <td>162.467377</td>\n      <td>6.467377</td>\n    </tr>\n    <tr>\n      <th>26</th>\n      <td>78744</td>\n      <td>48432</td>\n      <td>14345</td>\n      <td>47073</td>\n      <td>56407</td>\n      <td>15236</td>\n      <td>3.178787</td>\n      <td>148</td>\n      <td>178.134041</td>\n      <td>30.134041</td>\n    </tr>\n    <tr>\n      <th>27</th>\n      <td>78745</td>\n      <td>62220</td>\n      <td>25857</td>\n      <td>60567</td>\n      <td>72944</td>\n      <td>27367</td>\n      <td>2.273541</td>\n      <td>124</td>\n      <td>71.563605</td>\n      <td>52.436395</td>\n    </tr>\n    <tr>\n      <th>28</th>\n      <td>78746</td>\n      <td>28268</td>\n      <td>10848</td>\n      <td>136138</td>\n      <td>217305</td>\n      <td>11922</td>\n      <td>2.371079</td>\n      <td>145</td>\n      <td>205.049155</td>\n      <td>60.049155</td>\n    </tr>\n    <tr>\n      <th>29</th>\n      <td>78747</td>\n      <td>20954</td>\n      <td>6364</td>\n      <td>79500</td>\n      <td>84070</td>\n      <td>6654</td>\n      <td>3.149083</td>\n      <td>110</td>\n      <td>177.682634</td>\n      <td>67.682634</td>\n    </tr>\n    <tr>\n      <th>30</th>\n      <td>78748</td>\n      <td>49142</td>\n      <td>18820</td>\n      <td>74176</td>\n      <td>86175</td>\n      <td>19577</td>\n      <td>2.510191</td>\n      <td>142</td>\n      <td>200.268069</td>\n      <td>58.268069</td>\n    </tr>\n    <tr>\n      <th>31</th>\n      <td>78749</td>\n      <td>37453</td>\n      <td>15215</td>\n      <td>92313</td>\n      <td>107483</td>\n      <td>15727</td>\n      <td>2.381446</td>\n      <td>109</td>\n      <td>100.550751</td>\n      <td>8.449249</td>\n    </tr>\n    <tr>\n      <th>32</th>\n      <td>78750</td>\n      <td>30758</td>\n      <td>11713</td>\n      <td>81061</td>\n      <td>119690</td>\n      <td>12472</td>\n      <td>2.466164</td>\n      <td>87</td>\n      <td>124.758847</td>\n      <td>37.758847</td>\n    </tr>\n    <tr>\n      <th>33</th>\n      <td>78751</td>\n      <td>14949</td>\n      <td>7463</td>\n      <td>54129</td>\n      <td>79620</td>\n      <td>8632</td>\n      <td>1.731812</td>\n      <td>121</td>\n      <td>120.604867</td>\n      <td>0.395133</td>\n    </tr>\n    <tr>\n      <th>34</th>\n      <td>78752</td>\n      <td>20302</td>\n      <td>7932</td>\n      <td>41486</td>\n      <td>58935</td>\n      <td>8720</td>\n      <td>2.328211</td>\n      <td>109</td>\n      <td>86.598231</td>\n      <td>22.401769</td>\n    </tr>\n    <tr>\n      <th>35</th>\n      <td>78753</td>\n      <td>58693</td>\n      <td>19947</td>\n      <td>45983</td>\n      <td>61853</td>\n      <td>21287</td>\n      <td>2.757223</td>\n      <td>147</td>\n      <td>181.171431</td>\n      <td>34.171431</td>\n    </tr>\n    <tr>\n      <th>36</th>\n      <td>78754</td>\n      <td>23858</td>\n      <td>8009</td>\n      <td>64114</td>\n      <td>84433</td>\n      <td>8451</td>\n      <td>2.823098</td>\n      <td>113</td>\n      <td>156.607377</td>\n      <td>43.607377</td>\n    </tr>\n    <tr>\n      <th>37</th>\n      <td>78756</td>\n      <td>8377</td>\n      <td>4246</td>\n      <td>73578</td>\n      <td>107864</td>\n      <td>4642</td>\n      <td>1.804610</td>\n      <td>156</td>\n      <td>174.434515</td>\n      <td>18.434515</td>\n    </tr>\n    <tr>\n      <th>38</th>\n      <td>78757</td>\n      <td>24059</td>\n      <td>10746</td>\n      <td>65709</td>\n      <td>93055</td>\n      <td>11454</td>\n      <td>2.100489</td>\n      <td>95</td>\n      <td>135.633232</td>\n      <td>40.633232</td>\n    </tr>\n    <tr>\n      <th>39</th>\n      <td>78758</td>\n      <td>46618</td>\n      <td>19397</td>\n      <td>50018</td>\n      <td>62838</td>\n      <td>21064</td>\n      <td>2.213160</td>\n      <td>142</td>\n      <td>162.606638</td>\n      <td>20.606638</td>\n    </tr>\n    <tr>\n      <th>40</th>\n      <td>78759</td>\n      <td>41847</td>\n      <td>20240</td>\n      <td>76749</td>\n      <td>104404</td>\n      <td>21798</td>\n      <td>1.919763</td>\n      <td>149</td>\n      <td>NaN</td>\n      <td>NaN</td>\n    </tr>\n    <tr>\n      <th>41</th>\n      <td>78610</td>\n      <td>32692</td>\n      <td>11243</td>\n      <td>76623</td>\n      <td>90103</td>\n      <td>11585</td>\n      <td>2.821925</td>\n      <td>120</td>\n      <td>NaN</td>\n      <td>NaN</td>\n    </tr>\n    <tr>\n      <th>42</th>\n      <td>78617</td>\n      <td>27900</td>\n      <td>6520</td>\n      <td>52819</td>\n      <td>69936</td>\n      <td>7244</td>\n      <td>3.851463</td>\n      <td>44</td>\n      <td>NaN</td>\n      <td>NaN</td>\n    </tr>\n    <tr>\n      <th>43</th>\n      <td>78653</td>\n      <td>20822</td>\n      <td>6332</td>\n      <td>66752</td>\n      <td>75678</td>\n      <td>6891</td>\n      <td>3.021622</td>\n      <td>194</td>\n      <td>NaN</td>\n      <td>NaN</td>\n    </tr>\n    <tr>\n      <th>44</th>\n      <td>78660</td>\n      <td>85450</td>\n      <td>28469</td>\n      <td>81693</td>\n      <td>94180</td>\n      <td>29569</td>\n      <td>2.889851</td>\n      <td>124</td>\n      <td>NaN</td>\n      <td>NaN</td>\n    </tr>\n  </tbody>\n</table>\n</div>"
     },
     "metadata": {},
     "execution_count": 133
    }
   ],
   "source": [
    "all_zips_df"
   ]
  },
  {
   "cell_type": "code",
   "execution_count": 134,
   "metadata": {},
   "outputs": [],
   "source": [
    "def binned_trash(number_of_bins, dataSeries):\n",
    "    bins = {}\n",
    "    out = []\n",
    "    min_value = dataSeries.min()\n",
    "    max_value = dataSeries.max()\n",
    "    mean_value = dataSeries.mean()\n",
    "\n",
    "    for bin in range(0,number_of_bins):\n",
    "        b_float_lower = float(bin)/float(number_of_bins)\n",
    "        b_float_upper = float(bin+1.)/float(number_of_bins)\n",
    "        bins[bin] = [min_value + b_float_lower * (max_value - min_value), min_value + b_float_upper*(max_value - min_value)]\n",
    "    \n",
    "\n",
    "    for row in dataSeries:\n",
    "        for bin, bin_range in bins.items():\n",
    "            if row <= bin_range[1] and row >= bin_range[0]:\n",
    "                out.append(bin)\n",
    "\n",
    "    return pd.Series(out), bins"
   ]
  },
  {
   "cell_type": "code",
   "execution_count": 135,
   "metadata": {},
   "outputs": [],
   "source": [
    "binned_load_per_capita, bins = binned_trash(3, all_zips_df['ACTUAL_TRASH_OUTPUT_PER_CAPITA'])"
   ]
  },
  {
   "cell_type": "code",
   "execution_count": 136,
   "metadata": {},
   "outputs": [
    {
     "output_type": "execute_result",
     "data": {
      "text/plain": [
       "37"
      ]
     },
     "metadata": {},
     "execution_count": 136
    }
   ],
   "source": [
    "binned_load_per_capita.size"
   ]
  },
  {
   "cell_type": "code",
   "execution_count": 137,
   "metadata": {},
   "outputs": [
    {
     "output_type": "execute_result",
     "data": {
      "text/plain": [
       "0     0\n",
       "1     0\n",
       "2     0\n",
       "3     1\n",
       "4     1\n",
       "5     0\n",
       "6     0\n",
       "7     0\n",
       "8     1\n",
       "9     1\n",
       "10    0\n",
       "11    2\n",
       "12    0\n",
       "13    0\n",
       "14    0\n",
       "15    0\n",
       "16    0\n",
       "17    1\n",
       "18    0\n",
       "19    0\n",
       "20    2\n",
       "21    0\n",
       "22    1\n",
       "23    1\n",
       "24    0\n",
       "25    1\n",
       "26    1\n",
       "27    1\n",
       "28    0\n",
       "29    0\n",
       "30    0\n",
       "31    0\n",
       "32    1\n",
       "33    1\n",
       "34    1\n",
       "35    0\n",
       "36    1\n",
       "dtype: int64"
      ]
     },
     "metadata": {},
     "execution_count": 137
    }
   ],
   "source": [
    "binned_load_per_capita"
   ]
  },
  {
   "cell_type": "code",
   "execution_count": 138,
   "metadata": {},
   "outputs": [
    {
     "output_type": "execute_result",
     "data": {
      "text/plain": [
       "{0: [33.47234643445517, 143.48823805133247],\n",
       " 1: [143.48823805133247, 253.5041296682098],\n",
       " 2: [253.5041296682098, 363.5200212850871]}"
      ]
     },
     "metadata": {},
     "execution_count": 138
    }
   ],
   "source": [
    "bins"
   ]
  },
  {
   "cell_type": "code",
   "execution_count": 139,
   "metadata": {},
   "outputs": [],
   "source": [
    "X = pd.DataFrame(X_reduced)"
   ]
  },
  {
   "cell_type": "code",
   "execution_count": 140,
   "metadata": {},
   "outputs": [
    {
     "output_type": "execute_result",
     "data": {
      "text/plain": [
       "          0         1         2\n",
       "0 -0.731590  2.603767  0.920024\n",
       "1 -1.066756  1.081202  0.296805\n",
       "2 -1.882155 -2.557562 -0.627365\n",
       "3 -0.315569  0.275624 -0.725621\n",
       "4 -0.522740 -1.386607  0.031273"
      ],
      "text/html": "<div>\n<style scoped>\n    .dataframe tbody tr th:only-of-type {\n        vertical-align: middle;\n    }\n\n    .dataframe tbody tr th {\n        vertical-align: top;\n    }\n\n    .dataframe thead th {\n        text-align: right;\n    }\n</style>\n<table border=\"1\" class=\"dataframe\">\n  <thead>\n    <tr style=\"text-align: right;\">\n      <th></th>\n      <th>0</th>\n      <th>1</th>\n      <th>2</th>\n    </tr>\n  </thead>\n  <tbody>\n    <tr>\n      <th>0</th>\n      <td>-0.731590</td>\n      <td>2.603767</td>\n      <td>0.920024</td>\n    </tr>\n    <tr>\n      <th>1</th>\n      <td>-1.066756</td>\n      <td>1.081202</td>\n      <td>0.296805</td>\n    </tr>\n    <tr>\n      <th>2</th>\n      <td>-1.882155</td>\n      <td>-2.557562</td>\n      <td>-0.627365</td>\n    </tr>\n    <tr>\n      <th>3</th>\n      <td>-0.315569</td>\n      <td>0.275624</td>\n      <td>-0.725621</td>\n    </tr>\n    <tr>\n      <th>4</th>\n      <td>-0.522740</td>\n      <td>-1.386607</td>\n      <td>0.031273</td>\n    </tr>\n  </tbody>\n</table>\n</div>"
     },
     "metadata": {},
     "execution_count": 140
    }
   ],
   "source": [
    "X.head()"
   ]
  },
  {
   "cell_type": "code",
   "execution_count": 153,
   "metadata": {},
   "outputs": [],
   "source": [
    "# Split data into training and testing sets\n",
    "X_train,X_test,y_train,y_test = train_test_split(X, binned_load_per_capita,random_state=1)"
   ]
  },
  {
   "cell_type": "code",
   "execution_count": 142,
   "metadata": {},
   "outputs": [],
   "source": [
    "rf = RandomForestClassifier(random_state=1)"
   ]
  },
  {
   "cell_type": "code",
   "execution_count": 143,
   "metadata": {},
   "outputs": [
    {
     "output_type": "execute_result",
     "data": {
      "text/plain": [
       "RandomForestClassifier(random_state=1)"
      ]
     },
     "metadata": {},
     "execution_count": 143
    }
   ],
   "source": [
    "rf.fit(X_train, y_train)"
   ]
  },
  {
   "cell_type": "code",
   "execution_count": 144,
   "metadata": {},
   "outputs": [
    {
     "output_type": "stream",
     "name": "stdout",
     "text": [
      "30    0\n17    1\n28    0\n34    1\n31    0\n26    1\n4     1\n14    0\n10    0\n33    1\n23    1\n32    1\n20    2\n18    0\n6     0\n13    0\n7     0\n36    1\n1     0\n16    0\n0     0\n15    0\n5     0\n11    2\n9     1\n8     1\n12    0\ndtype: int64\n"
     ]
    }
   ],
   "source": [
    "print(y_train)"
   ]
  },
  {
   "cell_type": "code",
   "execution_count": 145,
   "metadata": {},
   "outputs": [],
   "source": [
    "y_pred = rf.predict(X_test)"
   ]
  },
  {
   "cell_type": "code",
   "execution_count": 146,
   "metadata": {},
   "outputs": [
    {
     "output_type": "stream",
     "name": "stdout",
     "text": [
      "[1 0 1 0 0 1 1 1 0 1]\n"
     ]
    }
   ],
   "source": [
    "print(y_pred)"
   ]
  },
  {
   "cell_type": "code",
   "execution_count": 147,
   "metadata": {},
   "outputs": [],
   "source": [
    "score = accuracy_score(y_test, y_pred)"
   ]
  },
  {
   "cell_type": "code",
   "execution_count": 148,
   "metadata": {},
   "outputs": [
    {
     "output_type": "stream",
     "name": "stdout",
     "text": [
      "0.4\n"
     ]
    }
   ],
   "source": [
    "print(score)"
   ]
  },
  {
   "cell_type": "code",
   "execution_count": 149,
   "metadata": {},
   "outputs": [
    {
     "output_type": "stream",
     "name": "stdout",
     "text": [
      "2     0\n29    0\n3     1\n22    1\n25    1\n27    1\n21    0\n35    0\n19    0\n24    0\ndtype: int64\n"
     ]
    }
   ],
   "source": [
    "print(y_test)"
   ]
  },
  {
   "cell_type": "code",
   "execution_count": 150,
   "metadata": {},
   "outputs": [],
   "source": [
    "all_pred = rf.predict(T_reduced)"
   ]
  },
  {
   "cell_type": "code",
   "execution_count": 151,
   "metadata": {
    "tags": []
   },
   "outputs": [
    {
     "output_type": "stream",
     "name": "stdout",
     "text": [
      "0     0\n",
      "1     0\n",
      "2     0\n",
      "3     1\n",
      "4     1\n",
      "5     0\n",
      "6     0\n",
      "7     0\n",
      "8     1\n",
      "9     1\n",
      "10    0\n",
      "11    2\n",
      "12    0\n",
      "13    0\n",
      "14    0\n",
      "15    0\n",
      "16    0\n",
      "17    1\n",
      "18    0\n",
      "19    0\n",
      "20    2\n",
      "21    0\n",
      "22    1\n",
      "23    1\n",
      "24    0\n",
      "25    1\n",
      "26    1\n",
      "27    1\n",
      "28    0\n",
      "29    0\n",
      "30    0\n",
      "31    0\n",
      "32    1\n",
      "33    1\n",
      "34    1\n",
      "35    0\n",
      "36    1\n",
      "dtype: int64\n",
      "47.51254480286738\n",
      "NA\n",
      "39.641725098453556\n",
      "58.21714285714286\n",
      "163.54782304598706\n",
      "176.61285356936693\n",
      "109.33924254633361\n",
      "48.57324263038549\n",
      "NA\n",
      "NA\n",
      "110.4491042018157\n",
      "202.8232699200441\n",
      "180.42345492915285\n",
      "45.90424032537349\n",
      "363.5200212850871\n",
      "109.20465434633813\n",
      "83.52081106245043\n",
      "33.47234643445517\n",
      "79.41475844261738\n",
      "77.65364379267884\n",
      "147.13739206470652\n",
      "113.96841341592723\n",
      "85.71777045981217\n",
      "316.55985340002974\n",
      "50.21431166000726\n",
      "162.46737694086553\n",
      "178.1340405014465\n",
      "71.56360549030705\n",
      "205.04915529254558\n",
      "177.6826339994302\n",
      "200.26806931353963\n",
      "100.55075102412381\n",
      "124.75884674560172\n",
      "120.60486651561422\n",
      "86.59823147564445\n",
      "181.1714309665521\n",
      "156.60737734272413\n",
      "174.43451515025563\n",
      "135.63323179887598\n",
      "162.60663846870744\n",
      "NA\n",
      "NA\n",
      "NA\n",
      "NA\n",
      "NA\n"
     ]
    }
   ],
   "source": [
    "all_zips_df[\"PREDICTED_BIN\"] = all_pred\n",
    "#print(len(all_zips_df))\n",
    "all_zips_df[\"ACTUAL_BIN\"] = [float(\"nan\")]*len(all_zips_df)\n",
    "all_zips_df[\"FINAL_OUTPUT\"] = all_pred\n",
    "bin_names = {0: \"LOW\", 1: \"MEDIUM\", 2: \"HIGH\"}\n",
    "len(binned_load_per_capita)\n",
    "print(binned_load_per_capita)\n",
    "# Index tracking non Nan rows because binned_load_per_capita removes them from indexing\n",
    "my_index = 0\n",
    "for index,row in all_zips_df.iterrows():\n",
    "    if not pd.isna(row[\"ACTUAL_TRASH_OUTPUT_PER_CAPITA\"]):\n",
    "        print(row[\"ACTUAL_TRASH_OUTPUT_PER_CAPITA\"])\n",
    "        # Goes to column 11 and assigns bin number\n",
    "        all_zips_df.iloc[[index],[11]] = binned_load_per_capita[my_index]\n",
    "\n",
    "        all_zips_df.iloc[[index],[12]] = bin_names[binned_load_per_capita[my_index]]\n",
    "        my_index += 1\n",
    "    else:\n",
    "        all_zips_df.iloc[[index],[12]] = bin_names[all_pred[index]]\n",
    "\n",
    "        print(\"NA\")"
   ]
  },
  {
   "cell_type": "code",
   "execution_count": 152,
   "metadata": {},
   "outputs": [
    {
     "output_type": "execute_result",
     "data": {
      "text/plain": [
       "    ZIPCODE  TOTAL_POPULATION  TOTAL_HOUSEHOLDS  MEDIAN_HOUSEHOLD_INCOME  \\\n",
       "0     78701              7875              4855                   112201   \n",
       "1     78702             22876              8937                    54053   \n",
       "2     78703             20788              9723                    98553   \n",
       "3     78704             47158             23213                    66262   \n",
       "4     78705             33075              8370                    15309   \n",
       "5     78721             12447              4197                    41611   \n",
       "6     78722              7254              3111                    69267   \n",
       "7     78723             33170             12518                    49606   \n",
       "8     78724             24833              6360                    45158   \n",
       "9     78725              7517              2544                    62172   \n",
       "10    78726             14610              5554                    88322   \n",
       "11    78727             28999             12937                    74458   \n",
       "12    78728             21245             10029                    55603   \n",
       "13    78729             29434             12622                    73047   \n",
       "14    78730              8933              3678                   108750   \n",
       "15    78731             27447             12556                    89099   \n",
       "16    78732             17762              5689                   142612   \n",
       "17    78733              8754              2920                   136563   \n",
       "18    78734             18722              7392                   107827   \n",
       "19    78735             17919              7193                   102551   \n",
       "20    78736              8199              3023                   107467   \n",
       "21    78737             15879              5305                   127136   \n",
       "22    78738             15746              5964                   123836   \n",
       "23    78739             20191              6367                   147736   \n",
       "24    78741             52307             20758                    39049   \n",
       "25    78742               517               218                    33182   \n",
       "26    78744             48432             14345                    47073   \n",
       "27    78745             62220             25857                    60567   \n",
       "28    78746             28268             10848                   136138   \n",
       "29    78747             20954              6364                    79500   \n",
       "30    78748             49142             18820                    74176   \n",
       "31    78749             37453             15215                    92313   \n",
       "32    78750             30758             11713                    81061   \n",
       "33    78751             14949              7463                    54129   \n",
       "34    78752             20302              7932                    41486   \n",
       "35    78753             58693             19947                    45983   \n",
       "36    78754             23858              8009                    64114   \n",
       "37    78756              8377              4246                    73578   \n",
       "38    78757             24059             10746                    65709   \n",
       "39    78758             46618             19397                    50018   \n",
       "40    78759             41847             20240                    76749   \n",
       "41    78610             32692             11243                    76623   \n",
       "42    78617             27900              6520                    52819   \n",
       "43    78653             20822              6332                    66752   \n",
       "44    78660             85450             28469                    81693   \n",
       "\n",
       "    MEAN_HOUSEHOLD_INCOME  TOTAL_HOUSING_UNITS  POPULATION_PER_UNIT  \\\n",
       "0                  173289                 6576             1.197536   \n",
       "1                   73919                 9839             2.325033   \n",
       "2                  166396                11047             1.881778   \n",
       "3                   91223                25815             1.826767   \n",
       "4                   41357                10336             3.199981   \n",
       "5                   52873                 4632             2.687176   \n",
       "6                   95443                 3415             2.124158   \n",
       "7                   71897                13777             2.407636   \n",
       "8                   55252                 6754             3.676784   \n",
       "9                   66225                 2598             2.893380   \n",
       "10                 122559                 5998             2.435812   \n",
       "11                  88800                14029             2.067075   \n",
       "12                  71409                10626             1.999341   \n",
       "13                  86587                13636             2.158551   \n",
       "14                 183174                 4019             2.222692   \n",
       "15                 140009                13476             2.036732   \n",
       "16                 193848                 6114             2.905136   \n",
       "17                 214080                 3033             2.886251   \n",
       "18                 142453                 8633             2.168655   \n",
       "19                 155092                 8176             2.191659   \n",
       "20                 134565                 3306             2.480036   \n",
       "21                 148042                 5385             2.948747   \n",
       "22                 159347                 6737             2.337242   \n",
       "23                 175189                 6460             3.125542   \n",
       "24                  49856                23380             2.237254   \n",
       "25                  49511                  252             2.051587   \n",
       "26                  56407                15236             3.178787   \n",
       "27                  72944                27367             2.273541   \n",
       "28                 217305                11922             2.371079   \n",
       "29                  84070                 6654             3.149083   \n",
       "30                  86175                19577             2.510191   \n",
       "31                 107483                15727             2.381446   \n",
       "32                 119690                12472             2.466164   \n",
       "33                  79620                 8632             1.731812   \n",
       "34                  58935                 8720             2.328211   \n",
       "35                  61853                21287             2.757223   \n",
       "36                  84433                 8451             2.823098   \n",
       "37                 107864                 4642             1.804610   \n",
       "38                  93055                11454             2.100489   \n",
       "39                  62838                21064             2.213160   \n",
       "40                 104404                21798             1.919763   \n",
       "41                  90103                11585             2.821925   \n",
       "42                  69936                 7244             3.851463   \n",
       "43                  75678                 6891             3.021622   \n",
       "44                  94180                29569             2.889851   \n",
       "\n",
       "    PREDICTED_TRASH_OUTPUT_PER_CAPITA (TONS)  ACTUAL_TRASH_OUTPUT_PER_CAPITA  \\\n",
       "0                                        136                       47.512545   \n",
       "1                                        109                             NaN   \n",
       "2                                        145                       39.641725   \n",
       "3                                        150                       58.217143   \n",
       "4                                         47                      163.547823   \n",
       "5                                        198                      176.612854   \n",
       "6                                        156                      109.339243   \n",
       "7                                        144                       48.573243   \n",
       "8                                         44                             NaN   \n",
       "9                                        171                             NaN   \n",
       "10                                       100                      110.449104   \n",
       "11                                       103                      202.823270   \n",
       "12                                       109                      180.423455   \n",
       "13                                       103                       45.904240   \n",
       "14                                       100                      363.520021   \n",
       "15                                       103                      109.204654   \n",
       "16                                       169                       83.520811   \n",
       "17                                       167                       33.472346   \n",
       "18                                       133                       79.414758   \n",
       "19                                       133                       77.653644   \n",
       "20                                       100                      147.137392   \n",
       "21                                       167                      113.968413   \n",
       "22                                       100                       85.717770   \n",
       "23                                       169                      316.559853   \n",
       "24                                       124                       50.214312   \n",
       "25                                       156                      162.467377   \n",
       "26                                       148                      178.134041   \n",
       "27                                       124                       71.563605   \n",
       "28                                       145                      205.049155   \n",
       "29                                       110                      177.682634   \n",
       "30                                       142                      200.268069   \n",
       "31                                       109                      100.550751   \n",
       "32                                        87                      124.758847   \n",
       "33                                       121                      120.604867   \n",
       "34                                       109                       86.598231   \n",
       "35                                       147                      181.171431   \n",
       "36                                       113                      156.607377   \n",
       "37                                       156                      174.434515   \n",
       "38                                        95                      135.633232   \n",
       "39                                       142                      162.606638   \n",
       "40                                       149                             NaN   \n",
       "41                                       120                             NaN   \n",
       "42                                        44                             NaN   \n",
       "43                                       194                             NaN   \n",
       "44                                       124                             NaN   \n",
       "\n",
       "    DIFFERENCE  PREDICTED_BIN  ACTUAL_BIN FINAL_OUTPUT  \n",
       "0    88.487455              1         0.0          LOW  \n",
       "1          NaN              1         NaN       MEDIUM  \n",
       "2   105.358275              1         0.0          LOW  \n",
       "3    91.782857              0         0.0          LOW  \n",
       "4   116.547823              0         1.0       MEDIUM  \n",
       "5    21.387146              0         1.0       MEDIUM  \n",
       "6    46.660757              1         0.0          LOW  \n",
       "7    95.426757              1         0.0          LOW  \n",
       "8          NaN              0         NaN          LOW  \n",
       "9          NaN              2         NaN         HIGH  \n",
       "10   10.449104              0         0.0          LOW  \n",
       "11   99.823270              0         1.0       MEDIUM  \n",
       "12   71.423455              0         1.0       MEDIUM  \n",
       "13   57.095760              0         0.0          LOW  \n",
       "14  263.520021              0         2.0         HIGH  \n",
       "15    6.204654              1         0.0          LOW  \n",
       "16   85.479189              2         0.0          LOW  \n",
       "17  133.527654              2         0.0          LOW  \n",
       "18   53.585242              0         0.0          LOW  \n",
       "19   55.346356              0         0.0          LOW  \n",
       "20   47.137392              0         1.0       MEDIUM  \n",
       "21   53.031587              2         0.0          LOW  \n",
       "22   14.282230              0         0.0          LOW  \n",
       "23  147.559853              2         2.0         HIGH  \n",
       "24   73.785688              1         0.0          LOW  \n",
       "25    6.467377              1         1.0       MEDIUM  \n",
       "26   30.134041              0         1.0       MEDIUM  \n",
       "27   52.436395              1         0.0          LOW  \n",
       "28   60.049155              1         1.0       MEDIUM  \n",
       "29   67.682634              0         1.0       MEDIUM  \n",
       "30   58.268069              1         1.0       MEDIUM  \n",
       "31    8.449249              1         0.0          LOW  \n",
       "32   37.758847              0         0.0          LOW  \n",
       "33    0.395133              0         0.0          LOW  \n",
       "34   22.401769              0         0.0          LOW  \n",
       "35   34.171431              0         1.0       MEDIUM  \n",
       "36   43.607377              1         1.0       MEDIUM  \n",
       "37   18.434515              1         1.0       MEDIUM  \n",
       "38   40.633232              1         0.0          LOW  \n",
       "39   20.606638              1         1.0       MEDIUM  \n",
       "40         NaN              1         NaN       MEDIUM  \n",
       "41         NaN              0         NaN          LOW  \n",
       "42         NaN              0         NaN          LOW  \n",
       "43         NaN              0         NaN          LOW  \n",
       "44         NaN              1         NaN       MEDIUM  "
      ],
      "text/html": "<div>\n<style scoped>\n    .dataframe tbody tr th:only-of-type {\n        vertical-align: middle;\n    }\n\n    .dataframe tbody tr th {\n        vertical-align: top;\n    }\n\n    .dataframe thead th {\n        text-align: right;\n    }\n</style>\n<table border=\"1\" class=\"dataframe\">\n  <thead>\n    <tr style=\"text-align: right;\">\n      <th></th>\n      <th>ZIPCODE</th>\n      <th>TOTAL_POPULATION</th>\n      <th>TOTAL_HOUSEHOLDS</th>\n      <th>MEDIAN_HOUSEHOLD_INCOME</th>\n      <th>MEAN_HOUSEHOLD_INCOME</th>\n      <th>TOTAL_HOUSING_UNITS</th>\n      <th>POPULATION_PER_UNIT</th>\n      <th>PREDICTED_TRASH_OUTPUT_PER_CAPITA (TONS)</th>\n      <th>ACTUAL_TRASH_OUTPUT_PER_CAPITA</th>\n      <th>DIFFERENCE</th>\n      <th>PREDICTED_BIN</th>\n      <th>ACTUAL_BIN</th>\n      <th>FINAL_OUTPUT</th>\n    </tr>\n  </thead>\n  <tbody>\n    <tr>\n      <th>0</th>\n      <td>78701</td>\n      <td>7875</td>\n      <td>4855</td>\n      <td>112201</td>\n      <td>173289</td>\n      <td>6576</td>\n      <td>1.197536</td>\n      <td>136</td>\n      <td>47.512545</td>\n      <td>88.487455</td>\n      <td>1</td>\n      <td>0.0</td>\n      <td>LOW</td>\n    </tr>\n    <tr>\n      <th>1</th>\n      <td>78702</td>\n      <td>22876</td>\n      <td>8937</td>\n      <td>54053</td>\n      <td>73919</td>\n      <td>9839</td>\n      <td>2.325033</td>\n      <td>109</td>\n      <td>NaN</td>\n      <td>NaN</td>\n      <td>1</td>\n      <td>NaN</td>\n      <td>MEDIUM</td>\n    </tr>\n    <tr>\n      <th>2</th>\n      <td>78703</td>\n      <td>20788</td>\n      <td>9723</td>\n      <td>98553</td>\n      <td>166396</td>\n      <td>11047</td>\n      <td>1.881778</td>\n      <td>145</td>\n      <td>39.641725</td>\n      <td>105.358275</td>\n      <td>1</td>\n      <td>0.0</td>\n      <td>LOW</td>\n    </tr>\n    <tr>\n      <th>3</th>\n      <td>78704</td>\n      <td>47158</td>\n      <td>23213</td>\n      <td>66262</td>\n      <td>91223</td>\n      <td>25815</td>\n      <td>1.826767</td>\n      <td>150</td>\n      <td>58.217143</td>\n      <td>91.782857</td>\n      <td>0</td>\n      <td>0.0</td>\n      <td>LOW</td>\n    </tr>\n    <tr>\n      <th>4</th>\n      <td>78705</td>\n      <td>33075</td>\n      <td>8370</td>\n      <td>15309</td>\n      <td>41357</td>\n      <td>10336</td>\n      <td>3.199981</td>\n      <td>47</td>\n      <td>163.547823</td>\n      <td>116.547823</td>\n      <td>0</td>\n      <td>1.0</td>\n      <td>MEDIUM</td>\n    </tr>\n    <tr>\n      <th>5</th>\n      <td>78721</td>\n      <td>12447</td>\n      <td>4197</td>\n      <td>41611</td>\n      <td>52873</td>\n      <td>4632</td>\n      <td>2.687176</td>\n      <td>198</td>\n      <td>176.612854</td>\n      <td>21.387146</td>\n      <td>0</td>\n      <td>1.0</td>\n      <td>MEDIUM</td>\n    </tr>\n    <tr>\n      <th>6</th>\n      <td>78722</td>\n      <td>7254</td>\n      <td>3111</td>\n      <td>69267</td>\n      <td>95443</td>\n      <td>3415</td>\n      <td>2.124158</td>\n      <td>156</td>\n      <td>109.339243</td>\n      <td>46.660757</td>\n      <td>1</td>\n      <td>0.0</td>\n      <td>LOW</td>\n    </tr>\n    <tr>\n      <th>7</th>\n      <td>78723</td>\n      <td>33170</td>\n      <td>12518</td>\n      <td>49606</td>\n      <td>71897</td>\n      <td>13777</td>\n      <td>2.407636</td>\n      <td>144</td>\n      <td>48.573243</td>\n      <td>95.426757</td>\n      <td>1</td>\n      <td>0.0</td>\n      <td>LOW</td>\n    </tr>\n    <tr>\n      <th>8</th>\n      <td>78724</td>\n      <td>24833</td>\n      <td>6360</td>\n      <td>45158</td>\n      <td>55252</td>\n      <td>6754</td>\n      <td>3.676784</td>\n      <td>44</td>\n      <td>NaN</td>\n      <td>NaN</td>\n      <td>0</td>\n      <td>NaN</td>\n      <td>LOW</td>\n    </tr>\n    <tr>\n      <th>9</th>\n      <td>78725</td>\n      <td>7517</td>\n      <td>2544</td>\n      <td>62172</td>\n      <td>66225</td>\n      <td>2598</td>\n      <td>2.893380</td>\n      <td>171</td>\n      <td>NaN</td>\n      <td>NaN</td>\n      <td>2</td>\n      <td>NaN</td>\n      <td>HIGH</td>\n    </tr>\n    <tr>\n      <th>10</th>\n      <td>78726</td>\n      <td>14610</td>\n      <td>5554</td>\n      <td>88322</td>\n      <td>122559</td>\n      <td>5998</td>\n      <td>2.435812</td>\n      <td>100</td>\n      <td>110.449104</td>\n      <td>10.449104</td>\n      <td>0</td>\n      <td>0.0</td>\n      <td>LOW</td>\n    </tr>\n    <tr>\n      <th>11</th>\n      <td>78727</td>\n      <td>28999</td>\n      <td>12937</td>\n      <td>74458</td>\n      <td>88800</td>\n      <td>14029</td>\n      <td>2.067075</td>\n      <td>103</td>\n      <td>202.823270</td>\n      <td>99.823270</td>\n      <td>0</td>\n      <td>1.0</td>\n      <td>MEDIUM</td>\n    </tr>\n    <tr>\n      <th>12</th>\n      <td>78728</td>\n      <td>21245</td>\n      <td>10029</td>\n      <td>55603</td>\n      <td>71409</td>\n      <td>10626</td>\n      <td>1.999341</td>\n      <td>109</td>\n      <td>180.423455</td>\n      <td>71.423455</td>\n      <td>0</td>\n      <td>1.0</td>\n      <td>MEDIUM</td>\n    </tr>\n    <tr>\n      <th>13</th>\n      <td>78729</td>\n      <td>29434</td>\n      <td>12622</td>\n      <td>73047</td>\n      <td>86587</td>\n      <td>13636</td>\n      <td>2.158551</td>\n      <td>103</td>\n      <td>45.904240</td>\n      <td>57.095760</td>\n      <td>0</td>\n      <td>0.0</td>\n      <td>LOW</td>\n    </tr>\n    <tr>\n      <th>14</th>\n      <td>78730</td>\n      <td>8933</td>\n      <td>3678</td>\n      <td>108750</td>\n      <td>183174</td>\n      <td>4019</td>\n      <td>2.222692</td>\n      <td>100</td>\n      <td>363.520021</td>\n      <td>263.520021</td>\n      <td>0</td>\n      <td>2.0</td>\n      <td>HIGH</td>\n    </tr>\n    <tr>\n      <th>15</th>\n      <td>78731</td>\n      <td>27447</td>\n      <td>12556</td>\n      <td>89099</td>\n      <td>140009</td>\n      <td>13476</td>\n      <td>2.036732</td>\n      <td>103</td>\n      <td>109.204654</td>\n      <td>6.204654</td>\n      <td>1</td>\n      <td>0.0</td>\n      <td>LOW</td>\n    </tr>\n    <tr>\n      <th>16</th>\n      <td>78732</td>\n      <td>17762</td>\n      <td>5689</td>\n      <td>142612</td>\n      <td>193848</td>\n      <td>6114</td>\n      <td>2.905136</td>\n      <td>169</td>\n      <td>83.520811</td>\n      <td>85.479189</td>\n      <td>2</td>\n      <td>0.0</td>\n      <td>LOW</td>\n    </tr>\n    <tr>\n      <th>17</th>\n      <td>78733</td>\n      <td>8754</td>\n      <td>2920</td>\n      <td>136563</td>\n      <td>214080</td>\n      <td>3033</td>\n      <td>2.886251</td>\n      <td>167</td>\n      <td>33.472346</td>\n      <td>133.527654</td>\n      <td>2</td>\n      <td>0.0</td>\n      <td>LOW</td>\n    </tr>\n    <tr>\n      <th>18</th>\n      <td>78734</td>\n      <td>18722</td>\n      <td>7392</td>\n      <td>107827</td>\n      <td>142453</td>\n      <td>8633</td>\n      <td>2.168655</td>\n      <td>133</td>\n      <td>79.414758</td>\n      <td>53.585242</td>\n      <td>0</td>\n      <td>0.0</td>\n      <td>LOW</td>\n    </tr>\n    <tr>\n      <th>19</th>\n      <td>78735</td>\n      <td>17919</td>\n      <td>7193</td>\n      <td>102551</td>\n      <td>155092</td>\n      <td>8176</td>\n      <td>2.191659</td>\n      <td>133</td>\n      <td>77.653644</td>\n      <td>55.346356</td>\n      <td>0</td>\n      <td>0.0</td>\n      <td>LOW</td>\n    </tr>\n    <tr>\n      <th>20</th>\n      <td>78736</td>\n      <td>8199</td>\n      <td>3023</td>\n      <td>107467</td>\n      <td>134565</td>\n      <td>3306</td>\n      <td>2.480036</td>\n      <td>100</td>\n      <td>147.137392</td>\n      <td>47.137392</td>\n      <td>0</td>\n      <td>1.0</td>\n      <td>MEDIUM</td>\n    </tr>\n    <tr>\n      <th>21</th>\n      <td>78737</td>\n      <td>15879</td>\n      <td>5305</td>\n      <td>127136</td>\n      <td>148042</td>\n      <td>5385</td>\n      <td>2.948747</td>\n      <td>167</td>\n      <td>113.968413</td>\n      <td>53.031587</td>\n      <td>2</td>\n      <td>0.0</td>\n      <td>LOW</td>\n    </tr>\n    <tr>\n      <th>22</th>\n      <td>78738</td>\n      <td>15746</td>\n      <td>5964</td>\n      <td>123836</td>\n      <td>159347</td>\n      <td>6737</td>\n      <td>2.337242</td>\n      <td>100</td>\n      <td>85.717770</td>\n      <td>14.282230</td>\n      <td>0</td>\n      <td>0.0</td>\n      <td>LOW</td>\n    </tr>\n    <tr>\n      <th>23</th>\n      <td>78739</td>\n      <td>20191</td>\n      <td>6367</td>\n      <td>147736</td>\n      <td>175189</td>\n      <td>6460</td>\n      <td>3.125542</td>\n      <td>169</td>\n      <td>316.559853</td>\n      <td>147.559853</td>\n      <td>2</td>\n      <td>2.0</td>\n      <td>HIGH</td>\n    </tr>\n    <tr>\n      <th>24</th>\n      <td>78741</td>\n      <td>52307</td>\n      <td>20758</td>\n      <td>39049</td>\n      <td>49856</td>\n      <td>23380</td>\n      <td>2.237254</td>\n      <td>124</td>\n      <td>50.214312</td>\n      <td>73.785688</td>\n      <td>1</td>\n      <td>0.0</td>\n      <td>LOW</td>\n    </tr>\n    <tr>\n      <th>25</th>\n      <td>78742</td>\n      <td>517</td>\n      <td>218</td>\n      <td>33182</td>\n      <td>49511</td>\n      <td>252</td>\n      <td>2.051587</td>\n      <td>156</td>\n      <td>162.467377</td>\n      <td>6.467377</td>\n      <td>1</td>\n      <td>1.0</td>\n      <td>MEDIUM</td>\n    </tr>\n    <tr>\n      <th>26</th>\n      <td>78744</td>\n      <td>48432</td>\n      <td>14345</td>\n      <td>47073</td>\n      <td>56407</td>\n      <td>15236</td>\n      <td>3.178787</td>\n      <td>148</td>\n      <td>178.134041</td>\n      <td>30.134041</td>\n      <td>0</td>\n      <td>1.0</td>\n      <td>MEDIUM</td>\n    </tr>\n    <tr>\n      <th>27</th>\n      <td>78745</td>\n      <td>62220</td>\n      <td>25857</td>\n      <td>60567</td>\n      <td>72944</td>\n      <td>27367</td>\n      <td>2.273541</td>\n      <td>124</td>\n      <td>71.563605</td>\n      <td>52.436395</td>\n      <td>1</td>\n      <td>0.0</td>\n      <td>LOW</td>\n    </tr>\n    <tr>\n      <th>28</th>\n      <td>78746</td>\n      <td>28268</td>\n      <td>10848</td>\n      <td>136138</td>\n      <td>217305</td>\n      <td>11922</td>\n      <td>2.371079</td>\n      <td>145</td>\n      <td>205.049155</td>\n      <td>60.049155</td>\n      <td>1</td>\n      <td>1.0</td>\n      <td>MEDIUM</td>\n    </tr>\n    <tr>\n      <th>29</th>\n      <td>78747</td>\n      <td>20954</td>\n      <td>6364</td>\n      <td>79500</td>\n      <td>84070</td>\n      <td>6654</td>\n      <td>3.149083</td>\n      <td>110</td>\n      <td>177.682634</td>\n      <td>67.682634</td>\n      <td>0</td>\n      <td>1.0</td>\n      <td>MEDIUM</td>\n    </tr>\n    <tr>\n      <th>30</th>\n      <td>78748</td>\n      <td>49142</td>\n      <td>18820</td>\n      <td>74176</td>\n      <td>86175</td>\n      <td>19577</td>\n      <td>2.510191</td>\n      <td>142</td>\n      <td>200.268069</td>\n      <td>58.268069</td>\n      <td>1</td>\n      <td>1.0</td>\n      <td>MEDIUM</td>\n    </tr>\n    <tr>\n      <th>31</th>\n      <td>78749</td>\n      <td>37453</td>\n      <td>15215</td>\n      <td>92313</td>\n      <td>107483</td>\n      <td>15727</td>\n      <td>2.381446</td>\n      <td>109</td>\n      <td>100.550751</td>\n      <td>8.449249</td>\n      <td>1</td>\n      <td>0.0</td>\n      <td>LOW</td>\n    </tr>\n    <tr>\n      <th>32</th>\n      <td>78750</td>\n      <td>30758</td>\n      <td>11713</td>\n      <td>81061</td>\n      <td>119690</td>\n      <td>12472</td>\n      <td>2.466164</td>\n      <td>87</td>\n      <td>124.758847</td>\n      <td>37.758847</td>\n      <td>0</td>\n      <td>0.0</td>\n      <td>LOW</td>\n    </tr>\n    <tr>\n      <th>33</th>\n      <td>78751</td>\n      <td>14949</td>\n      <td>7463</td>\n      <td>54129</td>\n      <td>79620</td>\n      <td>8632</td>\n      <td>1.731812</td>\n      <td>121</td>\n      <td>120.604867</td>\n      <td>0.395133</td>\n      <td>0</td>\n      <td>0.0</td>\n      <td>LOW</td>\n    </tr>\n    <tr>\n      <th>34</th>\n      <td>78752</td>\n      <td>20302</td>\n      <td>7932</td>\n      <td>41486</td>\n      <td>58935</td>\n      <td>8720</td>\n      <td>2.328211</td>\n      <td>109</td>\n      <td>86.598231</td>\n      <td>22.401769</td>\n      <td>0</td>\n      <td>0.0</td>\n      <td>LOW</td>\n    </tr>\n    <tr>\n      <th>35</th>\n      <td>78753</td>\n      <td>58693</td>\n      <td>19947</td>\n      <td>45983</td>\n      <td>61853</td>\n      <td>21287</td>\n      <td>2.757223</td>\n      <td>147</td>\n      <td>181.171431</td>\n      <td>34.171431</td>\n      <td>0</td>\n      <td>1.0</td>\n      <td>MEDIUM</td>\n    </tr>\n    <tr>\n      <th>36</th>\n      <td>78754</td>\n      <td>23858</td>\n      <td>8009</td>\n      <td>64114</td>\n      <td>84433</td>\n      <td>8451</td>\n      <td>2.823098</td>\n      <td>113</td>\n      <td>156.607377</td>\n      <td>43.607377</td>\n      <td>1</td>\n      <td>1.0</td>\n      <td>MEDIUM</td>\n    </tr>\n    <tr>\n      <th>37</th>\n      <td>78756</td>\n      <td>8377</td>\n      <td>4246</td>\n      <td>73578</td>\n      <td>107864</td>\n      <td>4642</td>\n      <td>1.804610</td>\n      <td>156</td>\n      <td>174.434515</td>\n      <td>18.434515</td>\n      <td>1</td>\n      <td>1.0</td>\n      <td>MEDIUM</td>\n    </tr>\n    <tr>\n      <th>38</th>\n      <td>78757</td>\n      <td>24059</td>\n      <td>10746</td>\n      <td>65709</td>\n      <td>93055</td>\n      <td>11454</td>\n      <td>2.100489</td>\n      <td>95</td>\n      <td>135.633232</td>\n      <td>40.633232</td>\n      <td>1</td>\n      <td>0.0</td>\n      <td>LOW</td>\n    </tr>\n    <tr>\n      <th>39</th>\n      <td>78758</td>\n      <td>46618</td>\n      <td>19397</td>\n      <td>50018</td>\n      <td>62838</td>\n      <td>21064</td>\n      <td>2.213160</td>\n      <td>142</td>\n      <td>162.606638</td>\n      <td>20.606638</td>\n      <td>1</td>\n      <td>1.0</td>\n      <td>MEDIUM</td>\n    </tr>\n    <tr>\n      <th>40</th>\n      <td>78759</td>\n      <td>41847</td>\n      <td>20240</td>\n      <td>76749</td>\n      <td>104404</td>\n      <td>21798</td>\n      <td>1.919763</td>\n      <td>149</td>\n      <td>NaN</td>\n      <td>NaN</td>\n      <td>1</td>\n      <td>NaN</td>\n      <td>MEDIUM</td>\n    </tr>\n    <tr>\n      <th>41</th>\n      <td>78610</td>\n      <td>32692</td>\n      <td>11243</td>\n      <td>76623</td>\n      <td>90103</td>\n      <td>11585</td>\n      <td>2.821925</td>\n      <td>120</td>\n      <td>NaN</td>\n      <td>NaN</td>\n      <td>0</td>\n      <td>NaN</td>\n      <td>LOW</td>\n    </tr>\n    <tr>\n      <th>42</th>\n      <td>78617</td>\n      <td>27900</td>\n      <td>6520</td>\n      <td>52819</td>\n      <td>69936</td>\n      <td>7244</td>\n      <td>3.851463</td>\n      <td>44</td>\n      <td>NaN</td>\n      <td>NaN</td>\n      <td>0</td>\n      <td>NaN</td>\n      <td>LOW</td>\n    </tr>\n    <tr>\n      <th>43</th>\n      <td>78653</td>\n      <td>20822</td>\n      <td>6332</td>\n      <td>66752</td>\n      <td>75678</td>\n      <td>6891</td>\n      <td>3.021622</td>\n      <td>194</td>\n      <td>NaN</td>\n      <td>NaN</td>\n      <td>0</td>\n      <td>NaN</td>\n      <td>LOW</td>\n    </tr>\n    <tr>\n      <th>44</th>\n      <td>78660</td>\n      <td>85450</td>\n      <td>28469</td>\n      <td>81693</td>\n      <td>94180</td>\n      <td>29569</td>\n      <td>2.889851</td>\n      <td>124</td>\n      <td>NaN</td>\n      <td>NaN</td>\n      <td>1</td>\n      <td>NaN</td>\n      <td>MEDIUM</td>\n    </tr>\n  </tbody>\n</table>\n</div>"
     },
     "metadata": {},
     "execution_count": 152
    }
   ],
   "source": [
    "all_zips_df"
   ]
  },
  {
   "cell_type": "code",
   "execution_count": null,
   "metadata": {},
   "outputs": [],
   "source": []
  }
 ]
}