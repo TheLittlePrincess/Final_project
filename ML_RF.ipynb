{
 "metadata": {
  "language_info": {
   "codemirror_mode": {
    "name": "ipython",
    "version": 3
   },
   "file_extension": ".py",
   "mimetype": "text/x-python",
   "name": "python",
   "nbconvert_exporter": "python",
   "pygments_lexer": "ipython3",
   "version": "3.7.6"
  },
  "orig_nbformat": 2,
  "kernelspec": {
   "name": "python3",
   "display_name": "Python 3.7.6 64-bit ('PythonData': conda)"
  },
  "interpreter": {
   "hash": "4e16bc90bb1be4fcd3e766e2f5d73f05719f516a7206bf1e9e77281fd34acfc0"
  }
 },
 "nbformat": 4,
 "nbformat_minor": 2,
 "cells": [
  {
   "cell_type": "code",
   "execution_count": 1,
   "metadata": {},
   "outputs": [],
   "source": [
    "import pandas as pd\n",
    "from pathlib import Path\n",
    "import matplotlib.pyplot as plt\n",
    "from sklearn.linear_model import LinearRegression\n",
    "from scipy import stats\n",
    "import numpy as np\n",
    "from sklearn.ensemble import RandomForestClassifier\n",
    "from sklearn.preprocessing import StandardScaler\n",
    "from sklearn.model_selection import train_test_split\n",
    "from sklearn.metrics import confusion_matrix, accuracy_score, classification_report, mean_squared_error, mean_absolute_error\n",
    "from sklearn.decomposition import PCA\n",
    "from sklearn.neighbors import KNeighborsRegressor\n",
    "import m2cgen as m2c \n",
    "import warnings                        # To ignore any warnings\n",
    "warnings.filterwarnings(\"ignore\")"
   ]
  },
  {
   "cell_type": "code",
   "execution_count": 2,
   "metadata": {},
   "outputs": [],
   "source": [
    "joined_zips_grb_df = pd.read_csv(\"zips_load_demographics.csv\")"
   ]
  },
  {
   "source": [
    "all_zips_df = pd.read_csv(\"full_zip_codes.csv\")"
   ],
   "cell_type": "code",
   "metadata": {},
   "execution_count": 3,
   "outputs": []
  },
  {
   "cell_type": "code",
   "execution_count": 4,
   "metadata": {},
   "outputs": [
    {
     "output_type": "execute_result",
     "data": {
      "text/plain": [
       "   ZIPCODE  TOTAL_POPULATION  TOTAL_HOUSEHOLDS  MEDIAN_HOUSEHOLD_INCOME  \\\n",
       "0    78701              7875              4855                   112201   \n",
       "1    78702             22876              8937                    54053   \n",
       "2    78703             20788              9723                    98553   \n",
       "3    78704             47158             23213                    66262   \n",
       "4    78705             33075              8370                    15309   \n",
       "\n",
       "   MEAN_HOUSEHOLD_INCOME  TOTAL_HOUSING_UNITS  \n",
       "0                 173289                 6576  \n",
       "1                  73919                 9839  \n",
       "2                 166396                11047  \n",
       "3                  91223                25815  \n",
       "4                  41357                10336  "
      ],
      "text/html": "<div>\n<style scoped>\n    .dataframe tbody tr th:only-of-type {\n        vertical-align: middle;\n    }\n\n    .dataframe tbody tr th {\n        vertical-align: top;\n    }\n\n    .dataframe thead th {\n        text-align: right;\n    }\n</style>\n<table border=\"1\" class=\"dataframe\">\n  <thead>\n    <tr style=\"text-align: right;\">\n      <th></th>\n      <th>ZIPCODE</th>\n      <th>TOTAL_POPULATION</th>\n      <th>TOTAL_HOUSEHOLDS</th>\n      <th>MEDIAN_HOUSEHOLD_INCOME</th>\n      <th>MEAN_HOUSEHOLD_INCOME</th>\n      <th>TOTAL_HOUSING_UNITS</th>\n    </tr>\n  </thead>\n  <tbody>\n    <tr>\n      <th>0</th>\n      <td>78701</td>\n      <td>7875</td>\n      <td>4855</td>\n      <td>112201</td>\n      <td>173289</td>\n      <td>6576</td>\n    </tr>\n    <tr>\n      <th>1</th>\n      <td>78702</td>\n      <td>22876</td>\n      <td>8937</td>\n      <td>54053</td>\n      <td>73919</td>\n      <td>9839</td>\n    </tr>\n    <tr>\n      <th>2</th>\n      <td>78703</td>\n      <td>20788</td>\n      <td>9723</td>\n      <td>98553</td>\n      <td>166396</td>\n      <td>11047</td>\n    </tr>\n    <tr>\n      <th>3</th>\n      <td>78704</td>\n      <td>47158</td>\n      <td>23213</td>\n      <td>66262</td>\n      <td>91223</td>\n      <td>25815</td>\n    </tr>\n    <tr>\n      <th>4</th>\n      <td>78705</td>\n      <td>33075</td>\n      <td>8370</td>\n      <td>15309</td>\n      <td>41357</td>\n      <td>10336</td>\n    </tr>\n  </tbody>\n</table>\n</div>"
     },
     "metadata": {},
     "execution_count": 4
    }
   ],
   "source": [
    "all_zips_df.head()"
   ]
  },
  {
   "cell_type": "code",
   "execution_count": 5,
   "metadata": {},
   "outputs": [
    {
     "output_type": "execute_result",
     "data": {
      "text/plain": [
       "45"
      ]
     },
     "metadata": {},
     "execution_count": 5
    }
   ],
   "source": [
    "len(all_zips_df)"
   ]
  },
  {
   "cell_type": "code",
   "execution_count": 6,
   "metadata": {},
   "outputs": [
    {
     "output_type": "execute_result",
     "data": {
      "text/plain": [
       "37"
      ]
     },
     "metadata": {},
     "execution_count": 6
    }
   ],
   "source": [
    "len(joined_zips_grb_df)"
   ]
  },
  {
   "cell_type": "code",
   "execution_count": 7,
   "metadata": {},
   "outputs": [
    {
     "output_type": "execute_result",
     "data": {
      "text/plain": [
       "     ZIP  load_weight  TOTAL_POPULATION  TOTAL_HOUSEHOLDS  \\\n",
       "0  78617    1325600.0           27900.0            6520.0   \n",
       "1  78653     825420.0           20822.0            6332.0   \n",
       "2  78701     458460.0            7875.0            4855.0   \n",
       "3  78702    3741320.0           22876.0            8937.0   \n",
       "4  78703    3671428.0           20788.0            9723.0   \n",
       "\n",
       "   MEDIAN_HOUSEHOLD_INCOME  MEAN_HOUSEHOLD_INCOME  TOTAL_HOUSING_UNITS  \n",
       "0                  52819.0                69936.0               7244.0  \n",
       "1                  66752.0                75678.0               6891.0  \n",
       "2                 112201.0               173289.0               6576.0  \n",
       "3                  54053.0                73919.0               9839.0  \n",
       "4                  98553.0               166396.0              11047.0  "
      ],
      "text/html": "<div>\n<style scoped>\n    .dataframe tbody tr th:only-of-type {\n        vertical-align: middle;\n    }\n\n    .dataframe tbody tr th {\n        vertical-align: top;\n    }\n\n    .dataframe thead th {\n        text-align: right;\n    }\n</style>\n<table border=\"1\" class=\"dataframe\">\n  <thead>\n    <tr style=\"text-align: right;\">\n      <th></th>\n      <th>ZIP</th>\n      <th>load_weight</th>\n      <th>TOTAL_POPULATION</th>\n      <th>TOTAL_HOUSEHOLDS</th>\n      <th>MEDIAN_HOUSEHOLD_INCOME</th>\n      <th>MEAN_HOUSEHOLD_INCOME</th>\n      <th>TOTAL_HOUSING_UNITS</th>\n    </tr>\n  </thead>\n  <tbody>\n    <tr>\n      <th>0</th>\n      <td>78617</td>\n      <td>1325600.0</td>\n      <td>27900.0</td>\n      <td>6520.0</td>\n      <td>52819.0</td>\n      <td>69936.0</td>\n      <td>7244.0</td>\n    </tr>\n    <tr>\n      <th>1</th>\n      <td>78653</td>\n      <td>825420.0</td>\n      <td>20822.0</td>\n      <td>6332.0</td>\n      <td>66752.0</td>\n      <td>75678.0</td>\n      <td>6891.0</td>\n    </tr>\n    <tr>\n      <th>2</th>\n      <td>78701</td>\n      <td>458460.0</td>\n      <td>7875.0</td>\n      <td>4855.0</td>\n      <td>112201.0</td>\n      <td>173289.0</td>\n      <td>6576.0</td>\n    </tr>\n    <tr>\n      <th>3</th>\n      <td>78702</td>\n      <td>3741320.0</td>\n      <td>22876.0</td>\n      <td>8937.0</td>\n      <td>54053.0</td>\n      <td>73919.0</td>\n      <td>9839.0</td>\n    </tr>\n    <tr>\n      <th>4</th>\n      <td>78703</td>\n      <td>3671428.0</td>\n      <td>20788.0</td>\n      <td>9723.0</td>\n      <td>98553.0</td>\n      <td>166396.0</td>\n      <td>11047.0</td>\n    </tr>\n  </tbody>\n</table>\n</div>"
     },
     "metadata": {},
     "execution_count": 7
    }
   ],
   "source": [
    "joined_zips_grb_df.head()"
   ]
  },
  {
   "cell_type": "code",
   "execution_count": 8,
   "metadata": {},
   "outputs": [
    {
     "output_type": "execute_result",
     "data": {
      "text/plain": [
       "     ZIP  load_weight  TOTAL_POPULATION  TOTAL_HOUSEHOLDS  \\\n",
       "0  78617    1325600.0           27900.0            6520.0   \n",
       "1  78653     825420.0           20822.0            6332.0   \n",
       "2  78701     458460.0            7875.0            4855.0   \n",
       "3  78702    3741320.0           22876.0            8937.0   \n",
       "4  78703    3671428.0           20788.0            9723.0   \n",
       "\n",
       "   MEDIAN_HOUSEHOLD_INCOME  MEAN_HOUSEHOLD_INCOME  TOTAL_HOUSING_UNITS  \n",
       "0                  52819.0                69936.0               7244.0  \n",
       "1                  66752.0                75678.0               6891.0  \n",
       "2                 112201.0               173289.0               6576.0  \n",
       "3                  54053.0                73919.0               9839.0  \n",
       "4                  98553.0               166396.0              11047.0  "
      ],
      "text/html": "<div>\n<style scoped>\n    .dataframe tbody tr th:only-of-type {\n        vertical-align: middle;\n    }\n\n    .dataframe tbody tr th {\n        vertical-align: top;\n    }\n\n    .dataframe thead th {\n        text-align: right;\n    }\n</style>\n<table border=\"1\" class=\"dataframe\">\n  <thead>\n    <tr style=\"text-align: right;\">\n      <th></th>\n      <th>ZIP</th>\n      <th>load_weight</th>\n      <th>TOTAL_POPULATION</th>\n      <th>TOTAL_HOUSEHOLDS</th>\n      <th>MEDIAN_HOUSEHOLD_INCOME</th>\n      <th>MEAN_HOUSEHOLD_INCOME</th>\n      <th>TOTAL_HOUSING_UNITS</th>\n    </tr>\n  </thead>\n  <tbody>\n    <tr>\n      <th>0</th>\n      <td>78617</td>\n      <td>1325600.0</td>\n      <td>27900.0</td>\n      <td>6520.0</td>\n      <td>52819.0</td>\n      <td>69936.0</td>\n      <td>7244.0</td>\n    </tr>\n    <tr>\n      <th>1</th>\n      <td>78653</td>\n      <td>825420.0</td>\n      <td>20822.0</td>\n      <td>6332.0</td>\n      <td>66752.0</td>\n      <td>75678.0</td>\n      <td>6891.0</td>\n    </tr>\n    <tr>\n      <th>2</th>\n      <td>78701</td>\n      <td>458460.0</td>\n      <td>7875.0</td>\n      <td>4855.0</td>\n      <td>112201.0</td>\n      <td>173289.0</td>\n      <td>6576.0</td>\n    </tr>\n    <tr>\n      <th>3</th>\n      <td>78702</td>\n      <td>3741320.0</td>\n      <td>22876.0</td>\n      <td>8937.0</td>\n      <td>54053.0</td>\n      <td>73919.0</td>\n      <td>9839.0</td>\n    </tr>\n    <tr>\n      <th>4</th>\n      <td>78703</td>\n      <td>3671428.0</td>\n      <td>20788.0</td>\n      <td>9723.0</td>\n      <td>98553.0</td>\n      <td>166396.0</td>\n      <td>11047.0</td>\n    </tr>\n  </tbody>\n</table>\n</div>"
     },
     "metadata": {},
     "execution_count": 8
    }
   ],
   "source": [
    "joined_zips_grb_df = joined_zips_grb_df.dropna()\n",
    "joined_zips_grb_df.head()\n"
   ]
  },
  {
   "cell_type": "code",
   "execution_count": 9,
   "metadata": {},
   "outputs": [
    {
     "output_type": "execute_result",
     "data": {
      "text/plain": [
       "37"
      ]
     },
     "metadata": {},
     "execution_count": 9
    }
   ],
   "source": [
    "len(joined_zips_grb_df)"
   ]
  },
  {
   "cell_type": "code",
   "execution_count": 10,
   "metadata": {},
   "outputs": [
    {
     "output_type": "execute_result",
     "data": {
      "text/plain": [
       "     ZIP  load_weight  TOTAL_POPULATION  TOTAL_HOUSEHOLDS  \\\n",
       "0  78617    1325600.0           27900.0            6520.0   \n",
       "1  78653     825420.0           20822.0            6332.0   \n",
       "2  78701     458460.0            7875.0            4855.0   \n",
       "3  78702    3741320.0           22876.0            8937.0   \n",
       "4  78703    3671428.0           20788.0            9723.0   \n",
       "\n",
       "   MEDIAN_HOUSEHOLD_INCOME  MEAN_HOUSEHOLD_INCOME  TOTAL_HOUSING_UNITS  \\\n",
       "0                  52819.0                69936.0               7244.0   \n",
       "1                  66752.0                75678.0               6891.0   \n",
       "2                 112201.0               173289.0               6576.0   \n",
       "3                  54053.0                73919.0               9839.0   \n",
       "4                  98553.0               166396.0              11047.0   \n",
       "\n",
       "   POPULATION_PER_UNIT  \n",
       "0             3.851463  \n",
       "1             3.021622  \n",
       "2             1.197536  \n",
       "3             2.325033  \n",
       "4             1.881778  "
      ],
      "text/html": "<div>\n<style scoped>\n    .dataframe tbody tr th:only-of-type {\n        vertical-align: middle;\n    }\n\n    .dataframe tbody tr th {\n        vertical-align: top;\n    }\n\n    .dataframe thead th {\n        text-align: right;\n    }\n</style>\n<table border=\"1\" class=\"dataframe\">\n  <thead>\n    <tr style=\"text-align: right;\">\n      <th></th>\n      <th>ZIP</th>\n      <th>load_weight</th>\n      <th>TOTAL_POPULATION</th>\n      <th>TOTAL_HOUSEHOLDS</th>\n      <th>MEDIAN_HOUSEHOLD_INCOME</th>\n      <th>MEAN_HOUSEHOLD_INCOME</th>\n      <th>TOTAL_HOUSING_UNITS</th>\n      <th>POPULATION_PER_UNIT</th>\n    </tr>\n  </thead>\n  <tbody>\n    <tr>\n      <th>0</th>\n      <td>78617</td>\n      <td>1325600.0</td>\n      <td>27900.0</td>\n      <td>6520.0</td>\n      <td>52819.0</td>\n      <td>69936.0</td>\n      <td>7244.0</td>\n      <td>3.851463</td>\n    </tr>\n    <tr>\n      <th>1</th>\n      <td>78653</td>\n      <td>825420.0</td>\n      <td>20822.0</td>\n      <td>6332.0</td>\n      <td>66752.0</td>\n      <td>75678.0</td>\n      <td>6891.0</td>\n      <td>3.021622</td>\n    </tr>\n    <tr>\n      <th>2</th>\n      <td>78701</td>\n      <td>458460.0</td>\n      <td>7875.0</td>\n      <td>4855.0</td>\n      <td>112201.0</td>\n      <td>173289.0</td>\n      <td>6576.0</td>\n      <td>1.197536</td>\n    </tr>\n    <tr>\n      <th>3</th>\n      <td>78702</td>\n      <td>3741320.0</td>\n      <td>22876.0</td>\n      <td>8937.0</td>\n      <td>54053.0</td>\n      <td>73919.0</td>\n      <td>9839.0</td>\n      <td>2.325033</td>\n    </tr>\n    <tr>\n      <th>4</th>\n      <td>78703</td>\n      <td>3671428.0</td>\n      <td>20788.0</td>\n      <td>9723.0</td>\n      <td>98553.0</td>\n      <td>166396.0</td>\n      <td>11047.0</td>\n      <td>1.881778</td>\n    </tr>\n  </tbody>\n</table>\n</div>"
     },
     "metadata": {},
     "execution_count": 10
    }
   ],
   "source": [
    "joined_zips_grb_df[\"POPULATION_PER_UNIT\"] = joined_zips_grb_df.TOTAL_POPULATION/joined_zips_grb_df.TOTAL_HOUSING_UNITS\n",
    "joined_zips_grb_df.head()"
   ]
  },
  {
   "cell_type": "code",
   "execution_count": 11,
   "metadata": {},
   "outputs": [
    {
     "output_type": "execute_result",
     "data": {
      "text/plain": [
       "     ZIP  load_weight  TOTAL_POPULATION  TOTAL_HOUSEHOLDS  \\\n",
       "0  78617    1325600.0           27900.0            6520.0   \n",
       "1  78653     825420.0           20822.0            6332.0   \n",
       "2  78701     458460.0            7875.0            4855.0   \n",
       "3  78702    3741320.0           22876.0            8937.0   \n",
       "4  78703    3671428.0           20788.0            9723.0   \n",
       "\n",
       "   MEDIAN_HOUSEHOLD_INCOME  MEAN_HOUSEHOLD_INCOME  TOTAL_HOUSING_UNITS  \\\n",
       "0                  52819.0                69936.0               7244.0   \n",
       "1                  66752.0                75678.0               6891.0   \n",
       "2                 112201.0               173289.0               6576.0   \n",
       "3                  54053.0                73919.0               9839.0   \n",
       "4                  98553.0               166396.0              11047.0   \n",
       "\n",
       "   POPULATION_PER_UNIT  LOAD_PER_CAPITA  \n",
       "0             3.851463        47.512545  \n",
       "1             3.021622        39.641725  \n",
       "2             1.197536        58.217143  \n",
       "3             2.325033       163.547823  \n",
       "4             1.881778       176.612854  "
      ],
      "text/html": "<div>\n<style scoped>\n    .dataframe tbody tr th:only-of-type {\n        vertical-align: middle;\n    }\n\n    .dataframe tbody tr th {\n        vertical-align: top;\n    }\n\n    .dataframe thead th {\n        text-align: right;\n    }\n</style>\n<table border=\"1\" class=\"dataframe\">\n  <thead>\n    <tr style=\"text-align: right;\">\n      <th></th>\n      <th>ZIP</th>\n      <th>load_weight</th>\n      <th>TOTAL_POPULATION</th>\n      <th>TOTAL_HOUSEHOLDS</th>\n      <th>MEDIAN_HOUSEHOLD_INCOME</th>\n      <th>MEAN_HOUSEHOLD_INCOME</th>\n      <th>TOTAL_HOUSING_UNITS</th>\n      <th>POPULATION_PER_UNIT</th>\n      <th>LOAD_PER_CAPITA</th>\n    </tr>\n  </thead>\n  <tbody>\n    <tr>\n      <th>0</th>\n      <td>78617</td>\n      <td>1325600.0</td>\n      <td>27900.0</td>\n      <td>6520.0</td>\n      <td>52819.0</td>\n      <td>69936.0</td>\n      <td>7244.0</td>\n      <td>3.851463</td>\n      <td>47.512545</td>\n    </tr>\n    <tr>\n      <th>1</th>\n      <td>78653</td>\n      <td>825420.0</td>\n      <td>20822.0</td>\n      <td>6332.0</td>\n      <td>66752.0</td>\n      <td>75678.0</td>\n      <td>6891.0</td>\n      <td>3.021622</td>\n      <td>39.641725</td>\n    </tr>\n    <tr>\n      <th>2</th>\n      <td>78701</td>\n      <td>458460.0</td>\n      <td>7875.0</td>\n      <td>4855.0</td>\n      <td>112201.0</td>\n      <td>173289.0</td>\n      <td>6576.0</td>\n      <td>1.197536</td>\n      <td>58.217143</td>\n    </tr>\n    <tr>\n      <th>3</th>\n      <td>78702</td>\n      <td>3741320.0</td>\n      <td>22876.0</td>\n      <td>8937.0</td>\n      <td>54053.0</td>\n      <td>73919.0</td>\n      <td>9839.0</td>\n      <td>2.325033</td>\n      <td>163.547823</td>\n    </tr>\n    <tr>\n      <th>4</th>\n      <td>78703</td>\n      <td>3671428.0</td>\n      <td>20788.0</td>\n      <td>9723.0</td>\n      <td>98553.0</td>\n      <td>166396.0</td>\n      <td>11047.0</td>\n      <td>1.881778</td>\n      <td>176.612854</td>\n    </tr>\n  </tbody>\n</table>\n</div>"
     },
     "metadata": {},
     "execution_count": 11
    }
   ],
   "source": [
    "joined_zips_grb_df[\"LOAD_PER_CAPITA\"] = joined_zips_grb_df.load_weight/joined_zips_grb_df.TOTAL_POPULATION\n",
    "joined_zips_grb_df.head()"
   ]
  },
  {
   "cell_type": "code",
   "execution_count": 12,
   "metadata": {},
   "outputs": [],
   "source": [
    "#features = ['TOTAL_POPULATION', 'TOTAL_HOUSEHOLDS', 'MEDIAN_HOUSEHOLD_INCOME', 'TOTAL_HOUSING_UNITS', 'POPULATION_PER_UNIT']\n",
    "features = ['TOTAL_POPULATION', 'TOTAL_HOUSEHOLDS', 'MEDIAN_HOUSEHOLD_INCOME', 'TOTAL_HOUSING_UNITS']\n",
    "# Separating out the features\n",
    "x = joined_zips_grb_df.loc[:, features]\n",
    "# Separating out the target\n",
    "#y = joined_zips_grb_df.loc[:,['load_weight']]\n",
    "# Standardizing the features\n",
    "ss = StandardScaler().fit(x)\n",
    "X = ss.transform(x)"
   ]
  },
  {
   "cell_type": "code",
   "execution_count": 13,
   "metadata": {},
   "outputs": [],
   "source": [
    "# Apply principal component analysis\n",
    "#pca = PCA(n_components=3)\n",
    "#pca.fit(X)\n",
    "#principalComponents = pca.fit(x)\n",
    "#PCA_df = pd.DataFrame(data = principalComponents, columns = ['PRINCIPAL_COMPONENT_1', 'PRINCIPAL_COMPONENT_2'])"
   ]
  },
  {
   "cell_type": "code",
   "execution_count": 14,
   "metadata": {},
   "outputs": [],
   "source": [
    "#pca.components_"
   ]
  },
  {
   "cell_type": "code",
   "execution_count": 15,
   "metadata": {},
   "outputs": [],
   "source": [
    "#pd.DataFrame(pca.components_, columns=features)"
   ]
  },
  {
   "cell_type": "code",
   "execution_count": 16,
   "metadata": {},
   "outputs": [],
   "source": [
    "#X_reduced = pca.transform(X)"
   ]
  },
  {
   "cell_type": "code",
   "execution_count": 17,
   "metadata": {},
   "outputs": [],
   "source": [
    "#X_reduced"
   ]
  },
  {
   "cell_type": "code",
   "execution_count": 18,
   "metadata": {},
   "outputs": [],
   "source": [
    "#knn = KNeighborsRegressor(n_neighbors=3, weights= 'uniform')"
   ]
  },
  {
   "cell_type": "code",
   "execution_count": 19,
   "metadata": {},
   "outputs": [],
   "source": [
    "#all_zips_df[\"POPULATION_PER_UNIT\"] = all_zips_df.TOTAL_POPULATION/all_zips_df.TOTAL_HOUSING_UNITS\n",
    "#all_zips_df.head()"
   ]
  },
  {
   "cell_type": "code",
   "execution_count": 20,
   "metadata": {},
   "outputs": [],
   "source": [
    "#T = all_zips_df.loc[:, features]"
   ]
  },
  {
   "cell_type": "code",
   "execution_count": 21,
   "metadata": {},
   "outputs": [],
   "source": [
    "#T_reduced = pca.transform(ss.transform(T))"
   ]
  },
  {
   "cell_type": "code",
   "execution_count": 22,
   "metadata": {},
   "outputs": [],
   "source": [
    "# Split data into training and testing sets\n",
    "#X_train,X_test,y_train,y_test = train_test_split(X_reduced,joined_zips_grb_df[\"LOAD_PER_CAPITA\"],random_state=1)"
   ]
  },
  {
   "cell_type": "code",
   "execution_count": 23,
   "metadata": {},
   "outputs": [],
   "source": [
    "# Use K-nearest-neighbors method to fit data\n",
    "#model = knn.fit(X_train, y_train)"
   ]
  },
  {
   "cell_type": "code",
   "execution_count": 24,
   "metadata": {},
   "outputs": [],
   "source": [
    "#y_pred = model.predict(X_test)"
   ]
  },
  {
   "cell_type": "code",
   "execution_count": 25,
   "metadata": {},
   "outputs": [],
   "source": [
    "#score = mean_absolute_error(y_pred,y_test)"
   ]
  },
  {
   "cell_type": "code",
   "execution_count": 26,
   "metadata": {},
   "outputs": [],
   "source": [
    "#print(score)"
   ]
  },
  {
   "cell_type": "code",
   "execution_count": 27,
   "metadata": {},
   "outputs": [],
   "source": [
    "#percent_error = ((abs(y_pred - y_test)/abs(y_test)).mean())*100."
   ]
  },
  {
   "cell_type": "code",
   "execution_count": 28,
   "metadata": {},
   "outputs": [],
   "source": [
    "#print(percent_error)"
   ]
  },
  {
   "cell_type": "code",
   "execution_count": 29,
   "metadata": {},
   "outputs": [],
   "source": [
    "#pca.explained_variance_ratio_"
   ]
  },
  {
   "cell_type": "code",
   "execution_count": 30,
   "metadata": {},
   "outputs": [],
   "source": [
    "#all_zips_df['PREDICTED_TRASH_OUTPUT_PER_CAPITA (TONS)'] = model.predict(T_reduced)"
   ]
  },
  {
   "cell_type": "code",
   "execution_count": 31,
   "metadata": {},
   "outputs": [],
   "source": [
    "#all_zips_df['PREDICTED_TRASH_OUTPUT_PER_CAPITA (TONS)'] = all_zips_df['PREDICTED_TRASH_OUTPUT_PER_CAPITA (TONS)'].astype(int)"
   ]
  },
  {
   "cell_type": "code",
   "execution_count": 32,
   "metadata": {},
   "outputs": [],
   "source": [
    "#all_zips_df[\"ACTUAL_TRASH_OUTPUT_PER_CAPITA\"] = joined_zips_grb_df['LOAD_PER_CAPITA']"
   ]
  },
  {
   "cell_type": "code",
   "execution_count": 33,
   "metadata": {},
   "outputs": [],
   "source": [
    "#all_zips_df"
   ]
  },
  {
   "cell_type": "code",
   "execution_count": 34,
   "metadata": {},
   "outputs": [],
   "source": [
    "# Drop outliers\n",
    "#all_zips_df = all_zips_df.drop([9,23,24,28])"
   ]
  },
  {
   "cell_type": "code",
   "execution_count": null,
   "metadata": {},
   "outputs": [],
   "source": []
  },
  {
   "cell_type": "code",
   "execution_count": 35,
   "metadata": {},
   "outputs": [
    {
     "output_type": "error",
     "ename": "KeyError",
     "evalue": "'PREDICTED_TRASH_OUTPUT_PER_CAPITA (TONS)'",
     "traceback": [
      "\u001b[0;31m---------------------------------------------------------------------------\u001b[0m",
      "\u001b[0;31mKeyError\u001b[0m                                  Traceback (most recent call last)",
      "\u001b[0;32m/opt/anaconda3/envs/PythonData/lib/python3.7/site-packages/pandas/core/indexes/base.py\u001b[0m in \u001b[0;36mget_loc\u001b[0;34m(self, key, method, tolerance)\u001b[0m\n\u001b[1;32m   2645\u001b[0m             \u001b[0;32mtry\u001b[0m\u001b[0;34m:\u001b[0m\u001b[0;34m\u001b[0m\u001b[0;34m\u001b[0m\u001b[0m\n\u001b[0;32m-> 2646\u001b[0;31m                 \u001b[0;32mreturn\u001b[0m \u001b[0mself\u001b[0m\u001b[0;34m.\u001b[0m\u001b[0m_engine\u001b[0m\u001b[0;34m.\u001b[0m\u001b[0mget_loc\u001b[0m\u001b[0;34m(\u001b[0m\u001b[0mkey\u001b[0m\u001b[0;34m)\u001b[0m\u001b[0;34m\u001b[0m\u001b[0;34m\u001b[0m\u001b[0m\n\u001b[0m\u001b[1;32m   2647\u001b[0m             \u001b[0;32mexcept\u001b[0m \u001b[0mKeyError\u001b[0m\u001b[0;34m:\u001b[0m\u001b[0;34m\u001b[0m\u001b[0;34m\u001b[0m\u001b[0m\n",
      "\u001b[0;32mpandas/_libs/index.pyx\u001b[0m in \u001b[0;36mpandas._libs.index.IndexEngine.get_loc\u001b[0;34m()\u001b[0m\n",
      "\u001b[0;32mpandas/_libs/index.pyx\u001b[0m in \u001b[0;36mpandas._libs.index.IndexEngine.get_loc\u001b[0;34m()\u001b[0m\n",
      "\u001b[0;32mpandas/_libs/hashtable_class_helper.pxi\u001b[0m in \u001b[0;36mpandas._libs.hashtable.PyObjectHashTable.get_item\u001b[0;34m()\u001b[0m\n",
      "\u001b[0;32mpandas/_libs/hashtable_class_helper.pxi\u001b[0m in \u001b[0;36mpandas._libs.hashtable.PyObjectHashTable.get_item\u001b[0;34m()\u001b[0m\n",
      "\u001b[0;31mKeyError\u001b[0m: 'PREDICTED_TRASH_OUTPUT_PER_CAPITA (TONS)'",
      "\nDuring handling of the above exception, another exception occurred:\n",
      "\u001b[0;31mKeyError\u001b[0m                                  Traceback (most recent call last)",
      "\u001b[0;32m<ipython-input-35-1dd3531d7ddf>\u001b[0m in \u001b[0;36m<module>\u001b[0;34m\u001b[0m\n\u001b[0;32m----> 1\u001b[0;31m \u001b[0mall_zips_df\u001b[0m\u001b[0;34m[\u001b[0m\u001b[0;34m'DIFFERENCE'\u001b[0m\u001b[0;34m]\u001b[0m \u001b[0;34m=\u001b[0m \u001b[0mabs\u001b[0m\u001b[0;34m(\u001b[0m\u001b[0mall_zips_df\u001b[0m\u001b[0;34m[\u001b[0m\u001b[0;34m'PREDICTED_TRASH_OUTPUT_PER_CAPITA (TONS)'\u001b[0m\u001b[0;34m]\u001b[0m \u001b[0;34m-\u001b[0m \u001b[0mall_zips_df\u001b[0m\u001b[0;34m[\u001b[0m\u001b[0;34m'ACTUAL_TRASH_OUTPUT_PER_CAPITA'\u001b[0m\u001b[0;34m]\u001b[0m\u001b[0;34m)\u001b[0m\u001b[0;34m\u001b[0m\u001b[0;34m\u001b[0m\u001b[0m\n\u001b[0m",
      "\u001b[0;32m/opt/anaconda3/envs/PythonData/lib/python3.7/site-packages/pandas/core/frame.py\u001b[0m in \u001b[0;36m__getitem__\u001b[0;34m(self, key)\u001b[0m\n\u001b[1;32m   2798\u001b[0m             \u001b[0;32mif\u001b[0m \u001b[0mself\u001b[0m\u001b[0;34m.\u001b[0m\u001b[0mcolumns\u001b[0m\u001b[0;34m.\u001b[0m\u001b[0mnlevels\u001b[0m \u001b[0;34m>\u001b[0m \u001b[0;36m1\u001b[0m\u001b[0;34m:\u001b[0m\u001b[0;34m\u001b[0m\u001b[0;34m\u001b[0m\u001b[0m\n\u001b[1;32m   2799\u001b[0m                 \u001b[0;32mreturn\u001b[0m \u001b[0mself\u001b[0m\u001b[0;34m.\u001b[0m\u001b[0m_getitem_multilevel\u001b[0m\u001b[0;34m(\u001b[0m\u001b[0mkey\u001b[0m\u001b[0;34m)\u001b[0m\u001b[0;34m\u001b[0m\u001b[0;34m\u001b[0m\u001b[0m\n\u001b[0;32m-> 2800\u001b[0;31m             \u001b[0mindexer\u001b[0m \u001b[0;34m=\u001b[0m \u001b[0mself\u001b[0m\u001b[0;34m.\u001b[0m\u001b[0mcolumns\u001b[0m\u001b[0;34m.\u001b[0m\u001b[0mget_loc\u001b[0m\u001b[0;34m(\u001b[0m\u001b[0mkey\u001b[0m\u001b[0;34m)\u001b[0m\u001b[0;34m\u001b[0m\u001b[0;34m\u001b[0m\u001b[0m\n\u001b[0m\u001b[1;32m   2801\u001b[0m             \u001b[0;32mif\u001b[0m \u001b[0mis_integer\u001b[0m\u001b[0;34m(\u001b[0m\u001b[0mindexer\u001b[0m\u001b[0;34m)\u001b[0m\u001b[0;34m:\u001b[0m\u001b[0;34m\u001b[0m\u001b[0;34m\u001b[0m\u001b[0m\n\u001b[1;32m   2802\u001b[0m                 \u001b[0mindexer\u001b[0m \u001b[0;34m=\u001b[0m \u001b[0;34m[\u001b[0m\u001b[0mindexer\u001b[0m\u001b[0;34m]\u001b[0m\u001b[0;34m\u001b[0m\u001b[0;34m\u001b[0m\u001b[0m\n",
      "\u001b[0;32m/opt/anaconda3/envs/PythonData/lib/python3.7/site-packages/pandas/core/indexes/base.py\u001b[0m in \u001b[0;36mget_loc\u001b[0;34m(self, key, method, tolerance)\u001b[0m\n\u001b[1;32m   2646\u001b[0m                 \u001b[0;32mreturn\u001b[0m \u001b[0mself\u001b[0m\u001b[0;34m.\u001b[0m\u001b[0m_engine\u001b[0m\u001b[0;34m.\u001b[0m\u001b[0mget_loc\u001b[0m\u001b[0;34m(\u001b[0m\u001b[0mkey\u001b[0m\u001b[0;34m)\u001b[0m\u001b[0;34m\u001b[0m\u001b[0;34m\u001b[0m\u001b[0m\n\u001b[1;32m   2647\u001b[0m             \u001b[0;32mexcept\u001b[0m \u001b[0mKeyError\u001b[0m\u001b[0;34m:\u001b[0m\u001b[0;34m\u001b[0m\u001b[0;34m\u001b[0m\u001b[0m\n\u001b[0;32m-> 2648\u001b[0;31m                 \u001b[0;32mreturn\u001b[0m \u001b[0mself\u001b[0m\u001b[0;34m.\u001b[0m\u001b[0m_engine\u001b[0m\u001b[0;34m.\u001b[0m\u001b[0mget_loc\u001b[0m\u001b[0;34m(\u001b[0m\u001b[0mself\u001b[0m\u001b[0;34m.\u001b[0m\u001b[0m_maybe_cast_indexer\u001b[0m\u001b[0;34m(\u001b[0m\u001b[0mkey\u001b[0m\u001b[0;34m)\u001b[0m\u001b[0;34m)\u001b[0m\u001b[0;34m\u001b[0m\u001b[0;34m\u001b[0m\u001b[0m\n\u001b[0m\u001b[1;32m   2649\u001b[0m         \u001b[0mindexer\u001b[0m \u001b[0;34m=\u001b[0m \u001b[0mself\u001b[0m\u001b[0;34m.\u001b[0m\u001b[0mget_indexer\u001b[0m\u001b[0;34m(\u001b[0m\u001b[0;34m[\u001b[0m\u001b[0mkey\u001b[0m\u001b[0;34m]\u001b[0m\u001b[0;34m,\u001b[0m \u001b[0mmethod\u001b[0m\u001b[0;34m=\u001b[0m\u001b[0mmethod\u001b[0m\u001b[0;34m,\u001b[0m \u001b[0mtolerance\u001b[0m\u001b[0;34m=\u001b[0m\u001b[0mtolerance\u001b[0m\u001b[0;34m)\u001b[0m\u001b[0;34m\u001b[0m\u001b[0;34m\u001b[0m\u001b[0m\n\u001b[1;32m   2650\u001b[0m         \u001b[0;32mif\u001b[0m \u001b[0mindexer\u001b[0m\u001b[0;34m.\u001b[0m\u001b[0mndim\u001b[0m \u001b[0;34m>\u001b[0m \u001b[0;36m1\u001b[0m \u001b[0;32mor\u001b[0m \u001b[0mindexer\u001b[0m\u001b[0;34m.\u001b[0m\u001b[0msize\u001b[0m \u001b[0;34m>\u001b[0m \u001b[0;36m1\u001b[0m\u001b[0;34m:\u001b[0m\u001b[0;34m\u001b[0m\u001b[0;34m\u001b[0m\u001b[0m\n",
      "\u001b[0;32mpandas/_libs/index.pyx\u001b[0m in \u001b[0;36mpandas._libs.index.IndexEngine.get_loc\u001b[0;34m()\u001b[0m\n",
      "\u001b[0;32mpandas/_libs/index.pyx\u001b[0m in \u001b[0;36mpandas._libs.index.IndexEngine.get_loc\u001b[0;34m()\u001b[0m\n",
      "\u001b[0;32mpandas/_libs/hashtable_class_helper.pxi\u001b[0m in \u001b[0;36mpandas._libs.hashtable.PyObjectHashTable.get_item\u001b[0;34m()\u001b[0m\n",
      "\u001b[0;32mpandas/_libs/hashtable_class_helper.pxi\u001b[0m in \u001b[0;36mpandas._libs.hashtable.PyObjectHashTable.get_item\u001b[0;34m()\u001b[0m\n",
      "\u001b[0;31mKeyError\u001b[0m: 'PREDICTED_TRASH_OUTPUT_PER_CAPITA (TONS)'"
     ]
    }
   ],
   "source": [
    "#all_zips_df['DIFFERENCE'] = abs(all_zips_df['PREDICTED_TRASH_OUTPUT_PER_CAPITA (TONS)'] - all_zips_df['ACTUAL_TRASH_OUTPUT_PER_CAPITA'])"
   ]
  },
  {
   "cell_type": "code",
   "execution_count": 65,
   "metadata": {},
   "outputs": [],
   "source": [
    "#all_zips_df"
   ]
  },
  {
   "cell_type": "code",
   "execution_count": 36,
   "metadata": {},
   "outputs": [],
   "source": [
    "def binned_trash(number_of_bins, dataSeries):\n",
    "    bins = {}\n",
    "    out = []\n",
    "    min_value = dataSeries.min()\n",
    "    max_value = dataSeries.max()\n",
    "    mean_value = dataSeries.mean()\n",
    "\n",
    "    for bin in range(0,number_of_bins):\n",
    "        b_float_lower = float(bin)/float(number_of_bins)\n",
    "        b_float_upper = float(bin+1.)/float(number_of_bins)\n",
    "        bins[bin] = [min_value + b_float_lower * (max_value - min_value), min_value + b_float_upper*(max_value - min_value)]\n",
    "    \n",
    "\n",
    "    for row in dataSeries:\n",
    "        for bin, bin_range in bins.items():\n",
    "            if row <= bin_range[1] and row >= bin_range[0]:\n",
    "                out.append(bin)\n",
    "\n",
    "    return pd.Series(out), bins"
   ]
  },
  {
   "cell_type": "code",
   "execution_count": 40,
   "metadata": {},
   "outputs": [
    {
     "output_type": "execute_result",
     "data": {
      "text/plain": [
       "      ZIP  load_weight  TOTAL_POPULATION  TOTAL_HOUSEHOLDS  \\\n",
       "0   78617    1325600.0           27900.0            6520.0   \n",
       "1   78653     825420.0           20822.0            6332.0   \n",
       "2   78701     458460.0            7875.0            4855.0   \n",
       "3   78702    3741320.0           22876.0            8937.0   \n",
       "4   78703    3671428.0           20788.0            9723.0   \n",
       "5   78704    5156220.0           47158.0           23213.0   \n",
       "6   78705    1606560.0           33075.0            8370.0   \n",
       "7   78721    1374760.0           12447.0            4197.0   \n",
       "8   78722    1471280.0            7254.0            3111.0   \n",
       "9   78723    5984646.0           33170.0           12518.0   \n",
       "10  78724    1139940.0           24833.0            6360.0   \n",
       "11  78725    2732580.0            7517.0            2544.0   \n",
       "12  78726    1595480.0           14610.0            5554.0   \n",
       "13  78727    2422020.0           28999.0           12937.0   \n",
       "14  78728     711120.0           21245.0           10029.0   \n",
       "15  78729    2337494.0           29434.0           12622.0   \n",
       "16  78730     693680.0            8933.0            3678.0   \n",
       "17  78731    4038480.0           27447.0           12556.0   \n",
       "18  78735    2042200.0           17919.0            7193.0   \n",
       "19  78736     702800.0            8199.0            3023.0   \n",
       "20  78739    6391660.0           20191.0            6367.0   \n",
       "21  78741    2626560.0           52307.0           20758.0   \n",
       "22  78744    7868620.0           48432.0           14345.0   \n",
       "23  78745   11083500.0           62220.0           25857.0   \n",
       "24  78746    2022960.0           28268.0           10848.0   \n",
       "25  78747    4296600.0           20954.0            6364.0   \n",
       "26  78748    8731680.0           49142.0           18820.0   \n",
       "27  78749    7500640.0           37453.0           15215.0   \n",
       "28  78750    3092740.0           30758.0           11713.0   \n",
       "29  78751    1865020.0           14949.0            7463.0   \n",
       "30  78752    2448520.0           20302.0            7932.0   \n",
       "31  78753    5082710.0           58693.0           19947.0   \n",
       "32  78754    4322388.0           23858.0            8009.0   \n",
       "33  78756    1311900.0            8377.0            4246.0   \n",
       "34  78757    4196720.0           24059.0           10746.0   \n",
       "35  78758    6322950.0           46618.0           19397.0   \n",
       "36  78759    6804600.0           41847.0           20240.0   \n",
       "\n",
       "    MEDIAN_HOUSEHOLD_INCOME  MEAN_HOUSEHOLD_INCOME  TOTAL_HOUSING_UNITS  \\\n",
       "0                   52819.0                69936.0               7244.0   \n",
       "1                   66752.0                75678.0               6891.0   \n",
       "2                  112201.0               173289.0               6576.0   \n",
       "3                   54053.0                73919.0               9839.0   \n",
       "4                   98553.0               166396.0              11047.0   \n",
       "5                   66262.0                91223.0              25815.0   \n",
       "6                   15309.0                41357.0              10336.0   \n",
       "7                   41611.0                52873.0               4632.0   \n",
       "8                   69267.0                95443.0               3415.0   \n",
       "9                   49606.0                71897.0              13777.0   \n",
       "10                  45158.0                55252.0               6754.0   \n",
       "11                  62172.0                66225.0               2598.0   \n",
       "12                  88322.0               122559.0               5998.0   \n",
       "13                  74458.0                88800.0              14029.0   \n",
       "14                  55603.0                71409.0              10626.0   \n",
       "15                  73047.0                86587.0              13636.0   \n",
       "16                 108750.0               183174.0               4019.0   \n",
       "17                  89099.0               140009.0              13476.0   \n",
       "18                 102551.0               155092.0               8176.0   \n",
       "19                 107467.0               134565.0               3306.0   \n",
       "20                 147736.0               175189.0               6460.0   \n",
       "21                  39049.0                49856.0              23380.0   \n",
       "22                  47073.0                56407.0              15236.0   \n",
       "23                  60567.0                72944.0              27367.0   \n",
       "24                 136138.0               217305.0              11922.0   \n",
       "25                  79500.0                84070.0               6654.0   \n",
       "26                  74176.0                86175.0              19577.0   \n",
       "27                  92313.0               107483.0              15727.0   \n",
       "28                  81061.0               119690.0              12472.0   \n",
       "29                  54129.0                79620.0               8632.0   \n",
       "30                  41486.0                58935.0               8720.0   \n",
       "31                  45983.0                61853.0              21287.0   \n",
       "32                  64114.0                84433.0               8451.0   \n",
       "33                  73578.0               107864.0               4642.0   \n",
       "34                  65709.0                93055.0              11454.0   \n",
       "35                  50018.0                62838.0              21064.0   \n",
       "36                  76749.0               104404.0              21798.0   \n",
       "\n",
       "    POPULATION_PER_UNIT  LOAD_PER_CAPITA  \n",
       "0              3.851463        47.512545  \n",
       "1              3.021622        39.641725  \n",
       "2              1.197536        58.217143  \n",
       "3              2.325033       163.547823  \n",
       "4              1.881778       176.612854  \n",
       "5              1.826767       109.339243  \n",
       "6              3.199981        48.573243  \n",
       "7              2.687176       110.449104  \n",
       "8              2.124158       202.823270  \n",
       "9              2.407636       180.423455  \n",
       "10             3.676784        45.904240  \n",
       "11             2.893380       363.520021  \n",
       "12             2.435812       109.204654  \n",
       "13             2.067075        83.520811  \n",
       "14             1.999341        33.472346  \n",
       "15             2.158551        79.414758  \n",
       "16             2.222692        77.653644  \n",
       "17             2.036732       147.137392  \n",
       "18             2.191659       113.968413  \n",
       "19             2.480036        85.717770  \n",
       "20             3.125542       316.559853  \n",
       "21             2.237254        50.214312  \n",
       "22             3.178787       162.467377  \n",
       "23             2.273541       178.134041  \n",
       "24             2.371079        71.563605  \n",
       "25             3.149083       205.049155  \n",
       "26             2.510191       177.682634  \n",
       "27             2.381446       200.268069  \n",
       "28             2.466164       100.550751  \n",
       "29             1.731812       124.758847  \n",
       "30             2.328211       120.604867  \n",
       "31             2.757223        86.598231  \n",
       "32             2.823098       181.171431  \n",
       "33             1.804610       156.607377  \n",
       "34             2.100489       174.434515  \n",
       "35             2.213160       135.633232  \n",
       "36             1.919763       162.606638  "
      ],
      "text/html": "<div>\n<style scoped>\n    .dataframe tbody tr th:only-of-type {\n        vertical-align: middle;\n    }\n\n    .dataframe tbody tr th {\n        vertical-align: top;\n    }\n\n    .dataframe thead th {\n        text-align: right;\n    }\n</style>\n<table border=\"1\" class=\"dataframe\">\n  <thead>\n    <tr style=\"text-align: right;\">\n      <th></th>\n      <th>ZIP</th>\n      <th>load_weight</th>\n      <th>TOTAL_POPULATION</th>\n      <th>TOTAL_HOUSEHOLDS</th>\n      <th>MEDIAN_HOUSEHOLD_INCOME</th>\n      <th>MEAN_HOUSEHOLD_INCOME</th>\n      <th>TOTAL_HOUSING_UNITS</th>\n      <th>POPULATION_PER_UNIT</th>\n      <th>LOAD_PER_CAPITA</th>\n    </tr>\n  </thead>\n  <tbody>\n    <tr>\n      <th>0</th>\n      <td>78617</td>\n      <td>1325600.0</td>\n      <td>27900.0</td>\n      <td>6520.0</td>\n      <td>52819.0</td>\n      <td>69936.0</td>\n      <td>7244.0</td>\n      <td>3.851463</td>\n      <td>47.512545</td>\n    </tr>\n    <tr>\n      <th>1</th>\n      <td>78653</td>\n      <td>825420.0</td>\n      <td>20822.0</td>\n      <td>6332.0</td>\n      <td>66752.0</td>\n      <td>75678.0</td>\n      <td>6891.0</td>\n      <td>3.021622</td>\n      <td>39.641725</td>\n    </tr>\n    <tr>\n      <th>2</th>\n      <td>78701</td>\n      <td>458460.0</td>\n      <td>7875.0</td>\n      <td>4855.0</td>\n      <td>112201.0</td>\n      <td>173289.0</td>\n      <td>6576.0</td>\n      <td>1.197536</td>\n      <td>58.217143</td>\n    </tr>\n    <tr>\n      <th>3</th>\n      <td>78702</td>\n      <td>3741320.0</td>\n      <td>22876.0</td>\n      <td>8937.0</td>\n      <td>54053.0</td>\n      <td>73919.0</td>\n      <td>9839.0</td>\n      <td>2.325033</td>\n      <td>163.547823</td>\n    </tr>\n    <tr>\n      <th>4</th>\n      <td>78703</td>\n      <td>3671428.0</td>\n      <td>20788.0</td>\n      <td>9723.0</td>\n      <td>98553.0</td>\n      <td>166396.0</td>\n      <td>11047.0</td>\n      <td>1.881778</td>\n      <td>176.612854</td>\n    </tr>\n    <tr>\n      <th>5</th>\n      <td>78704</td>\n      <td>5156220.0</td>\n      <td>47158.0</td>\n      <td>23213.0</td>\n      <td>66262.0</td>\n      <td>91223.0</td>\n      <td>25815.0</td>\n      <td>1.826767</td>\n      <td>109.339243</td>\n    </tr>\n    <tr>\n      <th>6</th>\n      <td>78705</td>\n      <td>1606560.0</td>\n      <td>33075.0</td>\n      <td>8370.0</td>\n      <td>15309.0</td>\n      <td>41357.0</td>\n      <td>10336.0</td>\n      <td>3.199981</td>\n      <td>48.573243</td>\n    </tr>\n    <tr>\n      <th>7</th>\n      <td>78721</td>\n      <td>1374760.0</td>\n      <td>12447.0</td>\n      <td>4197.0</td>\n      <td>41611.0</td>\n      <td>52873.0</td>\n      <td>4632.0</td>\n      <td>2.687176</td>\n      <td>110.449104</td>\n    </tr>\n    <tr>\n      <th>8</th>\n      <td>78722</td>\n      <td>1471280.0</td>\n      <td>7254.0</td>\n      <td>3111.0</td>\n      <td>69267.0</td>\n      <td>95443.0</td>\n      <td>3415.0</td>\n      <td>2.124158</td>\n      <td>202.823270</td>\n    </tr>\n    <tr>\n      <th>9</th>\n      <td>78723</td>\n      <td>5984646.0</td>\n      <td>33170.0</td>\n      <td>12518.0</td>\n      <td>49606.0</td>\n      <td>71897.0</td>\n      <td>13777.0</td>\n      <td>2.407636</td>\n      <td>180.423455</td>\n    </tr>\n    <tr>\n      <th>10</th>\n      <td>78724</td>\n      <td>1139940.0</td>\n      <td>24833.0</td>\n      <td>6360.0</td>\n      <td>45158.0</td>\n      <td>55252.0</td>\n      <td>6754.0</td>\n      <td>3.676784</td>\n      <td>45.904240</td>\n    </tr>\n    <tr>\n      <th>11</th>\n      <td>78725</td>\n      <td>2732580.0</td>\n      <td>7517.0</td>\n      <td>2544.0</td>\n      <td>62172.0</td>\n      <td>66225.0</td>\n      <td>2598.0</td>\n      <td>2.893380</td>\n      <td>363.520021</td>\n    </tr>\n    <tr>\n      <th>12</th>\n      <td>78726</td>\n      <td>1595480.0</td>\n      <td>14610.0</td>\n      <td>5554.0</td>\n      <td>88322.0</td>\n      <td>122559.0</td>\n      <td>5998.0</td>\n      <td>2.435812</td>\n      <td>109.204654</td>\n    </tr>\n    <tr>\n      <th>13</th>\n      <td>78727</td>\n      <td>2422020.0</td>\n      <td>28999.0</td>\n      <td>12937.0</td>\n      <td>74458.0</td>\n      <td>88800.0</td>\n      <td>14029.0</td>\n      <td>2.067075</td>\n      <td>83.520811</td>\n    </tr>\n    <tr>\n      <th>14</th>\n      <td>78728</td>\n      <td>711120.0</td>\n      <td>21245.0</td>\n      <td>10029.0</td>\n      <td>55603.0</td>\n      <td>71409.0</td>\n      <td>10626.0</td>\n      <td>1.999341</td>\n      <td>33.472346</td>\n    </tr>\n    <tr>\n      <th>15</th>\n      <td>78729</td>\n      <td>2337494.0</td>\n      <td>29434.0</td>\n      <td>12622.0</td>\n      <td>73047.0</td>\n      <td>86587.0</td>\n      <td>13636.0</td>\n      <td>2.158551</td>\n      <td>79.414758</td>\n    </tr>\n    <tr>\n      <th>16</th>\n      <td>78730</td>\n      <td>693680.0</td>\n      <td>8933.0</td>\n      <td>3678.0</td>\n      <td>108750.0</td>\n      <td>183174.0</td>\n      <td>4019.0</td>\n      <td>2.222692</td>\n      <td>77.653644</td>\n    </tr>\n    <tr>\n      <th>17</th>\n      <td>78731</td>\n      <td>4038480.0</td>\n      <td>27447.0</td>\n      <td>12556.0</td>\n      <td>89099.0</td>\n      <td>140009.0</td>\n      <td>13476.0</td>\n      <td>2.036732</td>\n      <td>147.137392</td>\n    </tr>\n    <tr>\n      <th>18</th>\n      <td>78735</td>\n      <td>2042200.0</td>\n      <td>17919.0</td>\n      <td>7193.0</td>\n      <td>102551.0</td>\n      <td>155092.0</td>\n      <td>8176.0</td>\n      <td>2.191659</td>\n      <td>113.968413</td>\n    </tr>\n    <tr>\n      <th>19</th>\n      <td>78736</td>\n      <td>702800.0</td>\n      <td>8199.0</td>\n      <td>3023.0</td>\n      <td>107467.0</td>\n      <td>134565.0</td>\n      <td>3306.0</td>\n      <td>2.480036</td>\n      <td>85.717770</td>\n    </tr>\n    <tr>\n      <th>20</th>\n      <td>78739</td>\n      <td>6391660.0</td>\n      <td>20191.0</td>\n      <td>6367.0</td>\n      <td>147736.0</td>\n      <td>175189.0</td>\n      <td>6460.0</td>\n      <td>3.125542</td>\n      <td>316.559853</td>\n    </tr>\n    <tr>\n      <th>21</th>\n      <td>78741</td>\n      <td>2626560.0</td>\n      <td>52307.0</td>\n      <td>20758.0</td>\n      <td>39049.0</td>\n      <td>49856.0</td>\n      <td>23380.0</td>\n      <td>2.237254</td>\n      <td>50.214312</td>\n    </tr>\n    <tr>\n      <th>22</th>\n      <td>78744</td>\n      <td>7868620.0</td>\n      <td>48432.0</td>\n      <td>14345.0</td>\n      <td>47073.0</td>\n      <td>56407.0</td>\n      <td>15236.0</td>\n      <td>3.178787</td>\n      <td>162.467377</td>\n    </tr>\n    <tr>\n      <th>23</th>\n      <td>78745</td>\n      <td>11083500.0</td>\n      <td>62220.0</td>\n      <td>25857.0</td>\n      <td>60567.0</td>\n      <td>72944.0</td>\n      <td>27367.0</td>\n      <td>2.273541</td>\n      <td>178.134041</td>\n    </tr>\n    <tr>\n      <th>24</th>\n      <td>78746</td>\n      <td>2022960.0</td>\n      <td>28268.0</td>\n      <td>10848.0</td>\n      <td>136138.0</td>\n      <td>217305.0</td>\n      <td>11922.0</td>\n      <td>2.371079</td>\n      <td>71.563605</td>\n    </tr>\n    <tr>\n      <th>25</th>\n      <td>78747</td>\n      <td>4296600.0</td>\n      <td>20954.0</td>\n      <td>6364.0</td>\n      <td>79500.0</td>\n      <td>84070.0</td>\n      <td>6654.0</td>\n      <td>3.149083</td>\n      <td>205.049155</td>\n    </tr>\n    <tr>\n      <th>26</th>\n      <td>78748</td>\n      <td>8731680.0</td>\n      <td>49142.0</td>\n      <td>18820.0</td>\n      <td>74176.0</td>\n      <td>86175.0</td>\n      <td>19577.0</td>\n      <td>2.510191</td>\n      <td>177.682634</td>\n    </tr>\n    <tr>\n      <th>27</th>\n      <td>78749</td>\n      <td>7500640.0</td>\n      <td>37453.0</td>\n      <td>15215.0</td>\n      <td>92313.0</td>\n      <td>107483.0</td>\n      <td>15727.0</td>\n      <td>2.381446</td>\n      <td>200.268069</td>\n    </tr>\n    <tr>\n      <th>28</th>\n      <td>78750</td>\n      <td>3092740.0</td>\n      <td>30758.0</td>\n      <td>11713.0</td>\n      <td>81061.0</td>\n      <td>119690.0</td>\n      <td>12472.0</td>\n      <td>2.466164</td>\n      <td>100.550751</td>\n    </tr>\n    <tr>\n      <th>29</th>\n      <td>78751</td>\n      <td>1865020.0</td>\n      <td>14949.0</td>\n      <td>7463.0</td>\n      <td>54129.0</td>\n      <td>79620.0</td>\n      <td>8632.0</td>\n      <td>1.731812</td>\n      <td>124.758847</td>\n    </tr>\n    <tr>\n      <th>30</th>\n      <td>78752</td>\n      <td>2448520.0</td>\n      <td>20302.0</td>\n      <td>7932.0</td>\n      <td>41486.0</td>\n      <td>58935.0</td>\n      <td>8720.0</td>\n      <td>2.328211</td>\n      <td>120.604867</td>\n    </tr>\n    <tr>\n      <th>31</th>\n      <td>78753</td>\n      <td>5082710.0</td>\n      <td>58693.0</td>\n      <td>19947.0</td>\n      <td>45983.0</td>\n      <td>61853.0</td>\n      <td>21287.0</td>\n      <td>2.757223</td>\n      <td>86.598231</td>\n    </tr>\n    <tr>\n      <th>32</th>\n      <td>78754</td>\n      <td>4322388.0</td>\n      <td>23858.0</td>\n      <td>8009.0</td>\n      <td>64114.0</td>\n      <td>84433.0</td>\n      <td>8451.0</td>\n      <td>2.823098</td>\n      <td>181.171431</td>\n    </tr>\n    <tr>\n      <th>33</th>\n      <td>78756</td>\n      <td>1311900.0</td>\n      <td>8377.0</td>\n      <td>4246.0</td>\n      <td>73578.0</td>\n      <td>107864.0</td>\n      <td>4642.0</td>\n      <td>1.804610</td>\n      <td>156.607377</td>\n    </tr>\n    <tr>\n      <th>34</th>\n      <td>78757</td>\n      <td>4196720.0</td>\n      <td>24059.0</td>\n      <td>10746.0</td>\n      <td>65709.0</td>\n      <td>93055.0</td>\n      <td>11454.0</td>\n      <td>2.100489</td>\n      <td>174.434515</td>\n    </tr>\n    <tr>\n      <th>35</th>\n      <td>78758</td>\n      <td>6322950.0</td>\n      <td>46618.0</td>\n      <td>19397.0</td>\n      <td>50018.0</td>\n      <td>62838.0</td>\n      <td>21064.0</td>\n      <td>2.213160</td>\n      <td>135.633232</td>\n    </tr>\n    <tr>\n      <th>36</th>\n      <td>78759</td>\n      <td>6804600.0</td>\n      <td>41847.0</td>\n      <td>20240.0</td>\n      <td>76749.0</td>\n      <td>104404.0</td>\n      <td>21798.0</td>\n      <td>1.919763</td>\n      <td>162.606638</td>\n    </tr>\n  </tbody>\n</table>\n</div>"
     },
     "metadata": {},
     "execution_count": 40
    }
   ],
   "source": [
    "joined_zips_grb_df"
   ]
  },
  {
   "cell_type": "code",
   "execution_count": 41,
   "metadata": {},
   "outputs": [],
   "source": [
    "binned_load_per_capita, bins = binned_trash(3, joined_zips_grb_df['LOAD_PER_CAPITA'])"
   ]
  },
  {
   "cell_type": "code",
   "execution_count": 42,
   "metadata": {},
   "outputs": [
    {
     "output_type": "execute_result",
     "data": {
      "text/plain": [
       "37"
      ]
     },
     "metadata": {},
     "execution_count": 42
    }
   ],
   "source": [
    "binned_load_per_capita.size"
   ]
  },
  {
   "cell_type": "code",
   "execution_count": 40,
   "metadata": {},
   "outputs": [
    {
     "output_type": "execute_result",
     "data": {
      "text/plain": [
       "0     0\n",
       "1     0\n",
       "2     0\n",
       "3     1\n",
       "4     1\n",
       "5     0\n",
       "6     0\n",
       "7     0\n",
       "8     1\n",
       "9     1\n",
       "10    0\n",
       "11    2\n",
       "12    0\n",
       "13    0\n",
       "14    0\n",
       "15    0\n",
       "16    0\n",
       "17    1\n",
       "18    0\n",
       "19    0\n",
       "20    2\n",
       "21    0\n",
       "22    1\n",
       "23    1\n",
       "24    0\n",
       "25    1\n",
       "26    1\n",
       "27    1\n",
       "28    0\n",
       "29    0\n",
       "30    0\n",
       "31    0\n",
       "32    1\n",
       "33    1\n",
       "34    1\n",
       "35    0\n",
       "36    1\n",
       "dtype: int64"
      ]
     },
     "metadata": {},
     "execution_count": 40
    }
   ],
   "source": [
    "binned_load_per_capita"
   ]
  },
  {
   "cell_type": "code",
   "execution_count": 43,
   "metadata": {},
   "outputs": [
    {
     "output_type": "execute_result",
     "data": {
      "text/plain": [
       "{0: [33.47234643445517, 143.48823805133247],\n",
       " 1: [143.48823805133247, 253.5041296682098],\n",
       " 2: [253.5041296682098, 363.5200212850871]}"
      ]
     },
     "metadata": {},
     "execution_count": 43
    }
   ],
   "source": [
    "bins"
   ]
  },
  {
   "cell_type": "code",
   "execution_count": 44,
   "metadata": {},
   "outputs": [],
   "source": [
    "#X = pd.DataFrame(X_reduced)\n",
    "X = pd.DataFrame(X)"
   ]
  },
  {
   "cell_type": "code",
   "execution_count": 45,
   "metadata": {},
   "outputs": [
    {
     "output_type": "execute_result",
     "data": {
      "text/plain": [
       "          0         1         2         3\n",
       "0  0.039070 -0.671284 -0.699580 -0.658071\n",
       "1 -0.439705 -0.702146 -0.190288 -0.712127\n",
       "2 -1.315476 -0.944613  1.471007 -0.760363\n",
       "3 -0.300767 -0.274505 -0.654474 -0.260696\n",
       "4 -0.442005 -0.145474  0.972133 -0.075713"
      ],
      "text/html": "<div>\n<style scoped>\n    .dataframe tbody tr th:only-of-type {\n        vertical-align: middle;\n    }\n\n    .dataframe tbody tr th {\n        vertical-align: top;\n    }\n\n    .dataframe thead th {\n        text-align: right;\n    }\n</style>\n<table border=\"1\" class=\"dataframe\">\n  <thead>\n    <tr style=\"text-align: right;\">\n      <th></th>\n      <th>0</th>\n      <th>1</th>\n      <th>2</th>\n      <th>3</th>\n    </tr>\n  </thead>\n  <tbody>\n    <tr>\n      <th>0</th>\n      <td>0.039070</td>\n      <td>-0.671284</td>\n      <td>-0.699580</td>\n      <td>-0.658071</td>\n    </tr>\n    <tr>\n      <th>1</th>\n      <td>-0.439705</td>\n      <td>-0.702146</td>\n      <td>-0.190288</td>\n      <td>-0.712127</td>\n    </tr>\n    <tr>\n      <th>2</th>\n      <td>-1.315476</td>\n      <td>-0.944613</td>\n      <td>1.471007</td>\n      <td>-0.760363</td>\n    </tr>\n    <tr>\n      <th>3</th>\n      <td>-0.300767</td>\n      <td>-0.274505</td>\n      <td>-0.654474</td>\n      <td>-0.260696</td>\n    </tr>\n    <tr>\n      <th>4</th>\n      <td>-0.442005</td>\n      <td>-0.145474</td>\n      <td>0.972133</td>\n      <td>-0.075713</td>\n    </tr>\n  </tbody>\n</table>\n</div>"
     },
     "metadata": {},
     "execution_count": 45
    }
   ],
   "source": [
    "X.head()"
   ]
  },
  {
   "cell_type": "code",
   "execution_count": 46,
   "metadata": {},
   "outputs": [],
   "source": [
    "# Split data into training and testing sets\n",
    "X_train,X_test,y_train,y_test = train_test_split(X, binned_load_per_capita,random_state=1)"
   ]
  },
  {
   "cell_type": "code",
   "execution_count": 47,
   "metadata": {},
   "outputs": [],
   "source": [
    "#RANDOM FORREST CLASSIFIER MODEL BEGINS\n",
    "rf = RandomForestClassifier(random_state=1)"
   ]
  },
  {
   "cell_type": "code",
   "execution_count": 48,
   "metadata": {},
   "outputs": [
    {
     "output_type": "execute_result",
     "data": {
      "text/plain": [
       "RandomForestClassifier(bootstrap=True, ccp_alpha=0.0, class_weight=None,\n",
       "                       criterion='gini', max_depth=None, max_features='auto',\n",
       "                       max_leaf_nodes=None, max_samples=None,\n",
       "                       min_impurity_decrease=0.0, min_impurity_split=None,\n",
       "                       min_samples_leaf=1, min_samples_split=2,\n",
       "                       min_weight_fraction_leaf=0.0, n_estimators=100,\n",
       "                       n_jobs=None, oob_score=False, random_state=1, verbose=0,\n",
       "                       warm_start=False)"
      ]
     },
     "metadata": {},
     "execution_count": 48
    }
   ],
   "source": [
    "rf.fit(X_train, y_train)"
   ]
  },
  {
   "cell_type": "code",
   "execution_count": 49,
   "metadata": {},
   "outputs": [],
   "source": [
    "model_to_javascript = m2c.export_to_javascript(rf)"
   ]
  },
  {
   "cell_type": "code",
   "execution_count": 50,
   "metadata": {},
   "outputs": [
    {
     "output_type": "execute_result",
     "data": {
      "text/plain": [
       "                   } else {\\n                            if ((input[3]) <= (0.9757629483938217)) {\\n                                var85 = [1.0, 0.0, 0.0];\\n                            } else {\\n                                if ((input[0]) <= (1.1621085405349731)) {\\n                                    var85 = [0.0, 1.0, 0.0];\\n                                } else {\\n                                    var85 = [1.0, 0.0, 0.0];\\n                                }\\n                            }\\n                        }\\n                    }\\n                } else {\\n                    var85 = [0.0, 1.0, 0.0];\\n                }\\n            } else {\\n                var85 = [0.0, 0.0, 1.0];\\n            }\\n        }\\n    }\\n    var var86;\\n    if ((input[0]) <= (0.3923342525959015)) {\\n        if ((input[0]) <= (-1.2627143263816833)) {\\n            if ((input[2]) <= (-0.22802868857979774)) {\\n                var86 = [0.0, 0.0, 1.0];\\n            } else {\\n                var86 = [0.0, 1.0, 0.0];\\n            }\\n        } else {\\n            if ((input[3]) <= (-0.1079472228884697)) {\\n                if ((input[2]) <= (2.057390034198761)) {\\n                    var86 = [1.0, 0.0, 0.0];\\n                } else {\\n                    var86 = [0.0, 0.0, 1.0];\\n                }\\n            } else {\\n                if ((input[1]) <= (0.1764472145587206)) {\\n                    var86 = [0.0, 1.0, 0.0];\\n                } else {\\n                    var86 = [1.0, 0.0, 0.0];\\n                }\\n            }\\n        }\\n    } else {\\n        var86 = [0.0, 1.0, 0.0];\\n    }\\n    var var87;\\n    if ((input[1]) <= (0.8650234937667847)) {\\n        if ((input[2]) <= (1.9440941214561462)) {\\n            if ((input[1]) <= (-1.1417713165283203)) {\\n                var87 = [0.0, 1.0, 0.0];\\n            } else {\\n                if ((input[0]) <= (-1.1438660621643066)) {\\n                    var87 = [0.0, 1.0, 0.0];\\n                } else {\\n                    if ((input[0]) <= (0.3923342525959015)) {\\n                        if ((input[3]) <= (-0.07678500236943364)) {\\n                            var87 = [1.0, 0.0, 0.0];\\n                        } else {\\n                            if ((input[0]) <= (-0.05366811528801918)) {\\n                                var87 = [0.0, 1.0, 0.0];\\n                            } else {\\n                                var87 = [1.0, 0.0, 0.0];\\n                            }\\n                        }\\n                    } else {\\n                        var87 = [0.0, 1.0, 0.0];\\n                    }\\n                }\\n            }\\n        } else {\\n            var87 = [0.0, 0.0, 1.0];\\n        }\\n    } else {\\n        if ((input[3]) <= (1.8781657218933105)) {\\n            var87 = [0.0, 1.0, 0.0];\\n        } else {\\n            var87 = [1.0, 0.0, 0.0];\\n        }\\n    }\\n    var var88;\\n    if ((input[1]) <= (1.440410315990448)) {\\n        if ((input[3]) <= (-0.13015125691890717)) {\\n            if ((input[0]) <= (-1.2627143263816833)) {\\n                var88 = [0.0, 1.0, 0.0];\\n            } else {\\n                if ((input[3]) <= (-0.7556160390377045)) {\\n                    if ((input[2]) <= (2.057390034198761)) {\\n                        var88 = [1.0, 0.0, 0.0];\\n                    } else {\\n                        var88 = [0.0, 0.0, 1.0];\\n                    }\\n                } else {\\n                    if ((input[2]) <= (-0.6331633776426315)) {\\n                        var88 = [1.0, 0.0, 0.0];\\n                    } else {\\n                        if ((input[0]) <= (-0.3370235189795494)) {\\n                            var88 = [1.0, 0.0, 0.0];\\n                        } else {\\n                            var88 = [0.0, 1.0, 0.0];\\n                        }\\n                    }\\n                }\\n            }\\n        } else {\\n            if ((input[0]) <= (0.06091867806389928)) {\\n                var88 = [0.0, 1.0, 0.0];\\n            } else {\\n                if ((input[3]) <= (0.8057106584310532)) {\\n                    var88 = [1.0, 0.0, 0.0];\\n                } else {\\n                    var88 = [0.0, 1.0, 0.0];\\n                }\\n            }\\n        }\\n    } else {\\n        var88 = [1.0, 0.0, 0.0];\\n    }\\n    var var89;\\n    if ((input[1]) <= (-0.4938250333070755)) {\\n        if ((input[3]) <= (-1.2607195973396301)) {\\n            var89 = [0.0, 0.0, 1.0];\\n        } else {\\n            if ((input[1]) <= (-0.6969751417636871)) {\\n                var89 = [1.0, 0.0, 0.0];\\n            } else {\\n                if ((input[2]) <= (1.9440941214561462)) {\\n                    var89 = [1.0, 0.0, 0.0];\\n                } else {\\n                    var89 = [0.0, 0.0, 1.0];\\n                }\\n            }\\n        }\\n    } else {\\n        if ((input[0]) <= (0.07563097076490521)) {\\n            var89 = [0.0, 1.0, 0.0];\\n        } else {\\n            if ((input[1]) <= (2.286089301109314)) {\\n                if ((input[3]) <= (0.3315396159887314)) {\\n                    var89 = [1.0, 0.0, 0.0];\\n                } else {\\n                    if ((input[0]) <= (1.1621085405349731)) {\\n                        var89 = [0.0, 1.0, 0.0];\\n                    } else {\\n                        var89 = [1.0, 0.0, 0.0];\\n                    }\\n                }\\n            } else {\\n                var89 = [0.0, 1.0, 0.0];\\n            }\\n        }\\n    }\\n    var var90;\\n    if ((input[2]) <= (1.0452021062374115)) {\\n        if ((input[1]) <= (-1.1842892169952393)) {\\n            var90 = [0.0, 0.0, 1.0];\\n        } else {\\n            if ((input[2]) <= (0.47965478897094727)) {\\n                if ((input[1]) <= (1.825041115283966)) {\\n                    if ((input[0]) <= (0.3923342525959015)) {\\n                        if ((input[2]) <= (-0.4422655552625656)) {\\n                            var90 = [1.0, 0.0, 0.0];\\n                        } else {\\n                            if ((input[0]) <= (-0.05366811528801918)) {\\n                                if ((input[0]) <= (-0.3370235189795494)) {\\n                                    if ((input[0]) <= (-0.8606121242046356)) {\\n                                        var90 = [0.0, 1.0, 0.0];\\n                                    } else {\\n                                        var90 = [1.0, 0.0, 0.0];\\n                                    }\\n                                } else {\\n                                    var90 = [0.0, 1.0, 0.0];\\n                                }\\n                            } else {\\n                                var90 = [1.0, 0.0, 0.0];\\n                            }\\n                        }\\n                    } else {\\n                        var90 = [0.0, 1.0, 0.0];\\n                    }\\n                } else {\\n                    var90 = [1.0, 0.0, 0.0];\\n                }\\n            } else {\\n                var90 = [0.0, 1.0, 0.0];\\n            }\\n        }\\n    } else {\\n        var90 = [1.0, 0.0, 0.0];\\n    }\\n    var var91;\\n    if ((input[2]) <= (-0.507092222571373)) {\\n        if ((input[3]) <= (0.10107700526714325)) {\\n            var91 = [1.0, 0.0, 0.0];\\n        } else {\\n            if ((input[0]) <= (1.2587700486183167)) {\\n                var91 = [0.0, 1.0, 0.0];\\n            } else {\\n                var91 = [1.0, 0.0, 0.0];\\n            }\\n        }\\n    } else {\\n        if ((input[3]) <= (-1.3069652318954468)) {\\n            var91 = [0.0, 0.0, 1.0];\\n        } else {\\n            if ((input[2]) <= (0.08623533695936203)) {\\n                var91 = [0.0, 1.0, 0.0];\\n            } else {\\n                if ((input[1]) <= (-0.6286017894744873)) {\\n                    var91 = [0.0, 0.0, 1.0];\\n                } else {\\n                    if ((input[2]) <= (0.35897520557045937)) {\\n                        var91 = [1.0, 0.0, 0.0];\\n                    } else {\\n                        if ((input[0]) <= (-0.31382206035777926)) {\\n                            var91 = [1.0, 0.0, 0.0];\\n                        } else {\\n                            var91 = [0.0, 1.0, 0.0];\\n                        }\\n                    }\\n                }\\n            }\\n        }\\n    }\\n    var var92;\\n    if ((input[0]) <= (0.3139701411128044)) {\\n        if ((input[1]) <= (0.10183572210371494)) {\\n            if ((input[2]) <= (0.3286910969763994)) {\\n                if ((input[1]) <= (-1.277450978755951)) {\\n                    var92 = [0.0, 0.0, 1.0];\\n                } else {\\n                    var92 = [0.0, 1.0, 0.0];\\n                }\\n            } else {\\n                if ((input[0]) <= (-0.6711447983980179)) {\\n                    var92 = [1.0, 0.0, 0.0];\\n                } else {\\n                    if ((input[3]) <= (-0.42691972106695175)) {\\n                        var92 = [0.0, 0.0, 1.0];\\n                    } else {\\n                        var92 = [0.0, 1.0, 0.0];\\n                    }\\n                }\\n            }\\n        } else {\\n            var92 = [1.0, 0.0, 0.0];\\n        }\\n    } else {\\n        if ((input[2]) <= (-0.8832404017448425)) {\\n            var92 = [1.0, 0.0, 0.0];\\n        } else {\\n            var92 = [0.0, 1.0, 0.0];\\n        }\\n    }\\n    var var93;\\n    if ((input[0]) <= (0.3923342525959015)) {\\n        if ((input[2]) <= (-0.4777584671974182)) {\\n            var93 = [1.0, 0.0, 0.0];\\n        } else {\\n            if ((input[2]) <= (-0.23850111663341522)) {\\n                if ((input[0]) <= (-0.7870168015360832)) {\\n                    var93 = [0.0, 0.0, 1.0];\\n                } else {\\n                    var93 = [0.0, 1.0, 0.0];\\n                }\\n            } else {\\n                if ((input[1]) <= (-1.184371292591095)) {\\n                    var93 = [0.0, 1.0, 0.0];\\n                } else {\\n                    if ((input[2]) <= (0.47965478897094727)) {\\n                        var93 = [1.0, 0.0, 0.0];\\n                    } else {\\n                        if ((input[3]) <= (-0.42691972106695175)) {\\n                            if ((input[0]) <= (-0.8631486743688583)) {\\n                                var93 = [1.0, 0.0, 0.0];\\n                            } else {\\n                                var93 = [0.0, 0.0, 1.0];\\n                            }\\n                        } else {\\n                            var93 = [0.0, 1.0, 0.0];\\n                        }\\n                    }\\n                }\\n            }\\n        }\\n    } else {\\n        var93 = [0.0, 1.0, 0.0];\\n    }\\n    var var94;\\n    if ((input[0]) <= (-1.1438660621643066)) {\\n        var94 = [0.0, 1.0, 0.0];\\n    } else {\\n        if ((input[2]) <= (-0.507092222571373)) {\\n            var94 = [1.0, 0.0, 0.0];\\n        } else {\\n            if ((input[2]) <= (-0.09429970569908619)) {\\n                var94 = [0.0, 1.0, 0.0];\\n            } else {\\n                if ((input[1]) <= (0.32501356303691864)) {\\n                    if ((input[2]) <= (0.6123602986335754)) {\\n                        var94 = [1.0, 0.0, 0.0];\\n                    } else {\\n                        var94 = [0.0, 1.0, 0.0];\\n                    }\\n                } else {\\n                    var94 = [1.0, 0.0, 0.0];\\n                }\\n            }\\n        }\\n    }\\n    var var95;\\n    if ((input[2]) <= (2.057390034198761)) {\\n        if ((input[1]) <= (-1.230911135673523)) {\\n            var95 = [0.0, 0.0, 1.0];\\n        } else {\\n            if ((input[0]) <= (-1.2627143263816833)) {\\n                var95 = [0.0, 1.0, 0.0];\\n            } else {\\n                if ((input[3]) <= (-0.1079472228884697)) {\\n                    var95 = [1.0, 0.0, 0.0];\\n                } else {\\n                    if ((input[0]) <= (0.06091867806389928)) {\\n                        var95 = [0.0, 1.0, 0.0];\\n                    } else {\\n                        if ((input[0]) <= (0.3139701411128044)) {\\n                            var95 = [1.0, 0.0, 0.0];\\n                        } else {\\n                            if ((input[2]) <= (-0.3122832551598549)) {\\n                                var95 = [0.0, 1.0, 0.0];\\n                            } else {\\n                                var95 = [1.0, 0.0, 0.0];\\n                            }\\n                        }\\n                    }\\n                }\\n            }\\n        }\\n    } else {\\n        var95 = [0.0, 0.0, 1.0];\\n    }\\n    var var96;\\n    if ((input[0]) <= (-1.1438660621643066)) {\\n        if ((input[1]) <= (-1.277450978755951)) {\\n            var96 = [0.0, 0.0, 1.0];\\n        } else {\\n            var96 = [0.0, 1.0, 0.0];\\n        }\\n    } else {\\n        if ((input[1]) <= (-0.4938250333070755)) {\\n            var96 = [1.0, 0.0, 0.0];\\n        } else {\\n            if ((input[0]) <= (-0.06046620383858681)) {\\n                var96 = [0.0, 1.0, 0.0];\\n            } else {\\n                if ((input[1]) <= (2.286089301109314)) {\\n                    if ((input[1]) <= (0.32189448177814484)) {\\n                        if ((input[1]) <= (0.2472829893231392)) {\\n                            var96 = [1.0, 0.0, 0.0];\\n                        } else {\\n                            var96 = [0.0, 1.0, 0.0];\\n                        }\\n                    } else {\\n                        if ((input[2]) <= (0.06044722534716129)) {\\n                            var96 = [1.0, 0.0, 0.0];\\n                        } else {\\n                            if ((input[1]) <= (0.8650234937667847)) {\\n                                var96 = [1.0, 0.0, 0.0];\\n                            } else {\\n                                var96 = [0.0, 1.0, 0.0];\\n                            }\\n                        }\\n                    }\\n                } else {\\n                    var96 = [0.0, 1.0, 0.0];\\n                }\\n            }\\n        }\\n    }\\n    var var97;\\n    if ((input[2]) <= (-0.5579739362001419)) {\\n        var97 = [1.0, 0.0, 0.0];\\n    } else {\\n        if ((input[3]) <= (-1.198165476322174)) {\\n            var97 = [0.0, 1.0, 0.0];\\n        } else {\\n            if ((input[0]) <= (-0.3370235189795494)) {\\n                if ((input[1]) <= (-0.9372258484363556)) {\\n                    if ((input[2]) <= (0.7020429987460375)) {\\n                        var97 = [0.0, 1.0, 0.0];\\n                    } else {\\n                        var97 = [1.0, 0.0, 0.0];\\n                    }\\n                } else {\\n                    var97 = [1.0, 0.0, 0.0];\\n                }\\n            } else {\\n                if ((input[2]) <= (-0.24745658785104752)) {\\n                    var97 = [0.0, 1.0, 0.0];\\n                } else {\\n                    if ((input[2]) <= (0.13326071575284004)) {\\n                        var97 = [1.0, 0.0, 0.0];\\n                    } else {\\n                        if ((input[0]) <= (0.6074381396174431)) {\\n                            var97 = [1.0, 0.0, 0.0];\\n                        } else {\\n                            var97 = [0.0, 1.0, 0.0];\\n                        }\\n                    }\\n                }\\n            }\\n        }\\n    }\\n    var var98;\\n    if ((input[0]) <= (0.3139701411128044)) {\\n        if ((input[3]) <= (-1.198165476322174)) {\\n            if ((input[3]) <= (-1.3069652318954468)) {\\n                var98 = [0.0, 0.0, 1.0];\\n            } else {\\n                var98 = [0.0, 1.0, 0.0];\\n            }\\n        } else {\\n            if ((input[2]) <= (2.057390034198761)) {\\n                if ((input[0]) <= (-1.2627143263816833)) {\\n                    var98 = [0.0, 1.0, 0.0];\\n                } else {\\n                    if ((input[0]) <= (-0.3159189894795418)) {\\n                        var98 = [1.0, 0.0, 0.0];\\n                    } else {\\n                        if ((input[0]) <= (0.023748998064547777)) {\\n                            var98 = [0.0, 1.0, 0.0];\\n                        } else {\\n                            var98 = [1.0, 0.0, 0.0];\\n                        }\\n                    }\\n                }\\n            } else {\\n                var98 = [0.0, 0.0, 1.0];\\n            }\\n        }\\n    } else {\\n        if ((input[3]) <= (1.8781657218933105)) {\\n            var98 = [0.0, 1.0, 0.0];\\n        } else {\\n            if ((input[3]) <= (2.304559826850891)) {\\n                var98 = [1.0, 0.0, 0.0];\\n            } else {\\n                var98 = [0.0, 1.0, 0.0];\\n            }\\n        }\\n    }\\n    var var99;\\n    if ((input[1]) <= (-1.277450978755951)) {\\n        var99 = [0.0, 0.0, 1.0];\\n    } else {\\n        if ((input[0]) <= (0.3923342525959015)) {\\n            if ((input[3]) <= (-0.9526960253715515)) {\\n                if ((input[2]) <= (-0.603811327368021)) {\\n                    var99 = [1.0, 0.0, 0.0];\\n                } else {\\n                    var99 = [0.0, 1.0, 0.0];\\n                }\\n            } else {\\n                if ((input[1]) <= (-0.2565292865037918)) {\\n                    var99 = [1.0, 0.0, 0.0];\\n                } else {\\n                    if ((input[3]) <= (0.1536776083521545)) {\\n                        if ((input[2]) <= (-0.413114570081234)) {\\n                            var99 = [1.0, 0.0, 0.0];\\n                        } else {\\n                            var99 = [0.0, 1.0, 0.0];\\n                        }\\n                    } else {\\n                        var99 = [1.0, 0.0, 0.0];\\n                    }\\n                }\\n            }\\n        } else {\\n            if ((input[0]) <= (0.8686405420303345)) {\\n                var99 = [0.0, 1.0, 0.0];\\n            } else {\\n                if ((input[1]) <= (1.7084863185882568)) {\\n                    var99 = [0.0, 1.0, 0.0];\\n                } else {\\n                    var99 = [1.0, 0.0, 0.0];\\n                }\\n            }\\n        }\\n    }\\n    return mulVectorNumber(addVectors(addVectors(addVectors(addVectors(addVectors(addVectors(addVectors(addVectors(addVectors(addVectors(addVectors(addVectors(addVectors(addVectors(addVectors(addVectors(addVectors(addVectors(addVectors(addVectors(addVectors(addVectors(addVectors(addVectors(addVectors(addVectors(addVectors(addVectors(addVectors(addVectors(addVectors(addVectors(addVectors(addVectors(addVectors(addVectors(addVectors(addVectors(addVectors(addVectors(addVectors(addVectors(addVectors(addVectors(addVectors(addVectors(addVectors(addVectors(addVectors(addVectors(addVectors(addVectors(addVectors(addVectors(addVectors(addVectors(addVectors(addVectors(addVectors(addVectors(addVectors(addVectors(addVectors(addVectors(addVectors(addVectors(addVectors(addVectors(addVectors(addVectors(addVectors(addVectors(addVectors(addVectors(addVectors(addVectors(addVectors(addVectors(addVectors(addVectors(addVectors(addVectors(addVectors(addVectors(addVectors(addVectors(addVectors(addVectors(addVectors(addVectors(addVectors(addVectors(addVectors(addVectors(addVectors(addVectors(addVectors(addVectors(addVectors(var0, var1), var2), var3), var4), var5), var6), var7), var8), var9), var10), var11), var12), var13), var14), var15), var16), var17), var18), var19), var20), var21), var22), var23), var24), var25), var26), var27), var28), var29), var30), var31), var32), var33), var34), var35), var36), var37), var38), var39), var40), var41), var42), var43), var44), var45), var46), var47), var48), var49), var50), var51), var52), var53), var54), var55), var56), var57), var58), var59), var60), var61), var62), var63), var64), var65), var66), var67), var68), var69), var70), var71), var72), var73), var74), var75), var76), var77), var78), var79), var80), var81), var82), var83), var84), var85), var86), var87), var88), var89), var90), var91), var92), var93), var94), var95), var96), var97), var98), var99), 0.01);\\n}\\nfunction addVectors(v1, v2) {\\n    let result = new Array(v1.length);\\n    for (let i = 0; i < v1.length; i++) {\\n        result[i] = v1[i] + v2[i];\\n    }\\n    return result;\\n}\\nfunction mulVectorNumber(v1, num) {\\n    let result = new Array(v1.length);\\n    for (let i = 0; i < v1.length; i++) {\\n        result[i] = v1[i] * num;\\n    }\\n    return result;\\n}\\n'"
      ]
     },
     "metadata": {},
     "execution_count": 50
    }
   ],
   "source": [
    "model_to_javascript"
   ]
  },
  {
   "cell_type": "code",
   "execution_count": 51,
   "metadata": {},
   "outputs": [
    {
     "output_type": "stream",
     "name": "stdout",
     "text": [
      "30    0\n17    1\n28    0\n34    1\n31    0\n26    1\n4     1\n14    0\n10    0\n33    1\n23    1\n32    1\n20    2\n18    0\n6     0\n13    0\n7     0\n36    1\n1     0\n16    0\n0     0\n15    0\n5     0\n11    2\n9     1\n8     1\n12    0\ndtype: int64\n"
     ]
    }
   ],
   "source": [
    "print(y_train)"
   ]
  },
  {
   "cell_type": "code",
   "execution_count": 52,
   "metadata": {},
   "outputs": [
    {
     "output_type": "execute_result",
     "data": {
      "text/plain": [
       "           0         1         2         3\n",
       "2  -1.315476 -0.944613  1.471007 -0.760363\n",
       "29 -0.836971 -0.516479 -0.651696 -0.445525\n",
       "3  -0.300767 -0.274505 -0.654474 -0.260696\n",
       "22  1.427911  0.613282 -0.909613  0.565754\n",
       "25 -0.430776 -0.696893  0.275689 -0.748419\n",
       "27  0.685261  0.756102  0.744042  0.640941\n",
       "21  1.690026  1.666051 -1.202914  1.812855\n",
       "35  1.305207  1.442626 -0.801965  1.458203\n",
       "19 -1.293559 -1.245357  1.297966 -1.261102\n",
       "24  0.063963  0.039208  2.345976  0.058277"
      ],
      "text/html": "<div>\n<style scoped>\n    .dataframe tbody tr th:only-of-type {\n        vertical-align: middle;\n    }\n\n    .dataframe tbody tr th {\n        vertical-align: top;\n    }\n\n    .dataframe thead th {\n        text-align: right;\n    }\n</style>\n<table border=\"1\" class=\"dataframe\">\n  <thead>\n    <tr style=\"text-align: right;\">\n      <th></th>\n      <th>0</th>\n      <th>1</th>\n      <th>2</th>\n      <th>3</th>\n    </tr>\n  </thead>\n  <tbody>\n    <tr>\n      <th>2</th>\n      <td>-1.315476</td>\n      <td>-0.944613</td>\n      <td>1.471007</td>\n      <td>-0.760363</td>\n    </tr>\n    <tr>\n      <th>29</th>\n      <td>-0.836971</td>\n      <td>-0.516479</td>\n      <td>-0.651696</td>\n      <td>-0.445525</td>\n    </tr>\n    <tr>\n      <th>3</th>\n      <td>-0.300767</td>\n      <td>-0.274505</td>\n      <td>-0.654474</td>\n      <td>-0.260696</td>\n    </tr>\n    <tr>\n      <th>22</th>\n      <td>1.427911</td>\n      <td>0.613282</td>\n      <td>-0.909613</td>\n      <td>0.565754</td>\n    </tr>\n    <tr>\n      <th>25</th>\n      <td>-0.430776</td>\n      <td>-0.696893</td>\n      <td>0.275689</td>\n      <td>-0.748419</td>\n    </tr>\n    <tr>\n      <th>27</th>\n      <td>0.685261</td>\n      <td>0.756102</td>\n      <td>0.744042</td>\n      <td>0.640941</td>\n    </tr>\n    <tr>\n      <th>21</th>\n      <td>1.690026</td>\n      <td>1.666051</td>\n      <td>-1.202914</td>\n      <td>1.812855</td>\n    </tr>\n    <tr>\n      <th>35</th>\n      <td>1.305207</td>\n      <td>1.442626</td>\n      <td>-0.801965</td>\n      <td>1.458203</td>\n    </tr>\n    <tr>\n      <th>19</th>\n      <td>-1.293559</td>\n      <td>-1.245357</td>\n      <td>1.297966</td>\n      <td>-1.261102</td>\n    </tr>\n    <tr>\n      <th>24</th>\n      <td>0.063963</td>\n      <td>0.039208</td>\n      <td>2.345976</td>\n      <td>0.058277</td>\n    </tr>\n  </tbody>\n</table>\n</div>"
     },
     "metadata": {},
     "execution_count": 52
    }
   ],
   "source": [
    "X_test"
   ]
  },
  {
   "cell_type": "code",
   "execution_count": 53,
   "metadata": {},
   "outputs": [],
   "source": [
    "y_pred = rf.predict(X_test)"
   ]
  },
  {
   "cell_type": "code",
   "execution_count": 54,
   "metadata": {},
   "outputs": [
    {
     "output_type": "stream",
     "name": "stdout",
     "text": [
      "[1 0 0 0 0 1 0 0 1 1]\n"
     ]
    }
   ],
   "source": [
    "print(y_pred)"
   ]
  },
  {
   "cell_type": "code",
   "execution_count": 55,
   "metadata": {},
   "outputs": [],
   "source": [
    "score = accuracy_score(y_test, y_pred)"
   ]
  },
  {
   "cell_type": "code",
   "execution_count": 56,
   "metadata": {},
   "outputs": [
    {
     "output_type": "stream",
     "name": "stdout",
     "text": [
      "0.4\n"
     ]
    }
   ],
   "source": [
    "print(score)"
   ]
  },
  {
   "cell_type": "code",
   "execution_count": 57,
   "metadata": {},
   "outputs": [
    {
     "output_type": "stream",
     "name": "stdout",
     "text": [
      "2     0\n29    0\n3     1\n22    1\n25    1\n27    1\n21    0\n35    0\n19    0\n24    0\ndtype: int64\n"
     ]
    }
   ],
   "source": [
    "print(y_test)"
   ]
  },
  {
   "cell_type": "code",
   "execution_count": 61,
   "metadata": {},
   "outputs": [
    {
     "output_type": "execute_result",
     "data": {
      "text/plain": [
       "           0         1         2         3\n",
       "2  -1.315476 -0.944613  1.471007 -0.760363\n",
       "29 -0.836971 -0.516479 -0.651696 -0.445525\n",
       "3  -0.300767 -0.274505 -0.654474 -0.260696\n",
       "22  1.427911  0.613282 -0.909613  0.565754\n",
       "25 -0.430776 -0.696893  0.275689 -0.748419\n",
       "27  0.685261  0.756102  0.744042  0.640941\n",
       "21  1.690026  1.666051 -1.202914  1.812855\n",
       "35  1.305207  1.442626 -0.801965  1.458203\n",
       "19 -1.293559 -1.245357  1.297966 -1.261102\n",
       "24  0.063963  0.039208  2.345976  0.058277"
      ],
      "text/html": "<div>\n<style scoped>\n    .dataframe tbody tr th:only-of-type {\n        vertical-align: middle;\n    }\n\n    .dataframe tbody tr th {\n        vertical-align: top;\n    }\n\n    .dataframe thead th {\n        text-align: right;\n    }\n</style>\n<table border=\"1\" class=\"dataframe\">\n  <thead>\n    <tr style=\"text-align: right;\">\n      <th></th>\n      <th>0</th>\n      <th>1</th>\n      <th>2</th>\n      <th>3</th>\n    </tr>\n  </thead>\n  <tbody>\n    <tr>\n      <th>2</th>\n      <td>-1.315476</td>\n      <td>-0.944613</td>\n      <td>1.471007</td>\n      <td>-0.760363</td>\n    </tr>\n    <tr>\n      <th>29</th>\n      <td>-0.836971</td>\n      <td>-0.516479</td>\n      <td>-0.651696</td>\n      <td>-0.445525</td>\n    </tr>\n    <tr>\n      <th>3</th>\n      <td>-0.300767</td>\n      <td>-0.274505</td>\n      <td>-0.654474</td>\n      <td>-0.260696</td>\n    </tr>\n    <tr>\n      <th>22</th>\n      <td>1.427911</td>\n      <td>0.613282</td>\n      <td>-0.909613</td>\n      <td>0.565754</td>\n    </tr>\n    <tr>\n      <th>25</th>\n      <td>-0.430776</td>\n      <td>-0.696893</td>\n      <td>0.275689</td>\n      <td>-0.748419</td>\n    </tr>\n    <tr>\n      <th>27</th>\n      <td>0.685261</td>\n      <td>0.756102</td>\n      <td>0.744042</td>\n      <td>0.640941</td>\n    </tr>\n    <tr>\n      <th>21</th>\n      <td>1.690026</td>\n      <td>1.666051</td>\n      <td>-1.202914</td>\n      <td>1.812855</td>\n    </tr>\n    <tr>\n      <th>35</th>\n      <td>1.305207</td>\n      <td>1.442626</td>\n      <td>-0.801965</td>\n      <td>1.458203</td>\n    </tr>\n    <tr>\n      <th>19</th>\n      <td>-1.293559</td>\n      <td>-1.245357</td>\n      <td>1.297966</td>\n      <td>-1.261102</td>\n    </tr>\n    <tr>\n      <th>24</th>\n      <td>0.063963</td>\n      <td>0.039208</td>\n      <td>2.345976</td>\n      <td>0.058277</td>\n    </tr>\n  </tbody>\n</table>\n</div>"
     },
     "metadata": {},
     "execution_count": 61
    }
   ],
   "source": [
    "X_test"
   ]
  },
  {
   "cell_type": "code",
   "execution_count": 62,
   "metadata": {},
   "outputs": [
    {
     "output_type": "error",
     "ename": "NameError",
     "evalue": "name 'T_reduced' is not defined",
     "traceback": [
      "\u001b[0;31m---------------------------------------------------------------------------\u001b[0m",
      "\u001b[0;31mNameError\u001b[0m                                 Traceback (most recent call last)",
      "\u001b[0;32m<ipython-input-62-c569d607d6d3>\u001b[0m in \u001b[0;36m<module>\u001b[0;34m\u001b[0m\n\u001b[0;32m----> 1\u001b[0;31m \u001b[0mT_reduced\u001b[0m\u001b[0;34m\u001b[0m\u001b[0;34m\u001b[0m\u001b[0m\n\u001b[0m",
      "\u001b[0;31mNameError\u001b[0m: name 'T_reduced' is not defined"
     ]
    }
   ],
   "source": [
    "#T_reduced"
   ]
  },
  {
   "cell_type": "code",
   "execution_count": 63,
   "metadata": {},
   "outputs": [
    {
     "output_type": "error",
     "ename": "NameError",
     "evalue": "name 'T_reduced' is not defined",
     "traceback": [
      "\u001b[0;31m---------------------------------------------------------------------------\u001b[0m",
      "\u001b[0;31mNameError\u001b[0m                                 Traceback (most recent call last)",
      "\u001b[0;32m<ipython-input-63-55c8e22421e9>\u001b[0m in \u001b[0;36m<module>\u001b[0;34m\u001b[0m\n\u001b[0;32m----> 1\u001b[0;31m \u001b[0mall_pred\u001b[0m \u001b[0;34m=\u001b[0m \u001b[0mrf\u001b[0m\u001b[0;34m.\u001b[0m\u001b[0mpredict\u001b[0m\u001b[0;34m(\u001b[0m\u001b[0mT_reduced\u001b[0m\u001b[0;34m)\u001b[0m\u001b[0;34m\u001b[0m\u001b[0;34m\u001b[0m\u001b[0m\n\u001b[0m",
      "\u001b[0;31mNameError\u001b[0m: name 'T_reduced' is not defined"
     ]
    }
   ],
   "source": [
    "all_pred = rf.predict(T_reduced)"
   ]
  },
  {
   "cell_type": "code",
   "execution_count": 57,
   "metadata": {
    "tags": []
   },
   "outputs": [
    {
     "output_type": "stream",
     "name": "stdout",
     "text": [
      "0     0\n",
      "1     0\n",
      "2     0\n",
      "3     1\n",
      "4     1\n",
      "5     0\n",
      "6     0\n",
      "7     0\n",
      "8     1\n",
      "9     1\n",
      "10    0\n",
      "11    2\n",
      "12    0\n",
      "13    0\n",
      "14    0\n",
      "15    0\n",
      "16    0\n",
      "17    1\n",
      "18    0\n",
      "19    0\n",
      "20    2\n",
      "21    0\n",
      "22    1\n",
      "23    1\n",
      "24    0\n",
      "25    1\n",
      "26    1\n",
      "27    1\n",
      "28    0\n",
      "29    0\n",
      "30    0\n",
      "31    0\n",
      "32    1\n",
      "33    1\n",
      "34    1\n",
      "35    0\n",
      "36    1\n",
      "dtype: int64\n",
      "47.51254480286738\n",
      "39.641725098453556\n",
      "58.21714285714286\n",
      "163.54782304598706\n",
      "176.61285356936693\n",
      "109.33924254633361\n",
      "48.57324263038549\n",
      "110.4491042018157\n",
      "202.8232699200441\n",
      "180.42345492915285\n",
      "45.90424032537349\n",
      "363.5200212850871\n",
      "109.20465434633813\n",
      "83.52081106245043\n",
      "33.47234643445517\n",
      "79.41475844261738\n",
      "77.65364379267884\n",
      "147.13739206470652\n",
      "113.96841341592723\n",
      "85.71777045981217\n",
      "316.55985340002974\n",
      "50.21431166000726\n",
      "162.46737694086553\n",
      "178.1340405014465\n",
      "71.56360549030705\n",
      "205.04915529254558\n",
      "177.6826339994302\n",
      "200.26806931353963\n",
      "100.55075102412381\n",
      "124.75884674560172\n",
      "120.60486651561422\n",
      "86.59823147564445\n",
      "181.1714309665521\n",
      "156.60737734272413\n",
      "174.43451515025563\n",
      "135.63323179887598\n",
      "162.60663846870744\n",
      "NA\n",
      "NA\n",
      "NA\n",
      "NA\n",
      "NA\n",
      "NA\n",
      "NA\n",
      "NA\n"
     ]
    }
   ],
   "source": [
    "all_zips_df[\"PREDICTED_BIN\"] = all_pred\n",
    "#print(len(all_zips_df))\n",
    "all_zips_df[\"ACTUAL_BIN\"] = [float(\"nan\")]*len(all_zips_df)\n",
    "all_zips_df[\"FINAL_OUTPUT\"] = all_pred\n",
    "bin_names = {0: \"LOW\", 1: \"MEDIUM\", 2: \"HIGH\"}\n",
    "len(binned_load_per_capita)\n",
    "print(binned_load_per_capita)\n",
    "# Index tracking non Nan rows because binned_load_per_capita removes them from indexing\n",
    "my_index = 0\n",
    "for index,row in all_zips_df.iterrows():\n",
    "    if not pd.isna(row[\"ACTUAL_TRASH_OUTPUT_PER_CAPITA\"]):\n",
    "        print(row[\"ACTUAL_TRASH_OUTPUT_PER_CAPITA\"])\n",
    "        # Goes to column 11 and assigns bin number\n",
    "        all_zips_df.iloc[[index],[11]] = binned_load_per_capita[my_index]\n",
    "\n",
    "        all_zips_df.iloc[[index],[12]] = bin_names[binned_load_per_capita[my_index]]\n",
    "        my_index += 1\n",
    "    else:\n",
    "        all_zips_df.iloc[[index],[12]] = bin_names[all_pred[index]]\n",
    "\n",
    "        print(\"NA\")"
   ]
  },
  {
   "cell_type": "code",
   "execution_count": 64,
   "metadata": {},
   "outputs": [],
   "source": [
    "#all_zips_df"
   ]
  },
  {
   "cell_type": "code",
   "execution_count": 72,
   "metadata": {},
   "outputs": [],
   "source": [
    "x_dashboard = [[50000, 300000, 80000, 81500]]"
   ]
  },
  {
   "cell_type": "code",
   "execution_count": 73,
   "metadata": {},
   "outputs": [],
   "source": [
    "y_pred_dashboard = rf.predict(x_dashboard)"
   ]
  },
  {
   "cell_type": "code",
   "execution_count": 74,
   "metadata": {},
   "outputs": [
    {
     "output_type": "execute_result",
     "data": {
      "text/plain": [
       "array([1])"
      ]
     },
     "metadata": {},
     "execution_count": 74
    }
   ],
   "source": [
    "y_pred_dashboard"
   ]
  },
  {
   "cell_type": "code",
   "execution_count": null,
   "metadata": {},
   "outputs": [],
   "source": []
  }
 ]
}