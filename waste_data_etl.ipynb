{
 "metadata": {
  "language_info": {
   "codemirror_mode": {
    "name": "ipython",
    "version": 3
   },
   "file_extension": ".py",
   "mimetype": "text/x-python",
   "name": "python",
   "nbconvert_exporter": "python",
   "pygments_lexer": "ipython3",
   "version": "3.7.9"
  },
  "orig_nbformat": 2,
  "kernelspec": {
   "name": "python379jvsc74a57bd0244156c76f499db4e6e7efe7ec200bc7f75fb93e619785562f9175871bbd63bd",
   "display_name": "Python 3.7.9 64-bit ('mlenv': conda)"
  }
 },
 "nbformat": 4,
 "nbformat_minor": 2,
 "cells": [
  {
   "cell_type": "code",
   "execution_count": 28,
   "metadata": {},
   "outputs": [
    {
     "output_type": "stream",
     "name": "stderr",
     "text": [
      "Skipping line 535183: unexpected end of data\n"
     ]
    },
    {
     "output_type": "execute_result",
     "data": {
      "text/plain": [
       "  ï»¿dropoff_site  load_id  ... route_number                   route_type\n",
       "0             MRF   328118  ...          DW1    RECYCLING - SINGLE STREAM\n",
       "1     BRAKER SITE   308336  ...       NW10-R  STREET CLEANING-RESIDENTIAL\n",
       "2       TDS - MRF   541514  ...       RHBU20    RECYCLING - SINGLE STREAM\n",
       "3    TDS LANDFILL   689059  ...        DSS04            SWEEPER DUMPSITES\n",
       "4    HORNSBY BEND   108272  ...         YH08               YARD TRIMMINGS\n",
       "\n",
       "[5 rows x 8 columns]"
      ],
      "text/html": "<div>\n<style scoped>\n    .dataframe tbody tr th:only-of-type {\n        vertical-align: middle;\n    }\n\n    .dataframe tbody tr th {\n        vertical-align: top;\n    }\n\n    .dataframe thead th {\n        text-align: right;\n    }\n</style>\n<table border=\"1\" class=\"dataframe\">\n  <thead>\n    <tr style=\"text-align: right;\">\n      <th></th>\n      <th>ï»¿dropoff_site</th>\n      <th>load_id</th>\n      <th>load_time</th>\n      <th>load_type</th>\n      <th>load_weight</th>\n      <th>report_date</th>\n      <th>route_number</th>\n      <th>route_type</th>\n    </tr>\n  </thead>\n  <tbody>\n    <tr>\n      <th>0</th>\n      <td>MRF</td>\n      <td>328118</td>\n      <td>2009-05-27 12:55:00</td>\n      <td>RECYCLING - SINGLE STREAM</td>\n      <td>4060.0</td>\n      <td>2009-05-27</td>\n      <td>DW1</td>\n      <td>RECYCLING - SINGLE STREAM</td>\n    </tr>\n    <tr>\n      <th>1</th>\n      <td>BRAKER SITE</td>\n      <td>308336</td>\n      <td>2008-12-16 10:55:00</td>\n      <td>SWEEPING</td>\n      <td>NaN</td>\n      <td>2008-12-16</td>\n      <td>NW10-R</td>\n      <td>STREET CLEANING-RESIDENTIAL</td>\n    </tr>\n    <tr>\n      <th>2</th>\n      <td>TDS - MRF</td>\n      <td>541514</td>\n      <td>2012-09-06 13:56:00</td>\n      <td>RECYCLING - SINGLE STREAM</td>\n      <td>5060.0</td>\n      <td>2012-09-06</td>\n      <td>RHBU20</td>\n      <td>RECYCLING - SINGLE STREAM</td>\n    </tr>\n    <tr>\n      <th>3</th>\n      <td>TDS LANDFILL</td>\n      <td>689059</td>\n      <td>2016-03-14 07:56:00</td>\n      <td>SWEEPING</td>\n      <td>3720.0</td>\n      <td>2016-03-14</td>\n      <td>DSS04</td>\n      <td>SWEEPER DUMPSITES</td>\n    </tr>\n    <tr>\n      <th>4</th>\n      <td>HORNSBY BEND</td>\n      <td>108272</td>\n      <td>2004-12-02 15:29:00</td>\n      <td>YARD TRIMMING</td>\n      <td>13840.0</td>\n      <td>2004-12-02</td>\n      <td>YH08</td>\n      <td>YARD TRIMMINGS</td>\n    </tr>\n  </tbody>\n</table>\n</div>"
     },
     "metadata": {},
     "execution_count": 28
    }
   ],
   "source": [
    "# Import our dependencies\n",
    "from sklearn.model_selection import train_test_split\n",
    "from sklearn.preprocessing import StandardScaler,OneHotEncoder\n",
    "import pandas as pd\n",
    "import tensorflow as tf\n",
    "\n",
    "#  Import and read the charity_data.csv.\n",
    "import pandas as pd \n",
    "waste_df = pd.read_csv(\"./resources/austin_waste_and_diversion.csv\",engine='python', error_bad_lines=False, delimiter=',', skip_blank_lines=True, header=0)\n",
    "waste_df.head()\n"
   ]
  },
  {
   "cell_type": "code",
   "execution_count": 27,
   "metadata": {},
   "outputs": [
    {
     "output_type": "execute_result",
     "data": {
      "text/plain": [
       "  LANDFILL                                           the_geom  ... OP_TYPE RT_OLD\n",
       "0      TDS  MULTIPOLYGON (((-97.70618263474258 30.36741600...  ...    Auto    NaN\n",
       "1      TDS  MULTIPOLYGON (((-97.83236579358113 30.16212865...  ...    Auto  PAM84\n",
       "2      TDS  MULTIPOLYGON (((-97.72977104057442 30.19009265...  ...    Auto    NaN\n",
       "3      TDS  MULTIPOLYGON (((-97.65374103416144 30.26269210...  ...    Auto  PAH75\n",
       "4      TDS  MULTIPOLYGON (((-97.64683377149026 30.38640132...  ...    Auto    NaN\n",
       "\n",
       "[5 rows x 8 columns]"
      ],
      "text/html": "<div>\n<style scoped>\n    .dataframe tbody tr th:only-of-type {\n        vertical-align: middle;\n    }\n\n    .dataframe tbody tr th {\n        vertical-align: top;\n    }\n\n    .dataframe thead th {\n        text-align: right;\n    }\n</style>\n<table border=\"1\" class=\"dataframe\">\n  <thead>\n    <tr style=\"text-align: right;\">\n      <th></th>\n      <th>LANDFILL</th>\n      <th>the_geom</th>\n      <th>GARB_RT</th>\n      <th>GARB_DAY</th>\n      <th>GARB_SUP</th>\n      <th>SUPER_NUM</th>\n      <th>OP_TYPE</th>\n      <th>RT_OLD</th>\n    </tr>\n  </thead>\n  <tbody>\n    <tr>\n      <th>0</th>\n      <td>TDS</td>\n      <td>MULTIPOLYGON (((-97.70618263474258 30.36741600...</td>\n      <td>PAH83</td>\n      <td>Thursday</td>\n      <td>Gilbert</td>\n      <td>697.0</td>\n      <td>Auto</td>\n      <td>NaN</td>\n    </tr>\n    <tr>\n      <th>1</th>\n      <td>TDS</td>\n      <td>MULTIPOLYGON (((-97.83236579358113 30.16212865...</td>\n      <td>PAM54</td>\n      <td>Monday</td>\n      <td>Castillo</td>\n      <td>500.0</td>\n      <td>Auto</td>\n      <td>PAM84</td>\n    </tr>\n    <tr>\n      <th>2</th>\n      <td>TDS</td>\n      <td>MULTIPOLYGON (((-97.72977104057442 30.19009265...</td>\n      <td>PAM71</td>\n      <td>Monday</td>\n      <td>Carnline</td>\n      <td>596.0</td>\n      <td>Auto</td>\n      <td>NaN</td>\n    </tr>\n    <tr>\n      <th>3</th>\n      <td>TDS</td>\n      <td>MULTIPOLYGON (((-97.65374103416144 30.26269210...</td>\n      <td>PAH54</td>\n      <td>Thursday</td>\n      <td>Castillo</td>\n      <td>500.0</td>\n      <td>Auto</td>\n      <td>PAH75</td>\n    </tr>\n    <tr>\n      <th>4</th>\n      <td>TDS</td>\n      <td>MULTIPOLYGON (((-97.64683377149026 30.38640132...</td>\n      <td>PAW71</td>\n      <td>Wednesday</td>\n      <td>Carnline</td>\n      <td>596.0</td>\n      <td>Auto</td>\n      <td>NaN</td>\n    </tr>\n  </tbody>\n</table>\n</div>"
     },
     "metadata": {},
     "execution_count": 27
    }
   ],
   "source": [
    "routes_df = pd.read_csv(\"./resources/GarbageRecycle2015RR.csv\",engine='python', error_bad_lines=False, delimiter=',', skip_blank_lines=True, header=0)\n",
    "routes_df.head()"
   ]
  },
  {
   "cell_type": "code",
   "execution_count": 22,
   "metadata": {},
   "outputs": [
    {
     "output_type": "execute_result",
     "data": {
      "text/plain": [
       "ï»¿dropoff_site     object\n",
       "load_id              int64\n",
       "load_time           object\n",
       "load_type           object\n",
       "load_weight        float64\n",
       "report_date         object\n",
       "route_number        object\n",
       "route_type          object\n",
       "dtype: object"
      ]
     },
     "metadata": {},
     "execution_count": 22
    }
   ],
   "source": [
    "waste_df.dtypes"
   ]
  },
  {
   "cell_type": "code",
   "execution_count": 17,
   "metadata": {},
   "outputs": [
    {
     "output_type": "execute_result",
     "data": {
      "text/plain": [
       "             load_id   load_weight\n",
       "count  535181.000000  4.788040e+05\n",
       "mean   421736.006940  1.158039e+04\n",
       "std    198963.512162  7.800556e+03\n",
       "min    101222.000000 -4.480000e+03\n",
       "25%    245010.000000  5.440000e+03\n",
       "50%    387215.000000  1.082000e+04\n",
       "75%    608054.000000  1.656000e+04\n",
       "max    750483.000000  1.562821e+06"
      ],
      "text/html": "<div>\n<style scoped>\n    .dataframe tbody tr th:only-of-type {\n        vertical-align: middle;\n    }\n\n    .dataframe tbody tr th {\n        vertical-align: top;\n    }\n\n    .dataframe thead th {\n        text-align: right;\n    }\n</style>\n<table border=\"1\" class=\"dataframe\">\n  <thead>\n    <tr style=\"text-align: right;\">\n      <th></th>\n      <th>load_id</th>\n      <th>load_weight</th>\n    </tr>\n  </thead>\n  <tbody>\n    <tr>\n      <th>count</th>\n      <td>535181.000000</td>\n      <td>4.788040e+05</td>\n    </tr>\n    <tr>\n      <th>mean</th>\n      <td>421736.006940</td>\n      <td>1.158039e+04</td>\n    </tr>\n    <tr>\n      <th>std</th>\n      <td>198963.512162</td>\n      <td>7.800556e+03</td>\n    </tr>\n    <tr>\n      <th>min</th>\n      <td>101222.000000</td>\n      <td>-4.480000e+03</td>\n    </tr>\n    <tr>\n      <th>25%</th>\n      <td>245010.000000</td>\n      <td>5.440000e+03</td>\n    </tr>\n    <tr>\n      <th>50%</th>\n      <td>387215.000000</td>\n      <td>1.082000e+04</td>\n    </tr>\n    <tr>\n      <th>75%</th>\n      <td>608054.000000</td>\n      <td>1.656000e+04</td>\n    </tr>\n    <tr>\n      <th>max</th>\n      <td>750483.000000</td>\n      <td>1.562821e+06</td>\n    </tr>\n  </tbody>\n</table>\n</div>"
     },
     "metadata": {},
     "execution_count": 17
    }
   ],
   "source": [
    "waste_df.describe()"
   ]
  },
  {
   "cell_type": "code",
   "execution_count": 18,
   "metadata": {},
   "outputs": [
    {
     "output_type": "execute_result",
     "data": {
      "text/plain": [
       "ï»¿dropoff_site        33\n",
       "load_id            535143\n",
       "load_time          423045\n",
       "load_type              18\n",
       "load_weight          5116\n",
       "report_date          4342\n",
       "route_number         1787\n",
       "route_type             37\n",
       "dtype: int64"
      ]
     },
     "metadata": {},
     "execution_count": 18
    }
   ],
   "source": [
    "waste_df.nunique()"
   ]
  },
  {
   "cell_type": "code",
   "execution_count": 20,
   "metadata": {},
   "outputs": [
    {
     "output_type": "execute_result",
     "data": {
      "text/plain": [
       "route_number\n",
       "0BM00            10\n",
       "ABR01             3\n",
       "AFD-FIREWISE      9\n",
       "BKR-BR            9\n",
       "BKR-YT           74\n",
       "               ... \n",
       "YW12            223\n",
       "YW13             59\n",
       "YWNON1           28\n",
       "YWNON5            3\n",
       "ZILKER           51\n",
       "Name: route_type, Length: 1787, dtype: int64"
      ]
     },
     "metadata": {},
     "execution_count": 20
    }
   ],
   "source": [
    "route_total = waste_df.groupby([\"route_number\"]).count()[\"route_type\"]\n",
    "route_total"
   ]
  },
  {
   "cell_type": "code",
   "execution_count": 25,
   "metadata": {},
   "outputs": [
    {
     "output_type": "execute_result",
     "data": {
      "text/plain": [
       "load_type\n",
       "BAGGED LITTER                      40\n",
       "BRUSH                           30043\n",
       "BULK                            29373\n",
       "DEAD ANIMAL                      5109\n",
       "GARBAGE COLLECTIONS            188255\n",
       "LITTER                           1187\n",
       "MATTRESS                            3\n",
       "MIXED LITTER                     1223\n",
       "MULCH                            1276\n",
       "RECYCLED METAL                    613\n",
       "RECYCLING - COMINGLE            29533\n",
       "RECYCLING - PAPER               30490\n",
       "RECYCLING - PLASTIC BAGS           38\n",
       "RECYCLING - SINGLE STREAM       94336\n",
       "SWEEPING                        68599\n",
       "TIRES                            2237\n",
       "YARD TRIMMING                   52814\n",
       "YARD TRIMMING - X-MAS TREES        12\n",
       "Name: load_id, dtype: int64"
      ]
     },
     "metadata": {},
     "execution_count": 25
    }
   ],
   "source": [
    "load_counts = waste_df.groupby([\"load_type\"]).count()[\"load_id\"]\n",
    "load_counts"
   ]
  },
  {
   "cell_type": "code",
   "execution_count": null,
   "metadata": {},
   "outputs": [],
   "source": [
    "# drop na"
   ]
  },
  {
   "cell_type": "code",
   "execution_count": null,
   "metadata": {},
   "outputs": [],
   "source": [
    "# merge "
   ]
  },
  {
   "cell_type": "code",
   "execution_count": null,
   "metadata": {},
   "outputs": [],
   "source": [
    "# convert load time to date, drop report date because report date could vary from load time"
   ]
  },
  {
   "cell_type": "code",
   "execution_count": null,
   "metadata": {},
   "outputs": [],
   "source": [
    "# figure out range of dates"
   ]
  }
 ]
}