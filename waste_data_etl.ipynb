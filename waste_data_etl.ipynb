{
 "metadata": {
  "language_info": {
   "codemirror_mode": {
    "name": "ipython",
    "version": 3
   },
   "file_extension": ".py",
   "mimetype": "text/x-python",
   "name": "python",
   "nbconvert_exporter": "python",
   "pygments_lexer": "ipython3",
   "version": "3.7.9"
  },
  "orig_nbformat": 2,
  "kernelspec": {
   "name": "python379jvsc74a57bd0244156c76f499db4e6e7efe7ec200bc7f75fb93e619785562f9175871bbd63bd",
   "display_name": "Python 3.7.9 64-bit ('mlenv': conda)"
  }
 },
 "nbformat": 4,
 "nbformat_minor": 2,
 "cells": [
  {
   "cell_type": "code",
   "execution_count": 1,
   "metadata": {},
   "outputs": [
    {
     "output_type": "execute_result",
     "data": {
      "text/plain": [
       "   dropoff_site  load_id         load_time                  load_type  \\\n",
       "0           MRF   328118   5/27/2009 12:55  RECYCLING - SINGLE STREAM   \n",
       "1   BRAKER SITE   308336  12/16/2008 10:55                   SWEEPING   \n",
       "2     TDS - MRF   541514    9/6/2012 13:56  RECYCLING - SINGLE STREAM   \n",
       "3  TDS LANDFILL   689059    3/14/2016 7:56                   SWEEPING   \n",
       "4  HORNSBY BEND   108272   12/2/2004 15:29              YARD TRIMMING   \n",
       "\n",
       "   load_weight report_date route_number                   route_type  \n",
       "0       4060.0   5/27/2009          DW1    RECYCLING - SINGLE STREAM  \n",
       "1          NaN  12/16/2008       NW10-R  STREET CLEANING-RESIDENTIAL  \n",
       "2       5060.0    9/6/2012       RHBU20    RECYCLING - SINGLE STREAM  \n",
       "3       3720.0   3/14/2016        DSS04            SWEEPER DUMPSITES  \n",
       "4      13840.0   12/2/2004         YH08               YARD TRIMMINGS  "
      ],
      "text/html": "<div>\n<style scoped>\n    .dataframe tbody tr th:only-of-type {\n        vertical-align: middle;\n    }\n\n    .dataframe tbody tr th {\n        vertical-align: top;\n    }\n\n    .dataframe thead th {\n        text-align: right;\n    }\n</style>\n<table border=\"1\" class=\"dataframe\">\n  <thead>\n    <tr style=\"text-align: right;\">\n      <th></th>\n      <th>dropoff_site</th>\n      <th>load_id</th>\n      <th>load_time</th>\n      <th>load_type</th>\n      <th>load_weight</th>\n      <th>report_date</th>\n      <th>route_number</th>\n      <th>route_type</th>\n    </tr>\n  </thead>\n  <tbody>\n    <tr>\n      <th>0</th>\n      <td>MRF</td>\n      <td>328118</td>\n      <td>5/27/2009 12:55</td>\n      <td>RECYCLING - SINGLE STREAM</td>\n      <td>4060.0</td>\n      <td>5/27/2009</td>\n      <td>DW1</td>\n      <td>RECYCLING - SINGLE STREAM</td>\n    </tr>\n    <tr>\n      <th>1</th>\n      <td>BRAKER SITE</td>\n      <td>308336</td>\n      <td>12/16/2008 10:55</td>\n      <td>SWEEPING</td>\n      <td>NaN</td>\n      <td>12/16/2008</td>\n      <td>NW10-R</td>\n      <td>STREET CLEANING-RESIDENTIAL</td>\n    </tr>\n    <tr>\n      <th>2</th>\n      <td>TDS - MRF</td>\n      <td>541514</td>\n      <td>9/6/2012 13:56</td>\n      <td>RECYCLING - SINGLE STREAM</td>\n      <td>5060.0</td>\n      <td>9/6/2012</td>\n      <td>RHBU20</td>\n      <td>RECYCLING - SINGLE STREAM</td>\n    </tr>\n    <tr>\n      <th>3</th>\n      <td>TDS LANDFILL</td>\n      <td>689059</td>\n      <td>3/14/2016 7:56</td>\n      <td>SWEEPING</td>\n      <td>3720.0</td>\n      <td>3/14/2016</td>\n      <td>DSS04</td>\n      <td>SWEEPER DUMPSITES</td>\n    </tr>\n    <tr>\n      <th>4</th>\n      <td>HORNSBY BEND</td>\n      <td>108272</td>\n      <td>12/2/2004 15:29</td>\n      <td>YARD TRIMMING</td>\n      <td>13840.0</td>\n      <td>12/2/2004</td>\n      <td>YH08</td>\n      <td>YARD TRIMMINGS</td>\n    </tr>\n  </tbody>\n</table>\n</div>"
     },
     "metadata": {},
     "execution_count": 1
    }
   ],
   "source": [
    "# Import our dependencies\n",
    "from sklearn.model_selection import train_test_split\n",
    "from sklearn.preprocessing import StandardScaler,OneHotEncoder\n",
    "import pandas as pd\n",
    "import tensorflow as tf\n",
    "import datetime\n",
    "\n",
    "#  Import and read the csv.\n",
    "import pandas as pd \n",
    "waste_df = pd.read_csv(\"./resources/austin_waste_and_diversion.csv\", error_bad_lines=False, delimiter=',', skip_blank_lines=True)\n",
    "waste_df.head()\n"
   ]
  },
  {
   "cell_type": "code",
   "execution_count": 2,
   "metadata": {},
   "outputs": [
    {
     "output_type": "execute_result",
     "data": {
      "text/plain": [
       "  LANDFILL                                           the_geom GARB_RT  \\\n",
       "0      TDS  MULTIPOLYGON (((-97.70618263474258 30.36741600...   PAH83   \n",
       "1      TDS  MULTIPOLYGON (((-97.83236579358113 30.16212865...   PAM54   \n",
       "2      TDS  MULTIPOLYGON (((-97.72977104057442 30.19009265...   PAM71   \n",
       "3      TDS  MULTIPOLYGON (((-97.65374103416144 30.26269210...   PAH54   \n",
       "4      TDS  MULTIPOLYGON (((-97.64683377149026 30.38640132...   PAW71   \n",
       "\n",
       "    GARB_DAY  GARB_SUP  SUPER_NUM OP_TYPE RT_OLD  \n",
       "0   Thursday   Gilbert      697.0    Auto    NaN  \n",
       "1     Monday  Castillo      500.0    Auto  PAM84  \n",
       "2     Monday  Carnline      596.0    Auto    NaN  \n",
       "3   Thursday  Castillo      500.0    Auto  PAH75  \n",
       "4  Wednesday  Carnline      596.0    Auto    NaN  "
      ],
      "text/html": "<div>\n<style scoped>\n    .dataframe tbody tr th:only-of-type {\n        vertical-align: middle;\n    }\n\n    .dataframe tbody tr th {\n        vertical-align: top;\n    }\n\n    .dataframe thead th {\n        text-align: right;\n    }\n</style>\n<table border=\"1\" class=\"dataframe\">\n  <thead>\n    <tr style=\"text-align: right;\">\n      <th></th>\n      <th>LANDFILL</th>\n      <th>the_geom</th>\n      <th>GARB_RT</th>\n      <th>GARB_DAY</th>\n      <th>GARB_SUP</th>\n      <th>SUPER_NUM</th>\n      <th>OP_TYPE</th>\n      <th>RT_OLD</th>\n    </tr>\n  </thead>\n  <tbody>\n    <tr>\n      <th>0</th>\n      <td>TDS</td>\n      <td>MULTIPOLYGON (((-97.70618263474258 30.36741600...</td>\n      <td>PAH83</td>\n      <td>Thursday</td>\n      <td>Gilbert</td>\n      <td>697.0</td>\n      <td>Auto</td>\n      <td>NaN</td>\n    </tr>\n    <tr>\n      <th>1</th>\n      <td>TDS</td>\n      <td>MULTIPOLYGON (((-97.83236579358113 30.16212865...</td>\n      <td>PAM54</td>\n      <td>Monday</td>\n      <td>Castillo</td>\n      <td>500.0</td>\n      <td>Auto</td>\n      <td>PAM84</td>\n    </tr>\n    <tr>\n      <th>2</th>\n      <td>TDS</td>\n      <td>MULTIPOLYGON (((-97.72977104057442 30.19009265...</td>\n      <td>PAM71</td>\n      <td>Monday</td>\n      <td>Carnline</td>\n      <td>596.0</td>\n      <td>Auto</td>\n      <td>NaN</td>\n    </tr>\n    <tr>\n      <th>3</th>\n      <td>TDS</td>\n      <td>MULTIPOLYGON (((-97.65374103416144 30.26269210...</td>\n      <td>PAH54</td>\n      <td>Thursday</td>\n      <td>Castillo</td>\n      <td>500.0</td>\n      <td>Auto</td>\n      <td>PAH75</td>\n    </tr>\n    <tr>\n      <th>4</th>\n      <td>TDS</td>\n      <td>MULTIPOLYGON (((-97.64683377149026 30.38640132...</td>\n      <td>PAW71</td>\n      <td>Wednesday</td>\n      <td>Carnline</td>\n      <td>596.0</td>\n      <td>Auto</td>\n      <td>NaN</td>\n    </tr>\n  </tbody>\n</table>\n</div>"
     },
     "metadata": {},
     "execution_count": 2
    }
   ],
   "source": [
    "routes_df = pd.read_csv(\"./resources/GarbageRecycle2015RR.csv\", error_bad_lines=False, delimiter=',', skip_blank_lines=True)\n",
    "routes_df.head()"
   ]
  },
  {
   "cell_type": "code",
   "execution_count": 3,
   "metadata": {},
   "outputs": [
    {
     "output_type": "execute_result",
     "data": {
      "text/plain": [
       "dropoff_site     object\n",
       "load_id           int64\n",
       "load_time        object\n",
       "load_type        object\n",
       "load_weight     float64\n",
       "report_date      object\n",
       "route_number     object\n",
       "route_type       object\n",
       "dtype: object"
      ]
     },
     "metadata": {},
     "execution_count": 3
    }
   ],
   "source": [
    "waste_df.dtypes"
   ]
  },
  {
   "cell_type": "code",
   "execution_count": 4,
   "metadata": {},
   "outputs": [
    {
     "output_type": "execute_result",
     "data": {
      "text/plain": [
       "             load_id   load_weight\n",
       "count  535181.000000  4.788040e+05\n",
       "mean   421736.006940  1.158039e+04\n",
       "std    198963.512162  7.800556e+03\n",
       "min    101222.000000 -4.480000e+03\n",
       "25%    245010.000000  5.440000e+03\n",
       "50%    387215.000000  1.082000e+04\n",
       "75%    608054.000000  1.656000e+04\n",
       "max    750483.000000  1.562821e+06"
      ],
      "text/html": "<div>\n<style scoped>\n    .dataframe tbody tr th:only-of-type {\n        vertical-align: middle;\n    }\n\n    .dataframe tbody tr th {\n        vertical-align: top;\n    }\n\n    .dataframe thead th {\n        text-align: right;\n    }\n</style>\n<table border=\"1\" class=\"dataframe\">\n  <thead>\n    <tr style=\"text-align: right;\">\n      <th></th>\n      <th>load_id</th>\n      <th>load_weight</th>\n    </tr>\n  </thead>\n  <tbody>\n    <tr>\n      <th>count</th>\n      <td>535181.000000</td>\n      <td>4.788040e+05</td>\n    </tr>\n    <tr>\n      <th>mean</th>\n      <td>421736.006940</td>\n      <td>1.158039e+04</td>\n    </tr>\n    <tr>\n      <th>std</th>\n      <td>198963.512162</td>\n      <td>7.800556e+03</td>\n    </tr>\n    <tr>\n      <th>min</th>\n      <td>101222.000000</td>\n      <td>-4.480000e+03</td>\n    </tr>\n    <tr>\n      <th>25%</th>\n      <td>245010.000000</td>\n      <td>5.440000e+03</td>\n    </tr>\n    <tr>\n      <th>50%</th>\n      <td>387215.000000</td>\n      <td>1.082000e+04</td>\n    </tr>\n    <tr>\n      <th>75%</th>\n      <td>608054.000000</td>\n      <td>1.656000e+04</td>\n    </tr>\n    <tr>\n      <th>max</th>\n      <td>750483.000000</td>\n      <td>1.562821e+06</td>\n    </tr>\n  </tbody>\n</table>\n</div>"
     },
     "metadata": {},
     "execution_count": 4
    }
   ],
   "source": [
    "waste_df.describe()"
   ]
  },
  {
   "cell_type": "code",
   "execution_count": 5,
   "metadata": {},
   "outputs": [
    {
     "output_type": "execute_result",
     "data": {
      "text/plain": [
       "dropoff_site        33\n",
       "load_id         535143\n",
       "load_time       423013\n",
       "load_type           18\n",
       "load_weight       5116\n",
       "report_date       4342\n",
       "route_number      1787\n",
       "route_type          37\n",
       "dtype: int64"
      ]
     },
     "metadata": {},
     "execution_count": 5
    }
   ],
   "source": [
    "waste_df.nunique()"
   ]
  },
  {
   "cell_type": "code",
   "execution_count": 6,
   "metadata": {},
   "outputs": [
    {
     "output_type": "execute_result",
     "data": {
      "text/plain": [
       "route_number\n",
       "0BM00            10\n",
       "ABR01             3\n",
       "AFD-FIREWISE      9\n",
       "BKR-BR            9\n",
       "BKR-YT           74\n",
       "               ... \n",
       "YW12            223\n",
       "YW13             59\n",
       "YWNON1           28\n",
       "YWNON5            3\n",
       "ZILKER           51\n",
       "Name: route_type, Length: 1787, dtype: int64"
      ]
     },
     "metadata": {},
     "execution_count": 6
    }
   ],
   "source": [
    "route_total = waste_df.groupby([\"route_number\"]).count()[\"route_type\"]\n",
    "route_total"
   ]
  },
  {
   "cell_type": "code",
   "execution_count": 7,
   "metadata": {},
   "outputs": [
    {
     "output_type": "execute_result",
     "data": {
      "text/plain": [
       "load_type\n",
       "BAGGED LITTER                      40\n",
       "BRUSH                           30043\n",
       "BULK                            29373\n",
       "DEAD ANIMAL                      5109\n",
       "GARBAGE COLLECTIONS            188255\n",
       "LITTER                           1187\n",
       "MATTRESS                            3\n",
       "MIXED LITTER                     1223\n",
       "MULCH                            1276\n",
       "RECYCLED METAL                    613\n",
       "RECYCLING - COMINGLE            29533\n",
       "RECYCLING - PAPER               30490\n",
       "RECYCLING - PLASTIC BAGS           38\n",
       "RECYCLING - SINGLE STREAM       94336\n",
       "SWEEPING                        68599\n",
       "TIRES                            2237\n",
       "YARD TRIMMING                   52814\n",
       "YARD TRIMMING - X-MAS TREES        12\n",
       "Name: load_id, dtype: int64"
      ]
     },
     "metadata": {},
     "execution_count": 7
    }
   ],
   "source": [
    "load_counts = waste_df.groupby([\"load_type\"]).count()[\"load_id\"]\n",
    "load_counts"
   ]
  },
  {
   "cell_type": "code",
   "execution_count": 8,
   "metadata": {},
   "outputs": [
    {
     "output_type": "execute_result",
     "data": {
      "text/plain": [
       "dropoff_site            object\n",
       "load_id                  int64\n",
       "load_time       datetime64[ns]\n",
       "load_type               object\n",
       "load_weight            float64\n",
       "report_date             object\n",
       "route_number            object\n",
       "route_type              object\n",
       "dtype: object"
      ]
     },
     "metadata": {},
     "execution_count": 8
    }
   ],
   "source": [
    "# Convert load_time to datetime \n",
    "waste_df[\"load_time\"] = pd.to_datetime(waste_df[\"load_time\"])\n",
    "waste_df.dtypes"
   ]
  },
  {
   "cell_type": "code",
   "execution_count": 15,
   "metadata": {},
   "outputs": [
    {
     "output_type": "execute_result",
     "data": {
      "text/plain": [
       "   dropoff_site  load_id           load_time                  load_type  \\\n",
       "0           MRF   328118 2009-05-27 12:55:00  RECYCLING - SINGLE STREAM   \n",
       "1   BRAKER SITE   308336 2008-12-16 10:55:00                   SWEEPING   \n",
       "2     TDS - MRF   541514 2012-09-06 13:56:00  RECYCLING - SINGLE STREAM   \n",
       "3  TDS LANDFILL   689059 2016-03-14 07:56:00                   SWEEPING   \n",
       "4  HORNSBY BEND   108272 2004-12-02 15:29:00              YARD TRIMMING   \n",
       "\n",
       "   load_weight report_date route_number                   route_type  \\\n",
       "0       4060.0   5/27/2009          DW1    RECYCLING - SINGLE STREAM   \n",
       "1          NaN  12/16/2008       NW10-R  STREET CLEANING-RESIDENTIAL   \n",
       "2       5060.0    9/6/2012       RHBU20    RECYCLING - SINGLE STREAM   \n",
       "3       3720.0   3/14/2016        DSS04            SWEEPER DUMPSITES   \n",
       "4      13840.0   12/2/2004         YH08               YARD TRIMMINGS   \n",
       "\n",
       "   load_year  \n",
       "0       2009  \n",
       "1       2008  \n",
       "2       2012  \n",
       "3       2016  \n",
       "4       2004  "
      ],
      "text/html": "<div>\n<style scoped>\n    .dataframe tbody tr th:only-of-type {\n        vertical-align: middle;\n    }\n\n    .dataframe tbody tr th {\n        vertical-align: top;\n    }\n\n    .dataframe thead th {\n        text-align: right;\n    }\n</style>\n<table border=\"1\" class=\"dataframe\">\n  <thead>\n    <tr style=\"text-align: right;\">\n      <th></th>\n      <th>dropoff_site</th>\n      <th>load_id</th>\n      <th>load_time</th>\n      <th>load_type</th>\n      <th>load_weight</th>\n      <th>report_date</th>\n      <th>route_number</th>\n      <th>route_type</th>\n      <th>load_year</th>\n    </tr>\n  </thead>\n  <tbody>\n    <tr>\n      <th>0</th>\n      <td>MRF</td>\n      <td>328118</td>\n      <td>2009-05-27 12:55:00</td>\n      <td>RECYCLING - SINGLE STREAM</td>\n      <td>4060.0</td>\n      <td>5/27/2009</td>\n      <td>DW1</td>\n      <td>RECYCLING - SINGLE STREAM</td>\n      <td>2009</td>\n    </tr>\n    <tr>\n      <th>1</th>\n      <td>BRAKER SITE</td>\n      <td>308336</td>\n      <td>2008-12-16 10:55:00</td>\n      <td>SWEEPING</td>\n      <td>NaN</td>\n      <td>12/16/2008</td>\n      <td>NW10-R</td>\n      <td>STREET CLEANING-RESIDENTIAL</td>\n      <td>2008</td>\n    </tr>\n    <tr>\n      <th>2</th>\n      <td>TDS - MRF</td>\n      <td>541514</td>\n      <td>2012-09-06 13:56:00</td>\n      <td>RECYCLING - SINGLE STREAM</td>\n      <td>5060.0</td>\n      <td>9/6/2012</td>\n      <td>RHBU20</td>\n      <td>RECYCLING - SINGLE STREAM</td>\n      <td>2012</td>\n    </tr>\n    <tr>\n      <th>3</th>\n      <td>TDS LANDFILL</td>\n      <td>689059</td>\n      <td>2016-03-14 07:56:00</td>\n      <td>SWEEPING</td>\n      <td>3720.0</td>\n      <td>3/14/2016</td>\n      <td>DSS04</td>\n      <td>SWEEPER DUMPSITES</td>\n      <td>2016</td>\n    </tr>\n    <tr>\n      <th>4</th>\n      <td>HORNSBY BEND</td>\n      <td>108272</td>\n      <td>2004-12-02 15:29:00</td>\n      <td>YARD TRIMMING</td>\n      <td>13840.0</td>\n      <td>12/2/2004</td>\n      <td>YH08</td>\n      <td>YARD TRIMMINGS</td>\n      <td>2004</td>\n    </tr>\n  </tbody>\n</table>\n</div>"
     },
     "metadata": {},
     "execution_count": 15
    }
   ],
   "source": [
    "# Extract year from load_time to new load_year column\n",
    "waste_df[\"load_year\"] = waste_df[\"load_time\"].apply(lambda x: x.year)\n",
    "waste_df.head(5)"
   ]
  },
  {
   "cell_type": "code",
   "execution_count": 16,
   "metadata": {},
   "outputs": [
    {
     "output_type": "execute_result",
     "data": {
      "text/plain": [
       "    dropoff_site  load_id           load_time            load_type  \\\n",
       "10  TDS LANDFILL   732809 2017-03-22 07:40:00  GARBAGE COLLECTIONS   \n",
       "56  TDS LANDFILL   736509 2017-04-19 17:35:00  GARBAGE COLLECTIONS   \n",
       "62  TDS LANDFILL   724256 2017-01-12 13:29:00  GARBAGE COLLECTIONS   \n",
       "90  HORNSBY BEND   747204 2017-07-20 12:36:00        YARD TRIMMING   \n",
       "92  TDS LANDFILL   740763 2017-05-24 00:00:00                 BULK   \n",
       "\n",
       "    load_weight report_date route_number          route_type  load_year  \n",
       "10      15840.0   3/22/2017     SXSW2017      SPECIAL EVENTS       2017  \n",
       "56      20680.0   4/19/2017        PAW50  GARBAGE COLLECTION       2017  \n",
       "62      21660.0    1/9/2017         PM41  GARBAGE COLLECTION       2017  \n",
       "90       5720.0   7/20/2017         YH12      YARD TRIMMINGS       2017  \n",
       "92       5580.0   5/24/2017         BU07                BULK       2017  "
      ],
      "text/html": "<div>\n<style scoped>\n    .dataframe tbody tr th:only-of-type {\n        vertical-align: middle;\n    }\n\n    .dataframe tbody tr th {\n        vertical-align: top;\n    }\n\n    .dataframe thead th {\n        text-align: right;\n    }\n</style>\n<table border=\"1\" class=\"dataframe\">\n  <thead>\n    <tr style=\"text-align: right;\">\n      <th></th>\n      <th>dropoff_site</th>\n      <th>load_id</th>\n      <th>load_time</th>\n      <th>load_type</th>\n      <th>load_weight</th>\n      <th>report_date</th>\n      <th>route_number</th>\n      <th>route_type</th>\n      <th>load_year</th>\n    </tr>\n  </thead>\n  <tbody>\n    <tr>\n      <th>10</th>\n      <td>TDS LANDFILL</td>\n      <td>732809</td>\n      <td>2017-03-22 07:40:00</td>\n      <td>GARBAGE COLLECTIONS</td>\n      <td>15840.0</td>\n      <td>3/22/2017</td>\n      <td>SXSW2017</td>\n      <td>SPECIAL EVENTS</td>\n      <td>2017</td>\n    </tr>\n    <tr>\n      <th>56</th>\n      <td>TDS LANDFILL</td>\n      <td>736509</td>\n      <td>2017-04-19 17:35:00</td>\n      <td>GARBAGE COLLECTIONS</td>\n      <td>20680.0</td>\n      <td>4/19/2017</td>\n      <td>PAW50</td>\n      <td>GARBAGE COLLECTION</td>\n      <td>2017</td>\n    </tr>\n    <tr>\n      <th>62</th>\n      <td>TDS LANDFILL</td>\n      <td>724256</td>\n      <td>2017-01-12 13:29:00</td>\n      <td>GARBAGE COLLECTIONS</td>\n      <td>21660.0</td>\n      <td>1/9/2017</td>\n      <td>PM41</td>\n      <td>GARBAGE COLLECTION</td>\n      <td>2017</td>\n    </tr>\n    <tr>\n      <th>90</th>\n      <td>HORNSBY BEND</td>\n      <td>747204</td>\n      <td>2017-07-20 12:36:00</td>\n      <td>YARD TRIMMING</td>\n      <td>5720.0</td>\n      <td>7/20/2017</td>\n      <td>YH12</td>\n      <td>YARD TRIMMINGS</td>\n      <td>2017</td>\n    </tr>\n    <tr>\n      <th>92</th>\n      <td>TDS LANDFILL</td>\n      <td>740763</td>\n      <td>2017-05-24 00:00:00</td>\n      <td>BULK</td>\n      <td>5580.0</td>\n      <td>5/24/2017</td>\n      <td>BU07</td>\n      <td>BULK</td>\n      <td>2017</td>\n    </tr>\n  </tbody>\n</table>\n</div>"
     },
     "metadata": {},
     "execution_count": 16
    }
   ],
   "source": [
    "# Filter by 2017\n",
    "df_2017 = waste_df[waste_df.load_year == 2017]\n",
    "df_2017.head()"
   ]
  },
  {
   "cell_type": "code",
   "execution_count": 17,
   "metadata": {},
   "outputs": [
    {
     "output_type": "execute_result",
     "data": {
      "text/plain": [
       "dropoff_site       20\n",
       "load_id         26045\n",
       "load_time       18951\n",
       "load_type          16\n",
       "load_weight      2037\n",
       "report_date       253\n",
       "route_number      977\n",
       "route_type         26\n",
       "load_year           1\n",
       "dtype: int64"
      ]
     },
     "metadata": {},
     "execution_count": 17
    }
   ],
   "source": [
    "df_2017.nunique()"
   ]
  },
  {
   "cell_type": "code",
   "execution_count": 18,
   "metadata": {},
   "outputs": [
    {
     "output_type": "execute_result",
     "data": {
      "text/plain": [
       "    dropoff_site            load_type  load_weight report_date route_number  \\\n",
       "10  TDS LANDFILL  GARBAGE COLLECTIONS      15840.0   3/22/2017     SXSW2017   \n",
       "56  TDS LANDFILL  GARBAGE COLLECTIONS      20680.0   4/19/2017        PAW50   \n",
       "62  TDS LANDFILL  GARBAGE COLLECTIONS      21660.0    1/9/2017         PM41   \n",
       "90  HORNSBY BEND        YARD TRIMMING       5720.0   7/20/2017         YH12   \n",
       "92  TDS LANDFILL                 BULK       5580.0   5/24/2017         BU07   \n",
       "\n",
       "            route_type  load_year  \n",
       "10      SPECIAL EVENTS       2017  \n",
       "56  GARBAGE COLLECTION       2017  \n",
       "62  GARBAGE COLLECTION       2017  \n",
       "90      YARD TRIMMINGS       2017  \n",
       "92                BULK       2017  "
      ],
      "text/html": "<div>\n<style scoped>\n    .dataframe tbody tr th:only-of-type {\n        vertical-align: middle;\n    }\n\n    .dataframe tbody tr th {\n        vertical-align: top;\n    }\n\n    .dataframe thead th {\n        text-align: right;\n    }\n</style>\n<table border=\"1\" class=\"dataframe\">\n  <thead>\n    <tr style=\"text-align: right;\">\n      <th></th>\n      <th>dropoff_site</th>\n      <th>load_type</th>\n      <th>load_weight</th>\n      <th>report_date</th>\n      <th>route_number</th>\n      <th>route_type</th>\n      <th>load_year</th>\n    </tr>\n  </thead>\n  <tbody>\n    <tr>\n      <th>10</th>\n      <td>TDS LANDFILL</td>\n      <td>GARBAGE COLLECTIONS</td>\n      <td>15840.0</td>\n      <td>3/22/2017</td>\n      <td>SXSW2017</td>\n      <td>SPECIAL EVENTS</td>\n      <td>2017</td>\n    </tr>\n    <tr>\n      <th>56</th>\n      <td>TDS LANDFILL</td>\n      <td>GARBAGE COLLECTIONS</td>\n      <td>20680.0</td>\n      <td>4/19/2017</td>\n      <td>PAW50</td>\n      <td>GARBAGE COLLECTION</td>\n      <td>2017</td>\n    </tr>\n    <tr>\n      <th>62</th>\n      <td>TDS LANDFILL</td>\n      <td>GARBAGE COLLECTIONS</td>\n      <td>21660.0</td>\n      <td>1/9/2017</td>\n      <td>PM41</td>\n      <td>GARBAGE COLLECTION</td>\n      <td>2017</td>\n    </tr>\n    <tr>\n      <th>90</th>\n      <td>HORNSBY BEND</td>\n      <td>YARD TRIMMING</td>\n      <td>5720.0</td>\n      <td>7/20/2017</td>\n      <td>YH12</td>\n      <td>YARD TRIMMINGS</td>\n      <td>2017</td>\n    </tr>\n    <tr>\n      <th>92</th>\n      <td>TDS LANDFILL</td>\n      <td>BULK</td>\n      <td>5580.0</td>\n      <td>5/24/2017</td>\n      <td>BU07</td>\n      <td>BULK</td>\n      <td>2017</td>\n    </tr>\n  </tbody>\n</table>\n</div>"
     },
     "metadata": {},
     "execution_count": 18
    }
   ],
   "source": [
    "df_2017 = df_2017.drop([\"load_id\",\"load_time\"], axis = 1)\n",
    "df_2017.head()"
   ]
  },
  {
   "cell_type": "code",
   "execution_count": 22,
   "metadata": {},
   "outputs": [
    {
     "output_type": "execute_result",
     "data": {
      "text/plain": [
       "              load_weight\n",
       "route_number             \n",
       "0BM00            117420.0\n",
       "BLN-01                0.0\n",
       "BR01             525100.0\n",
       "BR02             388520.0\n",
       "BR03             346910.0\n",
       "BR04             213920.0\n",
       "BR05             719665.0\n",
       "BR06             382520.0\n",
       "BR07             409180.0\n",
       "BR08             439160.0"
      ],
      "text/html": "<div>\n<style scoped>\n    .dataframe tbody tr th:only-of-type {\n        vertical-align: middle;\n    }\n\n    .dataframe tbody tr th {\n        vertical-align: top;\n    }\n\n    .dataframe thead th {\n        text-align: right;\n    }\n</style>\n<table border=\"1\" class=\"dataframe\">\n  <thead>\n    <tr style=\"text-align: right;\">\n      <th></th>\n      <th>load_weight</th>\n    </tr>\n    <tr>\n      <th>route_number</th>\n      <th></th>\n    </tr>\n  </thead>\n  <tbody>\n    <tr>\n      <th>0BM00</th>\n      <td>117420.0</td>\n    </tr>\n    <tr>\n      <th>BLN-01</th>\n      <td>0.0</td>\n    </tr>\n    <tr>\n      <th>BR01</th>\n      <td>525100.0</td>\n    </tr>\n    <tr>\n      <th>BR02</th>\n      <td>388520.0</td>\n    </tr>\n    <tr>\n      <th>BR03</th>\n      <td>346910.0</td>\n    </tr>\n    <tr>\n      <th>BR04</th>\n      <td>213920.0</td>\n    </tr>\n    <tr>\n      <th>BR05</th>\n      <td>719665.0</td>\n    </tr>\n    <tr>\n      <th>BR06</th>\n      <td>382520.0</td>\n    </tr>\n    <tr>\n      <th>BR07</th>\n      <td>409180.0</td>\n    </tr>\n    <tr>\n      <th>BR08</th>\n      <td>439160.0</td>\n    </tr>\n  </tbody>\n</table>\n</div>"
     },
     "metadata": {},
     "execution_count": 22
    }
   ],
   "source": [
    "# weight of trash by year by route\n",
    "df_2017_new = df_2017.groupby([\"route_number\"]).sum([\"load_weight\"])\n",
    "df_2017_new = pd.DataFrame(df_2017_new)\n",
    "df_2017_new = df_2017_new.drop([\"load_year\"], axis=1)\n",
    "df_2017_new.head(10)"
   ]
  },
  {
   "cell_type": "code",
   "execution_count": null,
   "metadata": {},
   "outputs": [],
   "source": [
    "#df_2017_new = df_2017_new.loc[df_2017[\"load_weight\"] == 0]"
   ]
  },
  {
   "cell_type": "code",
   "execution_count": 23,
   "metadata": {},
   "outputs": [
    {
     "output_type": "execute_result",
     "data": {
      "text/plain": [
       "  LANDFILL                                           the_geom GARB_RT  \\\n",
       "0      TDS  MULTIPOLYGON (((-97.70618263474258 30.36741600...   PAH83   \n",
       "1      TDS  MULTIPOLYGON (((-97.83236579358113 30.16212865...   PAM54   \n",
       "2      TDS  MULTIPOLYGON (((-97.72977104057442 30.19009265...   PAM71   \n",
       "3      TDS  MULTIPOLYGON (((-97.65374103416144 30.26269210...   PAH54   \n",
       "4      TDS  MULTIPOLYGON (((-97.64683377149026 30.38640132...   PAW71   \n",
       "\n",
       "    GARB_DAY  GARB_SUP  SUPER_NUM OP_TYPE RT_OLD  \n",
       "0   Thursday   Gilbert      697.0    Auto    NaN  \n",
       "1     Monday  Castillo      500.0    Auto  PAM84  \n",
       "2     Monday  Carnline      596.0    Auto    NaN  \n",
       "3   Thursday  Castillo      500.0    Auto  PAH75  \n",
       "4  Wednesday  Carnline      596.0    Auto    NaN  "
      ],
      "text/html": "<div>\n<style scoped>\n    .dataframe tbody tr th:only-of-type {\n        vertical-align: middle;\n    }\n\n    .dataframe tbody tr th {\n        vertical-align: top;\n    }\n\n    .dataframe thead th {\n        text-align: right;\n    }\n</style>\n<table border=\"1\" class=\"dataframe\">\n  <thead>\n    <tr style=\"text-align: right;\">\n      <th></th>\n      <th>LANDFILL</th>\n      <th>the_geom</th>\n      <th>GARB_RT</th>\n      <th>GARB_DAY</th>\n      <th>GARB_SUP</th>\n      <th>SUPER_NUM</th>\n      <th>OP_TYPE</th>\n      <th>RT_OLD</th>\n    </tr>\n  </thead>\n  <tbody>\n    <tr>\n      <th>0</th>\n      <td>TDS</td>\n      <td>MULTIPOLYGON (((-97.70618263474258 30.36741600...</td>\n      <td>PAH83</td>\n      <td>Thursday</td>\n      <td>Gilbert</td>\n      <td>697.0</td>\n      <td>Auto</td>\n      <td>NaN</td>\n    </tr>\n    <tr>\n      <th>1</th>\n      <td>TDS</td>\n      <td>MULTIPOLYGON (((-97.83236579358113 30.16212865...</td>\n      <td>PAM54</td>\n      <td>Monday</td>\n      <td>Castillo</td>\n      <td>500.0</td>\n      <td>Auto</td>\n      <td>PAM84</td>\n    </tr>\n    <tr>\n      <th>2</th>\n      <td>TDS</td>\n      <td>MULTIPOLYGON (((-97.72977104057442 30.19009265...</td>\n      <td>PAM71</td>\n      <td>Monday</td>\n      <td>Carnline</td>\n      <td>596.0</td>\n      <td>Auto</td>\n      <td>NaN</td>\n    </tr>\n    <tr>\n      <th>3</th>\n      <td>TDS</td>\n      <td>MULTIPOLYGON (((-97.65374103416144 30.26269210...</td>\n      <td>PAH54</td>\n      <td>Thursday</td>\n      <td>Castillo</td>\n      <td>500.0</td>\n      <td>Auto</td>\n      <td>PAH75</td>\n    </tr>\n    <tr>\n      <th>4</th>\n      <td>TDS</td>\n      <td>MULTIPOLYGON (((-97.64683377149026 30.38640132...</td>\n      <td>PAW71</td>\n      <td>Wednesday</td>\n      <td>Carnline</td>\n      <td>596.0</td>\n      <td>Auto</td>\n      <td>NaN</td>\n    </tr>\n  </tbody>\n</table>\n</div>"
     },
     "metadata": {},
     "execution_count": 23
    }
   ],
   "source": [
    "routes_df.head()"
   ]
  },
  {
   "cell_type": "code",
   "execution_count": 24,
   "metadata": {},
   "outputs": [
    {
     "output_type": "execute_result",
     "data": {
      "text/plain": [
       "                                              the_geom GARB_RT\n",
       "179  MULTIPOLYGON (((-97.77237758904216 30.42129789...   PAW63\n",
       "180  MULTIPOLYGON (((-97.77342974546856 30.14454642...   PAM72\n",
       "181  MULTIPOLYGON (((-97.77932023649187 30.15112227...   PAM73\n",
       "182  MULTIPOLYGON (((-97.79985649924181 30.24749360...   PAT84\n",
       "183  MULTIPOLYGON (((-97.60620180891306 30.38151623...   PAW70"
      ],
      "text/html": "<div>\n<style scoped>\n    .dataframe tbody tr th:only-of-type {\n        vertical-align: middle;\n    }\n\n    .dataframe tbody tr th {\n        vertical-align: top;\n    }\n\n    .dataframe thead th {\n        text-align: right;\n    }\n</style>\n<table border=\"1\" class=\"dataframe\">\n  <thead>\n    <tr style=\"text-align: right;\">\n      <th></th>\n      <th>the_geom</th>\n      <th>GARB_RT</th>\n    </tr>\n  </thead>\n  <tbody>\n    <tr>\n      <th>179</th>\n      <td>MULTIPOLYGON (((-97.77237758904216 30.42129789...</td>\n      <td>PAW63</td>\n    </tr>\n    <tr>\n      <th>180</th>\n      <td>MULTIPOLYGON (((-97.77342974546856 30.14454642...</td>\n      <td>PAM72</td>\n    </tr>\n    <tr>\n      <th>181</th>\n      <td>MULTIPOLYGON (((-97.77932023649187 30.15112227...</td>\n      <td>PAM73</td>\n    </tr>\n    <tr>\n      <th>182</th>\n      <td>MULTIPOLYGON (((-97.79985649924181 30.24749360...</td>\n      <td>PAT84</td>\n    </tr>\n    <tr>\n      <th>183</th>\n      <td>MULTIPOLYGON (((-97.60620180891306 30.38151623...</td>\n      <td>PAW70</td>\n    </tr>\n  </tbody>\n</table>\n</div>"
     },
     "metadata": {},
     "execution_count": 24
    }
   ],
   "source": [
    "routes_df_new = routes_df.drop([\"LANDFILL\",\"GARB_DAY\", \"GARB_SUP\", \"SUPER_NUM\", \"OP_TYPE\", \"RT_OLD\"], axis= 1)\n",
    "routes_df_new.tail()"
   ]
  },
  {
   "cell_type": "code",
   "execution_count": null,
   "metadata": {},
   "outputs": [],
   "source": [
    "#routes_df_new.rename(columns={\"GARB_RT\" : \"route_number\"})\n",
    "#routes_df_new.head()"
   ]
  },
  {
   "cell_type": "code",
   "execution_count": 26,
   "metadata": {},
   "outputs": [
    {
     "output_type": "execute_result",
     "data": {
      "text/plain": [
       "                                                  the_geom\n",
       "GARB_RT                                                   \n",
       "PAH83    MULTIPOLYGON (((-97.70618263474258 30.36741600...\n",
       "PAM54    MULTIPOLYGON (((-97.83236579358113 30.16212865...\n",
       "PAM71    MULTIPOLYGON (((-97.72977104057442 30.19009265...\n",
       "PAH54    MULTIPOLYGON (((-97.65374103416144 30.26269210...\n",
       "PAW71    MULTIPOLYGON (((-97.64683377149026 30.38640132..."
      ],
      "text/html": "<div>\n<style scoped>\n    .dataframe tbody tr th:only-of-type {\n        vertical-align: middle;\n    }\n\n    .dataframe tbody tr th {\n        vertical-align: top;\n    }\n\n    .dataframe thead th {\n        text-align: right;\n    }\n</style>\n<table border=\"1\" class=\"dataframe\">\n  <thead>\n    <tr style=\"text-align: right;\">\n      <th></th>\n      <th>the_geom</th>\n    </tr>\n    <tr>\n      <th>GARB_RT</th>\n      <th></th>\n    </tr>\n  </thead>\n  <tbody>\n    <tr>\n      <th>PAH83</th>\n      <td>MULTIPOLYGON (((-97.70618263474258 30.36741600...</td>\n    </tr>\n    <tr>\n      <th>PAM54</th>\n      <td>MULTIPOLYGON (((-97.83236579358113 30.16212865...</td>\n    </tr>\n    <tr>\n      <th>PAM71</th>\n      <td>MULTIPOLYGON (((-97.72977104057442 30.19009265...</td>\n    </tr>\n    <tr>\n      <th>PAH54</th>\n      <td>MULTIPOLYGON (((-97.65374103416144 30.26269210...</td>\n    </tr>\n    <tr>\n      <th>PAW71</th>\n      <td>MULTIPOLYGON (((-97.64683377149026 30.38640132...</td>\n    </tr>\n  </tbody>\n</table>\n</div>"
     },
     "metadata": {},
     "execution_count": 26
    }
   ],
   "source": [
    "routes_df_new.set_index([\"GARB_RT\"], inplace=True)\n",
    "routes_df_new.head()"
   ]
  },
  {
   "cell_type": "code",
   "execution_count": 27,
   "metadata": {},
   "outputs": [
    {
     "output_type": "execute_result",
     "data": {
      "text/plain": [
       "              load_weight the_geom\n",
       "route_number                      \n",
       "0BM00            117420.0      NaN\n",
       "BLN-01                0.0      NaN\n",
       "BR01             525100.0      NaN\n",
       "BR02             388520.0      NaN\n",
       "BR03             346910.0      NaN"
      ],
      "text/html": "<div>\n<style scoped>\n    .dataframe tbody tr th:only-of-type {\n        vertical-align: middle;\n    }\n\n    .dataframe tbody tr th {\n        vertical-align: top;\n    }\n\n    .dataframe thead th {\n        text-align: right;\n    }\n</style>\n<table border=\"1\" class=\"dataframe\">\n  <thead>\n    <tr style=\"text-align: right;\">\n      <th></th>\n      <th>load_weight</th>\n      <th>the_geom</th>\n    </tr>\n    <tr>\n      <th>route_number</th>\n      <th></th>\n      <th></th>\n    </tr>\n  </thead>\n  <tbody>\n    <tr>\n      <th>0BM00</th>\n      <td>117420.0</td>\n      <td>NaN</td>\n    </tr>\n    <tr>\n      <th>BLN-01</th>\n      <td>0.0</td>\n      <td>NaN</td>\n    </tr>\n    <tr>\n      <th>BR01</th>\n      <td>525100.0</td>\n      <td>NaN</td>\n    </tr>\n    <tr>\n      <th>BR02</th>\n      <td>388520.0</td>\n      <td>NaN</td>\n    </tr>\n    <tr>\n      <th>BR03</th>\n      <td>346910.0</td>\n      <td>NaN</td>\n    </tr>\n  </tbody>\n</table>\n</div>"
     },
     "metadata": {},
     "execution_count": 27
    }
   ],
   "source": [
    "# merge \n",
    "df_2017_routes = df_2017_new.merge(routes_df_new, how=\"left\", left_index=True, right_index=True)\n",
    "df_2017_routes.head()"
   ]
  },
  {
   "cell_type": "code",
   "execution_count": 29,
   "metadata": {},
   "outputs": [
    {
     "output_type": "execute_result",
     "data": {
      "text/plain": [
       "              load_weight                                           the_geom\n",
       "route_number                                                                \n",
       "PAF01            632960.0  MULTIPOLYGON (((-97.80021375787697 30.36733765...\n",
       "PAF02            678100.0  MULTIPOLYGON (((-97.77221898831849 30.32271999...\n",
       "PAF03            649520.0  MULTIPOLYGON (((-97.7601229300713 30.340361143...\n",
       "PAF04            651640.0  MULTIPOLYGON (((-97.77662750513846 30.30588241...\n",
       "PAF50            545080.0  MULTIPOLYGON (((-97.7724542400386 30.297463218..."
      ],
      "text/html": "<div>\n<style scoped>\n    .dataframe tbody tr th:only-of-type {\n        vertical-align: middle;\n    }\n\n    .dataframe tbody tr th {\n        vertical-align: top;\n    }\n\n    .dataframe thead th {\n        text-align: right;\n    }\n</style>\n<table border=\"1\" class=\"dataframe\">\n  <thead>\n    <tr style=\"text-align: right;\">\n      <th></th>\n      <th>load_weight</th>\n      <th>the_geom</th>\n    </tr>\n    <tr>\n      <th>route_number</th>\n      <th></th>\n      <th></th>\n    </tr>\n  </thead>\n  <tbody>\n    <tr>\n      <th>PAF01</th>\n      <td>632960.0</td>\n      <td>MULTIPOLYGON (((-97.80021375787697 30.36733765...</td>\n    </tr>\n    <tr>\n      <th>PAF02</th>\n      <td>678100.0</td>\n      <td>MULTIPOLYGON (((-97.77221898831849 30.32271999...</td>\n    </tr>\n    <tr>\n      <th>PAF03</th>\n      <td>649520.0</td>\n      <td>MULTIPOLYGON (((-97.7601229300713 30.340361143...</td>\n    </tr>\n    <tr>\n      <th>PAF04</th>\n      <td>651640.0</td>\n      <td>MULTIPOLYGON (((-97.77662750513846 30.30588241...</td>\n    </tr>\n    <tr>\n      <th>PAF50</th>\n      <td>545080.0</td>\n      <td>MULTIPOLYGON (((-97.7724542400386 30.297463218...</td>\n    </tr>\n  </tbody>\n</table>\n</div>"
     },
     "metadata": {},
     "execution_count": 29
    }
   ],
   "source": [
    "#Drop na\n",
    "df_2017_routes = df_2017_routes.dropna()\n",
    "df_2017_routes.head()"
   ]
  },
  {
   "cell_type": "code",
   "execution_count": 30,
   "metadata": {},
   "outputs": [
    {
     "output_type": "execute_result",
     "data": {
      "text/plain": [
       "        load_weight\n",
       "count  1.840000e+02\n",
       "mean   7.379733e+05\n",
       "std    1.783667e+05\n",
       "min    3.498200e+05\n",
       "25%    6.325300e+05\n",
       "50%    7.120500e+05\n",
       "75%    8.259200e+05\n",
       "max    1.325600e+06"
      ],
      "text/html": "<div>\n<style scoped>\n    .dataframe tbody tr th:only-of-type {\n        vertical-align: middle;\n    }\n\n    .dataframe tbody tr th {\n        vertical-align: top;\n    }\n\n    .dataframe thead th {\n        text-align: right;\n    }\n</style>\n<table border=\"1\" class=\"dataframe\">\n  <thead>\n    <tr style=\"text-align: right;\">\n      <th></th>\n      <th>load_weight</th>\n    </tr>\n  </thead>\n  <tbody>\n    <tr>\n      <th>count</th>\n      <td>1.840000e+02</td>\n    </tr>\n    <tr>\n      <th>mean</th>\n      <td>7.379733e+05</td>\n    </tr>\n    <tr>\n      <th>std</th>\n      <td>1.783667e+05</td>\n    </tr>\n    <tr>\n      <th>min</th>\n      <td>3.498200e+05</td>\n    </tr>\n    <tr>\n      <th>25%</th>\n      <td>6.325300e+05</td>\n    </tr>\n    <tr>\n      <th>50%</th>\n      <td>7.120500e+05</td>\n    </tr>\n    <tr>\n      <th>75%</th>\n      <td>8.259200e+05</td>\n    </tr>\n    <tr>\n      <th>max</th>\n      <td>1.325600e+06</td>\n    </tr>\n  </tbody>\n</table>\n</div>"
     },
     "metadata": {},
     "execution_count": 30
    }
   ],
   "source": [
    "#Description\n",
    "df_2017_routes.describe()"
   ]
  },
  {
   "cell_type": "code",
   "execution_count": 31,
   "metadata": {},
   "outputs": [],
   "source": [
    "df_2017_routes.to_csv(\"routes_2017_weight.csv\")"
   ]
  },
  {
   "cell_type": "code",
   "execution_count": null,
   "metadata": {},
   "outputs": [],
   "source": []
  }
 ]
}